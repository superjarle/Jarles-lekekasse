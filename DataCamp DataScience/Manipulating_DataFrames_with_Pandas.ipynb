{
 "cells": [
  {
   "cell_type": "markdown",
   "metadata": {},
   "source": [
    "# Manipulating DataFrames with Pandas"
   ]
  },
  {
   "cell_type": "markdown",
   "metadata": {},
   "source": [
    "## Summary: \n",
    "\n",
    "* Transform, extract, and filter data from DataFrames\n",
    "* Work with pandas indexes and hierarchical indexes\n",
    "* Reshape and restructure your data: \n",
    "\n",
    "                 ** pivot (reshape data (produce a “pivot” table) based on column values),\n",
    "                 ** melt (“Unpivots” a DataFrame from wide format to long format), \n",
    "                 ** stack (pivot a level of the (possibly hierarchical) column labels), \n",
    "                 ** unstack (Pivot a level of the (necessarily hierarchical) index labels)\n",
    "                 \n",
    "* Split your data into groups and categories\n",
    "\n",
    "### Pandas Series vs Lists\n",
    "\n",
    "pandas.DataFrame(data=None, index=None, columns=None, dtype=None, copy=False)\n",
    "\n",
    "Two-dimensional size-mutable, potentially heterogeneous tabular data structure with labeled axes (rows and columns). Arithmetic operations align on both row and column labels. Can be thought of as a dict-like container for Series objects, the primary pandas data structure. So Series is the datastructure for a single column of a DataFrame, not only conceptually, but literally i.e. the data in a DataFrame is actually stored in memory as a collection of Series.\n",
    "\n",
    "Analogously: We need both lists and matrices, because matrices are built with lists. Single row matricies, while equivalent to lists in functionality still cannot exists without the list(s) they're composed of."
   ]
  },
  {
   "cell_type": "code",
   "execution_count": 47,
   "metadata": {},
   "outputs": [
    {
     "data": {
      "application/javascript": [
       "\n",
       "            setTimeout(function() {\n",
       "                var nbb_cell_id = 47;\n",
       "                var nbb_unformatted_code = \"import os\\nimport pandas as pd\\nimport matplotlib.pyplot as plt\\nfrom scipy.stats import zscore\\nfrom numpy import NaN\";\n",
       "                var nbb_formatted_code = \"import os\\nimport pandas as pd\\nimport matplotlib.pyplot as plt\\nfrom scipy.stats import zscore\\nfrom numpy import NaN\";\n",
       "                var nbb_cells = Jupyter.notebook.get_cells();\n",
       "                for (var i = 0; i < nbb_cells.length; ++i) {\n",
       "                    if (nbb_cells[i].input_prompt_number == nbb_cell_id) {\n",
       "                        if (nbb_cells[i].get_text() == nbb_unformatted_code) {\n",
       "                             nbb_cells[i].set_text(nbb_formatted_code);\n",
       "                        }\n",
       "                        break;\n",
       "                    }\n",
       "                }\n",
       "            }, 500);\n",
       "            "
      ],
      "text/plain": [
       "<IPython.core.display.Javascript object>"
      ]
     },
     "metadata": {},
     "output_type": "display_data"
    }
   ],
   "source": [
    "import os\n",
    "import pandas as pd\n",
    "import matplotlib.pyplot as plt\n",
    "from scipy.stats import zscore\n",
    "from numpy import NaN"
   ]
  },
  {
   "cell_type": "code",
   "execution_count": 2,
   "metadata": {},
   "outputs": [
    {
     "data": {
      "application/javascript": [
       "\n",
       "            setTimeout(function() {\n",
       "                var nbb_cell_id = 2;\n",
       "                var nbb_unformatted_code = \"%load_ext nb_black\";\n",
       "                var nbb_formatted_code = \"%load_ext nb_black\";\n",
       "                var nbb_cells = Jupyter.notebook.get_cells();\n",
       "                for (var i = 0; i < nbb_cells.length; ++i) {\n",
       "                    if (nbb_cells[i].input_prompt_number == nbb_cell_id) {\n",
       "                        if (nbb_cells[i].get_text() == nbb_unformatted_code) {\n",
       "                             nbb_cells[i].set_text(nbb_formatted_code);\n",
       "                        }\n",
       "                        break;\n",
       "                    }\n",
       "                }\n",
       "            }, 500);\n",
       "            "
      ],
      "text/plain": [
       "<IPython.core.display.Javascript object>"
      ]
     },
     "metadata": {},
     "output_type": "display_data"
    }
   ],
   "source": [
    "%load_ext nb_black"
   ]
  },
  {
   "cell_type": "markdown",
   "metadata": {},
   "source": [
    "### Indexing and column rearrangement"
   ]
  },
  {
   "cell_type": "code",
   "execution_count": 3,
   "metadata": {},
   "outputs": [
    {
     "name": "stdout",
     "output_type": "stream",
     "text": [
      "           winner   total  voters\n",
      "county                           \n",
      "Adams      Romney   41973   61156\n",
      "Allegheny   Obama  614671  924351\n",
      "Armstrong  Romney   28322   42147\n",
      "Beaver     Romney   80015  115157\n",
      "Bedford    Romney   21444   32189\n"
     ]
    },
    {
     "data": {
      "application/javascript": [
       "\n",
       "            setTimeout(function() {\n",
       "                var nbb_cell_id = 3;\n",
       "                var nbb_unformatted_code = \"# Read in filename and set the index: election\\nelection = pd.read_csv(\\\"data/election.csv\\\", index_col='county')\\n\\n# Create a separate dataframe with the columns ['winner', 'total', 'voters']: results\\nresults = pd.DataFrame(election, columns=['winner', 'total', 'voters'])\\n\\n# Print the output of results.head()\\nprint(results.head())\";\n",
       "                var nbb_formatted_code = \"# Read in filename and set the index: election\\nelection = pd.read_csv(\\\"data/election.csv\\\", index_col=\\\"county\\\")\\n\\n# Create a separate dataframe with the columns ['winner', 'total', 'voters']: results\\nresults = pd.DataFrame(election, columns=[\\\"winner\\\", \\\"total\\\", \\\"voters\\\"])\\n\\n# Print the output of results.head()\\nprint(results.head())\";\n",
       "                var nbb_cells = Jupyter.notebook.get_cells();\n",
       "                for (var i = 0; i < nbb_cells.length; ++i) {\n",
       "                    if (nbb_cells[i].input_prompt_number == nbb_cell_id) {\n",
       "                        if (nbb_cells[i].get_text() == nbb_unformatted_code) {\n",
       "                             nbb_cells[i].set_text(nbb_formatted_code);\n",
       "                        }\n",
       "                        break;\n",
       "                    }\n",
       "                }\n",
       "            }, 500);\n",
       "            "
      ],
      "text/plain": [
       "<IPython.core.display.Javascript object>"
      ]
     },
     "metadata": {},
     "output_type": "display_data"
    }
   ],
   "source": [
    "# Read in filename and set the index: election\n",
    "election = pd.read_csv(\"data/election.csv\", index_col=\"county\")\n",
    "\n",
    "# Create a separate dataframe with the columns ['winner', 'total', 'voters']: results\n",
    "results = pd.DataFrame(election, columns=[\"winner\", \"total\", \"voters\"])\n",
    "\n",
    "# Print the output of results.head()\n",
    "print(results.head())"
   ]
  },
  {
   "cell_type": "code",
   "execution_count": 4,
   "metadata": {
    "scrolled": true
   },
   "outputs": [
    {
     "name": "stdout",
     "output_type": "stream",
     "text": [
      "True\n"
     ]
    },
    {
     "data": {
      "application/javascript": [
       "\n",
       "            setTimeout(function() {\n",
       "                var nbb_cell_id = 4;\n",
       "                var nbb_unformatted_code = \"# Assign the row position of election.loc['Bedford']: x\\nx = 4\\n\\n# Assign the column position of election['winner']: y\\ny = 4\\n\\n# Print the boolean equivalence\\nprint(election.iloc[x, y] == election.loc['Bedford', 'winner'])\";\n",
       "                var nbb_formatted_code = \"# Assign the row position of election.loc['Bedford']: x\\nx = 4\\n\\n# Assign the column position of election['winner']: y\\ny = 4\\n\\n# Print the boolean equivalence\\nprint(election.iloc[x, y] == election.loc[\\\"Bedford\\\", \\\"winner\\\"])\";\n",
       "                var nbb_cells = Jupyter.notebook.get_cells();\n",
       "                for (var i = 0; i < nbb_cells.length; ++i) {\n",
       "                    if (nbb_cells[i].input_prompt_number == nbb_cell_id) {\n",
       "                        if (nbb_cells[i].get_text() == nbb_unformatted_code) {\n",
       "                             nbb_cells[i].set_text(nbb_formatted_code);\n",
       "                        }\n",
       "                        break;\n",
       "                    }\n",
       "                }\n",
       "            }, 500);\n",
       "            "
      ],
      "text/plain": [
       "<IPython.core.display.Javascript object>"
      ]
     },
     "metadata": {},
     "output_type": "display_data"
    }
   ],
   "source": [
    "# Assign the row position of election.loc['Bedford']: x\n",
    "x = 4\n",
    "\n",
    "# Assign the column position of election['winner']: y\n",
    "y = 4\n",
    "\n",
    "# Print the boolean equivalence\n",
    "print(election.iloc[x, y] == election.loc[\"Bedford\", \"winner\"])"
   ]
  },
  {
   "cell_type": "markdown",
   "metadata": {},
   "source": [
    "### Slicing cols "
   ]
  },
  {
   "cell_type": "code",
   "execution_count": 5,
   "metadata": {},
   "outputs": [
    {
     "name": "stdout",
     "output_type": "stream",
     "text": [
      "          state   total      Obama\n",
      "county                            \n",
      "Adams        PA   41973  35.482334\n",
      "Allegheny    PA  614671  56.640219\n",
      "Armstrong    PA   28322  30.696985\n",
      "Beaver       PA   80015  46.032619\n",
      "Bedford      PA   21444  22.057452\n",
      "               Obama     Romney  winner\n",
      "county                                 \n",
      "Adams      35.482334  63.112001  Romney\n",
      "Allegheny  56.640219  42.185820   Obama\n",
      "Armstrong  30.696985  67.901278  Romney\n",
      "Beaver     46.032619  52.637630  Romney\n",
      "Bedford    22.057452  76.986570  Romney\n",
      "              Romney  winner  voters    turnout     margin\n",
      "county                                                    \n",
      "Adams      63.112001  Romney   61156  68.632677  27.629667\n",
      "Allegheny  42.185820   Obama  924351  66.497575  14.454399\n",
      "Armstrong  67.901278  Romney   42147  67.198140  37.204293\n",
      "Beaver     52.637630  Romney  115157  69.483401   6.605012\n",
      "Bedford    76.986570  Romney   32189  66.619031  54.929118\n"
     ]
    },
    {
     "data": {
      "application/javascript": [
       "\n",
       "            setTimeout(function() {\n",
       "                var nbb_cell_id = 5;\n",
       "                var nbb_unformatted_code = \"# Slice the columns from the starting column to 'Obama': left_columns\\nleft_columns = election.loc[:,:'Obama']\\n\\n# Print the output of left_columns.head()\\nprint(left_columns.head())\\n\\n# Slice the columns from 'Obama' to 'winner': middle_columns\\nmiddle_columns = election.loc[:,'Obama':'winner']\\n\\n# Print the output of middle_columns.head()\\nprint(middle_columns.head())\\n\\n# Slice the columns from 'Romney' to the end: 'right_columns'\\nright_columns = election.loc[:,'Romney':]\\n\\n# Print the output of right_columns.head()\\nprint(right_columns.head())\";\n",
       "                var nbb_formatted_code = \"# Slice the columns from the starting column to 'Obama': left_columns\\nleft_columns = election.loc[:, :\\\"Obama\\\"]\\n\\n# Print the output of left_columns.head()\\nprint(left_columns.head())\\n\\n# Slice the columns from 'Obama' to 'winner': middle_columns\\nmiddle_columns = election.loc[:, \\\"Obama\\\":\\\"winner\\\"]\\n\\n# Print the output of middle_columns.head()\\nprint(middle_columns.head())\\n\\n# Slice the columns from 'Romney' to the end: 'right_columns'\\nright_columns = election.loc[:, \\\"Romney\\\":]\\n\\n# Print the output of right_columns.head()\\nprint(right_columns.head())\";\n",
       "                var nbb_cells = Jupyter.notebook.get_cells();\n",
       "                for (var i = 0; i < nbb_cells.length; ++i) {\n",
       "                    if (nbb_cells[i].input_prompt_number == nbb_cell_id) {\n",
       "                        if (nbb_cells[i].get_text() == nbb_unformatted_code) {\n",
       "                             nbb_cells[i].set_text(nbb_formatted_code);\n",
       "                        }\n",
       "                        break;\n",
       "                    }\n",
       "                }\n",
       "            }, 500);\n",
       "            "
      ],
      "text/plain": [
       "<IPython.core.display.Javascript object>"
      ]
     },
     "metadata": {},
     "output_type": "display_data"
    }
   ],
   "source": [
    "# Slice the columns from the starting column to 'Obama': left_columns\n",
    "left_columns = election.loc[:, :\"Obama\"]\n",
    "\n",
    "# Print the output of left_columns.head()\n",
    "print(left_columns.head())\n",
    "\n",
    "# Slice the columns from 'Obama' to 'winner': middle_columns\n",
    "middle_columns = election.loc[:, \"Obama\":\"winner\"]\n",
    "\n",
    "# Print the output of middle_columns.head()\n",
    "print(middle_columns.head())\n",
    "\n",
    "# Slice the columns from 'Romney' to the end: 'right_columns'\n",
    "right_columns = election.loc[:, \"Romney\":]\n",
    "\n",
    "# Print the output of right_columns.head()\n",
    "print(right_columns.head())"
   ]
  },
  {
   "cell_type": "markdown",
   "metadata": {},
   "source": [
    "### Thresholding data"
   ]
  },
  {
   "cell_type": "code",
   "execution_count": 45,
   "metadata": {},
   "outputs": [
    {
     "data": {
      "text/html": [
       "<div>\n",
       "<style scoped>\n",
       "    .dataframe tbody tr th:only-of-type {\n",
       "        vertical-align: middle;\n",
       "    }\n",
       "\n",
       "    .dataframe tbody tr th {\n",
       "        vertical-align: top;\n",
       "    }\n",
       "\n",
       "    .dataframe thead th {\n",
       "        text-align: right;\n",
       "    }\n",
       "</style>\n",
       "<table border=\"1\" class=\"dataframe\">\n",
       "  <thead>\n",
       "    <tr style=\"text-align: right;\">\n",
       "      <th></th>\n",
       "      <th>state</th>\n",
       "      <th>total</th>\n",
       "      <th>Obama</th>\n",
       "      <th>Romney</th>\n",
       "      <th>winner</th>\n",
       "      <th>voters</th>\n",
       "      <th>turnout</th>\n",
       "      <th>margin</th>\n",
       "    </tr>\n",
       "    <tr>\n",
       "      <th>county</th>\n",
       "      <th></th>\n",
       "      <th></th>\n",
       "      <th></th>\n",
       "      <th></th>\n",
       "      <th></th>\n",
       "      <th></th>\n",
       "      <th></th>\n",
       "      <th></th>\n",
       "    </tr>\n",
       "  </thead>\n",
       "  <tbody>\n",
       "    <tr>\n",
       "      <th>Bucks</th>\n",
       "      <td>PA</td>\n",
       "      <td>319407</td>\n",
       "      <td>49.966970</td>\n",
       "      <td>48.801686</td>\n",
       "      <td>Obama</td>\n",
       "      <td>435606</td>\n",
       "      <td>73.324748</td>\n",
       "      <td>1.165284</td>\n",
       "    </tr>\n",
       "    <tr>\n",
       "      <th>Butler</th>\n",
       "      <td>PA</td>\n",
       "      <td>88924</td>\n",
       "      <td>31.920516</td>\n",
       "      <td>66.816607</td>\n",
       "      <td>Romney</td>\n",
       "      <td>122762</td>\n",
       "      <td>72.436096</td>\n",
       "      <td>34.896091</td>\n",
       "    </tr>\n",
       "    <tr>\n",
       "      <th>Chester</th>\n",
       "      <td>PA</td>\n",
       "      <td>248295</td>\n",
       "      <td>49.228539</td>\n",
       "      <td>49.650617</td>\n",
       "      <td>Romney</td>\n",
       "      <td>337822</td>\n",
       "      <td>73.498766</td>\n",
       "      <td>0.422079</td>\n",
       "    </tr>\n",
       "    <tr>\n",
       "      <th>Forest</th>\n",
       "      <td>PA</td>\n",
       "      <td>2308</td>\n",
       "      <td>38.734835</td>\n",
       "      <td>59.835355</td>\n",
       "      <td>Romney</td>\n",
       "      <td>3232</td>\n",
       "      <td>71.410891</td>\n",
       "      <td>21.100520</td>\n",
       "    </tr>\n",
       "    <tr>\n",
       "      <th>Franklin</th>\n",
       "      <td>PA</td>\n",
       "      <td>62802</td>\n",
       "      <td>30.110506</td>\n",
       "      <td>68.583803</td>\n",
       "      <td>Romney</td>\n",
       "      <td>87406</td>\n",
       "      <td>71.850903</td>\n",
       "      <td>38.473297</td>\n",
       "    </tr>\n",
       "    <tr>\n",
       "      <th>Montgomery</th>\n",
       "      <td>PA</td>\n",
       "      <td>401787</td>\n",
       "      <td>56.637223</td>\n",
       "      <td>42.286834</td>\n",
       "      <td>Obama</td>\n",
       "      <td>551105</td>\n",
       "      <td>72.905708</td>\n",
       "      <td>14.350390</td>\n",
       "    </tr>\n",
       "    <tr>\n",
       "      <th>Westmoreland</th>\n",
       "      <td>PA</td>\n",
       "      <td>168709</td>\n",
       "      <td>37.567646</td>\n",
       "      <td>61.306154</td>\n",
       "      <td>Romney</td>\n",
       "      <td>238006</td>\n",
       "      <td>70.884347</td>\n",
       "      <td>23.738508</td>\n",
       "    </tr>\n",
       "  </tbody>\n",
       "</table>\n",
       "</div>"
      ],
      "text/plain": [
       "             state   total      Obama     Romney  winner  voters    turnout  \\\n",
       "county                                                                        \n",
       "Bucks           PA  319407  49.966970  48.801686   Obama  435606  73.324748   \n",
       "Butler          PA   88924  31.920516  66.816607  Romney  122762  72.436096   \n",
       "Chester         PA  248295  49.228539  49.650617  Romney  337822  73.498766   \n",
       "Forest          PA    2308  38.734835  59.835355  Romney    3232  71.410891   \n",
       "Franklin        PA   62802  30.110506  68.583803  Romney   87406  71.850903   \n",
       "Montgomery      PA  401787  56.637223  42.286834   Obama  551105  72.905708   \n",
       "Westmoreland    PA  168709  37.567646  61.306154  Romney  238006  70.884347   \n",
       "\n",
       "                 margin  \n",
       "county                   \n",
       "Bucks          1.165284  \n",
       "Butler        34.896091  \n",
       "Chester        0.422079  \n",
       "Forest        21.100520  \n",
       "Franklin      38.473297  \n",
       "Montgomery    14.350390  \n",
       "Westmoreland  23.738508  "
      ]
     },
     "execution_count": 45,
     "metadata": {},
     "output_type": "execute_result"
    },
    {
     "data": {
      "application/javascript": [
       "\n",
       "            setTimeout(function() {\n",
       "                var nbb_cell_id = 45;\n",
       "                var nbb_unformatted_code = \"# Create the boolean array: high_turnout\\nhigh_turnout = election.turnout > 70\\n\\n# Filter the election DataFrame with the high_turnout array: high_turnout_df\\nhigh_turnout_df = election[high_turnout]\\n\\n# Print the high_turnout_results DataFrame\\nhigh_turnout_df\";\n",
       "                var nbb_formatted_code = \"# Create the boolean array: high_turnout\\nhigh_turnout = election.turnout > 70\\n\\n# Filter the election DataFrame with the high_turnout array: high_turnout_df\\nhigh_turnout_df = election[high_turnout]\\n\\n# Print the high_turnout_results DataFrame\\nhigh_turnout_df\";\n",
       "                var nbb_cells = Jupyter.notebook.get_cells();\n",
       "                for (var i = 0; i < nbb_cells.length; ++i) {\n",
       "                    if (nbb_cells[i].input_prompt_number == nbb_cell_id) {\n",
       "                        if (nbb_cells[i].get_text() == nbb_unformatted_code) {\n",
       "                             nbb_cells[i].set_text(nbb_formatted_code);\n",
       "                        }\n",
       "                        break;\n",
       "                    }\n",
       "                }\n",
       "            }, 500);\n",
       "            "
      ],
      "text/plain": [
       "<IPython.core.display.Javascript object>"
      ]
     },
     "metadata": {},
     "output_type": "display_data"
    }
   ],
   "source": [
    "# Create the boolean array: high_turnout\n",
    "high_turnout = election.turnout > 70\n",
    "\n",
    "# Filter the election DataFrame with the high_turnout array: high_turnout_df\n",
    "high_turnout_df = election[high_turnout]\n",
    "\n",
    "# Print the high_turnout_results DataFrame\n",
    "high_turnout_df"
   ]
  },
  {
   "cell_type": "code",
   "execution_count": 48,
   "metadata": {},
   "outputs": [
    {
     "name": "stdout",
     "output_type": "stream",
     "text": [
      "<class 'pandas.core.frame.DataFrame'>\n",
      "Index: 67 entries, Adams to York\n",
      "Data columns (total 8 columns):\n",
      " #   Column   Non-Null Count  Dtype  \n",
      "---  ------   --------------  -----  \n",
      " 0   state    67 non-null     object \n",
      " 1   total    67 non-null     int64  \n",
      " 2   Obama    67 non-null     float64\n",
      " 3   Romney   67 non-null     float64\n",
      " 4   winner   64 non-null     object \n",
      " 5   voters   67 non-null     int64  \n",
      " 6   turnout  67 non-null     float64\n",
      " 7   margin   67 non-null     float64\n",
      "dtypes: float64(4), int64(2), object(2)\n",
      "memory usage: 6.8+ KB\n"
     ]
    },
    {
     "name": "stderr",
     "output_type": "stream",
     "text": [
      "C:\\Users\\jkv\\AppData\\Local\\Temp\\ipykernel_19860\\161411565.py:5: SettingWithCopyWarning: \n",
      "A value is trying to be set on a copy of a slice from a DataFrame\n",
      "\n",
      "See the caveats in the documentation: https://pandas.pydata.org/pandas-docs/stable/user_guide/indexing.html#returning-a-view-versus-a-copy\n",
      "  election.winner[too_close] = NaN\n"
     ]
    },
    {
     "data": {
      "application/javascript": [
       "\n",
       "            setTimeout(function() {\n",
       "                var nbb_cell_id = 48;\n",
       "                var nbb_unformatted_code = \"# Create the boolean array: too_close\\ntoo_close = election.margin < 1\\n\\n# Assign np.nan to the 'winner' column where the results were too close to call\\nelection.winner[too_close] = NaN\\n\\n# Print the output of election.info()\\nelection.info()\";\n",
       "                var nbb_formatted_code = \"# Create the boolean array: too_close\\ntoo_close = election.margin < 1\\n\\n# Assign np.nan to the 'winner' column where the results were too close to call\\nelection.winner[too_close] = NaN\\n\\n# Print the output of election.info()\\nelection.info()\";\n",
       "                var nbb_cells = Jupyter.notebook.get_cells();\n",
       "                for (var i = 0; i < nbb_cells.length; ++i) {\n",
       "                    if (nbb_cells[i].input_prompt_number == nbb_cell_id) {\n",
       "                        if (nbb_cells[i].get_text() == nbb_unformatted_code) {\n",
       "                             nbb_cells[i].set_text(nbb_formatted_code);\n",
       "                        }\n",
       "                        break;\n",
       "                    }\n",
       "                }\n",
       "            }, 500);\n",
       "            "
      ],
      "text/plain": [
       "<IPython.core.display.Javascript object>"
      ]
     },
     "metadata": {},
     "output_type": "display_data"
    }
   ],
   "source": [
    "# Create the boolean array: too_close\n",
    "too_close = election.margin < 1\n",
    "\n",
    "# Assign np.nan to the 'winner' column where the results were too close to call\n",
    "election.winner[too_close] = NaN\n",
    "\n",
    "# Print the output of election.info()\n",
    "election.info()"
   ]
  },
  {
   "cell_type": "markdown",
   "metadata": {},
   "source": [
    "### Filtering using NaNs"
   ]
  },
  {
   "cell_type": "code",
   "execution_count": 49,
   "metadata": {},
   "outputs": [
    {
     "data": {
      "application/javascript": [
       "\n",
       "            setTimeout(function() {\n",
       "                var nbb_cell_id = 49;\n",
       "                var nbb_unformatted_code = \"titanic = pd.read_csv(\\\"data/titanic.csv\\\")\\ntitanic.columns = titanic.columns.str.lower()\";\n",
       "                var nbb_formatted_code = \"titanic = pd.read_csv(\\\"data/titanic.csv\\\")\\ntitanic.columns = titanic.columns.str.lower()\";\n",
       "                var nbb_cells = Jupyter.notebook.get_cells();\n",
       "                for (var i = 0; i < nbb_cells.length; ++i) {\n",
       "                    if (nbb_cells[i].input_prompt_number == nbb_cell_id) {\n",
       "                        if (nbb_cells[i].get_text() == nbb_unformatted_code) {\n",
       "                             nbb_cells[i].set_text(nbb_formatted_code);\n",
       "                        }\n",
       "                        break;\n",
       "                    }\n",
       "                }\n",
       "            }, 500);\n",
       "            "
      ],
      "text/plain": [
       "<IPython.core.display.Javascript object>"
      ]
     },
     "metadata": {},
     "output_type": "display_data"
    }
   ],
   "source": [
    "titanic = pd.read_csv(\"data/titanic.csv\")\n",
    "titanic.columns = titanic.columns.str.lower()"
   ]
  },
  {
   "cell_type": "code",
   "execution_count": 8,
   "metadata": {},
   "outputs": [
    {
     "name": "stdout",
     "output_type": "stream",
     "text": [
      "(891, 2)\n",
      "(185, 2)\n",
      "(733, 2)\n",
      "<class 'pandas.core.frame.DataFrame'>\n",
      "RangeIndex: 891 entries, 0 to 890\n",
      "Empty DataFrameNone\n"
     ]
    },
    {
     "data": {
      "application/javascript": [
       "\n",
       "            setTimeout(function() {\n",
       "                var nbb_cell_id = 8;\n",
       "                var nbb_unformatted_code = \"# Select the 'age' and 'cabin' columns: df\\ndf = titanic[[\\\"age\\\", \\\"cabin\\\"]]\\n\\n# Print the shape of df\\nprint(df.shape)\\n\\n# Drop rows in df with how='any' and print the shape\\nprint(df.dropna(how=\\\"any\\\").shape)\\n\\n# Drop rows in df with how='all' and print the shape\\nprint(df.dropna(how=\\\"all\\\").shape)\\n\\n# Call .dropna() with thresh=1000 and axis='columns' and print the output of .info() from titanic\\nprint(titanic.dropna(thresh=1000, axis=\\\"columns\\\").info())\";\n",
       "                var nbb_formatted_code = \"# Select the 'age' and 'cabin' columns: df\\ndf = titanic[[\\\"age\\\", \\\"cabin\\\"]]\\n\\n# Print the shape of df\\nprint(df.shape)\\n\\n# Drop rows in df with how='any' and print the shape\\nprint(df.dropna(how=\\\"any\\\").shape)\\n\\n# Drop rows in df with how='all' and print the shape\\nprint(df.dropna(how=\\\"all\\\").shape)\\n\\n# Call .dropna() with thresh=1000 and axis='columns' and print the output of .info() from titanic\\nprint(titanic.dropna(thresh=1000, axis=\\\"columns\\\").info())\";\n",
       "                var nbb_cells = Jupyter.notebook.get_cells();\n",
       "                for (var i = 0; i < nbb_cells.length; ++i) {\n",
       "                    if (nbb_cells[i].input_prompt_number == nbb_cell_id) {\n",
       "                        if (nbb_cells[i].get_text() == nbb_unformatted_code) {\n",
       "                             nbb_cells[i].set_text(nbb_formatted_code);\n",
       "                        }\n",
       "                        break;\n",
       "                    }\n",
       "                }\n",
       "            }, 500);\n",
       "            "
      ],
      "text/plain": [
       "<IPython.core.display.Javascript object>"
      ]
     },
     "metadata": {},
     "output_type": "display_data"
    }
   ],
   "source": [
    "# Select the 'age' and 'cabin' columns: df\n",
    "df = titanic[[\"age\", \"cabin\"]]\n",
    "\n",
    "# Print the shape of df\n",
    "print(df.shape)\n",
    "\n",
    "# Drop rows in df with how='any' and print the shape\n",
    "print(df.dropna(how=\"any\").shape)\n",
    "\n",
    "# Drop rows in df with how='all' and print the shape\n",
    "print(df.dropna(how=\"all\").shape)\n",
    "\n",
    "# Call .dropna() with thresh=1000 and axis='columns' and print the output of .info() from titanic\n",
    "print(titanic.dropna(thresh=1000, axis=\"columns\").info())"
   ]
  },
  {
   "cell_type": "markdown",
   "metadata": {},
   "source": [
    "### Pivoting a single variable"
   ]
  },
  {
   "cell_type": "code",
   "execution_count": 51,
   "metadata": {},
   "outputs": [
    {
     "data": {
      "application/javascript": [
       "\n",
       "            setTimeout(function() {\n",
       "                var nbb_cell_id = 51;\n",
       "                var nbb_unformatted_code = \"users = pd.read_csv(\\\"data/users.csv\\\")\\nusers.columns = users.columns.str.lower()\";\n",
       "                var nbb_formatted_code = \"users = pd.read_csv(\\\"data/users.csv\\\")\\nusers.columns = users.columns.str.lower()\";\n",
       "                var nbb_cells = Jupyter.notebook.get_cells();\n",
       "                for (var i = 0; i < nbb_cells.length; ++i) {\n",
       "                    if (nbb_cells[i].input_prompt_number == nbb_cell_id) {\n",
       "                        if (nbb_cells[i].get_text() == nbb_unformatted_code) {\n",
       "                             nbb_cells[i].set_text(nbb_formatted_code);\n",
       "                        }\n",
       "                        break;\n",
       "                    }\n",
       "                }\n",
       "            }, 500);\n",
       "            "
      ],
      "text/plain": [
       "<IPython.core.display.Javascript object>"
      ]
     },
     "metadata": {},
     "output_type": "display_data"
    }
   ],
   "source": [
    "users = pd.read_csv(\"data/users.csv\")\n",
    "users.columns = users.columns.str.lower()"
   ]
  },
  {
   "cell_type": "code",
   "execution_count": 52,
   "metadata": {},
   "outputs": [
    {
     "name": "stdout",
     "output_type": "stream",
     "text": [
      "city     Austin  Dallas\n",
      "weekday                \n",
      "Mon         326     456\n",
      "Sun         139     237\n"
     ]
    },
    {
     "data": {
      "application/javascript": [
       "\n",
       "            setTimeout(function() {\n",
       "                var nbb_cell_id = 52;\n",
       "                var nbb_unformatted_code = \"# Pivot the users DataFrame: visitors_pivot\\nvisitors_pivot = users.pivot(index=\\\"weekday\\\", columns=\\\"city\\\", values=\\\"visitors\\\")\\n\\n# Print the pivoted DataFrame\\nprint(visitors_pivot)\";\n",
       "                var nbb_formatted_code = \"# Pivot the users DataFrame: visitors_pivot\\nvisitors_pivot = users.pivot(index=\\\"weekday\\\", columns=\\\"city\\\", values=\\\"visitors\\\")\\n\\n# Print the pivoted DataFrame\\nprint(visitors_pivot)\";\n",
       "                var nbb_cells = Jupyter.notebook.get_cells();\n",
       "                for (var i = 0; i < nbb_cells.length; ++i) {\n",
       "                    if (nbb_cells[i].input_prompt_number == nbb_cell_id) {\n",
       "                        if (nbb_cells[i].get_text() == nbb_unformatted_code) {\n",
       "                             nbb_cells[i].set_text(nbb_formatted_code);\n",
       "                        }\n",
       "                        break;\n",
       "                    }\n",
       "                }\n",
       "            }, 500);\n",
       "            "
      ],
      "text/plain": [
       "<IPython.core.display.Javascript object>"
      ]
     },
     "metadata": {},
     "output_type": "display_data"
    }
   ],
   "source": [
    "# Pivot the users DataFrame: visitors_pivot\n",
    "visitors_pivot = users.pivot(index=\"weekday\", columns=\"city\", values=\"visitors\")\n",
    "\n",
    "# Print the pivoted DataFrame\n",
    "print(visitors_pivot)"
   ]
  },
  {
   "cell_type": "markdown",
   "metadata": {},
   "source": [
    "Using .map() with a dictionary\n",
    "The *.map()* method is used to transform values according to a Python dictionary look-up. In this exercise you'll practice this method while returning to working with the *election* DataFrame, which has been pre-loaded for you.\n",
    "\n",
    "Your job is to use a dictionary to map the values *'Obama'* and *'Romney'* in the *'winner'* column to the values *'blue'* and *'red', and assign the output to the new column 'color'*.\n",
    "\n",
    "*Instructions*\n",
    "\n",
    "Create a dictionary with the key:value pairs *'Obama':'blue'* and *'Romney':'red'*.\n",
    "Use the *.map()* method on the *'winner'* column using the *red_vs_blue* dictionary you created.\n",
    "Print the output of *election.head()*. This has been done for you, so hit 'Submit Answer' to see the new column!"
   ]
  },
  {
   "cell_type": "code",
   "execution_count": 57,
   "metadata": {},
   "outputs": [
    {
     "data": {
      "text/html": [
       "<div>\n",
       "<style scoped>\n",
       "    .dataframe tbody tr th:only-of-type {\n",
       "        vertical-align: middle;\n",
       "    }\n",
       "\n",
       "    .dataframe tbody tr th {\n",
       "        vertical-align: top;\n",
       "    }\n",
       "\n",
       "    .dataframe thead th {\n",
       "        text-align: right;\n",
       "    }\n",
       "</style>\n",
       "<table border=\"1\" class=\"dataframe\">\n",
       "  <thead>\n",
       "    <tr style=\"text-align: right;\">\n",
       "      <th></th>\n",
       "      <th>state</th>\n",
       "      <th>total</th>\n",
       "      <th>Obama</th>\n",
       "      <th>Romney</th>\n",
       "      <th>winner</th>\n",
       "      <th>voters</th>\n",
       "      <th>turnout</th>\n",
       "      <th>margin</th>\n",
       "      <th>color</th>\n",
       "    </tr>\n",
       "    <tr>\n",
       "      <th>county</th>\n",
       "      <th></th>\n",
       "      <th></th>\n",
       "      <th></th>\n",
       "      <th></th>\n",
       "      <th></th>\n",
       "      <th></th>\n",
       "      <th></th>\n",
       "      <th></th>\n",
       "      <th></th>\n",
       "    </tr>\n",
       "  </thead>\n",
       "  <tbody>\n",
       "    <tr>\n",
       "      <th>Adams</th>\n",
       "      <td>PA</td>\n",
       "      <td>41973</td>\n",
       "      <td>35.482334</td>\n",
       "      <td>63.112001</td>\n",
       "      <td>Romney</td>\n",
       "      <td>61156</td>\n",
       "      <td>68.632677</td>\n",
       "      <td>27.629667</td>\n",
       "      <td>red</td>\n",
       "    </tr>\n",
       "    <tr>\n",
       "      <th>Allegheny</th>\n",
       "      <td>PA</td>\n",
       "      <td>614671</td>\n",
       "      <td>56.640219</td>\n",
       "      <td>42.185820</td>\n",
       "      <td>Obama</td>\n",
       "      <td>924351</td>\n",
       "      <td>66.497575</td>\n",
       "      <td>14.454399</td>\n",
       "      <td>blue</td>\n",
       "    </tr>\n",
       "    <tr>\n",
       "      <th>Armstrong</th>\n",
       "      <td>PA</td>\n",
       "      <td>28322</td>\n",
       "      <td>30.696985</td>\n",
       "      <td>67.901278</td>\n",
       "      <td>Romney</td>\n",
       "      <td>42147</td>\n",
       "      <td>67.198140</td>\n",
       "      <td>37.204293</td>\n",
       "      <td>red</td>\n",
       "    </tr>\n",
       "    <tr>\n",
       "      <th>Beaver</th>\n",
       "      <td>PA</td>\n",
       "      <td>80015</td>\n",
       "      <td>46.032619</td>\n",
       "      <td>52.637630</td>\n",
       "      <td>Romney</td>\n",
       "      <td>115157</td>\n",
       "      <td>69.483401</td>\n",
       "      <td>6.605012</td>\n",
       "      <td>red</td>\n",
       "    </tr>\n",
       "    <tr>\n",
       "      <th>Bedford</th>\n",
       "      <td>PA</td>\n",
       "      <td>21444</td>\n",
       "      <td>22.057452</td>\n",
       "      <td>76.986570</td>\n",
       "      <td>Romney</td>\n",
       "      <td>32189</td>\n",
       "      <td>66.619031</td>\n",
       "      <td>54.929118</td>\n",
       "      <td>red</td>\n",
       "    </tr>\n",
       "  </tbody>\n",
       "</table>\n",
       "</div>"
      ],
      "text/plain": [
       "          state   total      Obama     Romney  winner  voters    turnout  \\\n",
       "county                                                                     \n",
       "Adams        PA   41973  35.482334  63.112001  Romney   61156  68.632677   \n",
       "Allegheny    PA  614671  56.640219  42.185820   Obama  924351  66.497575   \n",
       "Armstrong    PA   28322  30.696985  67.901278  Romney   42147  67.198140   \n",
       "Beaver       PA   80015  46.032619  52.637630  Romney  115157  69.483401   \n",
       "Bedford      PA   21444  22.057452  76.986570  Romney   32189  66.619031   \n",
       "\n",
       "              margin color  \n",
       "county                      \n",
       "Adams      27.629667   red  \n",
       "Allegheny  14.454399  blue  \n",
       "Armstrong  37.204293   red  \n",
       "Beaver      6.605012   red  \n",
       "Bedford    54.929118   red  "
      ]
     },
     "execution_count": 57,
     "metadata": {},
     "output_type": "execute_result"
    },
    {
     "data": {
      "application/javascript": [
       "\n",
       "            setTimeout(function() {\n",
       "                var nbb_cell_id = 57;\n",
       "                var nbb_unformatted_code = \"# Create the dictionary: red_vs_blue\\nred_vs_blue = {'Obama':'blue', 'Romney':'red'}\\n\\n# Use the dictionary to map the 'winner' column to the new column: election['color']\\nelection['color'] = election.winner.map(red_vs_blue)\\n\\n# Print the output of election.head()\\nelection.head()\";\n",
       "                var nbb_formatted_code = \"# Create the dictionary: red_vs_blue\\nred_vs_blue = {\\\"Obama\\\": \\\"blue\\\", \\\"Romney\\\": \\\"red\\\"}\\n\\n# Use the dictionary to map the 'winner' column to the new column: election['color']\\nelection[\\\"color\\\"] = election.winner.map(red_vs_blue)\\n\\n# Print the output of election.head()\\nelection.head()\";\n",
       "                var nbb_cells = Jupyter.notebook.get_cells();\n",
       "                for (var i = 0; i < nbb_cells.length; ++i) {\n",
       "                    if (nbb_cells[i].input_prompt_number == nbb_cell_id) {\n",
       "                        if (nbb_cells[i].get_text() == nbb_unformatted_code) {\n",
       "                             nbb_cells[i].set_text(nbb_formatted_code);\n",
       "                        }\n",
       "                        break;\n",
       "                    }\n",
       "                }\n",
       "            }, 500);\n",
       "            "
      ],
      "text/plain": [
       "<IPython.core.display.Javascript object>"
      ]
     },
     "metadata": {},
     "output_type": "display_data"
    }
   ],
   "source": [
    "# Create the dictionary: red_vs_blue\n",
    "red_vs_blue = {\"Obama\": \"blue\", \"Romney\": \"red\"}\n",
    "\n",
    "# Use the dictionary to map the 'winner' column to the new column: election['color']\n",
    "election[\"color\"] = election.winner.map(red_vs_blue)\n",
    "\n",
    "# Print the output of election.head()\n",
    "election.head()"
   ]
  },
  {
   "cell_type": "code",
   "execution_count": 58,
   "metadata": {},
   "outputs": [
    {
     "name": "stdout",
     "output_type": "stream",
     "text": [
      "Type: \n",
      " <class 'pandas.core.series.Series'> \n",
      "\n"
     ]
    },
    {
     "data": {
      "text/html": [
       "<div>\n",
       "<style scoped>\n",
       "    .dataframe tbody tr th:only-of-type {\n",
       "        vertical-align: middle;\n",
       "    }\n",
       "\n",
       "    .dataframe tbody tr th {\n",
       "        vertical-align: top;\n",
       "    }\n",
       "\n",
       "    .dataframe thead th {\n",
       "        text-align: right;\n",
       "    }\n",
       "</style>\n",
       "<table border=\"1\" class=\"dataframe\">\n",
       "  <thead>\n",
       "    <tr style=\"text-align: right;\">\n",
       "      <th></th>\n",
       "      <th>state</th>\n",
       "      <th>total</th>\n",
       "      <th>Obama</th>\n",
       "      <th>Romney</th>\n",
       "      <th>winner</th>\n",
       "      <th>voters</th>\n",
       "      <th>turnout</th>\n",
       "      <th>margin</th>\n",
       "      <th>color</th>\n",
       "      <th>turnout_zscore</th>\n",
       "    </tr>\n",
       "    <tr>\n",
       "      <th>county</th>\n",
       "      <th></th>\n",
       "      <th></th>\n",
       "      <th></th>\n",
       "      <th></th>\n",
       "      <th></th>\n",
       "      <th></th>\n",
       "      <th></th>\n",
       "      <th></th>\n",
       "      <th></th>\n",
       "      <th></th>\n",
       "    </tr>\n",
       "  </thead>\n",
       "  <tbody>\n",
       "    <tr>\n",
       "      <th>Adams</th>\n",
       "      <td>PA</td>\n",
       "      <td>41973</td>\n",
       "      <td>35.482334</td>\n",
       "      <td>63.112001</td>\n",
       "      <td>Romney</td>\n",
       "      <td>61156</td>\n",
       "      <td>68.632677</td>\n",
       "      <td>27.629667</td>\n",
       "      <td>red</td>\n",
       "      <td>0.853734</td>\n",
       "    </tr>\n",
       "    <tr>\n",
       "      <th>Allegheny</th>\n",
       "      <td>PA</td>\n",
       "      <td>614671</td>\n",
       "      <td>56.640219</td>\n",
       "      <td>42.185820</td>\n",
       "      <td>Obama</td>\n",
       "      <td>924351</td>\n",
       "      <td>66.497575</td>\n",
       "      <td>14.454399</td>\n",
       "      <td>blue</td>\n",
       "      <td>0.439846</td>\n",
       "    </tr>\n",
       "    <tr>\n",
       "      <th>Armstrong</th>\n",
       "      <td>PA</td>\n",
       "      <td>28322</td>\n",
       "      <td>30.696985</td>\n",
       "      <td>67.901278</td>\n",
       "      <td>Romney</td>\n",
       "      <td>42147</td>\n",
       "      <td>67.198140</td>\n",
       "      <td>37.204293</td>\n",
       "      <td>red</td>\n",
       "      <td>0.575650</td>\n",
       "    </tr>\n",
       "    <tr>\n",
       "      <th>Beaver</th>\n",
       "      <td>PA</td>\n",
       "      <td>80015</td>\n",
       "      <td>46.032619</td>\n",
       "      <td>52.637630</td>\n",
       "      <td>Romney</td>\n",
       "      <td>115157</td>\n",
       "      <td>69.483401</td>\n",
       "      <td>6.605012</td>\n",
       "      <td>red</td>\n",
       "      <td>1.018647</td>\n",
       "    </tr>\n",
       "    <tr>\n",
       "      <th>Bedford</th>\n",
       "      <td>PA</td>\n",
       "      <td>21444</td>\n",
       "      <td>22.057452</td>\n",
       "      <td>76.986570</td>\n",
       "      <td>Romney</td>\n",
       "      <td>32189</td>\n",
       "      <td>66.619031</td>\n",
       "      <td>54.929118</td>\n",
       "      <td>red</td>\n",
       "      <td>0.463391</td>\n",
       "    </tr>\n",
       "  </tbody>\n",
       "</table>\n",
       "</div>"
      ],
      "text/plain": [
       "          state   total      Obama     Romney  winner  voters    turnout  \\\n",
       "county                                                                     \n",
       "Adams        PA   41973  35.482334  63.112001  Romney   61156  68.632677   \n",
       "Allegheny    PA  614671  56.640219  42.185820   Obama  924351  66.497575   \n",
       "Armstrong    PA   28322  30.696985  67.901278  Romney   42147  67.198140   \n",
       "Beaver       PA   80015  46.032619  52.637630  Romney  115157  69.483401   \n",
       "Bedford      PA   21444  22.057452  76.986570  Romney   32189  66.619031   \n",
       "\n",
       "              margin color  turnout_zscore  \n",
       "county                                      \n",
       "Adams      27.629667   red        0.853734  \n",
       "Allegheny  14.454399  blue        0.439846  \n",
       "Armstrong  37.204293   red        0.575650  \n",
       "Beaver      6.605012   red        1.018647  \n",
       "Bedford    54.929118   red        0.463391  "
      ]
     },
     "execution_count": 58,
     "metadata": {},
     "output_type": "execute_result"
    },
    {
     "data": {
      "application/javascript": [
       "\n",
       "            setTimeout(function() {\n",
       "                var nbb_cell_id = 58;\n",
       "                var nbb_unformatted_code = \"# Call zscore with election['turnout'] as input: turnout_zscore\\nturnout_zscore = zscore(election.turnout)\\n\\n# Print the type of turnout_zscore\\nprint('Type: \\\\n', type(turnout_zscore), '\\\\n')\\n\\n# Assign turnout_zscore to a new column: election['turnout_zscore']\\nelection['turnout_zscore'] = turnout_zscore\\n\\n# Print the output of election.head()\\nelection.head()\";\n",
       "                var nbb_formatted_code = \"# Call zscore with election['turnout'] as input: turnout_zscore\\nturnout_zscore = zscore(election.turnout)\\n\\n# Print the type of turnout_zscore\\nprint(\\\"Type: \\\\n\\\", type(turnout_zscore), \\\"\\\\n\\\")\\n\\n# Assign turnout_zscore to a new column: election['turnout_zscore']\\nelection[\\\"turnout_zscore\\\"] = turnout_zscore\\n\\n# Print the output of election.head()\\nelection.head()\";\n",
       "                var nbb_cells = Jupyter.notebook.get_cells();\n",
       "                for (var i = 0; i < nbb_cells.length; ++i) {\n",
       "                    if (nbb_cells[i].input_prompt_number == nbb_cell_id) {\n",
       "                        if (nbb_cells[i].get_text() == nbb_unformatted_code) {\n",
       "                             nbb_cells[i].set_text(nbb_formatted_code);\n",
       "                        }\n",
       "                        break;\n",
       "                    }\n",
       "                }\n",
       "            }, 500);\n",
       "            "
      ],
      "text/plain": [
       "<IPython.core.display.Javascript object>"
      ]
     },
     "metadata": {},
     "output_type": "display_data"
    }
   ],
   "source": [
    "# Call zscore with election['turnout'] as input: turnout_zscore\n",
    "turnout_zscore = zscore(election.turnout)\n",
    "\n",
    "# Print the type of turnout_zscore\n",
    "print(\"Type: \\n\", type(turnout_zscore), \"\\n\")\n",
    "\n",
    "# Assign turnout_zscore to a new column: election['turnout_zscore']\n",
    "election[\"turnout_zscore\"] = turnout_zscore\n",
    "\n",
    "# Print the output of election.head()\n",
    "election.head()"
   ]
  },
  {
   "cell_type": "markdown",
   "metadata": {},
   "source": [
    "## Advanced Indexing\n",
    "Having learned the fundamentals of working with DataFrames, you will now move on to more advanced indexing techniques. You will learn about MultiIndexes, or hierarchical indexes, and learn how to interact with and extract data from them.\n",
    "\n",
    "### Index objects and labeled data\n",
    "#### pandas Data Structures\n",
    "- Key building blocks\n",
    "  - Indexes: Sequence of lables\n",
    "  - Series: 1D array with index\n",
    "  - DataFrames: 2D array with Series as columns\n",
    "- Indexes\n",
    "   - Immutable (Like dictionary keys)\n",
    "   - Homogenous in data type (Like NumPy arrays)"
   ]
  },
  {
   "cell_type": "code",
   "execution_count": 59,
   "metadata": {},
   "outputs": [
    {
     "data": {
      "text/plain": [
       "0    10.70\n",
       "1    10.86\n",
       "2    10.74\n",
       "3    10.71\n",
       "4    10.79\n",
       "dtype: float64"
      ]
     },
     "execution_count": 59,
     "metadata": {},
     "output_type": "execute_result"
    },
    {
     "data": {
      "application/javascript": [
       "\n",
       "            setTimeout(function() {\n",
       "                var nbb_cell_id = 59;\n",
       "                var nbb_unformatted_code = \"prices = [10.70, 10.86, 10.74, 10.71, 10.79]\\nshares = pd.Series(prices)\\nshares\";\n",
       "                var nbb_formatted_code = \"prices = [10.70, 10.86, 10.74, 10.71, 10.79]\\nshares = pd.Series(prices)\\nshares\";\n",
       "                var nbb_cells = Jupyter.notebook.get_cells();\n",
       "                for (var i = 0; i < nbb_cells.length; ++i) {\n",
       "                    if (nbb_cells[i].input_prompt_number == nbb_cell_id) {\n",
       "                        if (nbb_cells[i].get_text() == nbb_unformatted_code) {\n",
       "                             nbb_cells[i].set_text(nbb_formatted_code);\n",
       "                        }\n",
       "                        break;\n",
       "                    }\n",
       "                }\n",
       "            }, 500);\n",
       "            "
      ],
      "text/plain": [
       "<IPython.core.display.Javascript object>"
      ]
     },
     "metadata": {},
     "output_type": "display_data"
    }
   ],
   "source": [
    "prices = [10.70, 10.86, 10.74, 10.71, 10.79]\n",
    "shares = pd.Series(prices)\n",
    "shares"
   ]
  },
  {
   "cell_type": "code",
   "execution_count": 60,
   "metadata": {},
   "outputs": [
    {
     "data": {
      "text/plain": [
       "Mon     10.70\n",
       "Tue     10.86\n",
       "Wed     10.74\n",
       "Thur    10.71\n",
       "Fri     10.79\n",
       "dtype: float64"
      ]
     },
     "execution_count": 60,
     "metadata": {},
     "output_type": "execute_result"
    },
    {
     "data": {
      "application/javascript": [
       "\n",
       "            setTimeout(function() {\n",
       "                var nbb_cell_id = 60;\n",
       "                var nbb_unformatted_code = \"days = ['Mon', 'Tue', 'Wed', 'Thur', 'Fri']\\nshares = pd.Series(prices, index=days)\\nshares\";\n",
       "                var nbb_formatted_code = \"days = [\\\"Mon\\\", \\\"Tue\\\", \\\"Wed\\\", \\\"Thur\\\", \\\"Fri\\\"]\\nshares = pd.Series(prices, index=days)\\nshares\";\n",
       "                var nbb_cells = Jupyter.notebook.get_cells();\n",
       "                for (var i = 0; i < nbb_cells.length; ++i) {\n",
       "                    if (nbb_cells[i].input_prompt_number == nbb_cell_id) {\n",
       "                        if (nbb_cells[i].get_text() == nbb_unformatted_code) {\n",
       "                             nbb_cells[i].set_text(nbb_formatted_code);\n",
       "                        }\n",
       "                        break;\n",
       "                    }\n",
       "                }\n",
       "            }, 500);\n",
       "            "
      ],
      "text/plain": [
       "<IPython.core.display.Javascript object>"
      ]
     },
     "metadata": {},
     "output_type": "display_data"
    }
   ],
   "source": [
    "days = [\"Mon\", \"Tue\", \"Wed\", \"Thur\", \"Fri\"]\n",
    "shares = pd.Series(prices, index=days)\n",
    "shares"
   ]
  },
  {
   "cell_type": "code",
   "execution_count": 61,
   "metadata": {},
   "outputs": [
    {
     "name": "stdout",
     "output_type": "stream",
     "text": [
      "Index(['Mon', 'Tue', 'Wed', 'Thur', 'Fri'], dtype='object')\n",
      "Wed\n",
      "Index(['Mon', 'Tue'], dtype='object')\n",
      "Index(['Thur', 'Fri'], dtype='object')\n",
      "None\n"
     ]
    },
    {
     "data": {
      "application/javascript": [
       "\n",
       "            setTimeout(function() {\n",
       "                var nbb_cell_id = 61;\n",
       "                var nbb_unformatted_code = \"print(shares.index)\\nprint(shares.index[2])\\nprint(shares.index[:2])\\nprint(shares.index[-2:])\\nprint(shares.index.name)\";\n",
       "                var nbb_formatted_code = \"print(shares.index)\\nprint(shares.index[2])\\nprint(shares.index[:2])\\nprint(shares.index[-2:])\\nprint(shares.index.name)\";\n",
       "                var nbb_cells = Jupyter.notebook.get_cells();\n",
       "                for (var i = 0; i < nbb_cells.length; ++i) {\n",
       "                    if (nbb_cells[i].input_prompt_number == nbb_cell_id) {\n",
       "                        if (nbb_cells[i].get_text() == nbb_unformatted_code) {\n",
       "                             nbb_cells[i].set_text(nbb_formatted_code);\n",
       "                        }\n",
       "                        break;\n",
       "                    }\n",
       "                }\n",
       "            }, 500);\n",
       "            "
      ],
      "text/plain": [
       "<IPython.core.display.Javascript object>"
      ]
     },
     "metadata": {},
     "output_type": "display_data"
    }
   ],
   "source": [
    "print(shares.index)\n",
    "print(shares.index[2])\n",
    "print(shares.index[:2])\n",
    "print(shares.index[-2:])\n",
    "print(shares.index.name)"
   ]
  },
  {
   "cell_type": "code",
   "execution_count": 62,
   "metadata": {},
   "outputs": [
    {
     "data": {
      "text/plain": [
       "weekday\n",
       "Mon     10.70\n",
       "Tue     10.86\n",
       "Wed     10.74\n",
       "Thur    10.71\n",
       "Fri     10.79\n",
       "dtype: float64"
      ]
     },
     "execution_count": 62,
     "metadata": {},
     "output_type": "execute_result"
    },
    {
     "data": {
      "application/javascript": [
       "\n",
       "            setTimeout(function() {\n",
       "                var nbb_cell_id = 62;\n",
       "                var nbb_unformatted_code = \"shares.index.name = 'weekday'\\nshares\";\n",
       "                var nbb_formatted_code = \"shares.index.name = \\\"weekday\\\"\\nshares\";\n",
       "                var nbb_cells = Jupyter.notebook.get_cells();\n",
       "                for (var i = 0; i < nbb_cells.length; ++i) {\n",
       "                    if (nbb_cells[i].input_prompt_number == nbb_cell_id) {\n",
       "                        if (nbb_cells[i].get_text() == nbb_unformatted_code) {\n",
       "                             nbb_cells[i].set_text(nbb_formatted_code);\n",
       "                        }\n",
       "                        break;\n",
       "                    }\n",
       "                }\n",
       "            }, 500);\n",
       "            "
      ],
      "text/plain": [
       "<IPython.core.display.Javascript object>"
      ]
     },
     "metadata": {},
     "output_type": "display_data"
    }
   ],
   "source": [
    "shares.index.name = \"weekday\"\n",
    "shares"
   ]
  },
  {
   "cell_type": "code",
   "execution_count": 63,
   "metadata": {},
   "outputs": [
    {
     "name": "stdout",
     "output_type": "stream",
     "text": [
      "TypeError: Index does not support mutable operations\n"
     ]
    },
    {
     "data": {
      "application/javascript": [
       "\n",
       "            setTimeout(function() {\n",
       "                var nbb_cell_id = 63;\n",
       "                var nbb_unformatted_code = \"try:\\n    shares.index[2] = 'Wednesday'\\nexcept TypeError:\\n    print('TypeError: Index does not support mutable operations')\";\n",
       "                var nbb_formatted_code = \"try:\\n    shares.index[2] = \\\"Wednesday\\\"\\nexcept TypeError:\\n    print(\\\"TypeError: Index does not support mutable operations\\\")\";\n",
       "                var nbb_cells = Jupyter.notebook.get_cells();\n",
       "                for (var i = 0; i < nbb_cells.length; ++i) {\n",
       "                    if (nbb_cells[i].input_prompt_number == nbb_cell_id) {\n",
       "                        if (nbb_cells[i].get_text() == nbb_unformatted_code) {\n",
       "                             nbb_cells[i].set_text(nbb_formatted_code);\n",
       "                        }\n",
       "                        break;\n",
       "                    }\n",
       "                }\n",
       "            }, 500);\n",
       "            "
      ],
      "text/plain": [
       "<IPython.core.display.Javascript object>"
      ]
     },
     "metadata": {},
     "output_type": "display_data"
    }
   ],
   "source": [
    "try:\n",
    "    shares.index[2] = \"Wednesday\"\n",
    "except TypeError:\n",
    "    print(\"TypeError: Index does not support mutable operations\")"
   ]
  },
  {
   "cell_type": "code",
   "execution_count": 64,
   "metadata": {},
   "outputs": [
    {
     "name": "stdout",
     "output_type": "stream",
     "text": [
      "TypeError: Index does not support mutable operations\n"
     ]
    },
    {
     "data": {
      "application/javascript": [
       "\n",
       "            setTimeout(function() {\n",
       "                var nbb_cell_id = 64;\n",
       "                var nbb_unformatted_code = \"try:\\n    shares.index[:4]= ['Monday', 'Tuesday', 'Wednesday', 'Thursday']\\nexcept TypeError:\\n    print('TypeError: Index does not support mutable operations')\";\n",
       "                var nbb_formatted_code = \"try:\\n    shares.index[:4] = [\\\"Monday\\\", \\\"Tuesday\\\", \\\"Wednesday\\\", \\\"Thursday\\\"]\\nexcept TypeError:\\n    print(\\\"TypeError: Index does not support mutable operations\\\")\";\n",
       "                var nbb_cells = Jupyter.notebook.get_cells();\n",
       "                for (var i = 0; i < nbb_cells.length; ++i) {\n",
       "                    if (nbb_cells[i].input_prompt_number == nbb_cell_id) {\n",
       "                        if (nbb_cells[i].get_text() == nbb_unformatted_code) {\n",
       "                             nbb_cells[i].set_text(nbb_formatted_code);\n",
       "                        }\n",
       "                        break;\n",
       "                    }\n",
       "                }\n",
       "            }, 500);\n",
       "            "
      ],
      "text/plain": [
       "<IPython.core.display.Javascript object>"
      ]
     },
     "metadata": {},
     "output_type": "display_data"
    }
   ],
   "source": [
    "try:\n",
    "    shares.index[:4] = [\"Monday\", \"Tuesday\", \"Wednesday\", \"Thursday\"]\n",
    "except TypeError:\n",
    "    print(\"TypeError: Index does not support mutable operations\")"
   ]
  },
  {
   "cell_type": "code",
   "execution_count": 65,
   "metadata": {},
   "outputs": [
    {
     "data": {
      "text/plain": [
       "Monday       10.70\n",
       "Tuesday      10.86\n",
       "Wednesday    10.74\n",
       "Thursday     10.71\n",
       "Friday       10.79\n",
       "dtype: float64"
      ]
     },
     "execution_count": 65,
     "metadata": {},
     "output_type": "execute_result"
    },
    {
     "data": {
      "application/javascript": [
       "\n",
       "            setTimeout(function() {\n",
       "                var nbb_cell_id = 65;\n",
       "                var nbb_unformatted_code = \"shares.index = ['Monday', 'Tuesday', 'Wednesday', 'Thursday', 'Friday']\\nshares\";\n",
       "                var nbb_formatted_code = \"shares.index = [\\\"Monday\\\", \\\"Tuesday\\\", \\\"Wednesday\\\", \\\"Thursday\\\", \\\"Friday\\\"]\\nshares\";\n",
       "                var nbb_cells = Jupyter.notebook.get_cells();\n",
       "                for (var i = 0; i < nbb_cells.length; ++i) {\n",
       "                    if (nbb_cells[i].input_prompt_number == nbb_cell_id) {\n",
       "                        if (nbb_cells[i].get_text() == nbb_unformatted_code) {\n",
       "                             nbb_cells[i].set_text(nbb_formatted_code);\n",
       "                        }\n",
       "                        break;\n",
       "                    }\n",
       "                }\n",
       "            }, 500);\n",
       "            "
      ],
      "text/plain": [
       "<IPython.core.display.Javascript object>"
      ]
     },
     "metadata": {},
     "output_type": "display_data"
    }
   ],
   "source": [
    "shares.index = [\"Monday\", \"Tuesday\", \"Wednesday\", \"Thursday\", \"Friday\"]\n",
    "shares"
   ]
  },
  {
   "cell_type": "markdown",
   "metadata": {},
   "source": [
    "### Pivoting all variables"
   ]
  },
  {
   "cell_type": "code",
   "execution_count": 66,
   "metadata": {},
   "outputs": [
    {
     "name": "stdout",
     "output_type": "stream",
     "text": [
      "city     Austin  Dallas\n",
      "weekday                \n",
      "Mon           3       5\n",
      "Sun           7      12\n",
      "        unnamed: 0        visitors        signups       \n",
      "city        Austin Dallas   Austin Dallas  Austin Dallas\n",
      "weekday                                                 \n",
      "Mon              2      3      326    456       3      5\n",
      "Sun              0      1      139    237       7     12\n"
     ]
    },
    {
     "data": {
      "application/javascript": [
       "\n",
       "            setTimeout(function() {\n",
       "                var nbb_cell_id = 66;\n",
       "                var nbb_unformatted_code = \"# Pivot users with signups indexed by weekday and city: signups_pivot\\nsignups_pivot = users.pivot(index=\\\"weekday\\\", columns=\\\"city\\\", values=\\\"signups\\\")\\n\\n# Print signups_pivot\\nprint(signups_pivot)\\n\\n# Pivot users pivoted by both signups and visitors: pivot\\npivot = users.pivot(index=\\\"weekday\\\", columns=\\\"city\\\")\\n\\n# Print the pivoted DataFrame\\nprint(pivot)\";\n",
       "                var nbb_formatted_code = \"# Pivot users with signups indexed by weekday and city: signups_pivot\\nsignups_pivot = users.pivot(index=\\\"weekday\\\", columns=\\\"city\\\", values=\\\"signups\\\")\\n\\n# Print signups_pivot\\nprint(signups_pivot)\\n\\n# Pivot users pivoted by both signups and visitors: pivot\\npivot = users.pivot(index=\\\"weekday\\\", columns=\\\"city\\\")\\n\\n# Print the pivoted DataFrame\\nprint(pivot)\";\n",
       "                var nbb_cells = Jupyter.notebook.get_cells();\n",
       "                for (var i = 0; i < nbb_cells.length; ++i) {\n",
       "                    if (nbb_cells[i].input_prompt_number == nbb_cell_id) {\n",
       "                        if (nbb_cells[i].get_text() == nbb_unformatted_code) {\n",
       "                             nbb_cells[i].set_text(nbb_formatted_code);\n",
       "                        }\n",
       "                        break;\n",
       "                    }\n",
       "                }\n",
       "            }, 500);\n",
       "            "
      ],
      "text/plain": [
       "<IPython.core.display.Javascript object>"
      ]
     },
     "metadata": {},
     "output_type": "display_data"
    }
   ],
   "source": [
    "# Pivot users with signups indexed by weekday and city: signups_pivot\n",
    "signups_pivot = users.pivot(index=\"weekday\", columns=\"city\", values=\"signups\")\n",
    "\n",
    "# Print signups_pivot\n",
    "print(signups_pivot)\n",
    "\n",
    "# Pivot users pivoted by both signups and visitors: pivot\n",
    "pivot = users.pivot(index=\"weekday\", columns=\"city\")\n",
    "\n",
    "# Print the pivoted DataFrame\n",
    "print(pivot)\n"
   ]
  },
  {
   "cell_type": "code",
   "execution_count": 67,
   "metadata": {},
   "outputs": [
    {
     "data": {
      "application/javascript": [
       "\n",
       "            setTimeout(function() {\n",
       "                var nbb_cell_id = 67;\n",
       "                var nbb_unformatted_code = \"users.set_index(['weekday', 'city'], inplace=True)  # set multi-level index\\nstacked = users.stack()  # stack the DataFrame\";\n",
       "                var nbb_formatted_code = \"users.set_index([\\\"weekday\\\", \\\"city\\\"], inplace=True)  # set multi-level index\\nstacked = users.stack()  # stack the DataFrame\";\n",
       "                var nbb_cells = Jupyter.notebook.get_cells();\n",
       "                for (var i = 0; i < nbb_cells.length; ++i) {\n",
       "                    if (nbb_cells[i].input_prompt_number == nbb_cell_id) {\n",
       "                        if (nbb_cells[i].get_text() == nbb_unformatted_code) {\n",
       "                             nbb_cells[i].set_text(nbb_formatted_code);\n",
       "                        }\n",
       "                        break;\n",
       "                    }\n",
       "                }\n",
       "            }, 500);\n",
       "            "
      ],
      "text/plain": [
       "<IPython.core.display.Javascript object>"
      ]
     },
     "metadata": {},
     "output_type": "display_data"
    }
   ],
   "source": [
    "users.set_index(['weekday', 'city'], inplace=True)  # set multi-level index\n",
    "stacked = users.stack()  # stack the DataFrame\n"
   ]
  },
  {
   "cell_type": "markdown",
   "metadata": {},
   "source": [
    "### Stacking & unstacking I"
   ]
  },
  {
   "cell_type": "code",
   "execution_count": 13,
   "metadata": {},
   "outputs": [
    {
     "data": {
      "application/javascript": [
       "\n",
       "            setTimeout(function() {\n",
       "                var nbb_cell_id = 13;\n",
       "                var nbb_unformatted_code = \"unstacked = stacked.unstack(level='weekday')  # unstack by 'weekday'\";\n",
       "                var nbb_formatted_code = \"unstacked = stacked.unstack(level=\\\"weekday\\\")  # unstack by 'weekday'\";\n",
       "                var nbb_cells = Jupyter.notebook.get_cells();\n",
       "                for (var i = 0; i < nbb_cells.length; ++i) {\n",
       "                    if (nbb_cells[i].input_prompt_number == nbb_cell_id) {\n",
       "                        if (nbb_cells[i].get_text() == nbb_unformatted_code) {\n",
       "                             nbb_cells[i].set_text(nbb_formatted_code);\n",
       "                        }\n",
       "                        break;\n",
       "                    }\n",
       "                }\n",
       "            }, 500);\n",
       "            "
      ],
      "text/plain": [
       "<IPython.core.display.Javascript object>"
      ]
     },
     "metadata": {},
     "output_type": "display_data"
    }
   ],
   "source": [
    "unstacked = stacked.unstack(level='weekday')  # unstack by 'weekday'\n"
   ]
  },
  {
   "cell_type": "markdown",
   "metadata": {},
   "source": [
    "### Stacking & unstacking II"
   ]
  },
  {
   "cell_type": "code",
   "execution_count": 14,
   "metadata": {},
   "outputs": [
    {
     "name": "stdout",
     "output_type": "stream",
     "text": [
      "        unnamed: 0        visitors        signups       \n",
      "city        Austin Dallas   Austin Dallas  Austin Dallas\n",
      "weekday                                                 \n",
      "Mon              2      3      326    456       3      5\n",
      "Sun              0      1      139    237       7     12\n",
      "                unnamed: 0  visitors  signups\n",
      "weekday city                                 \n",
      "Mon     Austin           2       326        3\n",
      "        Dallas           3       456        5\n",
      "Sun     Austin           0       139        7\n",
      "        Dallas           1       237       12\n"
     ]
    },
    {
     "data": {
      "application/javascript": [
       "\n",
       "            setTimeout(function() {\n",
       "                var nbb_cell_id = 14;\n",
       "                var nbb_unformatted_code = \"# Unstack users by 'city': bycity\\nbycity = users.unstack(level=\\\"city\\\")\\n\\n# Print the bycity DataFrame\\nprint(bycity)\\n\\n# Stack bycity by 'city' and print it\\nprint(bycity.stack(level=\\\"city\\\"))\";\n",
       "                var nbb_formatted_code = \"# Unstack users by 'city': bycity\\nbycity = users.unstack(level=\\\"city\\\")\\n\\n# Print the bycity DataFrame\\nprint(bycity)\\n\\n# Stack bycity by 'city' and print it\\nprint(bycity.stack(level=\\\"city\\\"))\";\n",
       "                var nbb_cells = Jupyter.notebook.get_cells();\n",
       "                for (var i = 0; i < nbb_cells.length; ++i) {\n",
       "                    if (nbb_cells[i].input_prompt_number == nbb_cell_id) {\n",
       "                        if (nbb_cells[i].get_text() == nbb_unformatted_code) {\n",
       "                             nbb_cells[i].set_text(nbb_formatted_code);\n",
       "                        }\n",
       "                        break;\n",
       "                    }\n",
       "                }\n",
       "            }, 500);\n",
       "            "
      ],
      "text/plain": [
       "<IPython.core.display.Javascript object>"
      ]
     },
     "metadata": {},
     "output_type": "display_data"
    }
   ],
   "source": [
    "# Unstack users by 'city': bycity\n",
    "bycity = users.unstack(level=\"city\")\n",
    "\n",
    "# Print the bycity DataFrame\n",
    "print(bycity)\n",
    "\n",
    "# Stack bycity by 'city' and print it\n",
    "print(bycity.stack(level=\"city\"))"
   ]
  },
  {
   "cell_type": "markdown",
   "metadata": {},
   "source": [
    "### Restoring the index order"
   ]
  },
  {
   "cell_type": "code",
   "execution_count": 68,
   "metadata": {},
   "outputs": [
    {
     "name": "stdout",
     "output_type": "stream",
     "text": [
      "                unnamed: 0  visitors  signups\n",
      "city   weekday                               \n",
      "Austin Mon               2       326        3\n",
      "Dallas Mon               3       456        5\n",
      "Austin Sun               0       139        7\n",
      "Dallas Sun               1       237       12\n",
      "                unnamed: 0  visitors  signups\n",
      "city   weekday                               \n",
      "Austin Mon               2       326        3\n",
      "       Sun               0       139        7\n",
      "Dallas Mon               3       456        5\n",
      "       Sun               1       237       12\n",
      "False\n"
     ]
    },
    {
     "data": {
      "application/javascript": [
       "\n",
       "            setTimeout(function() {\n",
       "                var nbb_cell_id = 68;\n",
       "                var nbb_unformatted_code = \"# Stack 'city' back into the index of bycity: newusers\\nnewusers = bycity.stack(level=\\\"city\\\")\\n\\n# Swap the levels of the index of newusers: newusers\\nnewusers = newusers.swaplevel(0, 1)\\n\\n# Print newusers and verify that the index is not sorted\\nprint(newusers)\\n\\n# Sort the index of newusers: newusers\\nnewusers = newusers.sort_index()\\n\\n# Print newusers and verify that the index is now sorted\\nprint(newusers)\\n\\n# Verify that the new DataFrame is equal to the original\\nprint(newusers.equals(users))\";\n",
       "                var nbb_formatted_code = \"# Stack 'city' back into the index of bycity: newusers\\nnewusers = bycity.stack(level=\\\"city\\\")\\n\\n# Swap the levels of the index of newusers: newusers\\nnewusers = newusers.swaplevel(0, 1)\\n\\n# Print newusers and verify that the index is not sorted\\nprint(newusers)\\n\\n# Sort the index of newusers: newusers\\nnewusers = newusers.sort_index()\\n\\n# Print newusers and verify that the index is now sorted\\nprint(newusers)\\n\\n# Verify that the new DataFrame is equal to the original\\nprint(newusers.equals(users))\";\n",
       "                var nbb_cells = Jupyter.notebook.get_cells();\n",
       "                for (var i = 0; i < nbb_cells.length; ++i) {\n",
       "                    if (nbb_cells[i].input_prompt_number == nbb_cell_id) {\n",
       "                        if (nbb_cells[i].get_text() == nbb_unformatted_code) {\n",
       "                             nbb_cells[i].set_text(nbb_formatted_code);\n",
       "                        }\n",
       "                        break;\n",
       "                    }\n",
       "                }\n",
       "            }, 500);\n",
       "            "
      ],
      "text/plain": [
       "<IPython.core.display.Javascript object>"
      ]
     },
     "metadata": {},
     "output_type": "display_data"
    }
   ],
   "source": [
    "# Stack 'city' back into the index of bycity: newusers\n",
    "newusers = bycity.stack(level=\"city\")\n",
    "\n",
    "# Swap the levels of the index of newusers: newusers\n",
    "newusers = newusers.swaplevel(0, 1)\n",
    "\n",
    "# Print newusers and verify that the index is not sorted\n",
    "print(newusers)\n",
    "\n",
    "# Sort the index of newusers: newusers\n",
    "newusers = newusers.sort_index()\n",
    "\n",
    "# Print newusers and verify that the index is now sorted\n",
    "print(newusers)\n",
    "\n",
    "# Verify that the new DataFrame is equal to the original\n",
    "print(newusers.equals(users))"
   ]
  },
  {
   "cell_type": "markdown",
   "metadata": {},
   "source": [
    "### Setting up a pivot table"
   ]
  },
  {
   "cell_type": "code",
   "execution_count": 69,
   "metadata": {},
   "outputs": [
    {
     "name": "stdout",
     "output_type": "stream",
     "text": [
      "        signups        unnamed: 0        visitors       \n",
      "city     Austin Dallas     Austin Dallas   Austin Dallas\n",
      "weekday                                                 \n",
      "Mon           3      5          2      3      326    456\n",
      "Sun           7     12          0      1      139    237\n"
     ]
    },
    {
     "data": {
      "application/javascript": [
       "\n",
       "            setTimeout(function() {\n",
       "                var nbb_cell_id = 69;\n",
       "                var nbb_unformatted_code = \"# Create the DataFrame with the appropriate pivot table: by_city_day\\nby_city_day = users.pivot_table(index=\\\"weekday\\\", columns=\\\"city\\\")\\n\\n# Print by_city_day\\nprint(by_city_day)\";\n",
       "                var nbb_formatted_code = \"# Create the DataFrame with the appropriate pivot table: by_city_day\\nby_city_day = users.pivot_table(index=\\\"weekday\\\", columns=\\\"city\\\")\\n\\n# Print by_city_day\\nprint(by_city_day)\";\n",
       "                var nbb_cells = Jupyter.notebook.get_cells();\n",
       "                for (var i = 0; i < nbb_cells.length; ++i) {\n",
       "                    if (nbb_cells[i].input_prompt_number == nbb_cell_id) {\n",
       "                        if (nbb_cells[i].get_text() == nbb_unformatted_code) {\n",
       "                             nbb_cells[i].set_text(nbb_formatted_code);\n",
       "                        }\n",
       "                        break;\n",
       "                    }\n",
       "                }\n",
       "            }, 500);\n",
       "            "
      ],
      "text/plain": [
       "<IPython.core.display.Javascript object>"
      ]
     },
     "metadata": {},
     "output_type": "display_data"
    }
   ],
   "source": [
    "# Create the DataFrame with the appropriate pivot table: by_city_day\n",
    "by_city_day = users.pivot_table(index=\"weekday\", columns=\"city\")\n",
    "\n",
    "# Print by_city_day\n",
    "print(by_city_day)"
   ]
  },
  {
   "cell_type": "markdown",
   "metadata": {},
   "source": [
    "### Using other aggregations in pivot tables"
   ]
  },
  {
   "cell_type": "code",
   "execution_count": 70,
   "metadata": {},
   "outputs": [
    {
     "name": "stdout",
     "output_type": "stream",
     "text": [
      "         signups  unnamed: 0  visitors\n",
      "weekday                               \n",
      "Mon            2           2         2\n",
      "Sun            2           2         2\n",
      "True\n"
     ]
    },
    {
     "data": {
      "application/javascript": [
       "\n",
       "            setTimeout(function() {\n",
       "                var nbb_cell_id = 70;\n",
       "                var nbb_unformatted_code = \"# Use a pivot table to display the count of each column: count_by_weekday1\\ncount_by_weekday1 = users.pivot_table(index=\\\"weekday\\\", aggfunc=\\\"count\\\")\\n\\n# Print count_by_weekday\\nprint(count_by_weekday1)\\n\\n# Replace 'aggfunc='count'' with 'aggfunc=len': count_by_weekday2\\ncount_by_weekday2 = users.pivot_table(index=\\\"weekday\\\", aggfunc=\\\"count\\\")\\n\\n# Verify that the same result is obtained\\n\\nprint(count_by_weekday1.equals(count_by_weekday2))\";\n",
       "                var nbb_formatted_code = \"# Use a pivot table to display the count of each column: count_by_weekday1\\ncount_by_weekday1 = users.pivot_table(index=\\\"weekday\\\", aggfunc=\\\"count\\\")\\n\\n# Print count_by_weekday\\nprint(count_by_weekday1)\\n\\n# Replace 'aggfunc='count'' with 'aggfunc=len': count_by_weekday2\\ncount_by_weekday2 = users.pivot_table(index=\\\"weekday\\\", aggfunc=\\\"count\\\")\\n\\n# Verify that the same result is obtained\\n\\nprint(count_by_weekday1.equals(count_by_weekday2))\";\n",
       "                var nbb_cells = Jupyter.notebook.get_cells();\n",
       "                for (var i = 0; i < nbb_cells.length; ++i) {\n",
       "                    if (nbb_cells[i].input_prompt_number == nbb_cell_id) {\n",
       "                        if (nbb_cells[i].get_text() == nbb_unformatted_code) {\n",
       "                             nbb_cells[i].set_text(nbb_formatted_code);\n",
       "                        }\n",
       "                        break;\n",
       "                    }\n",
       "                }\n",
       "            }, 500);\n",
       "            "
      ],
      "text/plain": [
       "<IPython.core.display.Javascript object>"
      ]
     },
     "metadata": {},
     "output_type": "display_data"
    }
   ],
   "source": [
    "# Use a pivot table to display the count of each column: count_by_weekday1\n",
    "count_by_weekday1 = users.pivot_table(index=\"weekday\", aggfunc=\"count\")\n",
    "\n",
    "# Print count_by_weekday\n",
    "print(count_by_weekday1)\n",
    "\n",
    "# Replace 'aggfunc='count'' with 'aggfunc=len': count_by_weekday2\n",
    "count_by_weekday2 = users.pivot_table(index=\"weekday\", aggfunc=\"count\")\n",
    "\n",
    "# Verify that the same result is obtained\n",
    "\n",
    "print(count_by_weekday1.equals(count_by_weekday2))"
   ]
  },
  {
   "cell_type": "markdown",
   "metadata": {},
   "source": [
    "### Using margins in pivot tables"
   ]
  },
  {
   "cell_type": "code",
   "execution_count": 71,
   "metadata": {},
   "outputs": [
    {
     "name": "stdout",
     "output_type": "stream",
     "text": [
      "         signups  unnamed: 0  visitors\n",
      "weekday                               \n",
      "Mon            8           5       782\n",
      "Sun           19           1       376\n",
      "         signups  unnamed: 0  visitors\n",
      "weekday                               \n",
      "Mon            8           5       782\n",
      "Sun           19           1       376\n",
      "All           27           6      1158\n"
     ]
    },
    {
     "data": {
      "application/javascript": [
       "\n",
       "            setTimeout(function() {\n",
       "                var nbb_cell_id = 71;\n",
       "                var nbb_unformatted_code = \"# Create the DataFrame with the appropriate pivot table: signups_and_visitors\\nsignups_and_visitors = users.pivot_table(index=\\\"weekday\\\", aggfunc=sum)\\n\\n# Print signups_and_visitors\\nprint(signups_and_visitors)\\n\\n# Add in the margins: signups_and_visitors_total\\nsignups_and_visitors_total = users.pivot_table(\\n    index=\\\"weekday\\\", aggfunc=sum, margins=True\\n)\\n\\n# Print signups_and_visitors_total\\nprint(signups_and_visitors_total)\";\n",
       "                var nbb_formatted_code = \"# Create the DataFrame with the appropriate pivot table: signups_and_visitors\\nsignups_and_visitors = users.pivot_table(index=\\\"weekday\\\", aggfunc=sum)\\n\\n# Print signups_and_visitors\\nprint(signups_and_visitors)\\n\\n# Add in the margins: signups_and_visitors_total\\nsignups_and_visitors_total = users.pivot_table(\\n    index=\\\"weekday\\\", aggfunc=sum, margins=True\\n)\\n\\n# Print signups_and_visitors_total\\nprint(signups_and_visitors_total)\";\n",
       "                var nbb_cells = Jupyter.notebook.get_cells();\n",
       "                for (var i = 0; i < nbb_cells.length; ++i) {\n",
       "                    if (nbb_cells[i].input_prompt_number == nbb_cell_id) {\n",
       "                        if (nbb_cells[i].get_text() == nbb_unformatted_code) {\n",
       "                             nbb_cells[i].set_text(nbb_formatted_code);\n",
       "                        }\n",
       "                        break;\n",
       "                    }\n",
       "                }\n",
       "            }, 500);\n",
       "            "
      ],
      "text/plain": [
       "<IPython.core.display.Javascript object>"
      ]
     },
     "metadata": {},
     "output_type": "display_data"
    }
   ],
   "source": [
    "# Create the DataFrame with the appropriate pivot table: signups_and_visitors\n",
    "signups_and_visitors = users.pivot_table(index=\"weekday\", aggfunc=sum)\n",
    "\n",
    "# Print signups_and_visitors\n",
    "print(signups_and_visitors)\n",
    "\n",
    "# Add in the margins: signups_and_visitors_total\n",
    "signups_and_visitors_total = users.pivot_table(\n",
    "    index=\"weekday\", aggfunc=sum, margins=True\n",
    ")\n",
    "\n",
    "# Print signups_and_visitors_total\n",
    "print(signups_and_visitors_total)"
   ]
  },
  {
   "cell_type": "markdown",
   "metadata": {},
   "source": [
    "### Grouping by multiple columns"
   ]
  },
  {
   "cell_type": "code",
   "execution_count": 19,
   "metadata": {},
   "outputs": [
    {
     "name": "stdout",
     "output_type": "stream",
     "text": [
      "pclass\n",
      "1    216\n",
      "2    184\n",
      "3    491\n",
      "Name: survived, dtype: int64\n",
      "embarked  pclass\n",
      "C         1          85\n",
      "          2          17\n",
      "          3          66\n",
      "Q         1           2\n",
      "          2           3\n",
      "          3          72\n",
      "S         1         127\n",
      "          2         164\n",
      "          3         353\n",
      "Name: survived, dtype: int64\n"
     ]
    },
    {
     "data": {
      "application/javascript": [
       "\n",
       "            setTimeout(function() {\n",
       "                var nbb_cell_id = 19;\n",
       "                var nbb_unformatted_code = \"# Group titanic by 'pclass'\\nby_class = titanic.groupby(\\\"pclass\\\")\\n\\n# Aggregate 'survived' column of by_class by count\\ncount_by_class = by_class[\\\"survived\\\"].count()\\n\\n# Print count_by_class\\nprint(count_by_class)\\n\\n# Group titanic by 'embarked' and 'pclass'\\nby_mult = titanic.groupby([\\\"embarked\\\", \\\"pclass\\\"])\\n\\n# Aggregate 'survived' column of by_mult by count\\ncount_mult = by_mult[\\\"survived\\\"].count()\\n\\n# Print count_mult\\nprint(count_mult)\";\n",
       "                var nbb_formatted_code = \"# Group titanic by 'pclass'\\nby_class = titanic.groupby(\\\"pclass\\\")\\n\\n# Aggregate 'survived' column of by_class by count\\ncount_by_class = by_class[\\\"survived\\\"].count()\\n\\n# Print count_by_class\\nprint(count_by_class)\\n\\n# Group titanic by 'embarked' and 'pclass'\\nby_mult = titanic.groupby([\\\"embarked\\\", \\\"pclass\\\"])\\n\\n# Aggregate 'survived' column of by_mult by count\\ncount_mult = by_mult[\\\"survived\\\"].count()\\n\\n# Print count_mult\\nprint(count_mult)\";\n",
       "                var nbb_cells = Jupyter.notebook.get_cells();\n",
       "                for (var i = 0; i < nbb_cells.length; ++i) {\n",
       "                    if (nbb_cells[i].input_prompt_number == nbb_cell_id) {\n",
       "                        if (nbb_cells[i].get_text() == nbb_unformatted_code) {\n",
       "                             nbb_cells[i].set_text(nbb_formatted_code);\n",
       "                        }\n",
       "                        break;\n",
       "                    }\n",
       "                }\n",
       "            }, 500);\n",
       "            "
      ],
      "text/plain": [
       "<IPython.core.display.Javascript object>"
      ]
     },
     "metadata": {},
     "output_type": "display_data"
    }
   ],
   "source": [
    "# Group titanic by 'pclass'\n",
    "by_class = titanic.groupby(\"pclass\")\n",
    "\n",
    "# Aggregate 'survived' column of by_class by count\n",
    "count_by_class = by_class[\"survived\"].count()\n",
    "\n",
    "# Print count_by_class\n",
    "print(count_by_class)\n",
    "\n",
    "# Group titanic by 'embarked' and 'pclass'\n",
    "by_mult = titanic.groupby([\"embarked\", \"pclass\"])\n",
    "\n",
    "# Aggregate 'survived' column of by_mult by count\n",
    "count_mult = by_mult[\"survived\"].count()\n",
    "\n",
    "# Print count_mult\n",
    "print(count_mult)"
   ]
  },
  {
   "cell_type": "markdown",
   "metadata": {},
   "source": [
    "### Grouping by another series"
   ]
  },
  {
   "cell_type": "code",
   "execution_count": 76,
   "metadata": {},
   "outputs": [
    {
     "data": {
      "text/html": [
       "<div>\n",
       "<style scoped>\n",
       "    .dataframe tbody tr th:only-of-type {\n",
       "        vertical-align: middle;\n",
       "    }\n",
       "\n",
       "    .dataframe tbody tr th {\n",
       "        vertical-align: top;\n",
       "    }\n",
       "\n",
       "    .dataframe thead th {\n",
       "        text-align: right;\n",
       "    }\n",
       "</style>\n",
       "<table border=\"1\" class=\"dataframe\">\n",
       "  <thead>\n",
       "    <tr style=\"text-align: right;\">\n",
       "      <th></th>\n",
       "      <th>1964</th>\n",
       "      <th>1965</th>\n",
       "      <th>1966</th>\n",
       "      <th>1967</th>\n",
       "      <th>1968</th>\n",
       "      <th>1969</th>\n",
       "      <th>1970</th>\n",
       "      <th>1971</th>\n",
       "      <th>1972</th>\n",
       "      <th>1973</th>\n",
       "      <th>...</th>\n",
       "      <th>2004</th>\n",
       "      <th>2005</th>\n",
       "      <th>2006</th>\n",
       "      <th>2007</th>\n",
       "      <th>2008</th>\n",
       "      <th>2009</th>\n",
       "      <th>2010</th>\n",
       "      <th>2011</th>\n",
       "      <th>2012</th>\n",
       "      <th>2013</th>\n",
       "    </tr>\n",
       "    <tr>\n",
       "      <th>Country</th>\n",
       "      <th></th>\n",
       "      <th></th>\n",
       "      <th></th>\n",
       "      <th></th>\n",
       "      <th></th>\n",
       "      <th></th>\n",
       "      <th></th>\n",
       "      <th></th>\n",
       "      <th></th>\n",
       "      <th></th>\n",
       "      <th></th>\n",
       "      <th></th>\n",
       "      <th></th>\n",
       "      <th></th>\n",
       "      <th></th>\n",
       "      <th></th>\n",
       "      <th></th>\n",
       "      <th></th>\n",
       "      <th></th>\n",
       "      <th></th>\n",
       "      <th></th>\n",
       "    </tr>\n",
       "  </thead>\n",
       "  <tbody>\n",
       "    <tr>\n",
       "      <th>Afghanistan</th>\n",
       "      <td>33.63900</td>\n",
       "      <td>34.1520</td>\n",
       "      <td>34.6620</td>\n",
       "      <td>35.17000</td>\n",
       "      <td>35.6740</td>\n",
       "      <td>36.1720</td>\n",
       "      <td>36.6630</td>\n",
       "      <td>37.14300</td>\n",
       "      <td>37.61400</td>\n",
       "      <td>38.0750</td>\n",
       "      <td>...</td>\n",
       "      <td>56.583</td>\n",
       "      <td>57.071</td>\n",
       "      <td>57.582</td>\n",
       "      <td>58.102</td>\n",
       "      <td>58.618</td>\n",
       "      <td>59.124</td>\n",
       "      <td>59.612</td>\n",
       "      <td>60.079</td>\n",
       "      <td>60.524</td>\n",
       "      <td>60.947</td>\n",
       "    </tr>\n",
       "    <tr>\n",
       "      <th>Albania</th>\n",
       "      <td>65.47500</td>\n",
       "      <td>65.8630</td>\n",
       "      <td>66.1220</td>\n",
       "      <td>66.31600</td>\n",
       "      <td>66.5000</td>\n",
       "      <td>66.7020</td>\n",
       "      <td>66.9480</td>\n",
       "      <td>67.25100</td>\n",
       "      <td>67.59500</td>\n",
       "      <td>67.9660</td>\n",
       "      <td>...</td>\n",
       "      <td>75.725</td>\n",
       "      <td>75.949</td>\n",
       "      <td>76.124</td>\n",
       "      <td>76.278</td>\n",
       "      <td>76.433</td>\n",
       "      <td>76.598</td>\n",
       "      <td>76.780</td>\n",
       "      <td>76.979</td>\n",
       "      <td>77.185</td>\n",
       "      <td>77.392</td>\n",
       "    </tr>\n",
       "    <tr>\n",
       "      <th>Algeria</th>\n",
       "      <td>47.95300</td>\n",
       "      <td>48.3890</td>\n",
       "      <td>48.8060</td>\n",
       "      <td>49.20500</td>\n",
       "      <td>49.5920</td>\n",
       "      <td>49.9760</td>\n",
       "      <td>50.3660</td>\n",
       "      <td>50.76700</td>\n",
       "      <td>51.19500</td>\n",
       "      <td>51.6700</td>\n",
       "      <td>...</td>\n",
       "      <td>69.682</td>\n",
       "      <td>69.854</td>\n",
       "      <td>70.020</td>\n",
       "      <td>70.180</td>\n",
       "      <td>70.332</td>\n",
       "      <td>70.477</td>\n",
       "      <td>70.615</td>\n",
       "      <td>70.747</td>\n",
       "      <td>70.874</td>\n",
       "      <td>71.000</td>\n",
       "    </tr>\n",
       "    <tr>\n",
       "      <th>Angola</th>\n",
       "      <td>34.60400</td>\n",
       "      <td>35.0070</td>\n",
       "      <td>35.4100</td>\n",
       "      <td>35.81600</td>\n",
       "      <td>36.2220</td>\n",
       "      <td>36.6270</td>\n",
       "      <td>37.0320</td>\n",
       "      <td>37.43900</td>\n",
       "      <td>37.84600</td>\n",
       "      <td>38.2470</td>\n",
       "      <td>...</td>\n",
       "      <td>48.036</td>\n",
       "      <td>48.572</td>\n",
       "      <td>49.041</td>\n",
       "      <td>49.471</td>\n",
       "      <td>49.882</td>\n",
       "      <td>50.286</td>\n",
       "      <td>50.689</td>\n",
       "      <td>51.094</td>\n",
       "      <td>51.498</td>\n",
       "      <td>51.899</td>\n",
       "    </tr>\n",
       "    <tr>\n",
       "      <th>Antigua and Barbuda</th>\n",
       "      <td>63.77500</td>\n",
       "      <td>64.1490</td>\n",
       "      <td>64.5110</td>\n",
       "      <td>64.86500</td>\n",
       "      <td>65.2130</td>\n",
       "      <td>65.5580</td>\n",
       "      <td>65.8980</td>\n",
       "      <td>66.23200</td>\n",
       "      <td>66.55800</td>\n",
       "      <td>66.8750</td>\n",
       "      <td>...</td>\n",
       "      <td>74.355</td>\n",
       "      <td>74.544</td>\n",
       "      <td>74.729</td>\n",
       "      <td>74.910</td>\n",
       "      <td>75.087</td>\n",
       "      <td>75.263</td>\n",
       "      <td>75.437</td>\n",
       "      <td>75.610</td>\n",
       "      <td>75.783</td>\n",
       "      <td>75.954</td>\n",
       "    </tr>\n",
       "    <tr>\n",
       "      <th>Argentina</th>\n",
       "      <td>65.38800</td>\n",
       "      <td>65.4810</td>\n",
       "      <td>65.6030</td>\n",
       "      <td>65.75900</td>\n",
       "      <td>65.9530</td>\n",
       "      <td>66.1840</td>\n",
       "      <td>66.4490</td>\n",
       "      <td>66.74000</td>\n",
       "      <td>67.04400</td>\n",
       "      <td>67.3490</td>\n",
       "      <td>...</td>\n",
       "      <td>74.645</td>\n",
       "      <td>74.843</td>\n",
       "      <td>75.036</td>\n",
       "      <td>75.225</td>\n",
       "      <td>75.410</td>\n",
       "      <td>75.592</td>\n",
       "      <td>75.772</td>\n",
       "      <td>75.950</td>\n",
       "      <td>76.128</td>\n",
       "      <td>76.305</td>\n",
       "    </tr>\n",
       "    <tr>\n",
       "      <th>Armenia</th>\n",
       "      <td>67.71400</td>\n",
       "      <td>68.1510</td>\n",
       "      <td>68.5870</td>\n",
       "      <td>69.01500</td>\n",
       "      <td>69.4250</td>\n",
       "      <td>69.8080</td>\n",
       "      <td>70.1430</td>\n",
       "      <td>70.41100</td>\n",
       "      <td>70.60400</td>\n",
       "      <td>70.7220</td>\n",
       "      <td>...</td>\n",
       "      <td>73.192</td>\n",
       "      <td>73.491</td>\n",
       "      <td>73.730</td>\n",
       "      <td>73.920</td>\n",
       "      <td>74.070</td>\n",
       "      <td>74.191</td>\n",
       "      <td>74.291</td>\n",
       "      <td>74.381</td>\n",
       "      <td>74.469</td>\n",
       "      <td>74.561</td>\n",
       "    </tr>\n",
       "    <tr>\n",
       "      <th>Aruba</th>\n",
       "      <td>67.11300</td>\n",
       "      <td>67.4350</td>\n",
       "      <td>67.7620</td>\n",
       "      <td>68.09500</td>\n",
       "      <td>68.4360</td>\n",
       "      <td>68.7840</td>\n",
       "      <td>69.1400</td>\n",
       "      <td>69.49800</td>\n",
       "      <td>69.85100</td>\n",
       "      <td>70.1920</td>\n",
       "      <td>...</td>\n",
       "      <td>74.175</td>\n",
       "      <td>74.316</td>\n",
       "      <td>74.467</td>\n",
       "      <td>74.621</td>\n",
       "      <td>74.772</td>\n",
       "      <td>74.919</td>\n",
       "      <td>75.059</td>\n",
       "      <td>75.193</td>\n",
       "      <td>75.324</td>\n",
       "      <td>75.455</td>\n",
       "    </tr>\n",
       "    <tr>\n",
       "      <th>Australia</th>\n",
       "      <td>70.65000</td>\n",
       "      <td>70.9800</td>\n",
       "      <td>70.8200</td>\n",
       "      <td>71.10000</td>\n",
       "      <td>70.7300</td>\n",
       "      <td>71.1400</td>\n",
       "      <td>70.8100</td>\n",
       "      <td>71.41000</td>\n",
       "      <td>71.93000</td>\n",
       "      <td>72.1400</td>\n",
       "      <td>...</td>\n",
       "      <td>81.040</td>\n",
       "      <td>81.440</td>\n",
       "      <td>81.630</td>\n",
       "      <td>81.670</td>\n",
       "      <td>81.567</td>\n",
       "      <td>81.937</td>\n",
       "      <td>82.091</td>\n",
       "      <td>82.231</td>\n",
       "      <td>82.364</td>\n",
       "      <td>82.496</td>\n",
       "    </tr>\n",
       "    <tr>\n",
       "      <th>Austria</th>\n",
       "      <td>70.16000</td>\n",
       "      <td>69.9500</td>\n",
       "      <td>70.2600</td>\n",
       "      <td>70.14000</td>\n",
       "      <td>70.2900</td>\n",
       "      <td>70.0600</td>\n",
       "      <td>70.1100</td>\n",
       "      <td>70.31000</td>\n",
       "      <td>70.63000</td>\n",
       "      <td>71.2100</td>\n",
       "      <td>...</td>\n",
       "      <td>79.470</td>\n",
       "      <td>79.640</td>\n",
       "      <td>80.100</td>\n",
       "      <td>80.300</td>\n",
       "      <td>80.510</td>\n",
       "      <td>80.392</td>\n",
       "      <td>80.595</td>\n",
       "      <td>80.785</td>\n",
       "      <td>80.965</td>\n",
       "      <td>81.137</td>\n",
       "    </tr>\n",
       "    <tr>\n",
       "      <th>Azerbaijan</th>\n",
       "      <td>62.70100</td>\n",
       "      <td>63.1170</td>\n",
       "      <td>63.5330</td>\n",
       "      <td>63.94500</td>\n",
       "      <td>64.3420</td>\n",
       "      <td>64.7120</td>\n",
       "      <td>65.0350</td>\n",
       "      <td>65.28700</td>\n",
       "      <td>65.45700</td>\n",
       "      <td>65.5450</td>\n",
       "      <td>...</td>\n",
       "      <td>68.570</td>\n",
       "      <td>69.033</td>\n",
       "      <td>69.466</td>\n",
       "      <td>69.841</td>\n",
       "      <td>70.142</td>\n",
       "      <td>70.366</td>\n",
       "      <td>70.518</td>\n",
       "      <td>70.616</td>\n",
       "      <td>70.686</td>\n",
       "      <td>70.753</td>\n",
       "    </tr>\n",
       "    <tr>\n",
       "      <th>Bahamas</th>\n",
       "      <td>64.18900</td>\n",
       "      <td>64.4980</td>\n",
       "      <td>64.8000</td>\n",
       "      <td>65.09500</td>\n",
       "      <td>65.3830</td>\n",
       "      <td>65.6650</td>\n",
       "      <td>65.9430</td>\n",
       "      <td>66.21800</td>\n",
       "      <td>66.49000</td>\n",
       "      <td>66.7590</td>\n",
       "      <td>...</td>\n",
       "      <td>73.538</td>\n",
       "      <td>73.787</td>\n",
       "      <td>74.011</td>\n",
       "      <td>74.216</td>\n",
       "      <td>74.407</td>\n",
       "      <td>74.587</td>\n",
       "      <td>74.757</td>\n",
       "      <td>74.920</td>\n",
       "      <td>75.079</td>\n",
       "      <td>75.237</td>\n",
       "    </tr>\n",
       "    <tr>\n",
       "      <th>Bahrain</th>\n",
       "      <td>57.18200</td>\n",
       "      <td>58.3890</td>\n",
       "      <td>59.5260</td>\n",
       "      <td>60.59900</td>\n",
       "      <td>61.6110</td>\n",
       "      <td>62.5620</td>\n",
       "      <td>63.4500</td>\n",
       "      <td>64.27600</td>\n",
       "      <td>65.04300</td>\n",
       "      <td>65.7570</td>\n",
       "      <td>...</td>\n",
       "      <td>75.247</td>\n",
       "      <td>75.424</td>\n",
       "      <td>75.595</td>\n",
       "      <td>75.759</td>\n",
       "      <td>75.914</td>\n",
       "      <td>76.062</td>\n",
       "      <td>76.203</td>\n",
       "      <td>76.339</td>\n",
       "      <td>76.474</td>\n",
       "      <td>76.608</td>\n",
       "    </tr>\n",
       "    <tr>\n",
       "      <th>Bangladesh</th>\n",
       "      <td>49.29700</td>\n",
       "      <td>49.6520</td>\n",
       "      <td>49.7340</td>\n",
       "      <td>49.50900</td>\n",
       "      <td>49.0080</td>\n",
       "      <td>48.3070</td>\n",
       "      <td>47.5800</td>\n",
       "      <td>47.04600</td>\n",
       "      <td>46.87400</td>\n",
       "      <td>47.1620</td>\n",
       "      <td>...</td>\n",
       "      <td>67.064</td>\n",
       "      <td>67.465</td>\n",
       "      <td>67.860</td>\n",
       "      <td>68.253</td>\n",
       "      <td>68.648</td>\n",
       "      <td>69.046</td>\n",
       "      <td>69.449</td>\n",
       "      <td>69.854</td>\n",
       "      <td>70.258</td>\n",
       "      <td>70.657</td>\n",
       "    </tr>\n",
       "    <tr>\n",
       "      <th>Barbados</th>\n",
       "      <td>62.81900</td>\n",
       "      <td>63.2360</td>\n",
       "      <td>63.6410</td>\n",
       "      <td>64.03600</td>\n",
       "      <td>64.4220</td>\n",
       "      <td>64.7980</td>\n",
       "      <td>65.1640</td>\n",
       "      <td>65.51900</td>\n",
       "      <td>65.86300</td>\n",
       "      <td>66.1950</td>\n",
       "      <td>...</td>\n",
       "      <td>73.840</td>\n",
       "      <td>74.018</td>\n",
       "      <td>74.194</td>\n",
       "      <td>74.368</td>\n",
       "      <td>74.539</td>\n",
       "      <td>74.708</td>\n",
       "      <td>74.875</td>\n",
       "      <td>75.041</td>\n",
       "      <td>75.205</td>\n",
       "      <td>75.370</td>\n",
       "    </tr>\n",
       "    <tr>\n",
       "      <th>Belarus</th>\n",
       "      <td>73.48000</td>\n",
       "      <td>73.0200</td>\n",
       "      <td>73.3800</td>\n",
       "      <td>73.13000</td>\n",
       "      <td>73.2400</td>\n",
       "      <td>72.8400</td>\n",
       "      <td>72.3200</td>\n",
       "      <td>72.96000</td>\n",
       "      <td>72.67000</td>\n",
       "      <td>72.7100</td>\n",
       "      <td>...</td>\n",
       "      <td>69.090</td>\n",
       "      <td>68.840</td>\n",
       "      <td>69.510</td>\n",
       "      <td>70.410</td>\n",
       "      <td>69.194</td>\n",
       "      <td>69.468</td>\n",
       "      <td>69.613</td>\n",
       "      <td>69.728</td>\n",
       "      <td>69.829</td>\n",
       "      <td>69.928</td>\n",
       "    </tr>\n",
       "    <tr>\n",
       "      <th>Benin</th>\n",
       "      <td>39.14200</td>\n",
       "      <td>39.6440</td>\n",
       "      <td>40.1640</td>\n",
       "      <td>40.70200</td>\n",
       "      <td>41.2520</td>\n",
       "      <td>41.8130</td>\n",
       "      <td>42.3800</td>\n",
       "      <td>42.94800</td>\n",
       "      <td>43.51300</td>\n",
       "      <td>44.0680</td>\n",
       "      <td>...</td>\n",
       "      <td>56.700</td>\n",
       "      <td>57.131</td>\n",
       "      <td>57.549</td>\n",
       "      <td>57.933</td>\n",
       "      <td>58.272</td>\n",
       "      <td>58.560</td>\n",
       "      <td>58.797</td>\n",
       "      <td>58.992</td>\n",
       "      <td>59.165</td>\n",
       "      <td>59.330</td>\n",
       "    </tr>\n",
       "    <tr>\n",
       "      <th>Bhutan</th>\n",
       "      <td>33.82700</td>\n",
       "      <td>34.2120</td>\n",
       "      <td>34.6360</td>\n",
       "      <td>35.11500</td>\n",
       "      <td>35.6580</td>\n",
       "      <td>36.2690</td>\n",
       "      <td>36.9470</td>\n",
       "      <td>37.68800</td>\n",
       "      <td>38.47600</td>\n",
       "      <td>39.2920</td>\n",
       "      <td>...</td>\n",
       "      <td>63.323</td>\n",
       "      <td>64.050</td>\n",
       "      <td>64.741</td>\n",
       "      <td>65.387</td>\n",
       "      <td>65.981</td>\n",
       "      <td>66.523</td>\n",
       "      <td>67.015</td>\n",
       "      <td>67.465</td>\n",
       "      <td>67.888</td>\n",
       "      <td>68.294</td>\n",
       "    </tr>\n",
       "    <tr>\n",
       "      <th>Botswana</th>\n",
       "      <td>52.03500</td>\n",
       "      <td>52.3840</td>\n",
       "      <td>52.7640</td>\n",
       "      <td>53.18600</td>\n",
       "      <td>53.6590</td>\n",
       "      <td>54.1840</td>\n",
       "      <td>54.7590</td>\n",
       "      <td>55.37900</td>\n",
       "      <td>56.02700</td>\n",
       "      <td>56.6860</td>\n",
       "      <td>...</td>\n",
       "      <td>47.257</td>\n",
       "      <td>46.836</td>\n",
       "      <td>46.565</td>\n",
       "      <td>46.422</td>\n",
       "      <td>46.384</td>\n",
       "      <td>46.441</td>\n",
       "      <td>46.588</td>\n",
       "      <td>46.824</td>\n",
       "      <td>47.152</td>\n",
       "      <td>47.572</td>\n",
       "    </tr>\n",
       "    <tr>\n",
       "      <th>Brunei</th>\n",
       "      <td>64.59900</td>\n",
       "      <td>65.0780</td>\n",
       "      <td>65.5360</td>\n",
       "      <td>65.97500</td>\n",
       "      <td>66.4030</td>\n",
       "      <td>66.8210</td>\n",
       "      <td>67.2310</td>\n",
       "      <td>67.63200</td>\n",
       "      <td>68.02500</td>\n",
       "      <td>68.4070</td>\n",
       "      <td>...</td>\n",
       "      <td>76.783</td>\n",
       "      <td>76.982</td>\n",
       "      <td>77.178</td>\n",
       "      <td>77.372</td>\n",
       "      <td>77.566</td>\n",
       "      <td>77.760</td>\n",
       "      <td>77.956</td>\n",
       "      <td>78.153</td>\n",
       "      <td>78.350</td>\n",
       "      <td>78.547</td>\n",
       "    </tr>\n",
       "    <tr>\n",
       "      <th>Burkina Faso</th>\n",
       "      <td>36.33100</td>\n",
       "      <td>36.8150</td>\n",
       "      <td>37.2910</td>\n",
       "      <td>37.75400</td>\n",
       "      <td>38.2070</td>\n",
       "      <td>38.6520</td>\n",
       "      <td>39.0950</td>\n",
       "      <td>39.54200</td>\n",
       "      <td>40.00300</td>\n",
       "      <td>40.4930</td>\n",
       "      <td>...</td>\n",
       "      <td>52.278</td>\n",
       "      <td>52.750</td>\n",
       "      <td>53.227</td>\n",
       "      <td>53.703</td>\n",
       "      <td>54.174</td>\n",
       "      <td>54.634</td>\n",
       "      <td>55.081</td>\n",
       "      <td>55.513</td>\n",
       "      <td>55.932</td>\n",
       "      <td>56.344</td>\n",
       "    </tr>\n",
       "    <tr>\n",
       "      <th>Burundi</th>\n",
       "      <td>42.54300</td>\n",
       "      <td>42.8410</td>\n",
       "      <td>43.1060</td>\n",
       "      <td>43.33200</td>\n",
       "      <td>43.5190</td>\n",
       "      <td>43.6790</td>\n",
       "      <td>43.8330</td>\n",
       "      <td>44.01100</td>\n",
       "      <td>44.23600</td>\n",
       "      <td>44.5220</td>\n",
       "      <td>...</td>\n",
       "      <td>49.589</td>\n",
       "      <td>50.036</td>\n",
       "      <td>50.526</td>\n",
       "      <td>51.045</td>\n",
       "      <td>51.578</td>\n",
       "      <td>52.112</td>\n",
       "      <td>52.638</td>\n",
       "      <td>53.148</td>\n",
       "      <td>53.637</td>\n",
       "      <td>54.104</td>\n",
       "    </tr>\n",
       "    <tr>\n",
       "      <th>Cambodia</th>\n",
       "      <td>41.90000</td>\n",
       "      <td>42.1030</td>\n",
       "      <td>42.3320</td>\n",
       "      <td>42.53800</td>\n",
       "      <td>42.6210</td>\n",
       "      <td>42.4600</td>\n",
       "      <td>41.6620</td>\n",
       "      <td>40.00000</td>\n",
       "      <td>38.00000</td>\n",
       "      <td>35.8000</td>\n",
       "      <td>...</td>\n",
       "      <td>66.177</td>\n",
       "      <td>67.199</td>\n",
       "      <td>68.143</td>\n",
       "      <td>68.984</td>\n",
       "      <td>69.710</td>\n",
       "      <td>70.315</td>\n",
       "      <td>70.811</td>\n",
       "      <td>71.220</td>\n",
       "      <td>71.577</td>\n",
       "      <td>71.916</td>\n",
       "    </tr>\n",
       "    <tr>\n",
       "      <th>China</th>\n",
       "      <td>53.32072</td>\n",
       "      <td>55.6468</td>\n",
       "      <td>56.8032</td>\n",
       "      <td>58.38112</td>\n",
       "      <td>59.4052</td>\n",
       "      <td>60.9652</td>\n",
       "      <td>62.6508</td>\n",
       "      <td>63.73736</td>\n",
       "      <td>63.11888</td>\n",
       "      <td>62.7808</td>\n",
       "      <td>...</td>\n",
       "      <td>73.793</td>\n",
       "      <td>74.053</td>\n",
       "      <td>74.253</td>\n",
       "      <td>74.418</td>\n",
       "      <td>74.570</td>\n",
       "      <td>74.718</td>\n",
       "      <td>74.868</td>\n",
       "      <td>75.023</td>\n",
       "      <td>75.178</td>\n",
       "      <td>75.331</td>\n",
       "    </tr>\n",
       "    <tr>\n",
       "      <th>Djibouti</th>\n",
       "      <td>45.72700</td>\n",
       "      <td>46.1660</td>\n",
       "      <td>46.6540</td>\n",
       "      <td>47.20300</td>\n",
       "      <td>47.8140</td>\n",
       "      <td>48.4760</td>\n",
       "      <td>49.1600</td>\n",
       "      <td>49.82700</td>\n",
       "      <td>50.44200</td>\n",
       "      <td>50.9820</td>\n",
       "      <td>...</td>\n",
       "      <td>57.678</td>\n",
       "      <td>57.996</td>\n",
       "      <td>58.380</td>\n",
       "      <td>58.816</td>\n",
       "      <td>59.292</td>\n",
       "      <td>59.794</td>\n",
       "      <td>60.307</td>\n",
       "      <td>60.819</td>\n",
       "      <td>61.319</td>\n",
       "      <td>61.801</td>\n",
       "    </tr>\n",
       "    <tr>\n",
       "      <th>Egypt</th>\n",
       "      <td>50.13300</td>\n",
       "      <td>50.5780</td>\n",
       "      <td>50.9770</td>\n",
       "      <td>51.32500</td>\n",
       "      <td>51.6250</td>\n",
       "      <td>51.8980</td>\n",
       "      <td>52.1790</td>\n",
       "      <td>52.51200</td>\n",
       "      <td>52.92600</td>\n",
       "      <td>53.4400</td>\n",
       "      <td>...</td>\n",
       "      <td>69.299</td>\n",
       "      <td>69.464</td>\n",
       "      <td>69.645</td>\n",
       "      <td>69.838</td>\n",
       "      <td>70.042</td>\n",
       "      <td>70.256</td>\n",
       "      <td>70.478</td>\n",
       "      <td>70.705</td>\n",
       "      <td>70.933</td>\n",
       "      <td>71.157</td>\n",
       "    </tr>\n",
       "    <tr>\n",
       "      <th>Fiji</th>\n",
       "      <td>57.54500</td>\n",
       "      <td>57.9500</td>\n",
       "      <td>58.3500</td>\n",
       "      <td>58.74100</td>\n",
       "      <td>59.1230</td>\n",
       "      <td>59.4950</td>\n",
       "      <td>59.8570</td>\n",
       "      <td>60.20700</td>\n",
       "      <td>60.54600</td>\n",
       "      <td>60.8730</td>\n",
       "      <td>...</td>\n",
       "      <td>68.243</td>\n",
       "      <td>68.405</td>\n",
       "      <td>68.567</td>\n",
       "      <td>68.733</td>\n",
       "      <td>68.903</td>\n",
       "      <td>69.078</td>\n",
       "      <td>69.258</td>\n",
       "      <td>69.442</td>\n",
       "      <td>69.626</td>\n",
       "      <td>69.810</td>\n",
       "    </tr>\n",
       "    <tr>\n",
       "      <th>India</th>\n",
       "      <td>44.37500</td>\n",
       "      <td>45.1410</td>\n",
       "      <td>45.9030</td>\n",
       "      <td>46.65500</td>\n",
       "      <td>47.3940</td>\n",
       "      <td>48.1190</td>\n",
       "      <td>48.8360</td>\n",
       "      <td>49.55400</td>\n",
       "      <td>50.28100</td>\n",
       "      <td>51.0150</td>\n",
       "      <td>...</td>\n",
       "      <td>63.684</td>\n",
       "      <td>64.056</td>\n",
       "      <td>64.412</td>\n",
       "      <td>64.751</td>\n",
       "      <td>65.070</td>\n",
       "      <td>65.369</td>\n",
       "      <td>65.650</td>\n",
       "      <td>65.915</td>\n",
       "      <td>66.168</td>\n",
       "      <td>66.414</td>\n",
       "    </tr>\n",
       "    <tr>\n",
       "      <th>Iran</th>\n",
       "      <td>47.17300</td>\n",
       "      <td>47.7300</td>\n",
       "      <td>48.3000</td>\n",
       "      <td>48.88900</td>\n",
       "      <td>49.5050</td>\n",
       "      <td>50.1500</td>\n",
       "      <td>50.8560</td>\n",
       "      <td>51.66200</td>\n",
       "      <td>52.56100</td>\n",
       "      <td>53.5140</td>\n",
       "      <td>...</td>\n",
       "      <td>71.126</td>\n",
       "      <td>71.467</td>\n",
       "      <td>71.797</td>\n",
       "      <td>72.122</td>\n",
       "      <td>72.445</td>\n",
       "      <td>72.769</td>\n",
       "      <td>73.094</td>\n",
       "      <td>73.417</td>\n",
       "      <td>73.736</td>\n",
       "      <td>74.048</td>\n",
       "    </tr>\n",
       "    <tr>\n",
       "      <th>Maldives</th>\n",
       "      <td>38.91100</td>\n",
       "      <td>39.7930</td>\n",
       "      <td>40.6940</td>\n",
       "      <td>41.59500</td>\n",
       "      <td>42.4790</td>\n",
       "      <td>43.3340</td>\n",
       "      <td>44.1530</td>\n",
       "      <td>44.93400</td>\n",
       "      <td>45.69000</td>\n",
       "      <td>46.4350</td>\n",
       "      <td>...</td>\n",
       "      <td>73.066</td>\n",
       "      <td>73.871</td>\n",
       "      <td>74.593</td>\n",
       "      <td>75.238</td>\n",
       "      <td>75.813</td>\n",
       "      <td>76.324</td>\n",
       "      <td>76.779</td>\n",
       "      <td>77.188</td>\n",
       "      <td>77.564</td>\n",
       "      <td>77.919</td>\n",
       "    </tr>\n",
       "  </tbody>\n",
       "</table>\n",
       "<p>30 rows × 50 columns</p>\n",
       "</div>"
      ],
      "text/plain": [
       "                         1964     1965     1966      1967     1968     1969  \\\n",
       "Country                                                                       \n",
       "Afghanistan          33.63900  34.1520  34.6620  35.17000  35.6740  36.1720   \n",
       "Albania              65.47500  65.8630  66.1220  66.31600  66.5000  66.7020   \n",
       "Algeria              47.95300  48.3890  48.8060  49.20500  49.5920  49.9760   \n",
       "Angola               34.60400  35.0070  35.4100  35.81600  36.2220  36.6270   \n",
       "Antigua and Barbuda  63.77500  64.1490  64.5110  64.86500  65.2130  65.5580   \n",
       "Argentina            65.38800  65.4810  65.6030  65.75900  65.9530  66.1840   \n",
       "Armenia              67.71400  68.1510  68.5870  69.01500  69.4250  69.8080   \n",
       "Aruba                67.11300  67.4350  67.7620  68.09500  68.4360  68.7840   \n",
       "Australia            70.65000  70.9800  70.8200  71.10000  70.7300  71.1400   \n",
       "Austria              70.16000  69.9500  70.2600  70.14000  70.2900  70.0600   \n",
       "Azerbaijan           62.70100  63.1170  63.5330  63.94500  64.3420  64.7120   \n",
       "Bahamas              64.18900  64.4980  64.8000  65.09500  65.3830  65.6650   \n",
       "Bahrain              57.18200  58.3890  59.5260  60.59900  61.6110  62.5620   \n",
       "Bangladesh           49.29700  49.6520  49.7340  49.50900  49.0080  48.3070   \n",
       "Barbados             62.81900  63.2360  63.6410  64.03600  64.4220  64.7980   \n",
       "Belarus              73.48000  73.0200  73.3800  73.13000  73.2400  72.8400   \n",
       "Benin                39.14200  39.6440  40.1640  40.70200  41.2520  41.8130   \n",
       "Bhutan               33.82700  34.2120  34.6360  35.11500  35.6580  36.2690   \n",
       "Botswana             52.03500  52.3840  52.7640  53.18600  53.6590  54.1840   \n",
       "Brunei               64.59900  65.0780  65.5360  65.97500  66.4030  66.8210   \n",
       "Burkina Faso         36.33100  36.8150  37.2910  37.75400  38.2070  38.6520   \n",
       "Burundi              42.54300  42.8410  43.1060  43.33200  43.5190  43.6790   \n",
       "Cambodia             41.90000  42.1030  42.3320  42.53800  42.6210  42.4600   \n",
       "China                53.32072  55.6468  56.8032  58.38112  59.4052  60.9652   \n",
       "Djibouti             45.72700  46.1660  46.6540  47.20300  47.8140  48.4760   \n",
       "Egypt                50.13300  50.5780  50.9770  51.32500  51.6250  51.8980   \n",
       "Fiji                 57.54500  57.9500  58.3500  58.74100  59.1230  59.4950   \n",
       "India                44.37500  45.1410  45.9030  46.65500  47.3940  48.1190   \n",
       "Iran                 47.17300  47.7300  48.3000  48.88900  49.5050  50.1500   \n",
       "Maldives             38.91100  39.7930  40.6940  41.59500  42.4790  43.3340   \n",
       "\n",
       "                        1970      1971      1972     1973  ...    2004  \\\n",
       "Country                                                    ...           \n",
       "Afghanistan          36.6630  37.14300  37.61400  38.0750  ...  56.583   \n",
       "Albania              66.9480  67.25100  67.59500  67.9660  ...  75.725   \n",
       "Algeria              50.3660  50.76700  51.19500  51.6700  ...  69.682   \n",
       "Angola               37.0320  37.43900  37.84600  38.2470  ...  48.036   \n",
       "Antigua and Barbuda  65.8980  66.23200  66.55800  66.8750  ...  74.355   \n",
       "Argentina            66.4490  66.74000  67.04400  67.3490  ...  74.645   \n",
       "Armenia              70.1430  70.41100  70.60400  70.7220  ...  73.192   \n",
       "Aruba                69.1400  69.49800  69.85100  70.1920  ...  74.175   \n",
       "Australia            70.8100  71.41000  71.93000  72.1400  ...  81.040   \n",
       "Austria              70.1100  70.31000  70.63000  71.2100  ...  79.470   \n",
       "Azerbaijan           65.0350  65.28700  65.45700  65.5450  ...  68.570   \n",
       "Bahamas              65.9430  66.21800  66.49000  66.7590  ...  73.538   \n",
       "Bahrain              63.4500  64.27600  65.04300  65.7570  ...  75.247   \n",
       "Bangladesh           47.5800  47.04600  46.87400  47.1620  ...  67.064   \n",
       "Barbados             65.1640  65.51900  65.86300  66.1950  ...  73.840   \n",
       "Belarus              72.3200  72.96000  72.67000  72.7100  ...  69.090   \n",
       "Benin                42.3800  42.94800  43.51300  44.0680  ...  56.700   \n",
       "Bhutan               36.9470  37.68800  38.47600  39.2920  ...  63.323   \n",
       "Botswana             54.7590  55.37900  56.02700  56.6860  ...  47.257   \n",
       "Brunei               67.2310  67.63200  68.02500  68.4070  ...  76.783   \n",
       "Burkina Faso         39.0950  39.54200  40.00300  40.4930  ...  52.278   \n",
       "Burundi              43.8330  44.01100  44.23600  44.5220  ...  49.589   \n",
       "Cambodia             41.6620  40.00000  38.00000  35.8000  ...  66.177   \n",
       "China                62.6508  63.73736  63.11888  62.7808  ...  73.793   \n",
       "Djibouti             49.1600  49.82700  50.44200  50.9820  ...  57.678   \n",
       "Egypt                52.1790  52.51200  52.92600  53.4400  ...  69.299   \n",
       "Fiji                 59.8570  60.20700  60.54600  60.8730  ...  68.243   \n",
       "India                48.8360  49.55400  50.28100  51.0150  ...  63.684   \n",
       "Iran                 50.8560  51.66200  52.56100  53.5140  ...  71.126   \n",
       "Maldives             44.1530  44.93400  45.69000  46.4350  ...  73.066   \n",
       "\n",
       "                       2005    2006    2007    2008    2009    2010    2011  \\\n",
       "Country                                                                       \n",
       "Afghanistan          57.071  57.582  58.102  58.618  59.124  59.612  60.079   \n",
       "Albania              75.949  76.124  76.278  76.433  76.598  76.780  76.979   \n",
       "Algeria              69.854  70.020  70.180  70.332  70.477  70.615  70.747   \n",
       "Angola               48.572  49.041  49.471  49.882  50.286  50.689  51.094   \n",
       "Antigua and Barbuda  74.544  74.729  74.910  75.087  75.263  75.437  75.610   \n",
       "Argentina            74.843  75.036  75.225  75.410  75.592  75.772  75.950   \n",
       "Armenia              73.491  73.730  73.920  74.070  74.191  74.291  74.381   \n",
       "Aruba                74.316  74.467  74.621  74.772  74.919  75.059  75.193   \n",
       "Australia            81.440  81.630  81.670  81.567  81.937  82.091  82.231   \n",
       "Austria              79.640  80.100  80.300  80.510  80.392  80.595  80.785   \n",
       "Azerbaijan           69.033  69.466  69.841  70.142  70.366  70.518  70.616   \n",
       "Bahamas              73.787  74.011  74.216  74.407  74.587  74.757  74.920   \n",
       "Bahrain              75.424  75.595  75.759  75.914  76.062  76.203  76.339   \n",
       "Bangladesh           67.465  67.860  68.253  68.648  69.046  69.449  69.854   \n",
       "Barbados             74.018  74.194  74.368  74.539  74.708  74.875  75.041   \n",
       "Belarus              68.840  69.510  70.410  69.194  69.468  69.613  69.728   \n",
       "Benin                57.131  57.549  57.933  58.272  58.560  58.797  58.992   \n",
       "Bhutan               64.050  64.741  65.387  65.981  66.523  67.015  67.465   \n",
       "Botswana             46.836  46.565  46.422  46.384  46.441  46.588  46.824   \n",
       "Brunei               76.982  77.178  77.372  77.566  77.760  77.956  78.153   \n",
       "Burkina Faso         52.750  53.227  53.703  54.174  54.634  55.081  55.513   \n",
       "Burundi              50.036  50.526  51.045  51.578  52.112  52.638  53.148   \n",
       "Cambodia             67.199  68.143  68.984  69.710  70.315  70.811  71.220   \n",
       "China                74.053  74.253  74.418  74.570  74.718  74.868  75.023   \n",
       "Djibouti             57.996  58.380  58.816  59.292  59.794  60.307  60.819   \n",
       "Egypt                69.464  69.645  69.838  70.042  70.256  70.478  70.705   \n",
       "Fiji                 68.405  68.567  68.733  68.903  69.078  69.258  69.442   \n",
       "India                64.056  64.412  64.751  65.070  65.369  65.650  65.915   \n",
       "Iran                 71.467  71.797  72.122  72.445  72.769  73.094  73.417   \n",
       "Maldives             73.871  74.593  75.238  75.813  76.324  76.779  77.188   \n",
       "\n",
       "                       2012    2013  \n",
       "Country                              \n",
       "Afghanistan          60.524  60.947  \n",
       "Albania              77.185  77.392  \n",
       "Algeria              70.874  71.000  \n",
       "Angola               51.498  51.899  \n",
       "Antigua and Barbuda  75.783  75.954  \n",
       "Argentina            76.128  76.305  \n",
       "Armenia              74.469  74.561  \n",
       "Aruba                75.324  75.455  \n",
       "Australia            82.364  82.496  \n",
       "Austria              80.965  81.137  \n",
       "Azerbaijan           70.686  70.753  \n",
       "Bahamas              75.079  75.237  \n",
       "Bahrain              76.474  76.608  \n",
       "Bangladesh           70.258  70.657  \n",
       "Barbados             75.205  75.370  \n",
       "Belarus              69.829  69.928  \n",
       "Benin                59.165  59.330  \n",
       "Bhutan               67.888  68.294  \n",
       "Botswana             47.152  47.572  \n",
       "Brunei               78.350  78.547  \n",
       "Burkina Faso         55.932  56.344  \n",
       "Burundi              53.637  54.104  \n",
       "Cambodia             71.577  71.916  \n",
       "China                75.178  75.331  \n",
       "Djibouti             61.319  61.801  \n",
       "Egypt                70.933  71.157  \n",
       "Fiji                 69.626  69.810  \n",
       "India                66.168  66.414  \n",
       "Iran                 73.736  74.048  \n",
       "Maldives             77.564  77.919  \n",
       "\n",
       "[30 rows x 50 columns]"
      ]
     },
     "execution_count": 76,
     "metadata": {},
     "output_type": "execute_result"
    },
    {
     "data": {
      "application/javascript": [
       "\n",
       "            setTimeout(function() {\n",
       "                var nbb_cell_id = 76;\n",
       "                var nbb_unformatted_code = \"# Read life_fname into a DataFrame: life\\nlife = pd.read_csv(\\n    \\\"https://s3.amazonaws.com/assets.datacamp.com/production/course_1650/datasets/life_expectancy.csv\\\"\\n    , index_col = \\\"Country\\\")\\n\\n# Read regions_fname into a DataFrame: regions\\nregions = pd.read_csv('https://s3.amazonaws.com/assets.datacamp.com/production/course_1650/datasets/regions.csv', \\n                      index_col='Country')\\n\\n# Group life by regions['region']: life_by_region\\nlife_by_region = life.groupby(regions['region'])\\n\\n# Print the mean over the '2010' column of life_by_region\\n#print(life_by_region.mean())\\n\\nlife_by_region.head()\";\n",
       "                var nbb_formatted_code = \"# Read life_fname into a DataFrame: life\\nlife = pd.read_csv(\\n    \\\"https://s3.amazonaws.com/assets.datacamp.com/production/course_1650/datasets/life_expectancy.csv\\\",\\n    index_col=\\\"Country\\\",\\n)\\n\\n# Read regions_fname into a DataFrame: regions\\nregions = pd.read_csv(\\n    \\\"https://s3.amazonaws.com/assets.datacamp.com/production/course_1650/datasets/regions.csv\\\",\\n    index_col=\\\"Country\\\",\\n)\\n\\n# Group life by regions['region']: life_by_region\\nlife_by_region = life.groupby(regions[\\\"region\\\"])\\n\\n# Print the mean over the '2010' column of life_by_region\\n# print(life_by_region.mean())\\n\\nlife_by_region.head()\";\n",
       "                var nbb_cells = Jupyter.notebook.get_cells();\n",
       "                for (var i = 0; i < nbb_cells.length; ++i) {\n",
       "                    if (nbb_cells[i].input_prompt_number == nbb_cell_id) {\n",
       "                        if (nbb_cells[i].get_text() == nbb_unformatted_code) {\n",
       "                             nbb_cells[i].set_text(nbb_formatted_code);\n",
       "                        }\n",
       "                        break;\n",
       "                    }\n",
       "                }\n",
       "            }, 500);\n",
       "            "
      ],
      "text/plain": [
       "<IPython.core.display.Javascript object>"
      ]
     },
     "metadata": {},
     "output_type": "display_data"
    }
   ],
   "source": [
    "# Read life_fname into a DataFrame: life\n",
    "life = pd.read_csv(\n",
    "    \"https://s3.amazonaws.com/assets.datacamp.com/production/course_1650/datasets/life_expectancy.csv\"\n",
    "    , index_col = \"Country\")\n",
    "\n",
    "# Read regions_fname into a DataFrame: regions\n",
    "regions = pd.read_csv('https://s3.amazonaws.com/assets.datacamp.com/production/course_1650/datasets/regions.csv', \n",
    "                      index_col='Country')\n",
    "\n",
    "# Group life by regions['region']: life_by_region\n",
    "life_by_region = life.groupby(regions['region'])\n",
    "\n",
    "# Print the mean over the '2010' column of life_by_region\n",
    "#print(life_by_region.mean())\n",
    "\n",
    "life_by_region.head()\n"
   ]
  },
  {
   "cell_type": "code",
   "execution_count": 77,
   "metadata": {},
   "outputs": [
    {
     "data": {
      "image/png": "[encoded data removed]",
      "text/plain": [
       "<Figure size 640x480 with 1 Axes>"
      ]
     },
     "metadata": {},
     "output_type": "display_data"
    },
    {
     "data": {
      "application/javascript": [
       "\n",
       "            setTimeout(function() {\n",
       "                var nbb_cell_id = 77;\n",
       "                var nbb_unformatted_code = \"life_by_region[['1964', '1970', '1980', '1990', '2000', '2010', '2013']].mean().plot(rot=45)\\nplt.legend(bbox_to_anchor=(1.05, 1), loc=2, borderaxespad=0.0)\\nplt.show()\";\n",
       "                var nbb_formatted_code = \"life_by_region[[\\\"1964\\\", \\\"1970\\\", \\\"1980\\\", \\\"1990\\\", \\\"2000\\\", \\\"2010\\\", \\\"2013\\\"]].mean().plot(\\n    rot=45\\n)\\nplt.legend(bbox_to_anchor=(1.05, 1), loc=2, borderaxespad=0.0)\\nplt.show()\";\n",
       "                var nbb_cells = Jupyter.notebook.get_cells();\n",
       "                for (var i = 0; i < nbb_cells.length; ++i) {\n",
       "                    if (nbb_cells[i].input_prompt_number == nbb_cell_id) {\n",
       "                        if (nbb_cells[i].get_text() == nbb_unformatted_code) {\n",
       "                             nbb_cells[i].set_text(nbb_formatted_code);\n",
       "                        }\n",
       "                        break;\n",
       "                    }\n",
       "                }\n",
       "            }, 500);\n",
       "            "
      ],
      "text/plain": [
       "<IPython.core.display.Javascript object>"
      ]
     },
     "metadata": {},
     "output_type": "display_data"
    }
   ],
   "source": [
    "life_by_region[[\"1964\", \"1970\", \"1980\", \"1990\", \"2000\", \"2010\", \"2013\"]].mean().plot(\n",
    "    rot=45\n",
    ")\n",
    "plt.legend(bbox_to_anchor=(1.05, 1), loc=2, borderaxespad=0.0)\n",
    "plt.show()"
   ]
  },
  {
   "cell_type": "markdown",
   "metadata": {},
   "source": [
    "### Computing multiple aggregates of multiple columns"
   ]
  },
  {
   "cell_type": "code",
   "execution_count": 79,
   "metadata": {},
   "outputs": [
    {
     "name": "stdout",
     "output_type": "stream",
     "text": [
      "         age             fare         \n",
      "         max median       max   median\n",
      "pclass                                \n",
      "1       80.0   37.0  512.3292  60.2875\n",
      "2       70.0   29.0   73.5000  14.2500\n",
      "3       74.0   24.0   69.5500   8.0500\n",
      "\n",
      "Maximum Age:\n",
      " pclass\n",
      "1    80.0\n",
      "2    70.0\n",
      "3    74.0\n",
      "Name: (age, max), dtype: float64\n",
      "\n",
      "Median Fare:\n",
      " pclass\n",
      "1    60.2875\n",
      "2    14.2500\n",
      "3     8.0500\n",
      "Name: (fare, median), dtype: float64\n"
     ]
    },
    {
     "data": {
      "application/javascript": [
       "\n",
       "            setTimeout(function() {\n",
       "                var nbb_cell_id = 79;\n",
       "                var nbb_unformatted_code = \"# Group titanic by 'pclass': by_class\\nby_class = titanic.groupby('pclass')\\n\\n# Select 'age' and 'fare'\\nby_class_sub = by_class[['age','fare']]\\n\\n# Aggregate by_class_sub by 'max' and 'median': aggregated\\naggregated = by_class_sub.agg(['max', 'median'])\\nprint(aggregated)\\n\\n# Print the maximum age in each class\\nprint('\\\\nMaximum Age:\\\\n', aggregated.loc[:, ('age','max')])\\n\\n# Print the median fare in each class\\nprint('\\\\nMedian Fare:\\\\n', aggregated.loc[:, ('fare','median')])\";\n",
       "                var nbb_formatted_code = \"# Group titanic by 'pclass': by_class\\nby_class = titanic.groupby(\\\"pclass\\\")\\n\\n# Select 'age' and 'fare'\\nby_class_sub = by_class[[\\\"age\\\", \\\"fare\\\"]]\\n\\n# Aggregate by_class_sub by 'max' and 'median': aggregated\\naggregated = by_class_sub.agg([\\\"max\\\", \\\"median\\\"])\\nprint(aggregated)\\n\\n# Print the maximum age in each class\\nprint(\\\"\\\\nMaximum Age:\\\\n\\\", aggregated.loc[:, (\\\"age\\\", \\\"max\\\")])\\n\\n# Print the median fare in each class\\nprint(\\\"\\\\nMedian Fare:\\\\n\\\", aggregated.loc[:, (\\\"fare\\\", \\\"median\\\")])\";\n",
       "                var nbb_cells = Jupyter.notebook.get_cells();\n",
       "                for (var i = 0; i < nbb_cells.length; ++i) {\n",
       "                    if (nbb_cells[i].input_prompt_number == nbb_cell_id) {\n",
       "                        if (nbb_cells[i].get_text() == nbb_unformatted_code) {\n",
       "                             nbb_cells[i].set_text(nbb_formatted_code);\n",
       "                        }\n",
       "                        break;\n",
       "                    }\n",
       "                }\n",
       "            }, 500);\n",
       "            "
      ],
      "text/plain": [
       "<IPython.core.display.Javascript object>"
      ]
     },
     "metadata": {},
     "output_type": "display_data"
    }
   ],
   "source": [
    "# Group titanic by 'pclass': by_class\n",
    "by_class = titanic.groupby(\"pclass\")\n",
    "\n",
    "# Select 'age' and 'fare'\n",
    "by_class_sub = by_class[[\"age\", \"fare\"]]\n",
    "\n",
    "# Aggregate by_class_sub by 'max' and 'median': aggregated\n",
    "aggregated = by_class_sub.agg([\"max\", \"median\"])\n",
    "print(aggregated)\n",
    "\n",
    "# Print the maximum age in each class\n",
    "print(\"\\nMaximum Age:\\n\", aggregated.loc[:, (\"age\", \"max\")])\n",
    "\n",
    "# Print the median fare in each class\n",
    "print(\"\\nMedian Fare:\\n\", aggregated.loc[:, (\"fare\", \"median\")])"
   ]
  },
  {
   "cell_type": "markdown",
   "metadata": {},
   "source": [
    "### Aggregating on index levels/fields"
   ]
  },
  {
   "cell_type": "code",
   "execution_count": 22,
   "metadata": {
    "scrolled": true
   },
   "outputs": [
    {
     "name": "stdout",
     "output_type": "stream",
     "text": [
      "                                   population  child_mortality       gdp\n",
      "Year region                                                             \n",
      "2013 America                     9.629087e+08        17.745833   49634.0\n",
      "     East Asia & Pacific         2.244209e+09        22.285714  134744.0\n",
      "     Europe & Central Asia       8.968788e+08         9.831875   86418.0\n",
      "     Middle East & North Africa  4.030504e+08        20.221500  128676.0\n",
      "     South Asia                  1.701241e+09        46.287500   11469.0\n",
      "     Sub-Saharan Africa          9.205996e+08        76.944490   32035.0\n"
     ]
    },
    {
     "data": {
      "application/javascript": [
       "\n",
       "            setTimeout(function() {\n",
       "                var nbb_cell_id = 22;\n",
       "                var nbb_unformatted_code = \"\\n# Read the CSV file into a DataFrame and sort the index: gapminder\\ngapminder = pd.read_csv('data/gapminder_tidy.csv', index_col=['Year','region','Country'], )\\n\\n# Group gapminder by 'Year' and 'region': by_year_region\\nby_year_region = gapminder.groupby(level=(0,1))\\n\\n# Define the function to compute spread: spread\\ndef spread(series):\\n    return series.max() - series.min()\\n\\n# Create the dictionary: aggregator\\naggregator = {'population':'sum', 'child_mortality':'mean', 'gdp':spread}\\n\\n# Aggregate by_year_region using the dictionary: aggregated\\naggregated = by_year_region.agg(aggregator)\\n\\n# Print the last 6 entries of aggregated \\nprint(aggregated.tail(6))\";\n",
       "                var nbb_formatted_code = \"# Read the CSV file into a DataFrame and sort the index: gapminder\\ngapminder = pd.read_csv(\\n    \\\"data/gapminder_tidy.csv\\\",\\n    index_col=[\\\"Year\\\", \\\"region\\\", \\\"Country\\\"],\\n)\\n\\n# Group gapminder by 'Year' and 'region': by_year_region\\nby_year_region = gapminder.groupby(level=(0, 1))\\n\\n# Define the function to compute spread: spread\\ndef spread(series):\\n    return series.max() - series.min()\\n\\n\\n# Create the dictionary: aggregator\\naggregator = {\\\"population\\\": \\\"sum\\\", \\\"child_mortality\\\": \\\"mean\\\", \\\"gdp\\\": spread}\\n\\n# Aggregate by_year_region using the dictionary: aggregated\\naggregated = by_year_region.agg(aggregator)\\n\\n# Print the last 6 entries of aggregated\\nprint(aggregated.tail(6))\";\n",
       "                var nbb_cells = Jupyter.notebook.get_cells();\n",
       "                for (var i = 0; i < nbb_cells.length; ++i) {\n",
       "                    if (nbb_cells[i].input_prompt_number == nbb_cell_id) {\n",
       "                        if (nbb_cells[i].get_text() == nbb_unformatted_code) {\n",
       "                             nbb_cells[i].set_text(nbb_formatted_code);\n",
       "                        }\n",
       "                        break;\n",
       "                    }\n",
       "                }\n",
       "            }, 500);\n",
       "            "
      ],
      "text/plain": [
       "<IPython.core.display.Javascript object>"
      ]
     },
     "metadata": {},
     "output_type": "display_data"
    }
   ],
   "source": [
    "\n",
    "# Read the CSV file into a DataFrame and sort the index: gapminder\n",
    "gapminder = pd.read_csv('data/gapminder_tidy.csv', index_col=['Year','region','Country'], )\n",
    "\n",
    "# Group gapminder by 'Year' and 'region': by_year_region\n",
    "by_year_region = gapminder.groupby(level=(0,1))\n",
    "\n",
    "# Define the function to compute spread: spread\n",
    "def spread(series):\n",
    "    return series.max() - series.min()\n",
    "\n",
    "# Create the dictionary: aggregator\n",
    "aggregator = {'population':'sum', 'child_mortality':'mean', 'gdp':spread}\n",
    "\n",
    "# Aggregate by_year_region using the dictionary: aggregated\n",
    "aggregated = by_year_region.agg(aggregator)\n",
    "\n",
    "# Print the last 6 entries of aggregated \n",
    "print(aggregated.tail(6))\n"
   ]
  },
  {
   "cell_type": "code",
   "execution_count": 81,
   "metadata": {},
   "outputs": [
    {
     "data": {
      "application/javascript": [
       "\n",
       "            setTimeout(function() {\n",
       "                var nbb_cell_id = 81;\n",
       "                var nbb_unformatted_code = \"import numpy as np\\nsales_values = np.array(\\n    [\\n        [\\\"2015-02-02 08:30:00\\\", \\\"Hooli\\\", \\\"Software\\\", 3],\\n        [\\\"2015-02-02 21:00:00\\\", \\\"Mediacore\\\", \\\"Hardware\\\", 9],\\n        [\\\"2015-02-03 14:00:00\\\", \\\"Initech\\\", \\\"Software\\\", 13],\\n        [\\\"2015-02-04 15:30:00\\\", \\\"Streeplex\\\", \\\"Software\\\", 13],\\n        [\\\"2015-02-04 22:00:00\\\", \\\"Acme Coporation\\\", \\\"Hardware\\\", 14],\\n        [\\\"2015-02-05 02:00:00\\\", \\\"Acme Coporation\\\", \\\"Software\\\", 19],\\n        [\\\"2015-02-05 22:00:00\\\", \\\"Hooli\\\", \\\"Service\\\", 10],\\n        [\\\"2015-02-07 23:00:00\\\", \\\"Acme Coporation\\\", \\\"Hardware\\\", 1],\\n        [\\\"2015-02-09 09:00:00\\\", \\\"Streeplex\\\", \\\"Service\\\", 19],\\n        [\\\"2015-02-09 13:00:00\\\", \\\"Mediacore\\\", \\\"Software\\\", 7],\\n        [\\\"2015-02-11 20:00:00\\\", \\\"Initech\\\", \\\"Software\\\", 7],\\n        [\\\"2015-02-11 23:00:00\\\", \\\"Hooli\\\", \\\"Software\\\", 4],\\n        [\\\"2015-02-16 12:00:00\\\", \\\"Hooli\\\", \\\"Software\\\", 10],\\n        [\\\"2015-02-19 11:00:00\\\", \\\"Mediacore\\\", \\\"Hardware\\\", 16],\\n        [\\\"2015-02-19 16:00:00\\\", \\\"Mediacore\\\", \\\"Service\\\", 10],\\n        [\\\"2015-02-21 05:00:00\\\", \\\"Mediacore\\\", \\\"Software\\\", 3],\\n        [\\\"2015-02-21 20:30:00\\\", \\\"Hooli\\\", \\\"Hardware\\\", 3],\\n        [\\\"2015-02-25 00:30:00\\\", \\\"Initech\\\", \\\"Service\\\", 10],\\n        [\\\"2015-02-26 09:00:00\\\", \\\"Streeplex\\\", \\\"Service\\\", 4],\\n    ]\\n)\\nsales_cols = [\\\"Date\\\", \\\"Company\\\", \\\"Product\\\", \\\"Units\\\"]\";\n",
       "                var nbb_formatted_code = \"import numpy as np\\n\\nsales_values = np.array(\\n    [\\n        [\\\"2015-02-02 08:30:00\\\", \\\"Hooli\\\", \\\"Software\\\", 3],\\n        [\\\"2015-02-02 21:00:00\\\", \\\"Mediacore\\\", \\\"Hardware\\\", 9],\\n        [\\\"2015-02-03 14:00:00\\\", \\\"Initech\\\", \\\"Software\\\", 13],\\n        [\\\"2015-02-04 15:30:00\\\", \\\"Streeplex\\\", \\\"Software\\\", 13],\\n        [\\\"2015-02-04 22:00:00\\\", \\\"Acme Coporation\\\", \\\"Hardware\\\", 14],\\n        [\\\"2015-02-05 02:00:00\\\", \\\"Acme Coporation\\\", \\\"Software\\\", 19],\\n        [\\\"2015-02-05 22:00:00\\\", \\\"Hooli\\\", \\\"Service\\\", 10],\\n        [\\\"2015-02-07 23:00:00\\\", \\\"Acme Coporation\\\", \\\"Hardware\\\", 1],\\n        [\\\"2015-02-09 09:00:00\\\", \\\"Streeplex\\\", \\\"Service\\\", 19],\\n        [\\\"2015-02-09 13:00:00\\\", \\\"Mediacore\\\", \\\"Software\\\", 7],\\n        [\\\"2015-02-11 20:00:00\\\", \\\"Initech\\\", \\\"Software\\\", 7],\\n        [\\\"2015-02-11 23:00:00\\\", \\\"Hooli\\\", \\\"Software\\\", 4],\\n        [\\\"2015-02-16 12:00:00\\\", \\\"Hooli\\\", \\\"Software\\\", 10],\\n        [\\\"2015-02-19 11:00:00\\\", \\\"Mediacore\\\", \\\"Hardware\\\", 16],\\n        [\\\"2015-02-19 16:00:00\\\", \\\"Mediacore\\\", \\\"Service\\\", 10],\\n        [\\\"2015-02-21 05:00:00\\\", \\\"Mediacore\\\", \\\"Software\\\", 3],\\n        [\\\"2015-02-21 20:30:00\\\", \\\"Hooli\\\", \\\"Hardware\\\", 3],\\n        [\\\"2015-02-25 00:30:00\\\", \\\"Initech\\\", \\\"Service\\\", 10],\\n        [\\\"2015-02-26 09:00:00\\\", \\\"Streeplex\\\", \\\"Service\\\", 4],\\n    ]\\n)\\nsales_cols = [\\\"Date\\\", \\\"Company\\\", \\\"Product\\\", \\\"Units\\\"]\";\n",
       "                var nbb_cells = Jupyter.notebook.get_cells();\n",
       "                for (var i = 0; i < nbb_cells.length; ++i) {\n",
       "                    if (nbb_cells[i].input_prompt_number == nbb_cell_id) {\n",
       "                        if (nbb_cells[i].get_text() == nbb_unformatted_code) {\n",
       "                             nbb_cells[i].set_text(nbb_formatted_code);\n",
       "                        }\n",
       "                        break;\n",
       "                    }\n",
       "                }\n",
       "            }, 500);\n",
       "            "
      ],
      "text/plain": [
       "<IPython.core.display.Javascript object>"
      ]
     },
     "metadata": {},
     "output_type": "display_data"
    }
   ],
   "source": [
    "import numpy as np\n",
    "\n",
    "sales_values = np.array(\n",
    "    [\n",
    "        [\"2015-02-02 08:30:00\", \"Hooli\", \"Software\", 3],\n",
    "        [\"2015-02-02 21:00:00\", \"Mediacore\", \"Hardware\", 9],\n",
    "        [\"2015-02-03 14:00:00\", \"Initech\", \"Software\", 13],\n",
    "        [\"2015-02-04 15:30:00\", \"Streeplex\", \"Software\", 13],\n",
    "        [\"2015-02-04 22:00:00\", \"Acme Coporation\", \"Hardware\", 14],\n",
    "        [\"2015-02-05 02:00:00\", \"Acme Coporation\", \"Software\", 19],\n",
    "        [\"2015-02-05 22:00:00\", \"Hooli\", \"Service\", 10],\n",
    "        [\"2015-02-07 23:00:00\", \"Acme Coporation\", \"Hardware\", 1],\n",
    "        [\"2015-02-09 09:00:00\", \"Streeplex\", \"Service\", 19],\n",
    "        [\"2015-02-09 13:00:00\", \"Mediacore\", \"Software\", 7],\n",
    "        [\"2015-02-11 20:00:00\", \"Initech\", \"Software\", 7],\n",
    "        [\"2015-02-11 23:00:00\", \"Hooli\", \"Software\", 4],\n",
    "        [\"2015-02-16 12:00:00\", \"Hooli\", \"Software\", 10],\n",
    "        [\"2015-02-19 11:00:00\", \"Mediacore\", \"Hardware\", 16],\n",
    "        [\"2015-02-19 16:00:00\", \"Mediacore\", \"Service\", 10],\n",
    "        [\"2015-02-21 05:00:00\", \"Mediacore\", \"Software\", 3],\n",
    "        [\"2015-02-21 20:30:00\", \"Hooli\", \"Hardware\", 3],\n",
    "        [\"2015-02-25 00:30:00\", \"Initech\", \"Service\", 10],\n",
    "        [\"2015-02-26 09:00:00\", \"Streeplex\", \"Service\", 4],\n",
    "    ]\n",
    ")\n",
    "sales_cols = [\"Date\", \"Company\", \"Product\", \"Units\"]"
   ]
  },
  {
   "cell_type": "code",
   "execution_count": 82,
   "metadata": {},
   "outputs": [
    {
     "data": {
      "text/html": [
       "<div>\n",
       "<style scoped>\n",
       "    .dataframe tbody tr th:only-of-type {\n",
       "        vertical-align: middle;\n",
       "    }\n",
       "\n",
       "    .dataframe tbody tr th {\n",
       "        vertical-align: top;\n",
       "    }\n",
       "\n",
       "    .dataframe thead th {\n",
       "        text-align: right;\n",
       "    }\n",
       "</style>\n",
       "<table border=\"1\" class=\"dataframe\">\n",
       "  <thead>\n",
       "    <tr style=\"text-align: right;\">\n",
       "      <th></th>\n",
       "      <th>Company</th>\n",
       "      <th>Product</th>\n",
       "      <th>Units</th>\n",
       "    </tr>\n",
       "    <tr>\n",
       "      <th>Date</th>\n",
       "      <th></th>\n",
       "      <th></th>\n",
       "      <th></th>\n",
       "    </tr>\n",
       "  </thead>\n",
       "  <tbody>\n",
       "    <tr>\n",
       "      <th>2015-02-02 08:30:00</th>\n",
       "      <td>Hooli</td>\n",
       "      <td>Software</td>\n",
       "      <td>3</td>\n",
       "    </tr>\n",
       "    <tr>\n",
       "      <th>2015-02-02 21:00:00</th>\n",
       "      <td>Mediacore</td>\n",
       "      <td>Hardware</td>\n",
       "      <td>9</td>\n",
       "    </tr>\n",
       "    <tr>\n",
       "      <th>2015-02-03 14:00:00</th>\n",
       "      <td>Initech</td>\n",
       "      <td>Software</td>\n",
       "      <td>13</td>\n",
       "    </tr>\n",
       "    <tr>\n",
       "      <th>2015-02-04 15:30:00</th>\n",
       "      <td>Streeplex</td>\n",
       "      <td>Software</td>\n",
       "      <td>13</td>\n",
       "    </tr>\n",
       "    <tr>\n",
       "      <th>2015-02-04 22:00:00</th>\n",
       "      <td>Acme Coporation</td>\n",
       "      <td>Hardware</td>\n",
       "      <td>14</td>\n",
       "    </tr>\n",
       "  </tbody>\n",
       "</table>\n",
       "</div>"
      ],
      "text/plain": [
       "                             Company   Product  Units\n",
       "Date                                                 \n",
       "2015-02-02 08:30:00            Hooli  Software      3\n",
       "2015-02-02 21:00:00        Mediacore  Hardware      9\n",
       "2015-02-03 14:00:00          Initech  Software     13\n",
       "2015-02-04 15:30:00        Streeplex  Software     13\n",
       "2015-02-04 22:00:00  Acme Coporation  Hardware     14"
      ]
     },
     "execution_count": 82,
     "metadata": {},
     "output_type": "execute_result"
    },
    {
     "data": {
      "application/javascript": [
       "\n",
       "            setTimeout(function() {\n",
       "                var nbb_cell_id = 82;\n",
       "                var nbb_unformatted_code = \"sales = pd.DataFrame(sales_values, columns=sales_cols)\\nsales['Date'] = pd.to_datetime(sales['Date'])\\nsales.set_index('Date', inplace=True)\\nsales['Units'] = sales['Units'].astype('int64')\\nsales.head()\";\n",
       "                var nbb_formatted_code = \"sales = pd.DataFrame(sales_values, columns=sales_cols)\\nsales[\\\"Date\\\"] = pd.to_datetime(sales[\\\"Date\\\"])\\nsales.set_index(\\\"Date\\\", inplace=True)\\nsales[\\\"Units\\\"] = sales[\\\"Units\\\"].astype(\\\"int64\\\")\\nsales.head()\";\n",
       "                var nbb_cells = Jupyter.notebook.get_cells();\n",
       "                for (var i = 0; i < nbb_cells.length; ++i) {\n",
       "                    if (nbb_cells[i].input_prompt_number == nbb_cell_id) {\n",
       "                        if (nbb_cells[i].get_text() == nbb_unformatted_code) {\n",
       "                             nbb_cells[i].set_text(nbb_formatted_code);\n",
       "                        }\n",
       "                        break;\n",
       "                    }\n",
       "                }\n",
       "            }, 500);\n",
       "            "
      ],
      "text/plain": [
       "<IPython.core.display.Javascript object>"
      ]
     },
     "metadata": {},
     "output_type": "display_data"
    }
   ],
   "source": [
    "sales = pd.DataFrame(sales_values, columns=sales_cols)\n",
    "sales[\"Date\"] = pd.to_datetime(sales[\"Date\"])\n",
    "sales.set_index(\"Date\", inplace=True)\n",
    "sales[\"Units\"] = sales[\"Units\"].astype(\"int64\")\n",
    "sales.head()"
   ]
  },
  {
   "cell_type": "code",
   "execution_count": 83,
   "metadata": {},
   "outputs": [
    {
     "name": "stdout",
     "output_type": "stream",
     "text": [
      "<class 'pandas.core.frame.DataFrame'>\n",
      "DatetimeIndex: 19 entries, 2015-02-02 08:30:00 to 2015-02-26 09:00:00\n",
      "Data columns (total 3 columns):\n",
      " #   Column   Non-Null Count  Dtype \n",
      "---  ------   --------------  ----- \n",
      " 0   Company  19 non-null     object\n",
      " 1   Product  19 non-null     object\n",
      " 2   Units    19 non-null     int64 \n",
      "dtypes: int64(1), object(2)\n",
      "memory usage: 608.0+ bytes\n"
     ]
    },
    {
     "data": {
      "application/javascript": [
       "\n",
       "            setTimeout(function() {\n",
       "                var nbb_cell_id = 83;\n",
       "                var nbb_unformatted_code = \"sales.info()\";\n",
       "                var nbb_formatted_code = \"sales.info()\";\n",
       "                var nbb_cells = Jupyter.notebook.get_cells();\n",
       "                for (var i = 0; i < nbb_cells.length; ++i) {\n",
       "                    if (nbb_cells[i].input_prompt_number == nbb_cell_id) {\n",
       "                        if (nbb_cells[i].get_text() == nbb_unformatted_code) {\n",
       "                             nbb_cells[i].set_text(nbb_formatted_code);\n",
       "                        }\n",
       "                        break;\n",
       "                    }\n",
       "                }\n",
       "            }, 500);\n",
       "            "
      ],
      "text/plain": [
       "<IPython.core.display.Javascript object>"
      ]
     },
     "metadata": {},
     "output_type": "display_data"
    }
   ],
   "source": [
    "sales.info()"
   ]
  },
  {
   "cell_type": "code",
   "execution_count": 84,
   "metadata": {},
   "outputs": [
    {
     "data": {
      "text/plain": [
       "Date\n",
       "Mon    48\n",
       "Sat     7\n",
       "Thu    59\n",
       "Tue    13\n",
       "Wed    48\n",
       "Name: Units, dtype: int64"
      ]
     },
     "execution_count": 84,
     "metadata": {},
     "output_type": "execute_result"
    },
    {
     "data": {
      "application/javascript": [
       "\n",
       "            setTimeout(function() {\n",
       "                var nbb_cell_id = 84;\n",
       "                var nbb_unformatted_code = \"# Create a groupby object: by_day\\nby_day = sales.groupby(sales.index.strftime('%a'))\\n\\n# Create sum: units_sum\\nunits_sum = by_day['Units'].sum()\\nunits_sum\";\n",
       "                var nbb_formatted_code = \"# Create a groupby object: by_day\\nby_day = sales.groupby(sales.index.strftime(\\\"%a\\\"))\\n\\n# Create sum: units_sum\\nunits_sum = by_day[\\\"Units\\\"].sum()\\nunits_sum\";\n",
       "                var nbb_cells = Jupyter.notebook.get_cells();\n",
       "                for (var i = 0; i < nbb_cells.length; ++i) {\n",
       "                    if (nbb_cells[i].input_prompt_number == nbb_cell_id) {\n",
       "                        if (nbb_cells[i].get_text() == nbb_unformatted_code) {\n",
       "                             nbb_cells[i].set_text(nbb_formatted_code);\n",
       "                        }\n",
       "                        break;\n",
       "                    }\n",
       "                }\n",
       "            }, 500);\n",
       "            "
      ],
      "text/plain": [
       "<IPython.core.display.Javascript object>"
      ]
     },
     "metadata": {},
     "output_type": "display_data"
    }
   ],
   "source": [
    "# Create a groupby object: by_day\n",
    "by_day = sales.groupby(sales.index.strftime(\"%a\"))\n",
    "\n",
    "# Create sum: units_sum\n",
    "units_sum = by_day[\"Units\"].sum()\n",
    "units_sum"
   ]
  },
  {
   "cell_type": "markdown",
   "metadata": {},
   "source": [
    "### Detecting outliers with Z-Scores\n"
   ]
  },
  {
   "cell_type": "code",
   "execution_count": 23,
   "metadata": {},
   "outputs": [
    {
     "data": {
      "application/javascript": [
       "\n",
       "            setTimeout(function() {\n",
       "                var nbb_cell_id = 23;\n",
       "                var nbb_unformatted_code = \"# Create the gapminder_2010 dataframe from the original gapminder dataframe\\ngapminder_2010 = gapminder.xs(2010, level=\\\"Year\\\")\";\n",
       "                var nbb_formatted_code = \"# Create the gapminder_2010 dataframe from the original gapminder dataframe\\ngapminder_2010 = gapminder.xs(2010, level=\\\"Year\\\")\";\n",
       "                var nbb_cells = Jupyter.notebook.get_cells();\n",
       "                for (var i = 0; i < nbb_cells.length; ++i) {\n",
       "                    if (nbb_cells[i].input_prompt_number == nbb_cell_id) {\n",
       "                        if (nbb_cells[i].get_text() == nbb_unformatted_code) {\n",
       "                             nbb_cells[i].set_text(nbb_formatted_code);\n",
       "                        }\n",
       "                        break;\n",
       "                    }\n",
       "                }\n",
       "            }, 500);\n",
       "            "
      ],
      "text/plain": [
       "<IPython.core.display.Javascript object>"
      ]
     },
     "metadata": {},
     "output_type": "display_data"
    }
   ],
   "source": [
    "# Create the gapminder_2010 dataframe from the original gapminder dataframe\n",
    "gapminder_2010 = gapminder.xs(2010, level=\"Year\")"
   ]
  },
  {
   "cell_type": "code",
   "execution_count": 85,
   "metadata": {},
   "outputs": [
    {
     "name": "stdout",
     "output_type": "stream",
     "text": [
      "                                   fertility    life  population  \\\n",
      "region                Country                                      \n",
      "America               Guatemala        3.974  71.100  14388929.0   \n",
      "                      Haiti            3.350  45.000   9993247.0   \n",
      "Europe & Central Asia Tajikistan       3.780  66.830   6878637.0   \n",
      "East Asia & Pacific   Timor-Leste      6.237  65.952   1124355.0   \n",
      "\n",
      "                                   child_mortality     gdp  \n",
      "region                Country                               \n",
      "America               Guatemala               34.5  6849.0  \n",
      "                      Haiti                  208.8  1518.0  \n",
      "Europe & Central Asia Tajikistan              52.6  2110.0  \n",
      "East Asia & Pacific   Timor-Leste             63.8  1777.0  \n"
     ]
    },
    {
     "name": "stderr",
     "output_type": "stream",
     "text": [
      "C:\\Users\\jkv\\AppData\\Local\\Temp\\ipykernel_19860\\1847699924.py:2: FutureWarning: Indexing with multiple keys (implicitly converted to a tuple of keys) will be deprecated, use a list instead.\n",
      "  standardized = gapminder_2010.groupby(\"region\")[\"life\", \"fertility\"].transform(zscore)\n"
     ]
    },
    {
     "data": {
      "application/javascript": [
       "\n",
       "            setTimeout(function() {\n",
       "                var nbb_cell_id = 85;\n",
       "                var nbb_unformatted_code = \"# Group gapminder_2010: standardized\\nstandardized = gapminder_2010.groupby(\\\"region\\\")[\\\"life\\\", \\\"fertility\\\"].transform(zscore)\\n\\n# Construct a Boolean Series to identify outliers: outliers\\noutliers = (standardized[\\\"life\\\"] < -3) | (standardized[\\\"fertility\\\"] > 3)\\n\\n# Filter gapminder_2010 by the outliers: gm_outliers\\ngm_outliers = gapminder_2010.loc[outliers]\\n\\n# Now you can print or use gm_outliers for further analysis\\nprint(gm_outliers)\";\n",
       "                var nbb_formatted_code = \"# Group gapminder_2010: standardized\\nstandardized = gapminder_2010.groupby(\\\"region\\\")[\\\"life\\\", \\\"fertility\\\"].transform(zscore)\\n\\n# Construct a Boolean Series to identify outliers: outliers\\noutliers = (standardized[\\\"life\\\"] < -3) | (standardized[\\\"fertility\\\"] > 3)\\n\\n# Filter gapminder_2010 by the outliers: gm_outliers\\ngm_outliers = gapminder_2010.loc[outliers]\\n\\n# Now you can print or use gm_outliers for further analysis\\nprint(gm_outliers)\";\n",
       "                var nbb_cells = Jupyter.notebook.get_cells();\n",
       "                for (var i = 0; i < nbb_cells.length; ++i) {\n",
       "                    if (nbb_cells[i].input_prompt_number == nbb_cell_id) {\n",
       "                        if (nbb_cells[i].get_text() == nbb_unformatted_code) {\n",
       "                             nbb_cells[i].set_text(nbb_formatted_code);\n",
       "                        }\n",
       "                        break;\n",
       "                    }\n",
       "                }\n",
       "            }, 500);\n",
       "            "
      ],
      "text/plain": [
       "<IPython.core.display.Javascript object>"
      ]
     },
     "metadata": {},
     "output_type": "display_data"
    }
   ],
   "source": [
    "# Group gapminder_2010: standardized\n",
    "standardized = gapminder_2010.groupby(\"region\")[\"life\", \"fertility\"].transform(zscore)\n",
    "\n",
    "# Construct a Boolean Series to identify outliers: outliers\n",
    "outliers = (standardized[\"life\"] < -3) | (standardized[\"fertility\"] > 3)\n",
    "\n",
    "# Filter gapminder_2010 by the outliers: gm_outliers\n",
    "gm_outliers = gapminder_2010.loc[outliers]\n",
    "\n",
    "# Now you can print or use gm_outliers for further analysis\n",
    "print(gm_outliers)"
   ]
  },
  {
   "cell_type": "markdown",
   "metadata": {},
   "source": [
    "### Filling missing data (imputation) by group"
   ]
  },
  {
   "cell_type": "code",
   "execution_count": 86,
   "metadata": {},
   "outputs": [
    {
     "name": "stdout",
     "output_type": "stream",
     "text": [
      "     passengerid  survived  pclass                                      name  \\\n",
      "881          882         0       3                        Markun, Mr. Johann   \n",
      "882          883         0       3              Dahlberg, Miss. Gerda Ulrika   \n",
      "883          884         0       2             Banfield, Mr. Frederick James   \n",
      "884          885         0       3                    Sutehall, Mr. Henry Jr   \n",
      "885          886         0       3      Rice, Mrs. William (Margaret Norton)   \n",
      "886          887         0       2                     Montvila, Rev. Juozas   \n",
      "887          888         1       1              Graham, Miss. Margaret Edith   \n",
      "888          889         0       3  Johnston, Miss. Catherine Helen \"Carrie\"   \n",
      "889          890         1       1                     Behr, Mr. Karl Howell   \n",
      "890          891         0       3                       Dooley, Mr. Patrick   \n",
      "\n",
      "        sex   age  sibsp  parch            ticket     fare cabin embarked  \n",
      "881    male  33.0      0      0            349257   7.8958   NaN        S  \n",
      "882  female  22.0      0      0              7552  10.5167   NaN        S  \n",
      "883    male  28.0      0      0  C.A./SOTON 34068  10.5000   NaN        S  \n",
      "884    male  25.0      0      0   SOTON/OQ 392076   7.0500   NaN        S  \n",
      "885  female  39.0      0      5            382652  29.1250   NaN        Q  \n",
      "886    male  27.0      0      0            211536  13.0000   NaN        S  \n",
      "887  female  19.0      0      0            112053  30.0000   B42        S  \n",
      "888  female  21.5      1      2        W./C. 6607  23.4500   NaN        S  \n",
      "889    male  26.0      0      0            111369  30.0000  C148        C  \n",
      "890    male  32.0      0      0            370376   7.7500   NaN        Q  \n"
     ]
    },
    {
     "data": {
      "application/javascript": [
       "\n",
       "            setTimeout(function() {\n",
       "                var nbb_cell_id = 86;\n",
       "                var nbb_unformatted_code = \"# Create a groupby object: by_sex_class\\nby_sex_class = titanic.groupby([\\\"sex\\\", \\\"pclass\\\"])\\n\\n# Write a function that imputes median\\ndef impute_median(series):\\n    return series.fillna(series.median())\\n\\n\\n# Impute age and assign to titanic['age']\\ntitanic.age = by_sex_class[\\\"age\\\"].transform(impute_median)\\n\\n# Print the output of titanic.tail(10)\\nprint(titanic.tail(10))\";\n",
       "                var nbb_formatted_code = \"# Create a groupby object: by_sex_class\\nby_sex_class = titanic.groupby([\\\"sex\\\", \\\"pclass\\\"])\\n\\n# Write a function that imputes median\\ndef impute_median(series):\\n    return series.fillna(series.median())\\n\\n\\n# Impute age and assign to titanic['age']\\ntitanic.age = by_sex_class[\\\"age\\\"].transform(impute_median)\\n\\n# Print the output of titanic.tail(10)\\nprint(titanic.tail(10))\";\n",
       "                var nbb_cells = Jupyter.notebook.get_cells();\n",
       "                for (var i = 0; i < nbb_cells.length; ++i) {\n",
       "                    if (nbb_cells[i].input_prompt_number == nbb_cell_id) {\n",
       "                        if (nbb_cells[i].get_text() == nbb_unformatted_code) {\n",
       "                             nbb_cells[i].set_text(nbb_formatted_code);\n",
       "                        }\n",
       "                        break;\n",
       "                    }\n",
       "                }\n",
       "            }, 500);\n",
       "            "
      ],
      "text/plain": [
       "<IPython.core.display.Javascript object>"
      ]
     },
     "metadata": {},
     "output_type": "display_data"
    }
   ],
   "source": [
    "# Create a groupby object: by_sex_class\n",
    "by_sex_class = titanic.groupby([\"sex\", \"pclass\"])\n",
    "\n",
    "# Write a function that imputes median\n",
    "def impute_median(series):\n",
    "    return series.fillna(series.median())\n",
    "\n",
    "\n",
    "# Impute age and assign to titanic['age']\n",
    "titanic.age = by_sex_class[\"age\"].transform(impute_median)\n",
    "\n",
    "# Print the output of titanic.tail(10)\n",
    "print(titanic.tail(10))"
   ]
  },
  {
   "cell_type": "markdown",
   "metadata": {},
   "source": [
    "### Other transformations with .apply()"
   ]
  },
  {
   "cell_type": "code",
   "execution_count": 87,
   "metadata": {},
   "outputs": [
    {
     "data": {
      "text/html": [
       "<div>\n",
       "<style scoped>\n",
       "    .dataframe tbody tr th:only-of-type {\n",
       "        vertical-align: middle;\n",
       "    }\n",
       "\n",
       "    .dataframe tbody tr th {\n",
       "        vertical-align: top;\n",
       "    }\n",
       "\n",
       "    .dataframe thead th {\n",
       "        text-align: right;\n",
       "    }\n",
       "</style>\n",
       "<table border=\"1\" class=\"dataframe\">\n",
       "  <thead>\n",
       "    <tr style=\"text-align: right;\">\n",
       "      <th></th>\n",
       "      <th></th>\n",
       "      <th>z(gdp)</th>\n",
       "      <th>regional spread(gdp)</th>\n",
       "    </tr>\n",
       "    <tr>\n",
       "      <th>region</th>\n",
       "      <th>Country</th>\n",
       "      <th></th>\n",
       "      <th></th>\n",
       "    </tr>\n",
       "  </thead>\n",
       "  <tbody>\n",
       "    <tr>\n",
       "      <th>South Asia</th>\n",
       "      <th>Afghanistan</th>\n",
       "      <td>-1.011602</td>\n",
       "      <td>10037.0</td>\n",
       "    </tr>\n",
       "    <tr>\n",
       "      <th>Europe &amp; Central Asia</th>\n",
       "      <th>Albania</th>\n",
       "      <td>-0.986190</td>\n",
       "      <td>89037.0</td>\n",
       "    </tr>\n",
       "    <tr>\n",
       "      <th>Middle East &amp; North Africa</th>\n",
       "      <th>Algeria</th>\n",
       "      <td>-0.550537</td>\n",
       "      <td>125319.0</td>\n",
       "    </tr>\n",
       "    <tr>\n",
       "      <th>Sub-Saharan Africa</th>\n",
       "      <th>Angola</th>\n",
       "      <td>0.398221</td>\n",
       "      <td>33817.0</td>\n",
       "    </tr>\n",
       "    <tr>\n",
       "      <th>America</th>\n",
       "      <th>Antigua and Barbuda</th>\n",
       "      <td>0.431274</td>\n",
       "      <td>47855.0</td>\n",
       "    </tr>\n",
       "    <tr>\n",
       "      <th>...</th>\n",
       "      <th>...</th>\n",
       "      <td>...</td>\n",
       "      <td>...</td>\n",
       "    </tr>\n",
       "    <tr>\n",
       "      <th rowspan=\"3\" valign=\"top\">Middle East &amp; North Africa</th>\n",
       "      <th>West Bank and Gaza</th>\n",
       "      <td>-0.816251</td>\n",
       "      <td>125319.0</td>\n",
       "    </tr>\n",
       "    <tr>\n",
       "      <th>Western Sahara</th>\n",
       "      <td>NaN</td>\n",
       "      <td>125319.0</td>\n",
       "    </tr>\n",
       "    <tr>\n",
       "      <th>Yemen, Rep.</th>\n",
       "      <td>NaN</td>\n",
       "      <td>125319.0</td>\n",
       "    </tr>\n",
       "    <tr>\n",
       "      <th rowspan=\"2\" valign=\"top\">Sub-Saharan Africa</th>\n",
       "      <th>Zambia</th>\n",
       "      <td>-0.167488</td>\n",
       "      <td>33817.0</td>\n",
       "    </tr>\n",
       "    <tr>\n",
       "      <th>Zimbabwe</th>\n",
       "      <td>-0.476930</td>\n",
       "      <td>33817.0</td>\n",
       "    </tr>\n",
       "  </tbody>\n",
       "</table>\n",
       "<p>202 rows × 2 columns</p>\n",
       "</div>"
      ],
      "text/plain": [
       "                                                  z(gdp)  regional spread(gdp)\n",
       "region                     Country                                            \n",
       "South Asia                 Afghanistan         -1.011602               10037.0\n",
       "Europe & Central Asia      Albania             -0.986190               89037.0\n",
       "Middle East & North Africa Algeria             -0.550537              125319.0\n",
       "Sub-Saharan Africa         Angola               0.398221               33817.0\n",
       "America                    Antigua and Barbuda  0.431274               47855.0\n",
       "...                                                  ...                   ...\n",
       "Middle East & North Africa West Bank and Gaza  -0.816251              125319.0\n",
       "                           Western Sahara            NaN              125319.0\n",
       "                           Yemen, Rep.               NaN              125319.0\n",
       "Sub-Saharan Africa         Zambia              -0.167488               33817.0\n",
       "                           Zimbabwe            -0.476930               33817.0\n",
       "\n",
       "[202 rows x 2 columns]"
      ]
     },
     "execution_count": 87,
     "metadata": {},
     "output_type": "execute_result"
    },
    {
     "data": {
      "application/javascript": [
       "\n",
       "            setTimeout(function() {\n",
       "                var nbb_cell_id = 87;\n",
       "                var nbb_unformatted_code = \"def disparity(gr):\\n    # Compute the spread of gr['gdp']: s\\n    s = gr[\\\"gdp\\\"].max() - gr[\\\"gdp\\\"].min()\\n    # Compute the z-score of gr['gdp'] as (gr['gdp']-gr['gdp'].mean())/gr['gdp'].std(): z\\n    z = (gr[\\\"gdp\\\"] - gr[\\\"gdp\\\"].mean()) / gr[\\\"gdp\\\"].std()\\n    # Return a DataFrame with the inputs {'z(gdp)':z, 'regional spread(gdp)':s}\\n    return pd.DataFrame({\\\"z(gdp)\\\": z, \\\"regional spread(gdp)\\\": s})\\n\\n\\n# Group gapminder_2010 by 'region': regional\\nregional = gapminder_2010.groupby(\\\"region\\\")\\n\\n# Apply the disparity function on regional: reg_disp\\nreg_disp = regional.apply(disparity)\\nreg_disp\";\n",
       "                var nbb_formatted_code = \"def disparity(gr):\\n    # Compute the spread of gr['gdp']: s\\n    s = gr[\\\"gdp\\\"].max() - gr[\\\"gdp\\\"].min()\\n    # Compute the z-score of gr['gdp'] as (gr['gdp']-gr['gdp'].mean())/gr['gdp'].std(): z\\n    z = (gr[\\\"gdp\\\"] - gr[\\\"gdp\\\"].mean()) / gr[\\\"gdp\\\"].std()\\n    # Return a DataFrame with the inputs {'z(gdp)':z, 'regional spread(gdp)':s}\\n    return pd.DataFrame({\\\"z(gdp)\\\": z, \\\"regional spread(gdp)\\\": s})\\n\\n\\n# Group gapminder_2010 by 'region': regional\\nregional = gapminder_2010.groupby(\\\"region\\\")\\n\\n# Apply the disparity function on regional: reg_disp\\nreg_disp = regional.apply(disparity)\\nreg_disp\";\n",
       "                var nbb_cells = Jupyter.notebook.get_cells();\n",
       "                for (var i = 0; i < nbb_cells.length; ++i) {\n",
       "                    if (nbb_cells[i].input_prompt_number == nbb_cell_id) {\n",
       "                        if (nbb_cells[i].get_text() == nbb_unformatted_code) {\n",
       "                             nbb_cells[i].set_text(nbb_formatted_code);\n",
       "                        }\n",
       "                        break;\n",
       "                    }\n",
       "                }\n",
       "            }, 500);\n",
       "            "
      ],
      "text/plain": [
       "<IPython.core.display.Javascript object>"
      ]
     },
     "metadata": {},
     "output_type": "display_data"
    }
   ],
   "source": [
    "def disparity(gr):\n",
    "    # Compute the spread of gr['gdp']: s\n",
    "    s = gr[\"gdp\"].max() - gr[\"gdp\"].min()\n",
    "    # Compute the z-score of gr['gdp'] as (gr['gdp']-gr['gdp'].mean())/gr['gdp'].std(): z\n",
    "    z = (gr[\"gdp\"] - gr[\"gdp\"].mean()) / gr[\"gdp\"].std()\n",
    "    # Return a DataFrame with the inputs {'z(gdp)':z, 'regional spread(gdp)':s}\n",
    "    return pd.DataFrame({\"z(gdp)\": z, \"regional spread(gdp)\": s})\n",
    "\n",
    "\n",
    "# Group gapminder_2010 by 'region': regional\n",
    "regional = gapminder_2010.groupby(\"region\")\n",
    "\n",
    "# Apply the disparity function on regional: reg_disp\n",
    "reg_disp = regional.apply(disparity)\n",
    "reg_disp"
   ]
  },
  {
   "cell_type": "code",
   "execution_count": 27,
   "metadata": {},
   "outputs": [
    {
     "name": "stdout",
     "output_type": "stream",
     "text": [
      "                                        z(gdp)  regional spread(gdp)\n",
      "region                Country                                       \n",
      "America               United States   3.013374               47855.0\n",
      "Europe & Central Asia United Kingdom  0.572873               89037.0\n",
      "East Asia & Pacific   China          -0.432756               96993.0\n"
     ]
    },
    {
     "data": {
      "application/javascript": [
       "\n",
       "            setTimeout(function() {\n",
       "                var nbb_cell_id = 27;\n",
       "                var nbb_unformatted_code = \"# Print the disparity of 'United States', 'United Kingdom', and 'China'\\nprint(reg_disp.loc[(slice(None), [\\\"United States\\\", \\\"United Kingdom\\\", \\\"China\\\"]), :])\";\n",
       "                var nbb_formatted_code = \"# Print the disparity of 'United States', 'United Kingdom', and 'China'\\nprint(reg_disp.loc[(slice(None), [\\\"United States\\\", \\\"United Kingdom\\\", \\\"China\\\"]), :])\";\n",
       "                var nbb_cells = Jupyter.notebook.get_cells();\n",
       "                for (var i = 0; i < nbb_cells.length; ++i) {\n",
       "                    if (nbb_cells[i].input_prompt_number == nbb_cell_id) {\n",
       "                        if (nbb_cells[i].get_text() == nbb_unformatted_code) {\n",
       "                             nbb_cells[i].set_text(nbb_formatted_code);\n",
       "                        }\n",
       "                        break;\n",
       "                    }\n",
       "                }\n",
       "            }, 500);\n",
       "            "
      ],
      "text/plain": [
       "<IPython.core.display.Javascript object>"
      ]
     },
     "metadata": {},
     "output_type": "display_data"
    }
   ],
   "source": [
    "# Print the disparity of 'United States', 'United Kingdom', and 'China'\n",
    "print(reg_disp.loc[(slice(None), [\"United States\", \"United Kingdom\", \"China\"]), :])"
   ]
  },
  {
   "cell_type": "markdown",
   "metadata": {},
   "source": [
    "### Grouping and filtering with .apply()"
   ]
  },
  {
   "cell_type": "code",
   "execution_count": 28,
   "metadata": {},
   "outputs": [
    {
     "name": "stdout",
     "output_type": "stream",
     "text": [
      "sex\n",
      "female    0.888889\n",
      "male      0.343750\n",
      "dtype: float64\n"
     ]
    },
    {
     "data": {
      "application/javascript": [
       "\n",
       "            setTimeout(function() {\n",
       "                var nbb_cell_id = 28;\n",
       "                var nbb_unformatted_code = \"def c_deck_survival(gr):\\n\\n    c_passengers = gr[\\\"cabin\\\"].str.startswith(\\\"C\\\").fillna(False)\\n\\n    return gr.loc[c_passengers, \\\"survived\\\"].mean()\\n\\n\\n# Create a groupby object using titanic over the 'sex' column: by_sex\\nby_sex = titanic.groupby(\\\"sex\\\")\\n\\n# Call by_sex.apply with the function c_deck_survival and print the result\\nc_surv_by_sex = by_sex.apply(c_deck_survival)\\n\\n# Print the survival rates\\nprint(c_surv_by_sex)\";\n",
       "                var nbb_formatted_code = \"def c_deck_survival(gr):\\n\\n    c_passengers = gr[\\\"cabin\\\"].str.startswith(\\\"C\\\").fillna(False)\\n\\n    return gr.loc[c_passengers, \\\"survived\\\"].mean()\\n\\n\\n# Create a groupby object using titanic over the 'sex' column: by_sex\\nby_sex = titanic.groupby(\\\"sex\\\")\\n\\n# Call by_sex.apply with the function c_deck_survival and print the result\\nc_surv_by_sex = by_sex.apply(c_deck_survival)\\n\\n# Print the survival rates\\nprint(c_surv_by_sex)\";\n",
       "                var nbb_cells = Jupyter.notebook.get_cells();\n",
       "                for (var i = 0; i < nbb_cells.length; ++i) {\n",
       "                    if (nbb_cells[i].input_prompt_number == nbb_cell_id) {\n",
       "                        if (nbb_cells[i].get_text() == nbb_unformatted_code) {\n",
       "                             nbb_cells[i].set_text(nbb_formatted_code);\n",
       "                        }\n",
       "                        break;\n",
       "                    }\n",
       "                }\n",
       "            }, 500);\n",
       "            "
      ],
      "text/plain": [
       "<IPython.core.display.Javascript object>"
      ]
     },
     "metadata": {},
     "output_type": "display_data"
    }
   ],
   "source": [
    "def c_deck_survival(gr):\n",
    "\n",
    "    c_passengers = gr[\"cabin\"].str.startswith(\"C\").fillna(False)\n",
    "\n",
    "    return gr.loc[c_passengers, \"survived\"].mean()\n",
    "\n",
    "\n",
    "# Create a groupby object using titanic over the 'sex' column: by_sex\n",
    "by_sex = titanic.groupby(\"sex\")\n",
    "\n",
    "# Call by_sex.apply with the function c_deck_survival and print the result\n",
    "c_surv_by_sex = by_sex.apply(c_deck_survival)\n",
    "\n",
    "# Print the survival rates\n",
    "print(c_surv_by_sex)"
   ]
  },
  {
   "cell_type": "markdown",
   "metadata": {},
   "source": [
    "### Filtering and grouping with .filter()"
   ]
  },
  {
   "cell_type": "code",
   "execution_count": 88,
   "metadata": {},
   "outputs": [
    {
     "data": {
      "text/html": [
       "<div>\n",
       "<style scoped>\n",
       "    .dataframe tbody tr th:only-of-type {\n",
       "        vertical-align: middle;\n",
       "    }\n",
       "\n",
       "    .dataframe tbody tr th {\n",
       "        vertical-align: top;\n",
       "    }\n",
       "\n",
       "    .dataframe thead th {\n",
       "        text-align: right;\n",
       "    }\n",
       "</style>\n",
       "<table border=\"1\" class=\"dataframe\">\n",
       "  <thead>\n",
       "    <tr style=\"text-align: right;\">\n",
       "      <th></th>\n",
       "      <th>Company</th>\n",
       "      <th>Product</th>\n",
       "      <th>Units</th>\n",
       "    </tr>\n",
       "    <tr>\n",
       "      <th>Date</th>\n",
       "      <th></th>\n",
       "      <th></th>\n",
       "      <th></th>\n",
       "    </tr>\n",
       "  </thead>\n",
       "  <tbody>\n",
       "    <tr>\n",
       "      <th>2015-02-02 08:30:00</th>\n",
       "      <td>Hooli</td>\n",
       "      <td>Software</td>\n",
       "      <td>3</td>\n",
       "    </tr>\n",
       "    <tr>\n",
       "      <th>2015-02-02 21:00:00</th>\n",
       "      <td>Mediacore</td>\n",
       "      <td>Hardware</td>\n",
       "      <td>9</td>\n",
       "    </tr>\n",
       "    <tr>\n",
       "      <th>2015-02-03 14:00:00</th>\n",
       "      <td>Initech</td>\n",
       "      <td>Software</td>\n",
       "      <td>13</td>\n",
       "    </tr>\n",
       "    <tr>\n",
       "      <th>2015-02-04 15:30:00</th>\n",
       "      <td>Streeplex</td>\n",
       "      <td>Software</td>\n",
       "      <td>13</td>\n",
       "    </tr>\n",
       "    <tr>\n",
       "      <th>2015-02-04 22:00:00</th>\n",
       "      <td>Acme Coporation</td>\n",
       "      <td>Hardware</td>\n",
       "      <td>14</td>\n",
       "    </tr>\n",
       "  </tbody>\n",
       "</table>\n",
       "</div>"
      ],
      "text/plain": [
       "                             Company   Product  Units\n",
       "Date                                                 \n",
       "2015-02-02 08:30:00            Hooli  Software      3\n",
       "2015-02-02 21:00:00        Mediacore  Hardware      9\n",
       "2015-02-03 14:00:00          Initech  Software     13\n",
       "2015-02-04 15:30:00        Streeplex  Software     13\n",
       "2015-02-04 22:00:00  Acme Coporation  Hardware     14"
      ]
     },
     "execution_count": 88,
     "metadata": {},
     "output_type": "execute_result"
    },
    {
     "data": {
      "application/javascript": [
       "\n",
       "            setTimeout(function() {\n",
       "                var nbb_cell_id = 88;\n",
       "                var nbb_unformatted_code = \"sales = pd.DataFrame(sales_values, columns=sales_cols)\\nsales['Date'] = pd.to_datetime(sales['Date'])\\nsales.set_index('Date', inplace=True)\\nsales['Units'] = sales['Units'].astype('int64')\\nsales.head()\";\n",
       "                var nbb_formatted_code = \"sales = pd.DataFrame(sales_values, columns=sales_cols)\\nsales[\\\"Date\\\"] = pd.to_datetime(sales[\\\"Date\\\"])\\nsales.set_index(\\\"Date\\\", inplace=True)\\nsales[\\\"Units\\\"] = sales[\\\"Units\\\"].astype(\\\"int64\\\")\\nsales.head()\";\n",
       "                var nbb_cells = Jupyter.notebook.get_cells();\n",
       "                for (var i = 0; i < nbb_cells.length; ++i) {\n",
       "                    if (nbb_cells[i].input_prompt_number == nbb_cell_id) {\n",
       "                        if (nbb_cells[i].get_text() == nbb_unformatted_code) {\n",
       "                             nbb_cells[i].set_text(nbb_formatted_code);\n",
       "                        }\n",
       "                        break;\n",
       "                    }\n",
       "                }\n",
       "            }, 500);\n",
       "            "
      ],
      "text/plain": [
       "<IPython.core.display.Javascript object>"
      ]
     },
     "metadata": {},
     "output_type": "display_data"
    }
   ],
   "source": [
    "sales = pd.DataFrame(sales_values, columns=sales_cols)\n",
    "sales[\"Date\"] = pd.to_datetime(sales[\"Date\"])\n",
    "sales.set_index(\"Date\", inplace=True)\n",
    "sales[\"Units\"] = sales[\"Units\"].astype(\"int64\")\n",
    "sales.head()"
   ]
  },
  {
   "cell_type": "code",
   "execution_count": 89,
   "metadata": {},
   "outputs": [
    {
     "data": {
      "text/plain": [
       "Company\n",
       "Acme Coporation    34\n",
       "Hooli              30\n",
       "Initech            30\n",
       "Mediacore          45\n",
       "Streeplex          36\n",
       "Name: Units, dtype: int64"
      ]
     },
     "execution_count": 89,
     "metadata": {},
     "output_type": "execute_result"
    },
    {
     "data": {
      "application/javascript": [
       "\n",
       "            setTimeout(function() {\n",
       "                var nbb_cell_id = 89;\n",
       "                var nbb_unformatted_code = \"# Group sales by 'Company': by_company\\nby_company = sales.groupby('Company')\\n\\n# Compute the sum of the 'Units' of by_company: by_com_sum\\nby_com_sum = by_company['Units'].sum()\\nby_com_sum\";\n",
       "                var nbb_formatted_code = \"# Group sales by 'Company': by_company\\nby_company = sales.groupby(\\\"Company\\\")\\n\\n# Compute the sum of the 'Units' of by_company: by_com_sum\\nby_com_sum = by_company[\\\"Units\\\"].sum()\\nby_com_sum\";\n",
       "                var nbb_cells = Jupyter.notebook.get_cells();\n",
       "                for (var i = 0; i < nbb_cells.length; ++i) {\n",
       "                    if (nbb_cells[i].input_prompt_number == nbb_cell_id) {\n",
       "                        if (nbb_cells[i].get_text() == nbb_unformatted_code) {\n",
       "                             nbb_cells[i].set_text(nbb_formatted_code);\n",
       "                        }\n",
       "                        break;\n",
       "                    }\n",
       "                }\n",
       "            }, 500);\n",
       "            "
      ],
      "text/plain": [
       "<IPython.core.display.Javascript object>"
      ]
     },
     "metadata": {},
     "output_type": "display_data"
    }
   ],
   "source": [
    "# Group sales by 'Company': by_company\n",
    "by_company = sales.groupby(\"Company\")\n",
    "\n",
    "# Compute the sum of the 'Units' of by_company: by_com_sum\n",
    "by_com_sum = by_company[\"Units\"].sum()\n",
    "by_com_sum"
   ]
  },
  {
   "cell_type": "code",
   "execution_count": 90,
   "metadata": {},
   "outputs": [
    {
     "data": {
      "text/html": [
       "<div>\n",
       "<style scoped>\n",
       "    .dataframe tbody tr th:only-of-type {\n",
       "        vertical-align: middle;\n",
       "    }\n",
       "\n",
       "    .dataframe tbody tr th {\n",
       "        vertical-align: top;\n",
       "    }\n",
       "\n",
       "    .dataframe thead th {\n",
       "        text-align: right;\n",
       "    }\n",
       "</style>\n",
       "<table border=\"1\" class=\"dataframe\">\n",
       "  <thead>\n",
       "    <tr style=\"text-align: right;\">\n",
       "      <th></th>\n",
       "      <th>Company</th>\n",
       "      <th>Product</th>\n",
       "      <th>Units</th>\n",
       "    </tr>\n",
       "    <tr>\n",
       "      <th>Date</th>\n",
       "      <th></th>\n",
       "      <th></th>\n",
       "      <th></th>\n",
       "    </tr>\n",
       "  </thead>\n",
       "  <tbody>\n",
       "    <tr>\n",
       "      <th>2015-02-02 21:00:00</th>\n",
       "      <td>Mediacore</td>\n",
       "      <td>Hardware</td>\n",
       "      <td>9</td>\n",
       "    </tr>\n",
       "    <tr>\n",
       "      <th>2015-02-04 15:30:00</th>\n",
       "      <td>Streeplex</td>\n",
       "      <td>Software</td>\n",
       "      <td>13</td>\n",
       "    </tr>\n",
       "    <tr>\n",
       "      <th>2015-02-09 09:00:00</th>\n",
       "      <td>Streeplex</td>\n",
       "      <td>Service</td>\n",
       "      <td>19</td>\n",
       "    </tr>\n",
       "    <tr>\n",
       "      <th>2015-02-09 13:00:00</th>\n",
       "      <td>Mediacore</td>\n",
       "      <td>Software</td>\n",
       "      <td>7</td>\n",
       "    </tr>\n",
       "    <tr>\n",
       "      <th>2015-02-19 11:00:00</th>\n",
       "      <td>Mediacore</td>\n",
       "      <td>Hardware</td>\n",
       "      <td>16</td>\n",
       "    </tr>\n",
       "    <tr>\n",
       "      <th>2015-02-19 16:00:00</th>\n",
       "      <td>Mediacore</td>\n",
       "      <td>Service</td>\n",
       "      <td>10</td>\n",
       "    </tr>\n",
       "    <tr>\n",
       "      <th>2015-02-21 05:00:00</th>\n",
       "      <td>Mediacore</td>\n",
       "      <td>Software</td>\n",
       "      <td>3</td>\n",
       "    </tr>\n",
       "    <tr>\n",
       "      <th>2015-02-26 09:00:00</th>\n",
       "      <td>Streeplex</td>\n",
       "      <td>Service</td>\n",
       "      <td>4</td>\n",
       "    </tr>\n",
       "  </tbody>\n",
       "</table>\n",
       "</div>"
      ],
      "text/plain": [
       "                       Company   Product  Units\n",
       "Date                                           \n",
       "2015-02-02 21:00:00  Mediacore  Hardware      9\n",
       "2015-02-04 15:30:00  Streeplex  Software     13\n",
       "2015-02-09 09:00:00  Streeplex   Service     19\n",
       "2015-02-09 13:00:00  Mediacore  Software      7\n",
       "2015-02-19 11:00:00  Mediacore  Hardware     16\n",
       "2015-02-19 16:00:00  Mediacore   Service     10\n",
       "2015-02-21 05:00:00  Mediacore  Software      3\n",
       "2015-02-26 09:00:00  Streeplex   Service      4"
      ]
     },
     "execution_count": 90,
     "metadata": {},
     "output_type": "execute_result"
    },
    {
     "data": {
      "application/javascript": [
       "\n",
       "            setTimeout(function() {\n",
       "                var nbb_cell_id = 90;\n",
       "                var nbb_unformatted_code = \"# Filter 'Units' where the sum is > 35: by_com_filt\\nby_com_filt = by_company.filter(lambda g: g['Units'].sum() > 35)\\nby_com_filt\";\n",
       "                var nbb_formatted_code = \"# Filter 'Units' where the sum is > 35: by_com_filt\\nby_com_filt = by_company.filter(lambda g: g[\\\"Units\\\"].sum() > 35)\\nby_com_filt\";\n",
       "                var nbb_cells = Jupyter.notebook.get_cells();\n",
       "                for (var i = 0; i < nbb_cells.length; ++i) {\n",
       "                    if (nbb_cells[i].input_prompt_number == nbb_cell_id) {\n",
       "                        if (nbb_cells[i].get_text() == nbb_unformatted_code) {\n",
       "                             nbb_cells[i].set_text(nbb_formatted_code);\n",
       "                        }\n",
       "                        break;\n",
       "                    }\n",
       "                }\n",
       "            }, 500);\n",
       "            "
      ],
      "text/plain": [
       "<IPython.core.display.Javascript object>"
      ]
     },
     "metadata": {},
     "output_type": "display_data"
    }
   ],
   "source": [
    "# Filter 'Units' where the sum is > 35: by_com_filt\n",
    "by_com_filt = by_company.filter(lambda g: g[\"Units\"].sum() > 35)\n",
    "by_com_filt"
   ]
  },
  {
   "cell_type": "markdown",
   "metadata": {},
   "source": [
    "### Filtering and grouping with .map()"
   ]
  },
  {
   "cell_type": "code",
   "execution_count": 91,
   "metadata": {},
   "outputs": [
    {
     "data": {
      "text/html": [
       "<div>\n",
       "<style scoped>\n",
       "    .dataframe tbody tr th:only-of-type {\n",
       "        vertical-align: middle;\n",
       "    }\n",
       "\n",
       "    .dataframe tbody tr th {\n",
       "        vertical-align: top;\n",
       "    }\n",
       "\n",
       "    .dataframe thead th {\n",
       "        text-align: right;\n",
       "    }\n",
       "</style>\n",
       "<table border=\"1\" class=\"dataframe\">\n",
       "  <thead>\n",
       "    <tr style=\"text-align: right;\">\n",
       "      <th></th>\n",
       "      <th>passengerid</th>\n",
       "      <th>survived</th>\n",
       "      <th>pclass</th>\n",
       "      <th>name</th>\n",
       "      <th>sex</th>\n",
       "      <th>age</th>\n",
       "      <th>sibsp</th>\n",
       "      <th>parch</th>\n",
       "      <th>ticket</th>\n",
       "      <th>fare</th>\n",
       "      <th>cabin</th>\n",
       "      <th>embarked</th>\n",
       "    </tr>\n",
       "  </thead>\n",
       "  <tbody>\n",
       "    <tr>\n",
       "      <th>0</th>\n",
       "      <td>1</td>\n",
       "      <td>0</td>\n",
       "      <td>3</td>\n",
       "      <td>Braund, Mr. Owen Harris</td>\n",
       "      <td>male</td>\n",
       "      <td>22.0</td>\n",
       "      <td>1</td>\n",
       "      <td>0</td>\n",
       "      <td>A/5 21171</td>\n",
       "      <td>7.2500</td>\n",
       "      <td>NaN</td>\n",
       "      <td>S</td>\n",
       "    </tr>\n",
       "    <tr>\n",
       "      <th>1</th>\n",
       "      <td>2</td>\n",
       "      <td>1</td>\n",
       "      <td>1</td>\n",
       "      <td>Cumings, Mrs. John Bradley (Florence Briggs Th...</td>\n",
       "      <td>female</td>\n",
       "      <td>38.0</td>\n",
       "      <td>1</td>\n",
       "      <td>0</td>\n",
       "      <td>PC 17599</td>\n",
       "      <td>71.2833</td>\n",
       "      <td>C85</td>\n",
       "      <td>C</td>\n",
       "    </tr>\n",
       "  </tbody>\n",
       "</table>\n",
       "</div>"
      ],
      "text/plain": [
       "   passengerid  survived  pclass  \\\n",
       "0            1         0       3   \n",
       "1            2         1       1   \n",
       "\n",
       "                                                name     sex   age  sibsp  \\\n",
       "0                            Braund, Mr. Owen Harris    male  22.0      1   \n",
       "1  Cumings, Mrs. John Bradley (Florence Briggs Th...  female  38.0      1   \n",
       "\n",
       "   parch     ticket     fare cabin embarked  \n",
       "0      0  A/5 21171   7.2500   NaN        S  \n",
       "1      0   PC 17599  71.2833   C85        C  "
      ]
     },
     "execution_count": 91,
     "metadata": {},
     "output_type": "execute_result"
    },
    {
     "data": {
      "application/javascript": [
       "\n",
       "            setTimeout(function() {\n",
       "                var nbb_cell_id = 91;\n",
       "                var nbb_unformatted_code = \"titanic.head(2)\";\n",
       "                var nbb_formatted_code = \"titanic.head(2)\";\n",
       "                var nbb_cells = Jupyter.notebook.get_cells();\n",
       "                for (var i = 0; i < nbb_cells.length; ++i) {\n",
       "                    if (nbb_cells[i].input_prompt_number == nbb_cell_id) {\n",
       "                        if (nbb_cells[i].get_text() == nbb_unformatted_code) {\n",
       "                             nbb_cells[i].set_text(nbb_formatted_code);\n",
       "                        }\n",
       "                        break;\n",
       "                    }\n",
       "                }\n",
       "            }, 500);\n",
       "            "
      ],
      "text/plain": [
       "<IPython.core.display.Javascript object>"
      ]
     },
     "metadata": {},
     "output_type": "display_data"
    }
   ],
   "source": [
    "titanic.head(2)"
   ]
  },
  {
   "cell_type": "code",
   "execution_count": 92,
   "metadata": {},
   "outputs": [
    {
     "name": "stdout",
     "output_type": "stream",
     "text": [
      "age\n",
      "over 10     0.366707\n",
      "under 10    0.612903\n",
      "Name: survived, dtype: float64\n",
      "age       pclass\n",
      "over 10   1         0.629108\n",
      "          2         0.419162\n",
      "          3         0.222717\n",
      "under 10  1         0.666667\n",
      "          2         1.000000\n",
      "          3         0.452381\n",
      "Name: survived, dtype: float64\n"
     ]
    },
    {
     "data": {
      "application/javascript": [
       "\n",
       "            setTimeout(function() {\n",
       "                var nbb_cell_id = 92;\n",
       "                var nbb_unformatted_code = \"# Create the Boolean Series: under10\\nunder10 = pd.Series(titanic[\\\"age\\\"] < 10).map({True: \\\"under 10\\\", False: \\\"over 10\\\"})\\n\\n# Group by under10 and compute the survival rate\\nsurvived_mean_1 = titanic.groupby(under10)[\\\"survived\\\"].mean()\\nprint(survived_mean_1)\\n\\n# Group by under10 and pclass and compute the survival rate\\nsurvived_mean_2 = titanic.groupby([under10, \\\"pclass\\\"])[\\\"survived\\\"].mean()\\nprint(survived_mean_2)\";\n",
       "                var nbb_formatted_code = \"# Create the Boolean Series: under10\\nunder10 = pd.Series(titanic[\\\"age\\\"] < 10).map({True: \\\"under 10\\\", False: \\\"over 10\\\"})\\n\\n# Group by under10 and compute the survival rate\\nsurvived_mean_1 = titanic.groupby(under10)[\\\"survived\\\"].mean()\\nprint(survived_mean_1)\\n\\n# Group by under10 and pclass and compute the survival rate\\nsurvived_mean_2 = titanic.groupby([under10, \\\"pclass\\\"])[\\\"survived\\\"].mean()\\nprint(survived_mean_2)\";\n",
       "                var nbb_cells = Jupyter.notebook.get_cells();\n",
       "                for (var i = 0; i < nbb_cells.length; ++i) {\n",
       "                    if (nbb_cells[i].input_prompt_number == nbb_cell_id) {\n",
       "                        if (nbb_cells[i].get_text() == nbb_unformatted_code) {\n",
       "                             nbb_cells[i].set_text(nbb_formatted_code);\n",
       "                        }\n",
       "                        break;\n",
       "                    }\n",
       "                }\n",
       "            }, 500);\n",
       "            "
      ],
      "text/plain": [
       "<IPython.core.display.Javascript object>"
      ]
     },
     "metadata": {},
     "output_type": "display_data"
    }
   ],
   "source": [
    "# Create the Boolean Series: under10\n",
    "under10 = pd.Series(titanic[\"age\"] < 10).map({True: \"under 10\", False: \"over 10\"})\n",
    "\n",
    "# Group by under10 and compute the survival rate\n",
    "survived_mean_1 = titanic.groupby(under10)[\"survived\"].mean()\n",
    "print(survived_mean_1)\n",
    "\n",
    "# Group by under10 and pclass and compute the survival rate\n",
    "survived_mean_2 = titanic.groupby([under10, \"pclass\"])[\"survived\"].mean()\n",
    "print(survived_mean_2)"
   ]
  },
  {
   "cell_type": "markdown",
   "metadata": {},
   "source": [
    "### Bringing it all together"
   ]
  },
  {
   "cell_type": "code",
   "execution_count": 30,
   "metadata": {},
   "outputs": [
    {
     "name": "stdout",
     "output_type": "stream",
     "text": [
      "                Athlete        Country Bronze Silver Gold Grand Total\n",
      "0      LATYNINA, Larisa   Soviet Union      4      5    9          18\n",
      "1       PHELPS, Michael  United States      2    NaN   14          16\n",
      "2    ANDRIANOV, Nikolay   Soviet Union      3      5    7          15\n",
      "3  MANGIAROTTI, Edoardo          Italy      2      5    6          13\n",
      "4          ONO, Takashi          Japan      4      4    5          13\n"
     ]
    },
    {
     "data": {
      "application/javascript": [
       "\n",
       "            setTimeout(function() {\n",
       "                var nbb_cell_id = 30;\n",
       "                var nbb_unformatted_code = \"import requests\\nfrom bs4 import BeautifulSoup\\nimport pandas as pd\\n\\nurl = \\\"https://www.theguardian.com/sport/datablog/2012/jun/25/olympic-medal-winner-list-data#data\\\"\\n\\n# Send a GET request\\nresponse = requests.get(url)\\n# Create a BeautifulSoup object and specify the parser\\nsoup = BeautifulSoup(response.text, 'html.parser')\\n\\n# Find the table in the HTML\\ntable = soup.find_all('table') \\n\\n# Convert the table to a DataFrame\\ndf = pd.read_html(str(table))[0]\\n\\nprint(df.head())\";\n",
       "                var nbb_formatted_code = \"import requests\\nfrom bs4 import BeautifulSoup\\nimport pandas as pd\\n\\nurl = \\\"https://www.theguardian.com/sport/datablog/2012/jun/25/olympic-medal-winner-list-data#data\\\"\\n\\n# Send a GET request\\nresponse = requests.get(url)\\n# Create a BeautifulSoup object and specify the parser\\nsoup = BeautifulSoup(response.text, \\\"html.parser\\\")\\n\\n# Find the table in the HTML\\ntable = soup.find_all(\\\"table\\\")\\n\\n# Convert the table to a DataFrame\\ndf = pd.read_html(str(table))[0]\\n\\nprint(df.head())\";\n",
       "                var nbb_cells = Jupyter.notebook.get_cells();\n",
       "                for (var i = 0; i < nbb_cells.length; ++i) {\n",
       "                    if (nbb_cells[i].input_prompt_number == nbb_cell_id) {\n",
       "                        if (nbb_cells[i].get_text() == nbb_unformatted_code) {\n",
       "                             nbb_cells[i].set_text(nbb_formatted_code);\n",
       "                        }\n",
       "                        break;\n",
       "                    }\n",
       "                }\n",
       "            }, 500);\n",
       "            "
      ],
      "text/plain": [
       "<IPython.core.display.Javascript object>"
      ]
     },
     "metadata": {},
     "output_type": "display_data"
    }
   ],
   "source": [
    "import requests\n",
    "from bs4 import BeautifulSoup\n",
    "import pandas as pd\n",
    "\n",
    "url = \"https://www.theguardian.com/sport/datablog/2012/jun/25/olympic-medal-winner-list-data#data\"\n",
    "\n",
    "# Send a GET request\n",
    "response = requests.get(url)\n",
    "# Create a BeautifulSoup object and specify the parser\n",
    "soup = BeautifulSoup(response.text, 'html.parser')\n",
    "\n",
    "# Find the table in the HTML\n",
    "table = soup.find_all('table') \n",
    "\n",
    "# Convert the table to a DataFrame\n",
    "df = pd.read_html(str(table))[0]\n",
    "\n",
    "print(df.head())\n"
   ]
  },
  {
   "cell_type": "markdown",
   "metadata": {},
   "source": [
    "#### Getting it from the csv file instead then..."
   ]
  },
  {
   "cell_type": "code",
   "execution_count": 94,
   "metadata": {},
   "outputs": [
    {
     "data": {
      "application/javascript": [
       "\n",
       "            setTimeout(function() {\n",
       "                var nbb_cell_id = 94;\n",
       "                var nbb_unformatted_code = \"# Total count of medals awarded to USA group by year\\nmedals = pd.read_csv(\\\"data/medals.csv\\\")\\nUSA_edition_grouped = medals.loc[medals.NOC == \\\"USA\\\"].groupby(\\\"Year\\\").count()\";\n",
       "                var nbb_formatted_code = \"# Total count of medals awarded to USA group by year\\nmedals = pd.read_csv(\\\"data/medals.csv\\\")\\nUSA_edition_grouped = medals.loc[medals.NOC == \\\"USA\\\"].groupby(\\\"Year\\\").count()\";\n",
       "                var nbb_cells = Jupyter.notebook.get_cells();\n",
       "                for (var i = 0; i < nbb_cells.length; ++i) {\n",
       "                    if (nbb_cells[i].input_prompt_number == nbb_cell_id) {\n",
       "                        if (nbb_cells[i].get_text() == nbb_unformatted_code) {\n",
       "                             nbb_cells[i].set_text(nbb_formatted_code);\n",
       "                        }\n",
       "                        break;\n",
       "                    }\n",
       "                }\n",
       "            }, 500);\n",
       "            "
      ],
      "text/plain": [
       "<IPython.core.display.Javascript object>"
      ]
     },
     "metadata": {},
     "output_type": "display_data"
    }
   ],
   "source": [
    "# Total count of medals awarded to USA group by year\n",
    "medals = pd.read_csv(\"data/medals.csv\")\n",
    "USA_edition_grouped = medals.loc[medals.NOC == \"USA\"].groupby(\"Year\").count()"
   ]
  },
  {
   "cell_type": "code",
   "execution_count": 95,
   "metadata": {},
   "outputs": [
    {
     "name": "stdout",
     "output_type": "stream",
     "text": [
      "USA    18853\n",
      "FRA    12758\n",
      "GBR    12256\n",
      "ITA    10715\n",
      "GER     9830\n",
      "CAN     9733\n",
      "JPN     8444\n",
      "SWE     8339\n",
      "AUS     7638\n",
      "HUN     6607\n",
      "POL     6207\n",
      "SUI     6150\n",
      "NED     5839\n",
      "URS     5685\n",
      "FIN     5467\n",
      "Name: NOC, dtype: int64\n"
     ]
    },
    {
     "data": {
      "application/javascript": [
       "\n",
       "            setTimeout(function() {\n",
       "                var nbb_cell_id = 95;\n",
       "                var nbb_unformatted_code = \"# Select the 'NOC' column of medals: country_names\\ncountry_names = medals[\\\"NOC\\\"]\\n\\n# Count the number of medals won by each country: medal_counts\\nmedal_counts = pd.Series(country_names.value_counts())\\n\\n# Print top 15 countries ranked by medals\\nprint(medal_counts.head(15))\";\n",
       "                var nbb_formatted_code = \"# Select the 'NOC' column of medals: country_names\\ncountry_names = medals[\\\"NOC\\\"]\\n\\n# Count the number of medals won by each country: medal_counts\\nmedal_counts = pd.Series(country_names.value_counts())\\n\\n# Print top 15 countries ranked by medals\\nprint(medal_counts.head(15))\";\n",
       "                var nbb_cells = Jupyter.notebook.get_cells();\n",
       "                for (var i = 0; i < nbb_cells.length; ++i) {\n",
       "                    if (nbb_cells[i].input_prompt_number == nbb_cell_id) {\n",
       "                        if (nbb_cells[i].get_text() == nbb_unformatted_code) {\n",
       "                             nbb_cells[i].set_text(nbb_formatted_code);\n",
       "                        }\n",
       "                        break;\n",
       "                    }\n",
       "                }\n",
       "            }, 500);\n",
       "            "
      ],
      "text/plain": [
       "<IPython.core.display.Javascript object>"
      ]
     },
     "metadata": {},
     "output_type": "display_data"
    }
   ],
   "source": [
    "# Select the 'NOC' column of medals: country_names\n",
    "country_names = medals[\"NOC\"]\n",
    "\n",
    "# Count the number of medals won by each country: medal_counts\n",
    "medal_counts = pd.Series(country_names.value_counts())\n",
    "\n",
    "# Print top 15 countries ranked by medals\n",
    "print(medal_counts.head(15))"
   ]
  },
  {
   "cell_type": "code",
   "execution_count": 33,
   "metadata": {},
   "outputs": [
    {
     "name": "stdout",
     "output_type": "stream",
     "text": [
      "Medal  Bronze    Gold  Silver  totals\n",
      "NOC                                  \n",
      "USA    1358.0  2638.0  1641.0  5637.0\n",
      "URS     689.0  1082.0   732.0  2503.0\n",
      "GER     746.0   745.0   674.0  2165.0\n",
      "GBR     651.0   678.0   739.0  2068.0\n",
      "FRA     666.0   501.0   610.0  1777.0\n",
      "ITA     531.0   575.0   531.0  1637.0\n",
      "SWE     535.0   479.0   522.0  1536.0\n",
      "CAN     451.0   463.0   438.0  1352.0\n",
      "AUS     517.0   348.0   455.0  1320.0\n",
      "RUS     408.0   390.0   367.0  1165.0\n",
      "HUN     371.0   432.0   332.0  1135.0\n",
      "NED     413.0   287.0   340.0  1040.0\n",
      "NOR     294.0   378.0   361.0  1033.0\n",
      "GDR     281.0   397.0   327.0  1005.0\n",
      "CHN     292.0   350.0   347.0   989.0\n"
     ]
    },
    {
     "data": {
      "application/javascript": [
       "\n",
       "            setTimeout(function() {\n",
       "                var nbb_cell_id = 33;\n",
       "                var nbb_unformatted_code = \"# Construct the pivot table: counted\\ncounted = medals.pivot_table(index=\\\"NOC\\\", columns=\\\"Medal\\\", values=\\\"Name\\\", aggfunc='count')\\n\\n# Create the new column: counted['totals']\\ncounted['totals'] = counted.sum(axis='columns')\\n\\n# Sort counted by the 'totals' column\\ncounted = counted.sort_values(['totals'], ascending=False)\\n\\n# Print the top 15 rows of counted\\nprint(counted.head(15))\";\n",
       "                var nbb_formatted_code = \"# Construct the pivot table: counted\\ncounted = medals.pivot_table(\\n    index=\\\"NOC\\\", columns=\\\"Medal\\\", values=\\\"Name\\\", aggfunc=\\\"count\\\"\\n)\\n\\n# Create the new column: counted['totals']\\ncounted[\\\"totals\\\"] = counted.sum(axis=\\\"columns\\\")\\n\\n# Sort counted by the 'totals' column\\ncounted = counted.sort_values([\\\"totals\\\"], ascending=False)\\n\\n# Print the top 15 rows of counted\\nprint(counted.head(15))\";\n",
       "                var nbb_cells = Jupyter.notebook.get_cells();\n",
       "                for (var i = 0; i < nbb_cells.length; ++i) {\n",
       "                    if (nbb_cells[i].input_prompt_number == nbb_cell_id) {\n",
       "                        if (nbb_cells[i].get_text() == nbb_unformatted_code) {\n",
       "                             nbb_cells[i].set_text(nbb_formatted_code);\n",
       "                        }\n",
       "                        break;\n",
       "                    }\n",
       "                }\n",
       "            }, 500);\n",
       "            "
      ],
      "text/plain": [
       "<IPython.core.display.Javascript object>"
      ]
     },
     "metadata": {},
     "output_type": "display_data"
    }
   ],
   "source": [
    "# Construct the pivot table: counted\n",
    "counted = medals.pivot_table(index=\"NOC\", columns=\"Medal\", values=\"Name\", aggfunc='count')\n",
    "\n",
    "# Create the new column: counted['totals']\n",
    "counted['totals'] = counted.sum(axis='columns')\n",
    "\n",
    "# Sort counted by the 'totals' column\n",
    "counted = counted.sort_values(['totals'], ascending=False)\n",
    "\n",
    "# Print the top 15 rows of counted\n",
    "print(counted.head(15))\n"
   ]
  },
  {
   "cell_type": "code",
   "execution_count": 97,
   "metadata": {},
   "outputs": [
    {
     "data": {
      "text/html": [
       "<div>\n",
       "<style scoped>\n",
       "    .dataframe tbody tr th:only-of-type {\n",
       "        vertical-align: middle;\n",
       "    }\n",
       "\n",
       "    .dataframe tbody tr th {\n",
       "        vertical-align: top;\n",
       "    }\n",
       "\n",
       "    .dataframe thead th {\n",
       "        text-align: right;\n",
       "    }\n",
       "</style>\n",
       "<table border=\"1\" class=\"dataframe\">\n",
       "  <thead>\n",
       "    <tr style=\"text-align: right;\">\n",
       "      <th></th>\n",
       "      <th>ID</th>\n",
       "      <th>Name</th>\n",
       "      <th>Sex</th>\n",
       "      <th>Age</th>\n",
       "      <th>Height</th>\n",
       "      <th>Weight</th>\n",
       "      <th>Team</th>\n",
       "      <th>NOC</th>\n",
       "      <th>Games</th>\n",
       "      <th>Year</th>\n",
       "      <th>Season</th>\n",
       "      <th>City</th>\n",
       "      <th>Sport</th>\n",
       "      <th>Event</th>\n",
       "      <th>Medal</th>\n",
       "    </tr>\n",
       "  </thead>\n",
       "  <tbody>\n",
       "    <tr>\n",
       "      <th>0</th>\n",
       "      <td>1</td>\n",
       "      <td>A Dijiang</td>\n",
       "      <td>M</td>\n",
       "      <td>24.0</td>\n",
       "      <td>180.0</td>\n",
       "      <td>80.0</td>\n",
       "      <td>China</td>\n",
       "      <td>CHN</td>\n",
       "      <td>1992 Summer</td>\n",
       "      <td>1992</td>\n",
       "      <td>Summer</td>\n",
       "      <td>Barcelona</td>\n",
       "      <td>Basketball</td>\n",
       "      <td>Basketball Men's Basketball</td>\n",
       "      <td>NaN</td>\n",
       "    </tr>\n",
       "    <tr>\n",
       "      <th>1</th>\n",
       "      <td>2</td>\n",
       "      <td>A Lamusi</td>\n",
       "      <td>M</td>\n",
       "      <td>23.0</td>\n",
       "      <td>170.0</td>\n",
       "      <td>60.0</td>\n",
       "      <td>China</td>\n",
       "      <td>CHN</td>\n",
       "      <td>2012 Summer</td>\n",
       "      <td>2012</td>\n",
       "      <td>Summer</td>\n",
       "      <td>London</td>\n",
       "      <td>Judo</td>\n",
       "      <td>Judo Men's Extra-Lightweight</td>\n",
       "      <td>NaN</td>\n",
       "    </tr>\n",
       "    <tr>\n",
       "      <th>2</th>\n",
       "      <td>3</td>\n",
       "      <td>Gunnar Nielsen Aaby</td>\n",
       "      <td>M</td>\n",
       "      <td>24.0</td>\n",
       "      <td>NaN</td>\n",
       "      <td>NaN</td>\n",
       "      <td>Denmark</td>\n",
       "      <td>DEN</td>\n",
       "      <td>1920 Summer</td>\n",
       "      <td>1920</td>\n",
       "      <td>Summer</td>\n",
       "      <td>Antwerpen</td>\n",
       "      <td>Football</td>\n",
       "      <td>Football Men's Football</td>\n",
       "      <td>NaN</td>\n",
       "    </tr>\n",
       "    <tr>\n",
       "      <th>3</th>\n",
       "      <td>4</td>\n",
       "      <td>Edgar Lindenau Aabye</td>\n",
       "      <td>M</td>\n",
       "      <td>34.0</td>\n",
       "      <td>NaN</td>\n",
       "      <td>NaN</td>\n",
       "      <td>Denmark/Sweden</td>\n",
       "      <td>DEN</td>\n",
       "      <td>1900 Summer</td>\n",
       "      <td>1900</td>\n",
       "      <td>Summer</td>\n",
       "      <td>Paris</td>\n",
       "      <td>Tug-Of-War</td>\n",
       "      <td>Tug-Of-War Men's Tug-Of-War</td>\n",
       "      <td>Gold</td>\n",
       "    </tr>\n",
       "    <tr>\n",
       "      <th>4</th>\n",
       "      <td>5</td>\n",
       "      <td>Christine Jacoba Aaftink</td>\n",
       "      <td>F</td>\n",
       "      <td>21.0</td>\n",
       "      <td>185.0</td>\n",
       "      <td>82.0</td>\n",
       "      <td>Netherlands</td>\n",
       "      <td>NED</td>\n",
       "      <td>1988 Winter</td>\n",
       "      <td>1988</td>\n",
       "      <td>Winter</td>\n",
       "      <td>Calgary</td>\n",
       "      <td>Speed Skating</td>\n",
       "      <td>Speed Skating Women's 500 metres</td>\n",
       "      <td>NaN</td>\n",
       "    </tr>\n",
       "  </tbody>\n",
       "</table>\n",
       "</div>"
      ],
      "text/plain": [
       "   ID                      Name Sex   Age  Height  Weight            Team  \\\n",
       "0   1                 A Dijiang   M  24.0   180.0    80.0           China   \n",
       "1   2                  A Lamusi   M  23.0   170.0    60.0           China   \n",
       "2   3       Gunnar Nielsen Aaby   M  24.0     NaN     NaN         Denmark   \n",
       "3   4      Edgar Lindenau Aabye   M  34.0     NaN     NaN  Denmark/Sweden   \n",
       "4   5  Christine Jacoba Aaftink   F  21.0   185.0    82.0     Netherlands   \n",
       "\n",
       "   NOC        Games  Year  Season       City          Sport  \\\n",
       "0  CHN  1992 Summer  1992  Summer  Barcelona     Basketball   \n",
       "1  CHN  2012 Summer  2012  Summer     London           Judo   \n",
       "2  DEN  1920 Summer  1920  Summer  Antwerpen       Football   \n",
       "3  DEN  1900 Summer  1900  Summer      Paris     Tug-Of-War   \n",
       "4  NED  1988 Winter  1988  Winter    Calgary  Speed Skating   \n",
       "\n",
       "                              Event Medal  \n",
       "0       Basketball Men's Basketball   NaN  \n",
       "1      Judo Men's Extra-Lightweight   NaN  \n",
       "2           Football Men's Football   NaN  \n",
       "3       Tug-Of-War Men's Tug-Of-War  Gold  \n",
       "4  Speed Skating Women's 500 metres   NaN  "
      ]
     },
     "execution_count": 97,
     "metadata": {},
     "output_type": "execute_result"
    },
    {
     "data": {
      "application/javascript": [
       "\n",
       "            setTimeout(function() {\n",
       "                var nbb_cell_id = 97;\n",
       "                var nbb_unformatted_code = \"medals.head()\";\n",
       "                var nbb_formatted_code = \"medals.head()\";\n",
       "                var nbb_cells = Jupyter.notebook.get_cells();\n",
       "                for (var i = 0; i < nbb_cells.length; ++i) {\n",
       "                    if (nbb_cells[i].input_prompt_number == nbb_cell_id) {\n",
       "                        if (nbb_cells[i].get_text() == nbb_unformatted_code) {\n",
       "                             nbb_cells[i].set_text(nbb_formatted_code);\n",
       "                        }\n",
       "                        break;\n",
       "                    }\n",
       "                }\n",
       "            }, 500);\n",
       "            "
      ],
      "text/plain": [
       "<IPython.core.display.Javascript object>"
      ]
     },
     "metadata": {},
     "output_type": "display_data"
    }
   ],
   "source": [
    "medals.head()"
   ]
  },
  {
   "cell_type": "code",
   "execution_count": 98,
   "metadata": {},
   "outputs": [
    {
     "data": {
      "text/html": [
       "<div>\n",
       "<style scoped>\n",
       "    .dataframe tbody tr th:only-of-type {\n",
       "        vertical-align: middle;\n",
       "    }\n",
       "\n",
       "    .dataframe tbody tr th {\n",
       "        vertical-align: top;\n",
       "    }\n",
       "\n",
       "    .dataframe thead th {\n",
       "        text-align: right;\n",
       "    }\n",
       "</style>\n",
       "<table border=\"1\" class=\"dataframe\">\n",
       "  <thead>\n",
       "    <tr style=\"text-align: right;\">\n",
       "      <th>Medal</th>\n",
       "      <th>Bronze</th>\n",
       "      <th>Gold</th>\n",
       "      <th>Silver</th>\n",
       "    </tr>\n",
       "    <tr>\n",
       "      <th>NOC</th>\n",
       "      <th></th>\n",
       "      <th></th>\n",
       "      <th></th>\n",
       "    </tr>\n",
       "  </thead>\n",
       "  <tbody>\n",
       "    <tr>\n",
       "      <th>AFG</th>\n",
       "      <td>2.0</td>\n",
       "      <td>NaN</td>\n",
       "      <td>NaN</td>\n",
       "    </tr>\n",
       "    <tr>\n",
       "      <th>AHO</th>\n",
       "      <td>NaN</td>\n",
       "      <td>NaN</td>\n",
       "      <td>1.0</td>\n",
       "    </tr>\n",
       "    <tr>\n",
       "      <th>ALG</th>\n",
       "      <td>8.0</td>\n",
       "      <td>5.0</td>\n",
       "      <td>4.0</td>\n",
       "    </tr>\n",
       "    <tr>\n",
       "      <th>ANZ</th>\n",
       "      <td>5.0</td>\n",
       "      <td>20.0</td>\n",
       "      <td>4.0</td>\n",
       "    </tr>\n",
       "    <tr>\n",
       "      <th>ARG</th>\n",
       "      <td>91.0</td>\n",
       "      <td>91.0</td>\n",
       "      <td>92.0</td>\n",
       "    </tr>\n",
       "  </tbody>\n",
       "</table>\n",
       "</div>"
      ],
      "text/plain": [
       "Medal  Bronze  Gold  Silver\n",
       "NOC                        \n",
       "AFG       2.0   NaN     NaN\n",
       "AHO       NaN   NaN     1.0\n",
       "ALG       8.0   5.0     4.0\n",
       "ANZ       5.0  20.0     4.0\n",
       "ARG      91.0  91.0    92.0"
      ]
     },
     "execution_count": 98,
     "metadata": {},
     "output_type": "execute_result"
    },
    {
     "data": {
      "application/javascript": [
       "\n",
       "            setTimeout(function() {\n",
       "                var nbb_cell_id = 98;\n",
       "                var nbb_unformatted_code = \"# Construct the pivot table: counted\\ncounted = medals.pivot_table(\\n    index=\\\"NOC\\\", columns=\\\"Medal\\\", values=\\\"Name\\\", aggfunc=\\\"count\\\"\\n)\\ncounted.head()\";\n",
       "                var nbb_formatted_code = \"# Construct the pivot table: counted\\ncounted = medals.pivot_table(\\n    index=\\\"NOC\\\", columns=\\\"Medal\\\", values=\\\"Name\\\", aggfunc=\\\"count\\\"\\n)\\ncounted.head()\";\n",
       "                var nbb_cells = Jupyter.notebook.get_cells();\n",
       "                for (var i = 0; i < nbb_cells.length; ++i) {\n",
       "                    if (nbb_cells[i].input_prompt_number == nbb_cell_id) {\n",
       "                        if (nbb_cells[i].get_text() == nbb_unformatted_code) {\n",
       "                             nbb_cells[i].set_text(nbb_formatted_code);\n",
       "                        }\n",
       "                        break;\n",
       "                    }\n",
       "                }\n",
       "            }, 500);\n",
       "            "
      ],
      "text/plain": [
       "<IPython.core.display.Javascript object>"
      ]
     },
     "metadata": {},
     "output_type": "display_data"
    }
   ],
   "source": [
    "# Construct the pivot table: counted\n",
    "counted = medals.pivot_table(\n",
    "    index=\"NOC\", columns=\"Medal\", values=\"Name\", aggfunc=\"count\"\n",
    ")\n",
    "counted.head()"
   ]
  },
  {
   "cell_type": "code",
   "execution_count": 99,
   "metadata": {},
   "outputs": [
    {
     "data": {
      "text/html": [
       "<div>\n",
       "<style scoped>\n",
       "    .dataframe tbody tr th:only-of-type {\n",
       "        vertical-align: middle;\n",
       "    }\n",
       "\n",
       "    .dataframe tbody tr th {\n",
       "        vertical-align: top;\n",
       "    }\n",
       "\n",
       "    .dataframe thead th {\n",
       "        text-align: right;\n",
       "    }\n",
       "</style>\n",
       "<table border=\"1\" class=\"dataframe\">\n",
       "  <thead>\n",
       "    <tr style=\"text-align: right;\">\n",
       "      <th>Medal</th>\n",
       "      <th>Bronze</th>\n",
       "      <th>Gold</th>\n",
       "      <th>Silver</th>\n",
       "      <th>totals</th>\n",
       "    </tr>\n",
       "    <tr>\n",
       "      <th>NOC</th>\n",
       "      <th></th>\n",
       "      <th></th>\n",
       "      <th></th>\n",
       "      <th></th>\n",
       "    </tr>\n",
       "  </thead>\n",
       "  <tbody>\n",
       "    <tr>\n",
       "      <th>AFG</th>\n",
       "      <td>2.0</td>\n",
       "      <td>NaN</td>\n",
       "      <td>NaN</td>\n",
       "      <td>2.0</td>\n",
       "    </tr>\n",
       "    <tr>\n",
       "      <th>AHO</th>\n",
       "      <td>NaN</td>\n",
       "      <td>NaN</td>\n",
       "      <td>1.0</td>\n",
       "      <td>1.0</td>\n",
       "    </tr>\n",
       "    <tr>\n",
       "      <th>ALG</th>\n",
       "      <td>8.0</td>\n",
       "      <td>5.0</td>\n",
       "      <td>4.0</td>\n",
       "      <td>17.0</td>\n",
       "    </tr>\n",
       "    <tr>\n",
       "      <th>ANZ</th>\n",
       "      <td>5.0</td>\n",
       "      <td>20.0</td>\n",
       "      <td>4.0</td>\n",
       "      <td>29.0</td>\n",
       "    </tr>\n",
       "    <tr>\n",
       "      <th>ARG</th>\n",
       "      <td>91.0</td>\n",
       "      <td>91.0</td>\n",
       "      <td>92.0</td>\n",
       "      <td>274.0</td>\n",
       "    </tr>\n",
       "  </tbody>\n",
       "</table>\n",
       "</div>"
      ],
      "text/plain": [
       "Medal  Bronze  Gold  Silver  totals\n",
       "NOC                                \n",
       "AFG       2.0   NaN     NaN     2.0\n",
       "AHO       NaN   NaN     1.0     1.0\n",
       "ALG       8.0   5.0     4.0    17.0\n",
       "ANZ       5.0  20.0     4.0    29.0\n",
       "ARG      91.0  91.0    92.0   274.0"
      ]
     },
     "execution_count": 99,
     "metadata": {},
     "output_type": "execute_result"
    },
    {
     "data": {
      "application/javascript": [
       "\n",
       "            setTimeout(function() {\n",
       "                var nbb_cell_id = 99;\n",
       "                var nbb_unformatted_code = \"# Create the new column: counted['totals']\\ncounted['totals'] = counted.sum(axis='columns')\\ncounted.head()\";\n",
       "                var nbb_formatted_code = \"# Create the new column: counted['totals']\\ncounted[\\\"totals\\\"] = counted.sum(axis=\\\"columns\\\")\\ncounted.head()\";\n",
       "                var nbb_cells = Jupyter.notebook.get_cells();\n",
       "                for (var i = 0; i < nbb_cells.length; ++i) {\n",
       "                    if (nbb_cells[i].input_prompt_number == nbb_cell_id) {\n",
       "                        if (nbb_cells[i].get_text() == nbb_unformatted_code) {\n",
       "                             nbb_cells[i].set_text(nbb_formatted_code);\n",
       "                        }\n",
       "                        break;\n",
       "                    }\n",
       "                }\n",
       "            }, 500);\n",
       "            "
      ],
      "text/plain": [
       "<IPython.core.display.Javascript object>"
      ]
     },
     "metadata": {},
     "output_type": "display_data"
    }
   ],
   "source": [
    "# Create the new column: counted['totals']\n",
    "counted[\"totals\"] = counted.sum(axis=\"columns\")\n",
    "counted.head()"
   ]
  },
  {
   "cell_type": "code",
   "execution_count": 100,
   "metadata": {},
   "outputs": [
    {
     "data": {
      "text/html": [
       "<div>\n",
       "<style scoped>\n",
       "    .dataframe tbody tr th:only-of-type {\n",
       "        vertical-align: middle;\n",
       "    }\n",
       "\n",
       "    .dataframe tbody tr th {\n",
       "        vertical-align: top;\n",
       "    }\n",
       "\n",
       "    .dataframe thead th {\n",
       "        text-align: right;\n",
       "    }\n",
       "</style>\n",
       "<table border=\"1\" class=\"dataframe\">\n",
       "  <thead>\n",
       "    <tr style=\"text-align: right;\">\n",
       "      <th>Medal</th>\n",
       "      <th>Bronze</th>\n",
       "      <th>Gold</th>\n",
       "      <th>Silver</th>\n",
       "      <th>totals</th>\n",
       "    </tr>\n",
       "    <tr>\n",
       "      <th>NOC</th>\n",
       "      <th></th>\n",
       "      <th></th>\n",
       "      <th></th>\n",
       "      <th></th>\n",
       "    </tr>\n",
       "  </thead>\n",
       "  <tbody>\n",
       "    <tr>\n",
       "      <th>USA</th>\n",
       "      <td>1358.0</td>\n",
       "      <td>2638.0</td>\n",
       "      <td>1641.0</td>\n",
       "      <td>5637.0</td>\n",
       "    </tr>\n",
       "    <tr>\n",
       "      <th>URS</th>\n",
       "      <td>689.0</td>\n",
       "      <td>1082.0</td>\n",
       "      <td>732.0</td>\n",
       "      <td>2503.0</td>\n",
       "    </tr>\n",
       "    <tr>\n",
       "      <th>GER</th>\n",
       "      <td>746.0</td>\n",
       "      <td>745.0</td>\n",
       "      <td>674.0</td>\n",
       "      <td>2165.0</td>\n",
       "    </tr>\n",
       "    <tr>\n",
       "      <th>GBR</th>\n",
       "      <td>651.0</td>\n",
       "      <td>678.0</td>\n",
       "      <td>739.0</td>\n",
       "      <td>2068.0</td>\n",
       "    </tr>\n",
       "    <tr>\n",
       "      <th>FRA</th>\n",
       "      <td>666.0</td>\n",
       "      <td>501.0</td>\n",
       "      <td>610.0</td>\n",
       "      <td>1777.0</td>\n",
       "    </tr>\n",
       "  </tbody>\n",
       "</table>\n",
       "</div>"
      ],
      "text/plain": [
       "Medal  Bronze    Gold  Silver  totals\n",
       "NOC                                  \n",
       "USA    1358.0  2638.0  1641.0  5637.0\n",
       "URS     689.0  1082.0   732.0  2503.0\n",
       "GER     746.0   745.0   674.0  2165.0\n",
       "GBR     651.0   678.0   739.0  2068.0\n",
       "FRA     666.0   501.0   610.0  1777.0"
      ]
     },
     "execution_count": 100,
     "metadata": {},
     "output_type": "execute_result"
    },
    {
     "data": {
      "application/javascript": [
       "\n",
       "            setTimeout(function() {\n",
       "                var nbb_cell_id = 100;\n",
       "                var nbb_unformatted_code = \"# Sort counted by the 'totals' column\\ncounted = counted.sort_values('totals', ascending=False)\\ncounted.head()\";\n",
       "                var nbb_formatted_code = \"# Sort counted by the 'totals' column\\ncounted = counted.sort_values(\\\"totals\\\", ascending=False)\\ncounted.head()\";\n",
       "                var nbb_cells = Jupyter.notebook.get_cells();\n",
       "                for (var i = 0; i < nbb_cells.length; ++i) {\n",
       "                    if (nbb_cells[i].input_prompt_number == nbb_cell_id) {\n",
       "                        if (nbb_cells[i].get_text() == nbb_unformatted_code) {\n",
       "                             nbb_cells[i].set_text(nbb_formatted_code);\n",
       "                        }\n",
       "                        break;\n",
       "                    }\n",
       "                }\n",
       "            }, 500);\n",
       "            "
      ],
      "text/plain": [
       "<IPython.core.display.Javascript object>"
      ]
     },
     "metadata": {},
     "output_type": "display_data"
    }
   ],
   "source": [
    "# Sort counted by the 'totals' column\n",
    "counted = counted.sort_values(\"totals\", ascending=False)\n",
    "counted.head()"
   ]
  },
  {
   "cell_type": "code",
   "execution_count": 101,
   "metadata": {},
   "outputs": [
    {
     "name": "stdout",
     "output_type": "stream",
     "text": [
      "0    M\n",
      "4    F\n",
      "Name: Sex, dtype: object\n"
     ]
    },
    {
     "data": {
      "application/javascript": [
       "\n",
       "            setTimeout(function() {\n",
       "                var nbb_cell_id = 101;\n",
       "                var nbb_unformatted_code = \"\\n# Select columns: ev_gen\\nev_gen = medals[\\\"Sex\\\"]\\n\\n# Drop duplicate pairs: ev_gen_uniques\\nev_gen_uniques = ev_gen.drop_duplicates()\\n\\n# Print ev_gen_uniques\\nprint(ev_gen_uniques)\";\n",
       "                var nbb_formatted_code = \"# Select columns: ev_gen\\nev_gen = medals[\\\"Sex\\\"]\\n\\n# Drop duplicate pairs: ev_gen_uniques\\nev_gen_uniques = ev_gen.drop_duplicates()\\n\\n# Print ev_gen_uniques\\nprint(ev_gen_uniques)\";\n",
       "                var nbb_cells = Jupyter.notebook.get_cells();\n",
       "                for (var i = 0; i < nbb_cells.length; ++i) {\n",
       "                    if (nbb_cells[i].input_prompt_number == nbb_cell_id) {\n",
       "                        if (nbb_cells[i].get_text() == nbb_unformatted_code) {\n",
       "                             nbb_cells[i].set_text(nbb_formatted_code);\n",
       "                        }\n",
       "                        break;\n",
       "                    }\n",
       "                }\n",
       "            }, 500);\n",
       "            "
      ],
      "text/plain": [
       "<IPython.core.display.Javascript object>"
      ]
     },
     "metadata": {},
     "output_type": "display_data"
    }
   ],
   "source": [
    "# Select columns: ev_gen\n",
    "ev_gen = medals[\"Sex\"]\n",
    "\n",
    "# Drop duplicate pairs: ev_gen_uniques\n",
    "ev_gen_uniques = ev_gen.drop_duplicates()\n",
    "\n",
    "# Print ev_gen_uniques\n",
    "print(ev_gen_uniques)"
   ]
  },
  {
   "cell_type": "code",
   "execution_count": 102,
   "metadata": {},
   "outputs": [
    {
     "name": "stdout",
     "output_type": "stream",
     "text": [
      "         ID    Name     Age  Height  Weight    Team     NOC   Games    Year  \\\n",
      "Sex                                                                           \n",
      "F     74522   74522   74098   67378   66771   74522   74522   74522   74522   \n",
      "M    196594  196594  187544  143567  141470  196594  196594  196594  196594   \n",
      "\n",
      "     Season    City   Sport   Event  Medal  \n",
      "Sex                                         \n",
      "F     74522   74522   74522   74522  11253  \n",
      "M    196594  196594  196594  196594  28530  \n"
     ]
    },
    {
     "data": {
      "application/javascript": [
       "\n",
       "            setTimeout(function() {\n",
       "                var nbb_cell_id = 102;\n",
       "                var nbb_unformatted_code = \"# Group medals by the two columns: medals_by_gender\\nmedals_by_gender = medals.groupby(\\\"Sex\\\")\\n\\n# Create a DataFrame with a group count: medal_count_by_gender\\nmedal_count_by_gender = medals_by_gender.count()\\n\\n# Print medal_count_by_gender\\nprint(medal_count_by_gender)\";\n",
       "                var nbb_formatted_code = \"# Group medals by the two columns: medals_by_gender\\nmedals_by_gender = medals.groupby(\\\"Sex\\\")\\n\\n# Create a DataFrame with a group count: medal_count_by_gender\\nmedal_count_by_gender = medals_by_gender.count()\\n\\n# Print medal_count_by_gender\\nprint(medal_count_by_gender)\";\n",
       "                var nbb_cells = Jupyter.notebook.get_cells();\n",
       "                for (var i = 0; i < nbb_cells.length; ++i) {\n",
       "                    if (nbb_cells[i].input_prompt_number == nbb_cell_id) {\n",
       "                        if (nbb_cells[i].get_text() == nbb_unformatted_code) {\n",
       "                             nbb_cells[i].set_text(nbb_formatted_code);\n",
       "                        }\n",
       "                        break;\n",
       "                    }\n",
       "                }\n",
       "            }, 500);\n",
       "            "
      ],
      "text/plain": [
       "<IPython.core.display.Javascript object>"
      ]
     },
     "metadata": {},
     "output_type": "display_data"
    }
   ],
   "source": [
    "# Group medals by the two columns: medals_by_gender\n",
    "medals_by_gender = medals.groupby(\"Sex\")\n",
    "\n",
    "# Create a DataFrame with a group count: medal_count_by_gender\n",
    "medal_count_by_gender = medals_by_gender.count()\n",
    "\n",
    "# Print medal_count_by_gender\n",
    "print(medal_count_by_gender)\n"
   ]
  },
  {
   "cell_type": "code",
   "execution_count": 36,
   "metadata": {},
   "outputs": [
    {
     "name": "stdout",
     "output_type": "stream",
     "text": [
      "Empty DataFrame\n",
      "Columns: [ID, Name, Sex, Age, Height, Weight, Team, NOC, Games, Year, Season, City, Sport, Event, Medal]\n",
      "Index: []\n"
     ]
    },
    {
     "data": {
      "application/javascript": [
       "\n",
       "            setTimeout(function() {\n",
       "                var nbb_cell_id = 36;\n",
       "                var nbb_unformatted_code = \"# Create the Boolean Series: sus\\nsus = (medals.Sex == \\\"W\\\") & (medals.Sex == \\\"M\\\")\\n\\n# Create a DataFrame with the suspicious row: suspect\\nsuspect = medals[sus]\\n\\n# Print suspect\\nprint(suspect)\";\n",
       "                var nbb_formatted_code = \"# Create the Boolean Series: sus\\nsus = (medals.Sex == \\\"W\\\") & (medals.Sex == \\\"M\\\")\\n\\n# Create a DataFrame with the suspicious row: suspect\\nsuspect = medals[sus]\\n\\n# Print suspect\\nprint(suspect)\";\n",
       "                var nbb_cells = Jupyter.notebook.get_cells();\n",
       "                for (var i = 0; i < nbb_cells.length; ++i) {\n",
       "                    if (nbb_cells[i].input_prompt_number == nbb_cell_id) {\n",
       "                        if (nbb_cells[i].get_text() == nbb_unformatted_code) {\n",
       "                             nbb_cells[i].set_text(nbb_formatted_code);\n",
       "                        }\n",
       "                        break;\n",
       "                    }\n",
       "                }\n",
       "            }, 500);\n",
       "            "
      ],
      "text/plain": [
       "<IPython.core.display.Javascript object>"
      ]
     },
     "metadata": {},
     "output_type": "display_data"
    }
   ],
   "source": [
    "# Create the Boolean Series: sus\n",
    "sus = (medals.Sex == \"W\") & (medals.Sex == \"M\")\n",
    "\n",
    "# Create a DataFrame with the suspicious row: suspect\n",
    "suspect = medals[sus]\n",
    "\n",
    "# Print suspect\n",
    "print(suspect)"
   ]
  },
  {
   "cell_type": "code",
   "execution_count": 37,
   "metadata": {},
   "outputs": [
    {
     "name": "stdout",
     "output_type": "stream",
     "text": [
      "NOC\n",
      "GBR    59\n",
      "USA    58\n",
      "FRA    57\n",
      "CAN    53\n",
      "GER    53\n",
      "JPN    52\n",
      "ITA    52\n",
      "AUS    51\n",
      "SUI    50\n",
      "RUS    48\n",
      "CHN    47\n",
      "SWE    47\n",
      "ESP    47\n",
      "AUT    46\n",
      "KOR    45\n",
      "Name: Sport, dtype: int64\n"
     ]
    },
    {
     "data": {
      "application/javascript": [
       "\n",
       "            setTimeout(function() {\n",
       "                var nbb_cell_id = 37;\n",
       "                var nbb_unformatted_code = \"# Group medals by 'NOC': country_grouped\\ncountry_grouped = medals.groupby(\\\"NOC\\\")\\n\\n# Compute the number of distinct sports in which each country won medals: Nsports\\nNsports = country_grouped[\\\"Sport\\\"].nunique()\\n\\n# Sort the values of Nsports in descending order\\nNsports = Nsports.sort_values(ascending=False)\\n\\n# Print the top 15 rows of Nsports\\nprint(Nsports.head(15))\";\n",
       "                var nbb_formatted_code = \"# Group medals by 'NOC': country_grouped\\ncountry_grouped = medals.groupby(\\\"NOC\\\")\\n\\n# Compute the number of distinct sports in which each country won medals: Nsports\\nNsports = country_grouped[\\\"Sport\\\"].nunique()\\n\\n# Sort the values of Nsports in descending order\\nNsports = Nsports.sort_values(ascending=False)\\n\\n# Print the top 15 rows of Nsports\\nprint(Nsports.head(15))\";\n",
       "                var nbb_cells = Jupyter.notebook.get_cells();\n",
       "                for (var i = 0; i < nbb_cells.length; ++i) {\n",
       "                    if (nbb_cells[i].input_prompt_number == nbb_cell_id) {\n",
       "                        if (nbb_cells[i].get_text() == nbb_unformatted_code) {\n",
       "                             nbb_cells[i].set_text(nbb_formatted_code);\n",
       "                        }\n",
       "                        break;\n",
       "                    }\n",
       "                }\n",
       "            }, 500);\n",
       "            "
      ],
      "text/plain": [
       "<IPython.core.display.Javascript object>"
      ]
     },
     "metadata": {},
     "output_type": "display_data"
    }
   ],
   "source": [
    "# Group medals by 'NOC': country_grouped\n",
    "country_grouped = medals.groupby(\"NOC\")\n",
    "\n",
    "# Compute the number of distinct sports in which each country won medals: Nsports\n",
    "Nsports = country_grouped[\"Sport\"].nunique()\n",
    "\n",
    "# Sort the values of Nsports in descending order\n",
    "Nsports = Nsports.sort_values(ascending=False)\n",
    "\n",
    "# Print the top 15 rows of Nsports\n",
    "print(Nsports.head(15))"
   ]
  },
  {
   "cell_type": "code",
   "execution_count": 38,
   "metadata": {},
   "outputs": [
    {
     "name": "stdout",
     "output_type": "stream",
     "text": [
      "NOC\n",
      "URS    37\n",
      "USA    37\n",
      "Name: Sport, dtype: int64\n"
     ]
    },
    {
     "data": {
      "application/javascript": [
       "\n",
       "            setTimeout(function() {\n",
       "                var nbb_cell_id = 38;\n",
       "                var nbb_unformatted_code = \"# Extract all rows for which the 'Edition' is between 1952 & 1988: during_cold_war\\nduring_cold_war = (medals.Year >= 1952) & (medals.Year<= 1988)\\n\\n# Extract rows for which 'NOC' is either 'USA' or 'URS': is_usa_urs\\nis_usa_urs = medals.NOC.isin(['USA', 'URS'])\\n\\n# Use during_cold_war and is_usa_urs to create the DataFrame: cold_war_medals\\ncold_war_medals = medals.loc[during_cold_war & is_usa_urs]\\n\\n# Group cold_war_medals by 'NOC'\\ncountry_grouped = cold_war_medals.groupby('NOC')\\n\\n# Create Nsports\\nNsports = country_grouped['Sport'].nunique().sort_values(ascending=False)\\n\\n# Print Nsports\\nprint(Nsports)\";\n",
       "                var nbb_formatted_code = \"# Extract all rows for which the 'Edition' is between 1952 & 1988: during_cold_war\\nduring_cold_war = (medals.Year >= 1952) & (medals.Year <= 1988)\\n\\n# Extract rows for which 'NOC' is either 'USA' or 'URS': is_usa_urs\\nis_usa_urs = medals.NOC.isin([\\\"USA\\\", \\\"URS\\\"])\\n\\n# Use during_cold_war and is_usa_urs to create the DataFrame: cold_war_medals\\ncold_war_medals = medals.loc[during_cold_war & is_usa_urs]\\n\\n# Group cold_war_medals by 'NOC'\\ncountry_grouped = cold_war_medals.groupby(\\\"NOC\\\")\\n\\n# Create Nsports\\nNsports = country_grouped[\\\"Sport\\\"].nunique().sort_values(ascending=False)\\n\\n# Print Nsports\\nprint(Nsports)\";\n",
       "                var nbb_cells = Jupyter.notebook.get_cells();\n",
       "                for (var i = 0; i < nbb_cells.length; ++i) {\n",
       "                    if (nbb_cells[i].input_prompt_number == nbb_cell_id) {\n",
       "                        if (nbb_cells[i].get_text() == nbb_unformatted_code) {\n",
       "                             nbb_cells[i].set_text(nbb_formatted_code);\n",
       "                        }\n",
       "                        break;\n",
       "                    }\n",
       "                }\n",
       "            }, 500);\n",
       "            "
      ],
      "text/plain": [
       "<IPython.core.display.Javascript object>"
      ]
     },
     "metadata": {},
     "output_type": "display_data"
    }
   ],
   "source": [
    "# Extract all rows for which the 'Edition' is between 1952 & 1988: during_cold_war\n",
    "during_cold_war = (medals.Year >= 1952) & (medals.Year<= 1988)\n",
    "\n",
    "# Extract rows for which 'NOC' is either 'USA' or 'URS': is_usa_urs\n",
    "is_usa_urs = medals.NOC.isin(['USA', 'URS'])\n",
    "\n",
    "# Use during_cold_war and is_usa_urs to create the DataFrame: cold_war_medals\n",
    "cold_war_medals = medals.loc[during_cold_war & is_usa_urs]\n",
    "\n",
    "# Group cold_war_medals by 'NOC'\n",
    "country_grouped = cold_war_medals.groupby('NOC')\n",
    "\n",
    "# Create Nsports\n",
    "Nsports = country_grouped['Sport'].nunique().sort_values(ascending=False)\n",
    "\n",
    "# Print Nsports\n",
    "print(Nsports)\n"
   ]
  },
  {
   "cell_type": "code",
   "execution_count": 39,
   "metadata": {},
   "outputs": [
    {
     "name": "stdout",
     "output_type": "stream",
     "text": [
      "USA    9\n",
      "URS    1\n",
      "dtype: int64\n"
     ]
    },
    {
     "data": {
      "application/javascript": [
       "\n",
       "            setTimeout(function() {\n",
       "                var nbb_cell_id = 39;\n",
       "                var nbb_unformatted_code = \"# Create the pivot table: medals_won_by_country\\nmedals_won_by_country = medals.pivot_table(\\n    index=\\\"Year\\\", columns=\\\"NOC\\\", values=\\\"Name\\\", aggfunc=\\\"count\\\"\\n)\\n\\n# Slice medals_won_by_country: cold_war_usa_usr_medals\\ncold_war_usa_usr_medals = medals_won_by_country.loc[1952:1988, [\\\"USA\\\", \\\"URS\\\"]]\\n\\n# Create most_medals\\nmost_medals = cold_war_usa_usr_medals.idxmax(axis=\\\"columns\\\")\\n\\n# Print most_medals.value_counts()\\nprint(most_medals.value_counts())\";\n",
       "                var nbb_formatted_code = \"# Create the pivot table: medals_won_by_country\\nmedals_won_by_country = medals.pivot_table(\\n    index=\\\"Year\\\", columns=\\\"NOC\\\", values=\\\"Name\\\", aggfunc=\\\"count\\\"\\n)\\n\\n# Slice medals_won_by_country: cold_war_usa_usr_medals\\ncold_war_usa_usr_medals = medals_won_by_country.loc[1952:1988, [\\\"USA\\\", \\\"URS\\\"]]\\n\\n# Create most_medals\\nmost_medals = cold_war_usa_usr_medals.idxmax(axis=\\\"columns\\\")\\n\\n# Print most_medals.value_counts()\\nprint(most_medals.value_counts())\";\n",
       "                var nbb_cells = Jupyter.notebook.get_cells();\n",
       "                for (var i = 0; i < nbb_cells.length; ++i) {\n",
       "                    if (nbb_cells[i].input_prompt_number == nbb_cell_id) {\n",
       "                        if (nbb_cells[i].get_text() == nbb_unformatted_code) {\n",
       "                             nbb_cells[i].set_text(nbb_formatted_code);\n",
       "                        }\n",
       "                        break;\n",
       "                    }\n",
       "                }\n",
       "            }, 500);\n",
       "            "
      ],
      "text/plain": [
       "<IPython.core.display.Javascript object>"
      ]
     },
     "metadata": {},
     "output_type": "display_data"
    }
   ],
   "source": [
    "# Create the pivot table: medals_won_by_country\n",
    "medals_won_by_country = medals.pivot_table(\n",
    "    index=\"Year\", columns=\"NOC\", values=\"Name\", aggfunc=\"count\"\n",
    ")\n",
    "\n",
    "# Slice medals_won_by_country: cold_war_usa_usr_medals\n",
    "cold_war_usa_usr_medals = medals_won_by_country.loc[1952:1988, [\"USA\", \"URS\"]]\n",
    "\n",
    "# Create most_medals\n",
    "most_medals = cold_war_usa_usr_medals.idxmax(axis=\"columns\")\n",
    "\n",
    "# Print most_medals.value_counts()\n",
    "print(most_medals.value_counts())"
   ]
  },
  {
   "cell_type": "code",
   "execution_count": 40,
   "metadata": {},
   "outputs": [
    {
     "data": {
      "image/png": "[encoded data removed]",
      "text/plain": [
       "<Figure size 640x480 with 1 Axes>"
      ]
     },
     "metadata": {},
     "output_type": "display_data"
    },
    {
     "data": {
      "application/javascript": [
       "\n",
       "            setTimeout(function() {\n",
       "                var nbb_cell_id = 40;\n",
       "                var nbb_unformatted_code = \"# Create the DataFrame: usa\\nusa = medals.loc[medals.NOC == \\\"USA\\\"]\\n\\n# Group usa by ['Edition', 'Medal'] and aggregate over 'Athlete'\\nusa_medals_by_year = usa.groupby([\\\"Year\\\", \\\"Medal\\\"])[\\\"Name\\\"].count()\\n\\n# Reshape usa_medals_by_year by unstacking\\nusa_medals_by_year = usa_medals_by_year.unstack(level=\\\"Medal\\\")\\n\\n# Reorder the columns so they appear in the plot in the desired order\\nusa_medals_by_year = usa_medals_by_year[[\\\"Gold\\\", \\\"Silver\\\", \\\"Bronze\\\"]]\\n\\n# Then plot\\nusa_medals_by_year.plot(kind='bar', stacked=True)\\nplt.show()\";\n",
       "                var nbb_formatted_code = \"# Create the DataFrame: usa\\nusa = medals.loc[medals.NOC == \\\"USA\\\"]\\n\\n# Group usa by ['Edition', 'Medal'] and aggregate over 'Athlete'\\nusa_medals_by_year = usa.groupby([\\\"Year\\\", \\\"Medal\\\"])[\\\"Name\\\"].count()\\n\\n# Reshape usa_medals_by_year by unstacking\\nusa_medals_by_year = usa_medals_by_year.unstack(level=\\\"Medal\\\")\\n\\n# Reorder the columns so they appear in the plot in the desired order\\nusa_medals_by_year = usa_medals_by_year[[\\\"Gold\\\", \\\"Silver\\\", \\\"Bronze\\\"]]\\n\\n# Then plot\\nusa_medals_by_year.plot(kind=\\\"bar\\\", stacked=True)\\nplt.show()\";\n",
       "                var nbb_cells = Jupyter.notebook.get_cells();\n",
       "                for (var i = 0; i < nbb_cells.length; ++i) {\n",
       "                    if (nbb_cells[i].input_prompt_number == nbb_cell_id) {\n",
       "                        if (nbb_cells[i].get_text() == nbb_unformatted_code) {\n",
       "                             nbb_cells[i].set_text(nbb_formatted_code);\n",
       "                        }\n",
       "                        break;\n",
       "                    }\n",
       "                }\n",
       "            }, 500);\n",
       "            "
      ],
      "text/plain": [
       "<IPython.core.display.Javascript object>"
      ]
     },
     "metadata": {},
     "output_type": "display_data"
    }
   ],
   "source": [
    "# Create the DataFrame: usa\n",
    "usa = medals.loc[medals.NOC == \"USA\"]\n",
    "\n",
    "# Group usa by ['Edition', 'Medal'] and aggregate over 'Athlete'\n",
    "usa_medals_by_year = usa.groupby([\"Year\", \"Medal\"])[\"Name\"].count()\n",
    "\n",
    "# Reshape usa_medals_by_year by unstacking\n",
    "usa_medals_by_year = usa_medals_by_year.unstack(level=\"Medal\")\n",
    "\n",
    "# Reorder the columns so they appear in the plot in the desired order\n",
    "usa_medals_by_year = usa_medals_by_year[[\"Gold\", \"Silver\", \"Bronze\"]]\n",
    "\n",
    "# Then plot\n",
    "usa_medals_by_year.plot(kind='bar', stacked=True)\n",
    "plt.show()\n"
   ]
  },
  {
   "cell_type": "code",
   "execution_count": 41,
   "metadata": {},
   "outputs": [
    {
     "data": {
      "image/png": "[encoded data removed]",
      "text/plain": [
       "<Figure size 640x480 with 1 Axes>"
      ]
     },
     "metadata": {},
     "output_type": "display_data"
    },
    {
     "data": {
      "application/javascript": [
       "\n",
       "            setTimeout(function() {\n",
       "                var nbb_cell_id = 41;\n",
       "                var nbb_unformatted_code = \"# Create the DataFrame: usa\\nusa = medals[medals.NOC == \\\"USA\\\"]\\n\\n# Group usa by 'Year', 'Medal', and 'Name'\\nusa_medals_by_year = usa.groupby([\\\"Year\\\", \\\"Medal\\\"])[\\\"Name\\\"].count()\\n\\n# Reshape usa_medals_by_year by unstacking\\nusa_medals_by_year = usa_medals_by_year.unstack(level=\\\"Medal\\\")\\n\\n# Create an area plot of usa_medals_by_year\\nusa_medals_by_year.plot.area()\\nplt.show()\";\n",
       "                var nbb_formatted_code = \"# Create the DataFrame: usa\\nusa = medals[medals.NOC == \\\"USA\\\"]\\n\\n# Group usa by 'Year', 'Medal', and 'Name'\\nusa_medals_by_year = usa.groupby([\\\"Year\\\", \\\"Medal\\\"])[\\\"Name\\\"].count()\\n\\n# Reshape usa_medals_by_year by unstacking\\nusa_medals_by_year = usa_medals_by_year.unstack(level=\\\"Medal\\\")\\n\\n# Create an area plot of usa_medals_by_year\\nusa_medals_by_year.plot.area()\\nplt.show()\";\n",
       "                var nbb_cells = Jupyter.notebook.get_cells();\n",
       "                for (var i = 0; i < nbb_cells.length; ++i) {\n",
       "                    if (nbb_cells[i].input_prompt_number == nbb_cell_id) {\n",
       "                        if (nbb_cells[i].get_text() == nbb_unformatted_code) {\n",
       "                             nbb_cells[i].set_text(nbb_formatted_code);\n",
       "                        }\n",
       "                        break;\n",
       "                    }\n",
       "                }\n",
       "            }, 500);\n",
       "            "
      ],
      "text/plain": [
       "<IPython.core.display.Javascript object>"
      ]
     },
     "metadata": {},
     "output_type": "display_data"
    }
   ],
   "source": [
    "# Create the DataFrame: usa\n",
    "usa = medals[medals.NOC == \"USA\"]\n",
    "\n",
    "# Group usa by 'Year', 'Medal', and 'Name'\n",
    "usa_medals_by_year = usa.groupby([\"Year\", \"Medal\"])[\"Name\"].count()\n",
    "\n",
    "# Reshape usa_medals_by_year by unstacking\n",
    "usa_medals_by_year = usa_medals_by_year.unstack(level=\"Medal\")\n",
    "\n",
    "# Create an area plot of usa_medals_by_year\n",
    "usa_medals_by_year.plot.area()\n",
    "plt.show()"
   ]
  },
  {
   "cell_type": "code",
   "execution_count": 42,
   "metadata": {},
   "outputs": [
    {
     "data": {
      "image/png": "[encoded data removed]",
      "text/plain": [
       "<Figure size 640x480 with 1 Axes>"
      ]
     },
     "metadata": {},
     "output_type": "display_data"
    },
    {
     "data": {
      "application/javascript": [
       "\n",
       "            setTimeout(function() {\n",
       "                var nbb_cell_id = 42;\n",
       "                var nbb_unformatted_code = \"# Redefine 'Medal' as an ordered categorical\\nmedals.Medal = pd.Categorical(\\n    values=medals.Medal, categories=[\\\"Bronze\\\", \\\"Silver\\\", \\\"Gold\\\"], ordered=True\\n)\\n\\n# Create the DataFrame: usa\\nusa = medals[medals.NOC == \\\"USA\\\"]\\n\\n# Group usa by 'Year', 'Medal', and 'Name'\\nusa_medals_by_year = usa.groupby([\\\"Year\\\", \\\"Medal\\\"])[\\\"Name\\\"].count()\\n\\n# Reshape usa_medals_by_year by unstacking\\nusa_medals_by_year = usa_medals_by_year.unstack(level=\\\"Medal\\\")\\n\\n# Create an area plot of usa_medals_by_year\\nusa_medals_by_year.plot.area()\\nplt.show()\";\n",
       "                var nbb_formatted_code = \"# Redefine 'Medal' as an ordered categorical\\nmedals.Medal = pd.Categorical(\\n    values=medals.Medal, categories=[\\\"Bronze\\\", \\\"Silver\\\", \\\"Gold\\\"], ordered=True\\n)\\n\\n# Create the DataFrame: usa\\nusa = medals[medals.NOC == \\\"USA\\\"]\\n\\n# Group usa by 'Year', 'Medal', and 'Name'\\nusa_medals_by_year = usa.groupby([\\\"Year\\\", \\\"Medal\\\"])[\\\"Name\\\"].count()\\n\\n# Reshape usa_medals_by_year by unstacking\\nusa_medals_by_year = usa_medals_by_year.unstack(level=\\\"Medal\\\")\\n\\n# Create an area plot of usa_medals_by_year\\nusa_medals_by_year.plot.area()\\nplt.show()\";\n",
       "                var nbb_cells = Jupyter.notebook.get_cells();\n",
       "                for (var i = 0; i < nbb_cells.length; ++i) {\n",
       "                    if (nbb_cells[i].input_prompt_number == nbb_cell_id) {\n",
       "                        if (nbb_cells[i].get_text() == nbb_unformatted_code) {\n",
       "                             nbb_cells[i].set_text(nbb_formatted_code);\n",
       "                        }\n",
       "                        break;\n",
       "                    }\n",
       "                }\n",
       "            }, 500);\n",
       "            "
      ],
      "text/plain": [
       "<IPython.core.display.Javascript object>"
      ]
     },
     "metadata": {},
     "output_type": "display_data"
    }
   ],
   "source": [
    "# Redefine 'Medal' as an ordered categorical\n",
    "medals.Medal = pd.Categorical(\n",
    "    values=medals.Medal, categories=[\"Bronze\", \"Silver\", \"Gold\"], ordered=True\n",
    ")\n",
    "\n",
    "# Create the DataFrame: usa\n",
    "usa = medals[medals.NOC == \"USA\"]\n",
    "\n",
    "# Group usa by 'Year', 'Medal', and 'Name'\n",
    "usa_medals_by_year = usa.groupby([\"Year\", \"Medal\"])[\"Name\"].count()\n",
    "\n",
    "# Reshape usa_medals_by_year by unstacking\n",
    "usa_medals_by_year = usa_medals_by_year.unstack(level=\"Medal\")\n",
    "\n",
    "# Create an area plot of usa_medals_by_year\n",
    "usa_medals_by_year.plot.area()\n",
    "plt.show()"
   ]
  },
  {
   "cell_type": "code",
   "execution_count": 43,
   "metadata": {},
   "outputs": [
    {
     "data": {
      "application/javascript": [
       "\n",
       "            setTimeout(function() {\n",
       "                var nbb_cell_id = 43;\n",
       "                var nbb_unformatted_code = \"# Create separate DataFrames for each medal type\\ngold = medals[medals[\\\"Medal\\\"] == \\\"Gold\\\"]\\nsilver = medals[medals[\\\"Medal\\\"] == \\\"Silver\\\"]\\nbronze = medals[medals[\\\"Medal\\\"] == \\\"Bronze\\\"]\\n\\n# Write each DataFrame to a separate CSV file\\ngold.to_csv(\\\"Gold.csv\\\", index=False)\\nsilver.to_csv(\\\"Silver.csv\\\", index=False)\\nbronze.to_csv(\\\"Bronze.csv\\\", index=False)\";\n",
       "                var nbb_formatted_code = \"# Create separate DataFrames for each medal type\\ngold = medals[medals[\\\"Medal\\\"] == \\\"Gold\\\"]\\nsilver = medals[medals[\\\"Medal\\\"] == \\\"Silver\\\"]\\nbronze = medals[medals[\\\"Medal\\\"] == \\\"Bronze\\\"]\\n\\n# Write each DataFrame to a separate CSV file\\ngold.to_csv(\\\"Gold.csv\\\", index=False)\\nsilver.to_csv(\\\"Silver.csv\\\", index=False)\\nbronze.to_csv(\\\"Bronze.csv\\\", index=False)\";\n",
       "                var nbb_cells = Jupyter.notebook.get_cells();\n",
       "                for (var i = 0; i < nbb_cells.length; ++i) {\n",
       "                    if (nbb_cells[i].input_prompt_number == nbb_cell_id) {\n",
       "                        if (nbb_cells[i].get_text() == nbb_unformatted_code) {\n",
       "                             nbb_cells[i].set_text(nbb_formatted_code);\n",
       "                        }\n",
       "                        break;\n",
       "                    }\n",
       "                }\n",
       "            }, 500);\n",
       "            "
      ],
      "text/plain": [
       "<IPython.core.display.Javascript object>"
      ]
     },
     "metadata": {},
     "output_type": "display_data"
    }
   ],
   "source": [
    "# Create separate DataFrames for each medal type\n",
    "gold = medals[medals[\"Medal\"] == \"Gold\"]\n",
    "silver = medals[medals[\"Medal\"] == \"Silver\"]\n",
    "bronze = medals[medals[\"Medal\"] == \"Bronze\"]\n",
    "\n",
    "# Write each DataFrame to a separate CSV file\n",
    "gold.to_csv(\"Gold.csv\", index=False)\n",
    "silver.to_csv(\"Silver.csv\", index=False)\n",
    "bronze.to_csv(\"Bronze.csv\", index=False)"
   ]
  }
 ],
 "metadata": {
  "kernelspec": {
   "display_name": "Python 3 (ipykernel)",
   "language": "python",
   "name": "python3"
  },
  "language_info": {
   "codemirror_mode": {
    "name": "ipython",
    "version": 3
   },
   "file_extension": ".py",
   "mimetype": "text/x-python",
   "name": "python",
   "nbconvert_exporter": "python",
   "pygments_lexer": "ipython3",
   "version": "3.9.13"
  }
 },
 "nbformat": 4,
 "nbformat_minor": 2
}
