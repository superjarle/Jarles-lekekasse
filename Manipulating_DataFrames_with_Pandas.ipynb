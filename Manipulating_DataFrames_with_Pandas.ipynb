{
 "cells": [
  {
   "cell_type": "markdown",
   "metadata": {},
   "source": [
    "# Manipulating DataFrames with Pandas"
   ]
  },
  {
   "cell_type": "markdown",
   "metadata": {},
   "source": [
    "## Summary: \n",
    "\n",
    "* Transform, extract, and filter data from DataFrames\n",
    "* Work with pandas indexes and hierarchical indexes\n",
    "* Reshape and restructure your data: \n",
    "\n",
    "                 ** pivot (reshape data (produce a “pivot” table) based on column values),\n",
    "                 ** melt (“Unpivots” a DataFrame from wide format to long format), \n",
    "                 ** stack (pivot a level of the (possibly hierarchical) column labels), \n",
    "                 ** unstack (Pivot a level of the (necessarily hierarchical) index labels)\n",
    "                 \n",
    "* Split your data into groups and categories\n",
    "\n",
    "### Pandas Series vs Lists\n",
    "\n",
    "pandas.DataFrame(data=None, index=None, columns=None, dtype=None, copy=False)\n",
    "\n",
    "Two-dimensional size-mutable, potentially heterogeneous tabular data structure with labeled axes (rows and columns). Arithmetic operations align on both row and column labels. Can be thought of as a dict-like container for Series objects, the primary pandas data structure. So Series is the datastructure for a single column of a DataFrame, not only conceptually, but literally i.e. the data in a DataFrame is actually stored in memory as a collection of Series.\n",
    "\n",
    "Analogously: We need both lists and matrices, because matrices are built with lists. Single row matricies, while equivalent to lists in functionality still cannot exists without the list(s) they're composed of."
   ]
  },
  {
   "cell_type": "code",
   "execution_count": 98,
   "metadata": {},
   "outputs": [
    {
     "data": {
      "application/javascript": [
       "\n",
       "            setTimeout(function() {\n",
       "                var nbb_cell_id = 98;\n",
       "                var nbb_unformatted_code = \"import os\\nimport pandas as pd\\nimport matplotlib.pyplot as plt\";\n",
       "                var nbb_formatted_code = \"import os\\nimport pandas as pd\\nimport matplotlib.pyplot as plt\";\n",
       "                var nbb_cells = Jupyter.notebook.get_cells();\n",
       "                for (var i = 0; i < nbb_cells.length; ++i) {\n",
       "                    if (nbb_cells[i].input_prompt_number == nbb_cell_id) {\n",
       "                        if (nbb_cells[i].get_text() == nbb_unformatted_code) {\n",
       "                             nbb_cells[i].set_text(nbb_formatted_code);\n",
       "                        }\n",
       "                        break;\n",
       "                    }\n",
       "                }\n",
       "            }, 500);\n",
       "            "
      ],
      "text/plain": [
       "<IPython.core.display.Javascript object>"
      ]
     },
     "metadata": {},
     "output_type": "display_data"
    }
   ],
   "source": [
    "import os\n",
    "import pandas as pd\n",
    "import matplotlib.pyplot as plt"
   ]
  },
  {
   "cell_type": "code",
   "execution_count": 16,
   "metadata": {},
   "outputs": [
    {
     "data": {
      "application/javascript": [
       "\n",
       "            setTimeout(function() {\n",
       "                var nbb_cell_id = 16;\n",
       "                var nbb_unformatted_code = \"%load_ext nb_black\";\n",
       "                var nbb_formatted_code = \"%load_ext nb_black\";\n",
       "                var nbb_cells = Jupyter.notebook.get_cells();\n",
       "                for (var i = 0; i < nbb_cells.length; ++i) {\n",
       "                    if (nbb_cells[i].input_prompt_number == nbb_cell_id) {\n",
       "                        if (nbb_cells[i].get_text() == nbb_unformatted_code) {\n",
       "                             nbb_cells[i].set_text(nbb_formatted_code);\n",
       "                        }\n",
       "                        break;\n",
       "                    }\n",
       "                }\n",
       "            }, 500);\n",
       "            "
      ],
      "text/plain": [
       "<IPython.core.display.Javascript object>"
      ]
     },
     "metadata": {},
     "output_type": "display_data"
    }
   ],
   "source": [
    "%load_ext nb_black"
   ]
  },
  {
   "cell_type": "markdown",
   "metadata": {},
   "source": [
    "### Indexing and column rearrangement"
   ]
  },
  {
   "cell_type": "code",
   "execution_count": 7,
   "metadata": {},
   "outputs": [
    {
     "name": "stdout",
     "output_type": "stream",
     "text": [
      "           winner   total  voters\n",
      "county                           \n",
      "Adams      Romney   41973   61156\n",
      "Allegheny   Obama  614671  924351\n",
      "Armstrong  Romney   28322   42147\n",
      "Beaver     Romney   80015  115157\n",
      "Bedford    Romney   21444   32189\n"
     ]
    }
   ],
   "source": [
    "# Read in filename and set the index: election\n",
    "election = pd.read_csv(\"data/election.csv\", index_col='county')\n",
    "\n",
    "# Create a separate dataframe with the columns ['winner', 'total', 'voters']: results\n",
    "results = pd.DataFrame(election, columns=['winner', 'total', 'voters'])\n",
    "\n",
    "# Print the output of results.head()\n",
    "print(results.head())"
   ]
  },
  {
   "cell_type": "code",
   "execution_count": 9,
   "metadata": {
    "scrolled": true
   },
   "outputs": [
    {
     "name": "stdout",
     "output_type": "stream",
     "text": [
      "True\n"
     ]
    }
   ],
   "source": [
    "# Assign the row position of election.loc['Bedford']: x\n",
    "x = 4\n",
    "\n",
    "# Assign the column position of election['winner']: y\n",
    "y = 4\n",
    "\n",
    "# Print the boolean equivalence\n",
    "print(election.iloc[x, y] == election.loc['Bedford', 'winner'])"
   ]
  },
  {
   "cell_type": "markdown",
   "metadata": {},
   "source": [
    "### Slicing cols "
   ]
  },
  {
   "cell_type": "code",
   "execution_count": 13,
   "metadata": {},
   "outputs": [
    {
     "name": "stdout",
     "output_type": "stream",
     "text": [
      "          state   total      Obama\n",
      "county                            \n",
      "Adams        PA   41973  35.482334\n",
      "Allegheny    PA  614671  56.640219\n",
      "Armstrong    PA   28322  30.696985\n",
      "Beaver       PA   80015  46.032619\n",
      "Bedford      PA   21444  22.057452\n",
      "               Obama     Romney  winner\n",
      "county                                 \n",
      "Adams      35.482334  63.112001  Romney\n",
      "Allegheny  56.640219  42.185820   Obama\n",
      "Armstrong  30.696985  67.901278  Romney\n",
      "Beaver     46.032619  52.637630  Romney\n",
      "Bedford    22.057452  76.986570  Romney\n",
      "              Romney  winner  voters    turnout     margin\n",
      "county                                                    \n",
      "Adams      63.112001  Romney   61156  68.632677  27.629667\n",
      "Allegheny  42.185820   Obama  924351  66.497575  14.454399\n",
      "Armstrong  67.901278  Romney   42147  67.198140  37.204293\n",
      "Beaver     52.637630  Romney  115157  69.483401   6.605012\n",
      "Bedford    76.986570  Romney   32189  66.619031  54.929118\n"
     ]
    }
   ],
   "source": [
    "# Slice the columns from the starting column to 'Obama': left_columns\n",
    "left_columns = election.loc[:,:'Obama']\n",
    "\n",
    "# Print the output of left_columns.head()\n",
    "print(left_columns.head())\n",
    "\n",
    "# Slice the columns from 'Obama' to 'winner': middle_columns\n",
    "middle_columns = election.loc[:,'Obama':'winner']\n",
    "\n",
    "# Print the output of middle_columns.head()\n",
    "print(middle_columns.head())\n",
    "\n",
    "# Slice the columns from 'Romney' to the end: 'right_columns'\n",
    "right_columns = election.loc[:,'Romney':]\n",
    "\n",
    "# Print the output of right_columns.head()\n",
    "print(right_columns.head())"
   ]
  },
  {
   "cell_type": "markdown",
   "metadata": {},
   "source": [
    "### Thresholding data"
   ]
  },
  {
   "cell_type": "code",
   "execution_count": 14,
   "metadata": {},
   "outputs": [
    {
     "name": "stdout",
     "output_type": "stream",
     "text": [
      "             state   total      Obama     Romney  winner  voters    turnout  \\\n",
      "county                                                                        \n",
      "Bucks           PA  319407  49.966970  48.801686   Obama  435606  73.324748   \n",
      "Butler          PA   88924  31.920516  66.816607  Romney  122762  72.436096   \n",
      "Chester         PA  248295  49.228539  49.650617  Romney  337822  73.498766   \n",
      "Forest          PA    2308  38.734835  59.835355  Romney    3232  71.410891   \n",
      "Franklin        PA   62802  30.110506  68.583803  Romney   87406  71.850903   \n",
      "Montgomery      PA  401787  56.637223  42.286834   Obama  551105  72.905708   \n",
      "Westmoreland    PA  168709  37.567646  61.306154  Romney  238006  70.884347   \n",
      "\n",
      "                 margin  \n",
      "county                   \n",
      "Bucks          1.165284  \n",
      "Butler        34.896091  \n",
      "Chester        0.422079  \n",
      "Forest        21.100520  \n",
      "Franklin      38.473297  \n",
      "Montgomery    14.350390  \n",
      "Westmoreland  23.738508  \n"
     ]
    }
   ],
   "source": [
    "# Create the boolean array: high_turnout\n",
    "high_turnout = election['turnout'] > 70\n",
    "\n",
    "# Filter the election DataFrame with the high_turnout array: high_turnout_df\n",
    "high_turnout_df = election[high_turnout]\n",
    "\n",
    "# Print the high_turnout_results DataFrame\n",
    "print(high_turnout_df)"
   ]
  },
  {
   "cell_type": "markdown",
   "metadata": {},
   "source": [
    "### Filtering using NaNs"
   ]
  },
  {
   "cell_type": "code",
   "execution_count": 20,
   "metadata": {},
   "outputs": [
    {
     "data": {
      "application/javascript": [
       "\n",
       "            setTimeout(function() {\n",
       "                var nbb_cell_id = 20;\n",
       "                var nbb_unformatted_code = \"titanic = pd.read_csv(\\\"data/titanic.csv\\\")\\ntitanic.columns = titanic.columns.str.lower()\";\n",
       "                var nbb_formatted_code = \"titanic = pd.read_csv(\\\"data/titanic.csv\\\")\\ntitanic.columns = titanic.columns.str.lower()\";\n",
       "                var nbb_cells = Jupyter.notebook.get_cells();\n",
       "                for (var i = 0; i < nbb_cells.length; ++i) {\n",
       "                    if (nbb_cells[i].input_prompt_number == nbb_cell_id) {\n",
       "                        if (nbb_cells[i].get_text() == nbb_unformatted_code) {\n",
       "                             nbb_cells[i].set_text(nbb_formatted_code);\n",
       "                        }\n",
       "                        break;\n",
       "                    }\n",
       "                }\n",
       "            }, 500);\n",
       "            "
      ],
      "text/plain": [
       "<IPython.core.display.Javascript object>"
      ]
     },
     "metadata": {},
     "output_type": "display_data"
    }
   ],
   "source": [
    "titanic = pd.read_csv(\"data/titanic.csv\")\n",
    "titanic.columns = titanic.columns.str.lower()"
   ]
  },
  {
   "cell_type": "code",
   "execution_count": 21,
   "metadata": {},
   "outputs": [
    {
     "name": "stdout",
     "output_type": "stream",
     "text": [
      "(891, 2)\n",
      "(185, 2)\n",
      "(733, 2)\n",
      "<class 'pandas.core.frame.DataFrame'>\n",
      "RangeIndex: 891 entries, 0 to 890\n",
      "Empty DataFrameNone\n"
     ]
    },
    {
     "data": {
      "application/javascript": [
       "\n",
       "            setTimeout(function() {\n",
       "                var nbb_cell_id = 21;\n",
       "                var nbb_unformatted_code = \"# Select the 'age' and 'cabin' columns: df\\ndf = titanic[[\\\"age\\\", \\\"cabin\\\"]]\\n\\n# Print the shape of df\\nprint(df.shape)\\n\\n# Drop rows in df with how='any' and print the shape\\nprint(df.dropna(how=\\\"any\\\").shape)\\n\\n# Drop rows in df with how='all' and print the shape\\nprint(df.dropna(how=\\\"all\\\").shape)\\n\\n# Call .dropna() with thresh=1000 and axis='columns' and print the output of .info() from titanic\\nprint(titanic.dropna(thresh=1000, axis=\\\"columns\\\").info())\";\n",
       "                var nbb_formatted_code = \"# Select the 'age' and 'cabin' columns: df\\ndf = titanic[[\\\"age\\\", \\\"cabin\\\"]]\\n\\n# Print the shape of df\\nprint(df.shape)\\n\\n# Drop rows in df with how='any' and print the shape\\nprint(df.dropna(how=\\\"any\\\").shape)\\n\\n# Drop rows in df with how='all' and print the shape\\nprint(df.dropna(how=\\\"all\\\").shape)\\n\\n# Call .dropna() with thresh=1000 and axis='columns' and print the output of .info() from titanic\\nprint(titanic.dropna(thresh=1000, axis=\\\"columns\\\").info())\";\n",
       "                var nbb_cells = Jupyter.notebook.get_cells();\n",
       "                for (var i = 0; i < nbb_cells.length; ++i) {\n",
       "                    if (nbb_cells[i].input_prompt_number == nbb_cell_id) {\n",
       "                        if (nbb_cells[i].get_text() == nbb_unformatted_code) {\n",
       "                             nbb_cells[i].set_text(nbb_formatted_code);\n",
       "                        }\n",
       "                        break;\n",
       "                    }\n",
       "                }\n",
       "            }, 500);\n",
       "            "
      ],
      "text/plain": [
       "<IPython.core.display.Javascript object>"
      ]
     },
     "metadata": {},
     "output_type": "display_data"
    }
   ],
   "source": [
    "# Select the 'age' and 'cabin' columns: df\n",
    "df = titanic[[\"age\", \"cabin\"]]\n",
    "\n",
    "# Print the shape of df\n",
    "print(df.shape)\n",
    "\n",
    "# Drop rows in df with how='any' and print the shape\n",
    "print(df.dropna(how=\"any\").shape)\n",
    "\n",
    "# Drop rows in df with how='all' and print the shape\n",
    "print(df.dropna(how=\"all\").shape)\n",
    "\n",
    "# Call .dropna() with thresh=1000 and axis='columns' and print the output of .info() from titanic\n",
    "print(titanic.dropna(thresh=1000, axis=\"columns\").info())"
   ]
  },
  {
   "cell_type": "markdown",
   "metadata": {},
   "source": [
    "### Pivoting a single variable"
   ]
  },
  {
   "cell_type": "code",
   "execution_count": 40,
   "metadata": {},
   "outputs": [
    {
     "data": {
      "application/javascript": [
       "\n",
       "            setTimeout(function() {\n",
       "                var nbb_cell_id = 40;\n",
       "                var nbb_unformatted_code = \"users = pd.read_csv(\\\"data/users.csv\\\")\\nusers.columns = users.columns.str.lower()\";\n",
       "                var nbb_formatted_code = \"users = pd.read_csv(\\\"data/users.csv\\\")\\nusers.columns = users.columns.str.lower()\";\n",
       "                var nbb_cells = Jupyter.notebook.get_cells();\n",
       "                for (var i = 0; i < nbb_cells.length; ++i) {\n",
       "                    if (nbb_cells[i].input_prompt_number == nbb_cell_id) {\n",
       "                        if (nbb_cells[i].get_text() == nbb_unformatted_code) {\n",
       "                             nbb_cells[i].set_text(nbb_formatted_code);\n",
       "                        }\n",
       "                        break;\n",
       "                    }\n",
       "                }\n",
       "            }, 500);\n",
       "            "
      ],
      "text/plain": [
       "<IPython.core.display.Javascript object>"
      ]
     },
     "metadata": {},
     "output_type": "display_data"
    }
   ],
   "source": [
    "users = pd.read_csv(\"data/users.csv\")\n",
    "users.columns = users.columns.str.lower()"
   ]
  },
  {
   "cell_type": "code",
   "execution_count": 29,
   "metadata": {},
   "outputs": [
    {
     "ename": "KeyError",
     "evalue": "'weekday'",
     "output_type": "error",
     "traceback": [
      "\u001b[1;31m---------------------------------------------------------------------------\u001b[0m",
      "\u001b[1;31mKeyError\u001b[0m                                  Traceback (most recent call last)",
      "\u001b[1;32m~\\Anaconda3\\lib\\site-packages\\pandas\\core\\indexes\\base.py\u001b[0m in \u001b[0;36mget_loc\u001b[1;34m(self, key, method, tolerance)\u001b[0m\n\u001b[0;32m   3628\u001b[0m             \u001b[1;32mtry\u001b[0m\u001b[1;33m:\u001b[0m\u001b[1;33m\u001b[0m\u001b[1;33m\u001b[0m\u001b[0m\n\u001b[1;32m-> 3629\u001b[1;33m                 \u001b[1;32mreturn\u001b[0m \u001b[0mself\u001b[0m\u001b[1;33m.\u001b[0m\u001b[0m_engine\u001b[0m\u001b[1;33m.\u001b[0m\u001b[0mget_loc\u001b[0m\u001b[1;33m(\u001b[0m\u001b[0mcasted_key\u001b[0m\u001b[1;33m)\u001b[0m\u001b[1;33m\u001b[0m\u001b[1;33m\u001b[0m\u001b[0m\n\u001b[0m\u001b[0;32m   3630\u001b[0m             \u001b[1;32mexcept\u001b[0m \u001b[0mKeyError\u001b[0m \u001b[1;32mas\u001b[0m \u001b[0merr\u001b[0m\u001b[1;33m:\u001b[0m\u001b[1;33m\u001b[0m\u001b[1;33m\u001b[0m\u001b[0m\n",
      "\u001b[1;32m~\\Anaconda3\\lib\\site-packages\\pandas\\_libs\\index.pyx\u001b[0m in \u001b[0;36mpandas._libs.index.IndexEngine.get_loc\u001b[1;34m()\u001b[0m\n",
      "\u001b[1;32m~\\Anaconda3\\lib\\site-packages\\pandas\\_libs\\index.pyx\u001b[0m in \u001b[0;36mpandas._libs.index.IndexEngine.get_loc\u001b[1;34m()\u001b[0m\n",
      "\u001b[1;32mpandas\\_libs\\hashtable_class_helper.pxi\u001b[0m in \u001b[0;36mpandas._libs.hashtable.PyObjectHashTable.get_item\u001b[1;34m()\u001b[0m\n",
      "\u001b[1;32mpandas\\_libs\\hashtable_class_helper.pxi\u001b[0m in \u001b[0;36mpandas._libs.hashtable.PyObjectHashTable.get_item\u001b[1;34m()\u001b[0m\n",
      "\u001b[1;31mKeyError\u001b[0m: 'weekday'",
      "\nThe above exception was the direct cause of the following exception:\n",
      "\u001b[1;31mKeyError\u001b[0m                                  Traceback (most recent call last)",
      "\u001b[1;32m~\\AppData\\Local\\Temp\\ipykernel_14072\\2140259511.py\u001b[0m in \u001b[0;36m<module>\u001b[1;34m\u001b[0m\n\u001b[0;32m      1\u001b[0m \u001b[1;31m#Pivot the users DataFrame: visitors_pivot\u001b[0m\u001b[1;33m\u001b[0m\u001b[1;33m\u001b[0m\u001b[0m\n\u001b[1;32m----> 2\u001b[1;33m \u001b[0mvisitors_pivot\u001b[0m \u001b[1;33m=\u001b[0m \u001b[0musers\u001b[0m\u001b[1;33m.\u001b[0m\u001b[0mpivot\u001b[0m\u001b[1;33m(\u001b[0m\u001b[0mindex\u001b[0m\u001b[1;33m=\u001b[0m\u001b[1;34m'weekday'\u001b[0m\u001b[1;33m,\u001b[0m \u001b[0mcolumns\u001b[0m\u001b[1;33m=\u001b[0m\u001b[1;34m'city'\u001b[0m\u001b[1;33m,\u001b[0m \u001b[0mvalues\u001b[0m\u001b[1;33m=\u001b[0m\u001b[1;34m'visitors'\u001b[0m\u001b[1;33m)\u001b[0m\u001b[1;33m\u001b[0m\u001b[1;33m\u001b[0m\u001b[0m\n\u001b[0m\u001b[0;32m      3\u001b[0m \u001b[1;33m\u001b[0m\u001b[0m\n\u001b[0;32m      4\u001b[0m \u001b[1;31m# Print the pivoted DataFrame\u001b[0m\u001b[1;33m\u001b[0m\u001b[1;33m\u001b[0m\u001b[0m\n\u001b[0;32m      5\u001b[0m \u001b[0mprint\u001b[0m\u001b[1;33m(\u001b[0m\u001b[0mvisitors_pivot\u001b[0m\u001b[1;33m)\u001b[0m\u001b[1;33m\u001b[0m\u001b[1;33m\u001b[0m\u001b[0m\n",
      "\u001b[1;32m~\\Anaconda3\\lib\\site-packages\\pandas\\core\\frame.py\u001b[0m in \u001b[0;36mpivot\u001b[1;34m(self, index, columns, values)\u001b[0m\n\u001b[0;32m   7883\u001b[0m         \u001b[1;32mfrom\u001b[0m \u001b[0mpandas\u001b[0m\u001b[1;33m.\u001b[0m\u001b[0mcore\u001b[0m\u001b[1;33m.\u001b[0m\u001b[0mreshape\u001b[0m\u001b[1;33m.\u001b[0m\u001b[0mpivot\u001b[0m \u001b[1;32mimport\u001b[0m \u001b[0mpivot\u001b[0m\u001b[1;33m\u001b[0m\u001b[1;33m\u001b[0m\u001b[0m\n\u001b[0;32m   7884\u001b[0m \u001b[1;33m\u001b[0m\u001b[0m\n\u001b[1;32m-> 7885\u001b[1;33m         \u001b[1;32mreturn\u001b[0m \u001b[0mpivot\u001b[0m\u001b[1;33m(\u001b[0m\u001b[0mself\u001b[0m\u001b[1;33m,\u001b[0m \u001b[0mindex\u001b[0m\u001b[1;33m=\u001b[0m\u001b[0mindex\u001b[0m\u001b[1;33m,\u001b[0m \u001b[0mcolumns\u001b[0m\u001b[1;33m=\u001b[0m\u001b[0mcolumns\u001b[0m\u001b[1;33m,\u001b[0m \u001b[0mvalues\u001b[0m\u001b[1;33m=\u001b[0m\u001b[0mvalues\u001b[0m\u001b[1;33m)\u001b[0m\u001b[1;33m\u001b[0m\u001b[1;33m\u001b[0m\u001b[0m\n\u001b[0m\u001b[0;32m   7886\u001b[0m \u001b[1;33m\u001b[0m\u001b[0m\n\u001b[0;32m   7887\u001b[0m     _shared_docs[\n",
      "\u001b[1;32m~\\Anaconda3\\lib\\site-packages\\pandas\\core\\reshape\\pivot.py\u001b[0m in \u001b[0;36mpivot\u001b[1;34m(data, index, columns, values)\u001b[0m\n\u001b[0;32m    504\u001b[0m                 \u001b[0mindex_list\u001b[0m \u001b[1;33m=\u001b[0m \u001b[1;33m[\u001b[0m\u001b[0mSeries\u001b[0m\u001b[1;33m(\u001b[0m\u001b[0mdata\u001b[0m\u001b[1;33m.\u001b[0m\u001b[0mindex\u001b[0m\u001b[1;33m,\u001b[0m \u001b[0mname\u001b[0m\u001b[1;33m=\u001b[0m\u001b[0mdata\u001b[0m\u001b[1;33m.\u001b[0m\u001b[0mindex\u001b[0m\u001b[1;33m.\u001b[0m\u001b[0mname\u001b[0m\u001b[1;33m)\u001b[0m\u001b[1;33m]\u001b[0m\u001b[1;33m\u001b[0m\u001b[1;33m\u001b[0m\u001b[0m\n\u001b[0;32m    505\u001b[0m         \u001b[1;32melse\u001b[0m\u001b[1;33m:\u001b[0m\u001b[1;33m\u001b[0m\u001b[1;33m\u001b[0m\u001b[0m\n\u001b[1;32m--> 506\u001b[1;33m             \u001b[0mindex_list\u001b[0m \u001b[1;33m=\u001b[0m \u001b[1;33m[\u001b[0m\u001b[0mdata\u001b[0m\u001b[1;33m[\u001b[0m\u001b[0midx\u001b[0m\u001b[1;33m]\u001b[0m \u001b[1;32mfor\u001b[0m \u001b[0midx\u001b[0m \u001b[1;32min\u001b[0m \u001b[0mcom\u001b[0m\u001b[1;33m.\u001b[0m\u001b[0mconvert_to_list_like\u001b[0m\u001b[1;33m(\u001b[0m\u001b[0mindex\u001b[0m\u001b[1;33m)\u001b[0m\u001b[1;33m]\u001b[0m\u001b[1;33m\u001b[0m\u001b[1;33m\u001b[0m\u001b[0m\n\u001b[0m\u001b[0;32m    507\u001b[0m \u001b[1;33m\u001b[0m\u001b[0m\n\u001b[0;32m    508\u001b[0m         \u001b[0mdata_columns\u001b[0m \u001b[1;33m=\u001b[0m \u001b[1;33m[\u001b[0m\u001b[0mdata\u001b[0m\u001b[1;33m[\u001b[0m\u001b[0mcol\u001b[0m\u001b[1;33m]\u001b[0m \u001b[1;32mfor\u001b[0m \u001b[0mcol\u001b[0m \u001b[1;32min\u001b[0m \u001b[0mcolumns_listlike\u001b[0m\u001b[1;33m]\u001b[0m\u001b[1;33m\u001b[0m\u001b[1;33m\u001b[0m\u001b[0m\n",
      "\u001b[1;32m~\\Anaconda3\\lib\\site-packages\\pandas\\core\\reshape\\pivot.py\u001b[0m in \u001b[0;36m<listcomp>\u001b[1;34m(.0)\u001b[0m\n\u001b[0;32m    504\u001b[0m                 \u001b[0mindex_list\u001b[0m \u001b[1;33m=\u001b[0m \u001b[1;33m[\u001b[0m\u001b[0mSeries\u001b[0m\u001b[1;33m(\u001b[0m\u001b[0mdata\u001b[0m\u001b[1;33m.\u001b[0m\u001b[0mindex\u001b[0m\u001b[1;33m,\u001b[0m \u001b[0mname\u001b[0m\u001b[1;33m=\u001b[0m\u001b[0mdata\u001b[0m\u001b[1;33m.\u001b[0m\u001b[0mindex\u001b[0m\u001b[1;33m.\u001b[0m\u001b[0mname\u001b[0m\u001b[1;33m)\u001b[0m\u001b[1;33m]\u001b[0m\u001b[1;33m\u001b[0m\u001b[1;33m\u001b[0m\u001b[0m\n\u001b[0;32m    505\u001b[0m         \u001b[1;32melse\u001b[0m\u001b[1;33m:\u001b[0m\u001b[1;33m\u001b[0m\u001b[1;33m\u001b[0m\u001b[0m\n\u001b[1;32m--> 506\u001b[1;33m             \u001b[0mindex_list\u001b[0m \u001b[1;33m=\u001b[0m \u001b[1;33m[\u001b[0m\u001b[0mdata\u001b[0m\u001b[1;33m[\u001b[0m\u001b[0midx\u001b[0m\u001b[1;33m]\u001b[0m \u001b[1;32mfor\u001b[0m \u001b[0midx\u001b[0m \u001b[1;32min\u001b[0m \u001b[0mcom\u001b[0m\u001b[1;33m.\u001b[0m\u001b[0mconvert_to_list_like\u001b[0m\u001b[1;33m(\u001b[0m\u001b[0mindex\u001b[0m\u001b[1;33m)\u001b[0m\u001b[1;33m]\u001b[0m\u001b[1;33m\u001b[0m\u001b[1;33m\u001b[0m\u001b[0m\n\u001b[0m\u001b[0;32m    507\u001b[0m \u001b[1;33m\u001b[0m\u001b[0m\n\u001b[0;32m    508\u001b[0m         \u001b[0mdata_columns\u001b[0m \u001b[1;33m=\u001b[0m \u001b[1;33m[\u001b[0m\u001b[0mdata\u001b[0m\u001b[1;33m[\u001b[0m\u001b[0mcol\u001b[0m\u001b[1;33m]\u001b[0m \u001b[1;32mfor\u001b[0m \u001b[0mcol\u001b[0m \u001b[1;32min\u001b[0m \u001b[0mcolumns_listlike\u001b[0m\u001b[1;33m]\u001b[0m\u001b[1;33m\u001b[0m\u001b[1;33m\u001b[0m\u001b[0m\n",
      "\u001b[1;32m~\\Anaconda3\\lib\\site-packages\\pandas\\core\\frame.py\u001b[0m in \u001b[0;36m__getitem__\u001b[1;34m(self, key)\u001b[0m\n\u001b[0;32m   3503\u001b[0m             \u001b[1;32mif\u001b[0m \u001b[0mself\u001b[0m\u001b[1;33m.\u001b[0m\u001b[0mcolumns\u001b[0m\u001b[1;33m.\u001b[0m\u001b[0mnlevels\u001b[0m \u001b[1;33m>\u001b[0m \u001b[1;36m1\u001b[0m\u001b[1;33m:\u001b[0m\u001b[1;33m\u001b[0m\u001b[1;33m\u001b[0m\u001b[0m\n\u001b[0;32m   3504\u001b[0m                 \u001b[1;32mreturn\u001b[0m \u001b[0mself\u001b[0m\u001b[1;33m.\u001b[0m\u001b[0m_getitem_multilevel\u001b[0m\u001b[1;33m(\u001b[0m\u001b[0mkey\u001b[0m\u001b[1;33m)\u001b[0m\u001b[1;33m\u001b[0m\u001b[1;33m\u001b[0m\u001b[0m\n\u001b[1;32m-> 3505\u001b[1;33m             \u001b[0mindexer\u001b[0m \u001b[1;33m=\u001b[0m \u001b[0mself\u001b[0m\u001b[1;33m.\u001b[0m\u001b[0mcolumns\u001b[0m\u001b[1;33m.\u001b[0m\u001b[0mget_loc\u001b[0m\u001b[1;33m(\u001b[0m\u001b[0mkey\u001b[0m\u001b[1;33m)\u001b[0m\u001b[1;33m\u001b[0m\u001b[1;33m\u001b[0m\u001b[0m\n\u001b[0m\u001b[0;32m   3506\u001b[0m             \u001b[1;32mif\u001b[0m \u001b[0mis_integer\u001b[0m\u001b[1;33m(\u001b[0m\u001b[0mindexer\u001b[0m\u001b[1;33m)\u001b[0m\u001b[1;33m:\u001b[0m\u001b[1;33m\u001b[0m\u001b[1;33m\u001b[0m\u001b[0m\n\u001b[0;32m   3507\u001b[0m                 \u001b[0mindexer\u001b[0m \u001b[1;33m=\u001b[0m \u001b[1;33m[\u001b[0m\u001b[0mindexer\u001b[0m\u001b[1;33m]\u001b[0m\u001b[1;33m\u001b[0m\u001b[1;33m\u001b[0m\u001b[0m\n",
      "\u001b[1;32m~\\Anaconda3\\lib\\site-packages\\pandas\\core\\indexes\\base.py\u001b[0m in \u001b[0;36mget_loc\u001b[1;34m(self, key, method, tolerance)\u001b[0m\n\u001b[0;32m   3629\u001b[0m                 \u001b[1;32mreturn\u001b[0m \u001b[0mself\u001b[0m\u001b[1;33m.\u001b[0m\u001b[0m_engine\u001b[0m\u001b[1;33m.\u001b[0m\u001b[0mget_loc\u001b[0m\u001b[1;33m(\u001b[0m\u001b[0mcasted_key\u001b[0m\u001b[1;33m)\u001b[0m\u001b[1;33m\u001b[0m\u001b[1;33m\u001b[0m\u001b[0m\n\u001b[0;32m   3630\u001b[0m             \u001b[1;32mexcept\u001b[0m \u001b[0mKeyError\u001b[0m \u001b[1;32mas\u001b[0m \u001b[0merr\u001b[0m\u001b[1;33m:\u001b[0m\u001b[1;33m\u001b[0m\u001b[1;33m\u001b[0m\u001b[0m\n\u001b[1;32m-> 3631\u001b[1;33m                 \u001b[1;32mraise\u001b[0m \u001b[0mKeyError\u001b[0m\u001b[1;33m(\u001b[0m\u001b[0mkey\u001b[0m\u001b[1;33m)\u001b[0m \u001b[1;32mfrom\u001b[0m \u001b[0merr\u001b[0m\u001b[1;33m\u001b[0m\u001b[1;33m\u001b[0m\u001b[0m\n\u001b[0m\u001b[0;32m   3632\u001b[0m             \u001b[1;32mexcept\u001b[0m \u001b[0mTypeError\u001b[0m\u001b[1;33m:\u001b[0m\u001b[1;33m\u001b[0m\u001b[1;33m\u001b[0m\u001b[0m\n\u001b[0;32m   3633\u001b[0m                 \u001b[1;31m# If we have a listlike key, _check_indexing_error will raise\u001b[0m\u001b[1;33m\u001b[0m\u001b[1;33m\u001b[0m\u001b[0m\n",
      "\u001b[1;31mKeyError\u001b[0m: 'weekday'"
     ]
    },
    {
     "data": {
      "application/javascript": [
       "\n",
       "            setTimeout(function() {\n",
       "                var nbb_cell_id = 29;\n",
       "                var nbb_unformatted_code = \"#Pivot the users DataFrame: visitors_pivot\\nvisitors_pivot = users.pivot(index='weekday', columns='city', values='visitors')\\n\\n# Print the pivoted DataFrame\\nprint(visitors_pivot)\";\n",
       "                var nbb_formatted_code = \"# Pivot the users DataFrame: visitors_pivot\\nvisitors_pivot = users.pivot(index=\\\"weekday\\\", columns=\\\"city\\\", values=\\\"visitors\\\")\\n\\n# Print the pivoted DataFrame\\nprint(visitors_pivot)\";\n",
       "                var nbb_cells = Jupyter.notebook.get_cells();\n",
       "                for (var i = 0; i < nbb_cells.length; ++i) {\n",
       "                    if (nbb_cells[i].input_prompt_number == nbb_cell_id) {\n",
       "                        if (nbb_cells[i].get_text() == nbb_unformatted_code) {\n",
       "                             nbb_cells[i].set_text(nbb_formatted_code);\n",
       "                        }\n",
       "                        break;\n",
       "                    }\n",
       "                }\n",
       "            }, 500);\n",
       "            "
      ],
      "text/plain": [
       "<IPython.core.display.Javascript object>"
      ]
     },
     "metadata": {},
     "output_type": "display_data"
    }
   ],
   "source": [
    "# Pivot the users DataFrame: visitors_pivot\n",
    "visitors_pivot = users.pivot(index=\"weekday\", columns=\"city\", values=\"visitors\")\n",
    "\n",
    "# Print the pivoted DataFrame\n",
    "print(visitors_pivot)"
   ]
  },
  {
   "cell_type": "markdown",
   "metadata": {},
   "source": [
    "### Pivoting all variables"
   ]
  },
  {
   "cell_type": "code",
   "execution_count": 24,
   "metadata": {},
   "outputs": [
    {
     "name": "stdout",
     "output_type": "stream",
     "text": [
      "city     Austin  Dallas\n",
      "weekday                \n",
      "Mon           3       5\n",
      "Sun           7      12\n",
      "        unnamed: 0        visitors        signups       \n",
      "city        Austin Dallas   Austin Dallas  Austin Dallas\n",
      "weekday                                                 \n",
      "Mon              2      3      326    456       3      5\n",
      "Sun              0      1      139    237       7     12\n"
     ]
    },
    {
     "data": {
      "application/javascript": [
       "\n",
       "            setTimeout(function() {\n",
       "                var nbb_cell_id = 24;\n",
       "                var nbb_unformatted_code = \"# Pivot users with signups indexed by weekday and city: signups_pivot\\nsignups_pivot = users.pivot(index=\\\"weekday\\\", columns=\\\"city\\\", values=\\\"signups\\\")\\n\\n# Print signups_pivot\\nprint(signups_pivot)\\n\\n# Pivot users pivoted by both signups and visitors: pivot\\npivot = users.pivot(index=\\\"weekday\\\", columns=\\\"city\\\")\\n\\n# Print the pivoted DataFrame\\nprint(pivot)\";\n",
       "                var nbb_formatted_code = \"# Pivot users with signups indexed by weekday and city: signups_pivot\\nsignups_pivot = users.pivot(index=\\\"weekday\\\", columns=\\\"city\\\", values=\\\"signups\\\")\\n\\n# Print signups_pivot\\nprint(signups_pivot)\\n\\n# Pivot users pivoted by both signups and visitors: pivot\\npivot = users.pivot(index=\\\"weekday\\\", columns=\\\"city\\\")\\n\\n# Print the pivoted DataFrame\\nprint(pivot)\";\n",
       "                var nbb_cells = Jupyter.notebook.get_cells();\n",
       "                for (var i = 0; i < nbb_cells.length; ++i) {\n",
       "                    if (nbb_cells[i].input_prompt_number == nbb_cell_id) {\n",
       "                        if (nbb_cells[i].get_text() == nbb_unformatted_code) {\n",
       "                             nbb_cells[i].set_text(nbb_formatted_code);\n",
       "                        }\n",
       "                        break;\n",
       "                    }\n",
       "                }\n",
       "            }, 500);\n",
       "            "
      ],
      "text/plain": [
       "<IPython.core.display.Javascript object>"
      ]
     },
     "metadata": {},
     "output_type": "display_data"
    }
   ],
   "source": [
    "# Pivot users with signups indexed by weekday and city: signups_pivot\n",
    "signups_pivot = users.pivot(index=\"weekday\", columns=\"city\", values=\"signups\")\n",
    "\n",
    "# Print signups_pivot\n",
    "print(signups_pivot)\n",
    "\n",
    "# Pivot users pivoted by both signups and visitors: pivot\n",
    "pivot = users.pivot(index=\"weekday\", columns=\"city\")\n",
    "\n",
    "# Print the pivoted DataFrame\n",
    "print(pivot)\n"
   ]
  },
  {
   "cell_type": "code",
   "execution_count": 31,
   "metadata": {},
   "outputs": [
    {
     "data": {
      "application/javascript": [
       "\n",
       "            setTimeout(function() {\n",
       "                var nbb_cell_id = 31;\n",
       "                var nbb_unformatted_code = \"users.set_index(['weekday', 'city'], inplace=True)  # set multi-level index\\nstacked = users.stack()  # stack the DataFrame\";\n",
       "                var nbb_formatted_code = \"users.set_index([\\\"weekday\\\", \\\"city\\\"], inplace=True)  # set multi-level index\\nstacked = users.stack()  # stack the DataFrame\";\n",
       "                var nbb_cells = Jupyter.notebook.get_cells();\n",
       "                for (var i = 0; i < nbb_cells.length; ++i) {\n",
       "                    if (nbb_cells[i].input_prompt_number == nbb_cell_id) {\n",
       "                        if (nbb_cells[i].get_text() == nbb_unformatted_code) {\n",
       "                             nbb_cells[i].set_text(nbb_formatted_code);\n",
       "                        }\n",
       "                        break;\n",
       "                    }\n",
       "                }\n",
       "            }, 500);\n",
       "            "
      ],
      "text/plain": [
       "<IPython.core.display.Javascript object>"
      ]
     },
     "metadata": {},
     "output_type": "display_data"
    }
   ],
   "source": [
    "users.set_index(['weekday', 'city'], inplace=True)  # set multi-level index\n",
    "stacked = users.stack()  # stack the DataFrame\n"
   ]
  },
  {
   "cell_type": "markdown",
   "metadata": {},
   "source": [
    "### Stacking & unstacking I"
   ]
  },
  {
   "cell_type": "code",
   "execution_count": 32,
   "metadata": {},
   "outputs": [
    {
     "data": {
      "application/javascript": [
       "\n",
       "            setTimeout(function() {\n",
       "                var nbb_cell_id = 32;\n",
       "                var nbb_unformatted_code = \"unstacked = stacked.unstack(level='weekday')  # unstack by 'weekday'\";\n",
       "                var nbb_formatted_code = \"unstacked = stacked.unstack(level=\\\"weekday\\\")  # unstack by 'weekday'\";\n",
       "                var nbb_cells = Jupyter.notebook.get_cells();\n",
       "                for (var i = 0; i < nbb_cells.length; ++i) {\n",
       "                    if (nbb_cells[i].input_prompt_number == nbb_cell_id) {\n",
       "                        if (nbb_cells[i].get_text() == nbb_unformatted_code) {\n",
       "                             nbb_cells[i].set_text(nbb_formatted_code);\n",
       "                        }\n",
       "                        break;\n",
       "                    }\n",
       "                }\n",
       "            }, 500);\n",
       "            "
      ],
      "text/plain": [
       "<IPython.core.display.Javascript object>"
      ]
     },
     "metadata": {},
     "output_type": "display_data"
    }
   ],
   "source": [
    "unstacked = stacked.unstack(level='weekday')  # unstack by 'weekday'\n"
   ]
  },
  {
   "cell_type": "markdown",
   "metadata": {},
   "source": [
    "### Stacking & unstacking II"
   ]
  },
  {
   "cell_type": "code",
   "execution_count": 33,
   "metadata": {},
   "outputs": [
    {
     "name": "stdout",
     "output_type": "stream",
     "text": [
      "        unnamed: 0        visitors        signups       \n",
      "city        Austin Dallas   Austin Dallas  Austin Dallas\n",
      "weekday                                                 \n",
      "Mon              2      3      326    456       3      5\n",
      "Sun              0      1      139    237       7     12\n",
      "                unnamed: 0  visitors  signups\n",
      "weekday city                                 \n",
      "Mon     Austin           2       326        3\n",
      "        Dallas           3       456        5\n",
      "Sun     Austin           0       139        7\n",
      "        Dallas           1       237       12\n"
     ]
    },
    {
     "data": {
      "application/javascript": [
       "\n",
       "            setTimeout(function() {\n",
       "                var nbb_cell_id = 33;\n",
       "                var nbb_unformatted_code = \"# Unstack users by 'city': bycity\\nbycity = users.unstack(level=\\\"city\\\")\\n\\n# Print the bycity DataFrame\\nprint(bycity)\\n\\n# Stack bycity by 'city' and print it\\nprint(bycity.stack(level=\\\"city\\\"))\";\n",
       "                var nbb_formatted_code = \"# Unstack users by 'city': bycity\\nbycity = users.unstack(level=\\\"city\\\")\\n\\n# Print the bycity DataFrame\\nprint(bycity)\\n\\n# Stack bycity by 'city' and print it\\nprint(bycity.stack(level=\\\"city\\\"))\";\n",
       "                var nbb_cells = Jupyter.notebook.get_cells();\n",
       "                for (var i = 0; i < nbb_cells.length; ++i) {\n",
       "                    if (nbb_cells[i].input_prompt_number == nbb_cell_id) {\n",
       "                        if (nbb_cells[i].get_text() == nbb_unformatted_code) {\n",
       "                             nbb_cells[i].set_text(nbb_formatted_code);\n",
       "                        }\n",
       "                        break;\n",
       "                    }\n",
       "                }\n",
       "            }, 500);\n",
       "            "
      ],
      "text/plain": [
       "<IPython.core.display.Javascript object>"
      ]
     },
     "metadata": {},
     "output_type": "display_data"
    }
   ],
   "source": [
    "# Unstack users by 'city': bycity\n",
    "bycity = users.unstack(level=\"city\")\n",
    "\n",
    "# Print the bycity DataFrame\n",
    "print(bycity)\n",
    "\n",
    "# Stack bycity by 'city' and print it\n",
    "print(bycity.stack(level=\"city\"))"
   ]
  },
  {
   "cell_type": "markdown",
   "metadata": {},
   "source": [
    "### Restoring the index order"
   ]
  },
  {
   "cell_type": "code",
   "execution_count": 38,
   "metadata": {},
   "outputs": [
    {
     "name": "stdout",
     "output_type": "stream",
     "text": [
      "                unnamed: 0  visitors  signups\n",
      "city   weekday                               \n",
      "Austin Mon               2       326        3\n",
      "Dallas Mon               3       456        5\n",
      "Austin Sun               0       139        7\n",
      "Dallas Sun               1       237       12\n",
      "                unnamed: 0  visitors  signups\n",
      "city   weekday                               \n",
      "Austin Mon               2       326        3\n",
      "       Sun               0       139        7\n",
      "Dallas Mon               3       456        5\n",
      "       Sun               1       237       12\n",
      "False\n"
     ]
    },
    {
     "data": {
      "application/javascript": [
       "\n",
       "            setTimeout(function() {\n",
       "                var nbb_cell_id = 38;\n",
       "                var nbb_unformatted_code = \"# Stack 'city' back into the index of bycity: newusers\\nnewusers = bycity.stack(level=\\\"city\\\")\\n\\n# Swap the levels of the index of newusers: newusers\\nnewusers = newusers.swaplevel(0, 1)\\n\\n# Print newusers and verify that the index is not sorted\\nprint(newusers)\\n\\n# Sort the index of newusers: newusers\\nnewusers = newusers.sort_index()\\n\\n# Print newusers and verify that the index is now sorted\\nprint(newusers)\\n\\n# Verify that the new DataFrame is equal to the original\\nprint(newusers.equals(users))\";\n",
       "                var nbb_formatted_code = \"# Stack 'city' back into the index of bycity: newusers\\nnewusers = bycity.stack(level=\\\"city\\\")\\n\\n# Swap the levels of the index of newusers: newusers\\nnewusers = newusers.swaplevel(0, 1)\\n\\n# Print newusers and verify that the index is not sorted\\nprint(newusers)\\n\\n# Sort the index of newusers: newusers\\nnewusers = newusers.sort_index()\\n\\n# Print newusers and verify that the index is now sorted\\nprint(newusers)\\n\\n# Verify that the new DataFrame is equal to the original\\nprint(newusers.equals(users))\";\n",
       "                var nbb_cells = Jupyter.notebook.get_cells();\n",
       "                for (var i = 0; i < nbb_cells.length; ++i) {\n",
       "                    if (nbb_cells[i].input_prompt_number == nbb_cell_id) {\n",
       "                        if (nbb_cells[i].get_text() == nbb_unformatted_code) {\n",
       "                             nbb_cells[i].set_text(nbb_formatted_code);\n",
       "                        }\n",
       "                        break;\n",
       "                    }\n",
       "                }\n",
       "            }, 500);\n",
       "            "
      ],
      "text/plain": [
       "<IPython.core.display.Javascript object>"
      ]
     },
     "metadata": {},
     "output_type": "display_data"
    }
   ],
   "source": [
    "# Stack 'city' back into the index of bycity: newusers\n",
    "newusers = bycity.stack(level=\"city\")\n",
    "\n",
    "# Swap the levels of the index of newusers: newusers\n",
    "newusers = newusers.swaplevel(0, 1)\n",
    "\n",
    "# Print newusers and verify that the index is not sorted\n",
    "print(newusers)\n",
    "\n",
    "# Sort the index of newusers: newusers\n",
    "newusers = newusers.sort_index()\n",
    "\n",
    "# Print newusers and verify that the index is now sorted\n",
    "print(newusers)\n",
    "\n",
    "# Verify that the new DataFrame is equal to the original\n",
    "print(newusers.equals(users))"
   ]
  },
  {
   "cell_type": "code",
   "execution_count": 41,
   "metadata": {},
   "outputs": [
    {
     "name": "stdout",
     "output_type": "stream",
     "text": [
      "                unnamed: 0  visitors  signups\n",
      "city   weekday                               \n",
      "Austin Sun               0       139        7\n",
      "Dallas Sun               1       237       12\n",
      "Austin Mon               2       326        3\n",
      "Dallas Mon               3       456        5\n",
      "      variable  value\n",
      "0   unnamed: 0      0\n",
      "1   unnamed: 0      1\n",
      "2   unnamed: 0      2\n",
      "3   unnamed: 0      3\n",
      "4     visitors    139\n",
      "5     visitors    237\n",
      "6     visitors    326\n",
      "7     visitors    456\n",
      "8      signups      7\n",
      "9      signups     12\n",
      "10     signups      3\n",
      "11     signups      5\n"
     ]
    },
    {
     "data": {
      "application/javascript": [
       "\n",
       "            setTimeout(function() {\n",
       "                var nbb_cell_id = 41;\n",
       "                var nbb_unformatted_code = \"# Set the new index: users_idx\\nusers_idx = users.set_index([\\\"city\\\", \\\"weekday\\\"])\\n\\n# Print the users_idx DataFrame\\nprint(users_idx)\\n\\n# Obtain the key-value pairs: kv_pairs\\nkv_pairs = pd.melt(users_idx, col_level=0)\\n\\n# Print the key-value pairs\\nprint(kv_pairs)\";\n",
       "                var nbb_formatted_code = \"# Set the new index: users_idx\\nusers_idx = users.set_index([\\\"city\\\", \\\"weekday\\\"])\\n\\n# Print the users_idx DataFrame\\nprint(users_idx)\\n\\n# Obtain the key-value pairs: kv_pairs\\nkv_pairs = pd.melt(users_idx, col_level=0)\\n\\n# Print the key-value pairs\\nprint(kv_pairs)\";\n",
       "                var nbb_cells = Jupyter.notebook.get_cells();\n",
       "                for (var i = 0; i < nbb_cells.length; ++i) {\n",
       "                    if (nbb_cells[i].input_prompt_number == nbb_cell_id) {\n",
       "                        if (nbb_cells[i].get_text() == nbb_unformatted_code) {\n",
       "                             nbb_cells[i].set_text(nbb_formatted_code);\n",
       "                        }\n",
       "                        break;\n",
       "                    }\n",
       "                }\n",
       "            }, 500);\n",
       "            "
      ],
      "text/plain": [
       "<IPython.core.display.Javascript object>"
      ]
     },
     "metadata": {},
     "output_type": "display_data"
    }
   ],
   "source": [
    "# Set the new index: users_idx\n",
    "users_idx = users.set_index([\"city\", \"weekday\"])\n",
    "\n",
    "# Print the users_idx DataFrame\n",
    "print(users_idx)\n",
    "\n",
    "# Obtain the key-value pairs: kv_pairs\n",
    "kv_pairs = pd.melt(users_idx, col_level=0)\n",
    "\n",
    "# Print the key-value pairs\n",
    "print(kv_pairs)"
   ]
  },
  {
   "cell_type": "markdown",
   "metadata": {},
   "source": [
    "### Setting up a pivot table"
   ]
  },
  {
   "cell_type": "code",
   "execution_count": 42,
   "metadata": {},
   "outputs": [
    {
     "name": "stdout",
     "output_type": "stream",
     "text": [
      "        signups        unnamed: 0        visitors       \n",
      "city     Austin Dallas     Austin Dallas   Austin Dallas\n",
      "weekday                                                 \n",
      "Mon           3      5          2      3      326    456\n",
      "Sun           7     12          0      1      139    237\n"
     ]
    },
    {
     "data": {
      "application/javascript": [
       "\n",
       "            setTimeout(function() {\n",
       "                var nbb_cell_id = 42;\n",
       "                var nbb_unformatted_code = \"# Create the DataFrame with the appropriate pivot table: by_city_day\\nby_city_day = users.pivot_table(index=\\\"weekday\\\", columns=\\\"city\\\")\\n\\n# Print by_city_day\\nprint(by_city_day)\";\n",
       "                var nbb_formatted_code = \"# Create the DataFrame with the appropriate pivot table: by_city_day\\nby_city_day = users.pivot_table(index=\\\"weekday\\\", columns=\\\"city\\\")\\n\\n# Print by_city_day\\nprint(by_city_day)\";\n",
       "                var nbb_cells = Jupyter.notebook.get_cells();\n",
       "                for (var i = 0; i < nbb_cells.length; ++i) {\n",
       "                    if (nbb_cells[i].input_prompt_number == nbb_cell_id) {\n",
       "                        if (nbb_cells[i].get_text() == nbb_unformatted_code) {\n",
       "                             nbb_cells[i].set_text(nbb_formatted_code);\n",
       "                        }\n",
       "                        break;\n",
       "                    }\n",
       "                }\n",
       "            }, 500);\n",
       "            "
      ],
      "text/plain": [
       "<IPython.core.display.Javascript object>"
      ]
     },
     "metadata": {},
     "output_type": "display_data"
    }
   ],
   "source": [
    "# Create the DataFrame with the appropriate pivot table: by_city_day\n",
    "by_city_day = users.pivot_table(index=\"weekday\", columns=\"city\")\n",
    "\n",
    "# Print by_city_day\n",
    "print(by_city_day)"
   ]
  },
  {
   "cell_type": "markdown",
   "metadata": {},
   "source": [
    "### Using other aggregations in pivot tables"
   ]
  },
  {
   "cell_type": "code",
   "execution_count": 43,
   "metadata": {},
   "outputs": [
    {
     "name": "stdout",
     "output_type": "stream",
     "text": [
      "         city  signups  unnamed: 0  visitors\n",
      "weekday                                     \n",
      "Mon         2        2           2         2\n",
      "Sun         2        2           2         2\n",
      "True\n"
     ]
    },
    {
     "data": {
      "application/javascript": [
       "\n",
       "            setTimeout(function() {\n",
       "                var nbb_cell_id = 43;\n",
       "                var nbb_unformatted_code = \"# Use a pivot table to display the count of each column: count_by_weekday1\\ncount_by_weekday1 = users.pivot_table(index=\\\"weekday\\\",  aggfunc=\\\"count\\\")\\n\\n# Print count_by_weekday\\nprint(count_by_weekday1)\\n\\n# Replace 'aggfunc='count'' with 'aggfunc=len': count_by_weekday2\\ncount_by_weekday2 = users.pivot_table(index=\\\"weekday\\\", aggfunc=\\\"count\\\")\\n\\n# Verify that the same result is obtained\\n\\nprint(count_by_weekday1.equals(count_by_weekday2))\";\n",
       "                var nbb_formatted_code = \"# Use a pivot table to display the count of each column: count_by_weekday1\\ncount_by_weekday1 = users.pivot_table(index=\\\"weekday\\\", aggfunc=\\\"count\\\")\\n\\n# Print count_by_weekday\\nprint(count_by_weekday1)\\n\\n# Replace 'aggfunc='count'' with 'aggfunc=len': count_by_weekday2\\ncount_by_weekday2 = users.pivot_table(index=\\\"weekday\\\", aggfunc=\\\"count\\\")\\n\\n# Verify that the same result is obtained\\n\\nprint(count_by_weekday1.equals(count_by_weekday2))\";\n",
       "                var nbb_cells = Jupyter.notebook.get_cells();\n",
       "                for (var i = 0; i < nbb_cells.length; ++i) {\n",
       "                    if (nbb_cells[i].input_prompt_number == nbb_cell_id) {\n",
       "                        if (nbb_cells[i].get_text() == nbb_unformatted_code) {\n",
       "                             nbb_cells[i].set_text(nbb_formatted_code);\n",
       "                        }\n",
       "                        break;\n",
       "                    }\n",
       "                }\n",
       "            }, 500);\n",
       "            "
      ],
      "text/plain": [
       "<IPython.core.display.Javascript object>"
      ]
     },
     "metadata": {},
     "output_type": "display_data"
    }
   ],
   "source": [
    "# Use a pivot table to display the count of each column: count_by_weekday1\n",
    "count_by_weekday1 = users.pivot_table(index=\"weekday\", aggfunc=\"count\")\n",
    "\n",
    "# Print count_by_weekday\n",
    "print(count_by_weekday1)\n",
    "\n",
    "# Replace 'aggfunc='count'' with 'aggfunc=len': count_by_weekday2\n",
    "count_by_weekday2 = users.pivot_table(index=\"weekday\", aggfunc=\"count\")\n",
    "\n",
    "# Verify that the same result is obtained\n",
    "\n",
    "print(count_by_weekday1.equals(count_by_weekday2))"
   ]
  },
  {
   "cell_type": "markdown",
   "metadata": {},
   "source": [
    "### Using margins in pivot tables"
   ]
  },
  {
   "cell_type": "code",
   "execution_count": 44,
   "metadata": {},
   "outputs": [
    {
     "name": "stdout",
     "output_type": "stream",
     "text": [
      "         signups  unnamed: 0  visitors\n",
      "weekday                               \n",
      "Mon            8           5       782\n",
      "Sun           19           1       376\n",
      "         signups  unnamed: 0  visitors\n",
      "weekday                               \n",
      "Mon            8           5       782\n",
      "Sun           19           1       376\n",
      "All           27           6      1158\n"
     ]
    },
    {
     "data": {
      "application/javascript": [
       "\n",
       "            setTimeout(function() {\n",
       "                var nbb_cell_id = 44;\n",
       "                var nbb_unformatted_code = \"# Create the DataFrame with the appropriate pivot table: signups_and_visitors\\nsignups_and_visitors = users.pivot_table(index=\\\"weekday\\\", aggfunc=sum)\\n\\n# Print signups_and_visitors\\nprint(signups_and_visitors)\\n\\n# Add in the margins: signups_and_visitors_total \\nsignups_and_visitors_total = users.pivot_table(index=\\\"weekday\\\", aggfunc=sum, margins=True)\\n\\n# Print signups_and_visitors_total\\nprint(signups_and_visitors_total)\";\n",
       "                var nbb_formatted_code = \"# Create the DataFrame with the appropriate pivot table: signups_and_visitors\\nsignups_and_visitors = users.pivot_table(index=\\\"weekday\\\", aggfunc=sum)\\n\\n# Print signups_and_visitors\\nprint(signups_and_visitors)\\n\\n# Add in the margins: signups_and_visitors_total\\nsignups_and_visitors_total = users.pivot_table(\\n    index=\\\"weekday\\\", aggfunc=sum, margins=True\\n)\\n\\n# Print signups_and_visitors_total\\nprint(signups_and_visitors_total)\";\n",
       "                var nbb_cells = Jupyter.notebook.get_cells();\n",
       "                for (var i = 0; i < nbb_cells.length; ++i) {\n",
       "                    if (nbb_cells[i].input_prompt_number == nbb_cell_id) {\n",
       "                        if (nbb_cells[i].get_text() == nbb_unformatted_code) {\n",
       "                             nbb_cells[i].set_text(nbb_formatted_code);\n",
       "                        }\n",
       "                        break;\n",
       "                    }\n",
       "                }\n",
       "            }, 500);\n",
       "            "
      ],
      "text/plain": [
       "<IPython.core.display.Javascript object>"
      ]
     },
     "metadata": {},
     "output_type": "display_data"
    }
   ],
   "source": [
    "# Create the DataFrame with the appropriate pivot table: signups_and_visitors\n",
    "signups_and_visitors = users.pivot_table(index=\"weekday\", aggfunc=sum)\n",
    "\n",
    "# Print signups_and_visitors\n",
    "print(signups_and_visitors)\n",
    "\n",
    "# Add in the margins: signups_and_visitors_total\n",
    "signups_and_visitors_total = users.pivot_table(\n",
    "    index=\"weekday\", aggfunc=sum, margins=True\n",
    ")\n",
    "\n",
    "# Print signups_and_visitors_total\n",
    "print(signups_and_visitors_total)"
   ]
  },
  {
   "cell_type": "markdown",
   "metadata": {},
   "source": [
    "### Grouping by multiple columns"
   ]
  },
  {
   "cell_type": "code",
   "execution_count": 46,
   "metadata": {},
   "outputs": [
    {
     "name": "stdout",
     "output_type": "stream",
     "text": [
      "pclass\n",
      "1    216\n",
      "2    184\n",
      "3    491\n",
      "Name: survived, dtype: int64\n",
      "embarked  pclass\n",
      "C         1          85\n",
      "          2          17\n",
      "          3          66\n",
      "Q         1           2\n",
      "          2           3\n",
      "          3          72\n",
      "S         1         127\n",
      "          2         164\n",
      "          3         353\n",
      "Name: survived, dtype: int64\n"
     ]
    },
    {
     "data": {
      "application/javascript": [
       "\n",
       "            setTimeout(function() {\n",
       "                var nbb_cell_id = 46;\n",
       "                var nbb_unformatted_code = \"# Group titanic by 'pclass'\\nby_class = titanic.groupby('pclass')\\n\\n# Aggregate 'survived' column of by_class by count\\ncount_by_class = by_class['survived'].count()\\n\\n# Print count_by_class\\nprint(count_by_class)\\n\\n# Group titanic by 'embarked' and 'pclass'\\nby_mult = titanic.groupby(['embarked','pclass'])\\n\\n# Aggregate 'survived' column of by_mult by count\\ncount_mult = by_mult['survived'].count()\\n\\n# Print count_mult\\nprint(count_mult)\";\n",
       "                var nbb_formatted_code = \"# Group titanic by 'pclass'\\nby_class = titanic.groupby(\\\"pclass\\\")\\n\\n# Aggregate 'survived' column of by_class by count\\ncount_by_class = by_class[\\\"survived\\\"].count()\\n\\n# Print count_by_class\\nprint(count_by_class)\\n\\n# Group titanic by 'embarked' and 'pclass'\\nby_mult = titanic.groupby([\\\"embarked\\\", \\\"pclass\\\"])\\n\\n# Aggregate 'survived' column of by_mult by count\\ncount_mult = by_mult[\\\"survived\\\"].count()\\n\\n# Print count_mult\\nprint(count_mult)\";\n",
       "                var nbb_cells = Jupyter.notebook.get_cells();\n",
       "                for (var i = 0; i < nbb_cells.length; ++i) {\n",
       "                    if (nbb_cells[i].input_prompt_number == nbb_cell_id) {\n",
       "                        if (nbb_cells[i].get_text() == nbb_unformatted_code) {\n",
       "                             nbb_cells[i].set_text(nbb_formatted_code);\n",
       "                        }\n",
       "                        break;\n",
       "                    }\n",
       "                }\n",
       "            }, 500);\n",
       "            "
      ],
      "text/plain": [
       "<IPython.core.display.Javascript object>"
      ]
     },
     "metadata": {},
     "output_type": "display_data"
    }
   ],
   "source": [
    "# Group titanic by 'pclass'\n",
    "by_class = titanic.groupby(\"pclass\")\n",
    "\n",
    "# Aggregate 'survived' column of by_class by count\n",
    "count_by_class = by_class[\"survived\"].count()\n",
    "\n",
    "# Print count_by_class\n",
    "print(count_by_class)\n",
    "\n",
    "# Group titanic by 'embarked' and 'pclass'\n",
    "by_mult = titanic.groupby([\"embarked\", \"pclass\"])\n",
    "\n",
    "# Aggregate 'survived' column of by_mult by count\n",
    "count_mult = by_mult[\"survived\"].count()\n",
    "\n",
    "# Print count_mult\n",
    "print(count_mult)"
   ]
  },
  {
   "cell_type": "markdown",
   "metadata": {},
   "source": [
    "### Grouping by another series"
   ]
  },
  {
   "cell_type": "code",
   "execution_count": 50,
   "metadata": {},
   "outputs": [
    {
     "name": "stdout",
     "output_type": "stream",
     "text": [
      "region\n",
      "America                       74.037350\n",
      "East Asia & Pacific           73.405750\n",
      "Europe & Central Asia         75.656387\n",
      "Middle East & North Africa    72.805333\n",
      "South Asia                    68.189750\n",
      "Sub-Saharan Africa            57.575080\n",
      "Name: 2010, dtype: float64\n"
     ]
    },
    {
     "data": {
      "application/javascript": [
       "\n",
       "            setTimeout(function() {\n",
       "                var nbb_cell_id = 50;\n",
       "                var nbb_unformatted_code = \"# Read life_fname into a DataFrame: life\\nlife = pd.read_csv(\\n    \\\"https://s3.amazonaws.com/assets.datacamp.com/production/course_1650/datasets/life_expectancy.csv\\\"\\n    , index_col = \\\"Country\\\")\\n\\n# Read regions_fname into a DataFrame: regions\\nregions = pd.read_csv('https://s3.amazonaws.com/assets.datacamp.com/production/course_1650/datasets/regions.csv', \\n                      index_col='Country')\\n\\n# Group life by regions['region']: life_by_region\\nlife_by_region = life.groupby(regions['region'])\\n\\n# Print the mean over the '2010' column of life_by_region\\nprint(life_by_region['2010'].mean())\";\n",
       "                var nbb_formatted_code = \"# Read life_fname into a DataFrame: life\\nlife = pd.read_csv(\\n    \\\"https://s3.amazonaws.com/assets.datacamp.com/production/course_1650/datasets/life_expectancy.csv\\\",\\n    index_col=\\\"Country\\\",\\n)\\n\\n# Read regions_fname into a DataFrame: regions\\nregions = pd.read_csv(\\n    \\\"https://s3.amazonaws.com/assets.datacamp.com/production/course_1650/datasets/regions.csv\\\",\\n    index_col=\\\"Country\\\",\\n)\\n\\n# Group life by regions['region']: life_by_region\\nlife_by_region = life.groupby(regions[\\\"region\\\"])\\n\\n# Print the mean over the '2010' column of life_by_region\\nprint(life_by_region[\\\"2010\\\"].mean())\";\n",
       "                var nbb_cells = Jupyter.notebook.get_cells();\n",
       "                for (var i = 0; i < nbb_cells.length; ++i) {\n",
       "                    if (nbb_cells[i].input_prompt_number == nbb_cell_id) {\n",
       "                        if (nbb_cells[i].get_text() == nbb_unformatted_code) {\n",
       "                             nbb_cells[i].set_text(nbb_formatted_code);\n",
       "                        }\n",
       "                        break;\n",
       "                    }\n",
       "                }\n",
       "            }, 500);\n",
       "            "
      ],
      "text/plain": [
       "<IPython.core.display.Javascript object>"
      ]
     },
     "metadata": {},
     "output_type": "display_data"
    }
   ],
   "source": [
    "# Read life_fname into a DataFrame: life\n",
    "life = pd.read_csv(\n",
    "    \"https://s3.amazonaws.com/assets.datacamp.com/production/course_1650/datasets/life_expectancy.csv\"\n",
    "    , index_col = \"Country\")\n",
    "\n",
    "# Read regions_fname into a DataFrame: regions\n",
    "regions = pd.read_csv('https://s3.amazonaws.com/assets.datacamp.com/production/course_1650/datasets/regions.csv', \n",
    "                      index_col='Country')\n",
    "\n",
    "# Group life by regions['region']: life_by_region\n",
    "life_by_region = life.groupby(regions['region'])\n",
    "\n",
    "# Print the mean over the '2010' column of life_by_region\n",
    "print(life_by_region['2010'].mean())\n"
   ]
  },
  {
   "cell_type": "markdown",
   "metadata": {},
   "source": [
    "### Computing multiple aggregates of multiple columns"
   ]
  },
  {
   "cell_type": "code",
   "execution_count": 51,
   "metadata": {},
   "outputs": [
    {
     "name": "stdout",
     "output_type": "stream",
     "text": [
      "pclass\n",
      "1    80.0\n",
      "2    70.0\n",
      "3    74.0\n",
      "Name: (age, max), dtype: float64\n",
      "pclass\n",
      "1    60.2875\n",
      "2    14.2500\n",
      "3     8.0500\n",
      "Name: (fare, median), dtype: float64\n"
     ]
    },
    {
     "data": {
      "application/javascript": [
       "\n",
       "            setTimeout(function() {\n",
       "                var nbb_cell_id = 51;\n",
       "                var nbb_unformatted_code = \"# Group titanic by 'pclass': by_class\\nby_class = titanic.groupby('pclass')\\n\\n# Select 'age' and 'fare'\\nby_class_sub = by_class[['age','fare']]\\n\\n# Aggregate by_class_sub by 'max' and 'median': aggregated\\naggregated = by_class_sub.agg(['max','median'])\\n\\n# Print the maximum age in each class\\nprint(aggregated.loc[:, ('age','max')])\\n\\n# Print the median fare in each class\\nprint(aggregated.loc[:, ('fare','median')])\";\n",
       "                var nbb_formatted_code = \"# Group titanic by 'pclass': by_class\\nby_class = titanic.groupby(\\\"pclass\\\")\\n\\n# Select 'age' and 'fare'\\nby_class_sub = by_class[[\\\"age\\\", \\\"fare\\\"]]\\n\\n# Aggregate by_class_sub by 'max' and 'median': aggregated\\naggregated = by_class_sub.agg([\\\"max\\\", \\\"median\\\"])\\n\\n# Print the maximum age in each class\\nprint(aggregated.loc[:, (\\\"age\\\", \\\"max\\\")])\\n\\n# Print the median fare in each class\\nprint(aggregated.loc[:, (\\\"fare\\\", \\\"median\\\")])\";\n",
       "                var nbb_cells = Jupyter.notebook.get_cells();\n",
       "                for (var i = 0; i < nbb_cells.length; ++i) {\n",
       "                    if (nbb_cells[i].input_prompt_number == nbb_cell_id) {\n",
       "                        if (nbb_cells[i].get_text() == nbb_unformatted_code) {\n",
       "                             nbb_cells[i].set_text(nbb_formatted_code);\n",
       "                        }\n",
       "                        break;\n",
       "                    }\n",
       "                }\n",
       "            }, 500);\n",
       "            "
      ],
      "text/plain": [
       "<IPython.core.display.Javascript object>"
      ]
     },
     "metadata": {},
     "output_type": "display_data"
    }
   ],
   "source": [
    "# Group titanic by 'pclass': by_class\n",
    "by_class = titanic.groupby(\"pclass\")\n",
    "\n",
    "# Select 'age' and 'fare'\n",
    "by_class_sub = by_class[[\"age\", \"fare\"]]\n",
    "\n",
    "# Aggregate by_class_sub by 'max' and 'median': aggregated\n",
    "aggregated = by_class_sub.agg([\"max\", \"median\"])\n",
    "\n",
    "# Print the maximum age in each class\n",
    "print(aggregated.loc[:, (\"age\", \"max\")])\n",
    "\n",
    "# Print the median fare in each class\n",
    "print(aggregated.loc[:, (\"fare\", \"median\")])"
   ]
  },
  {
   "cell_type": "markdown",
   "metadata": {},
   "source": [
    "### Aggregating on index levels/fields"
   ]
  },
  {
   "cell_type": "code",
   "execution_count": 54,
   "metadata": {
    "scrolled": true
   },
   "outputs": [
    {
     "name": "stdout",
     "output_type": "stream",
     "text": [
      "                                   population  child_mortality       gdp\n",
      "Year region                                                             \n",
      "2013 America                     9.629087e+08        17.745833   49634.0\n",
      "     East Asia & Pacific         2.244209e+09        22.285714  134744.0\n",
      "     Europe & Central Asia       8.968788e+08         9.831875   86418.0\n",
      "     Middle East & North Africa  4.030504e+08        20.221500  128676.0\n",
      "     South Asia                  1.701241e+09        46.287500   11469.0\n",
      "     Sub-Saharan Africa          9.205996e+08        76.944490   32035.0\n"
     ]
    },
    {
     "data": {
      "application/javascript": [
       "\n",
       "            setTimeout(function() {\n",
       "                var nbb_cell_id = 54;\n",
       "                var nbb_unformatted_code = \"\\n# Read the CSV file into a DataFrame and sort the index: gapminder\\ngapminder = pd.read_csv('data/gapminder_tidy.csv', index_col=['Year','region','Country'], )\\n\\n# Group gapminder by 'Year' and 'region': by_year_region\\nby_year_region = gapminder.groupby(level=(0,1))\\n\\n# Define the function to compute spread: spread\\ndef spread(series):\\n    return series.max() - series.min()\\n\\n# Create the dictionary: aggregator\\naggregator = {'population':'sum', 'child_mortality':'mean', 'gdp':spread}\\n\\n# Aggregate by_year_region using the dictionary: aggregated\\naggregated = by_year_region.agg(aggregator)\\n\\n# Print the last 6 entries of aggregated \\nprint(aggregated.tail(6))\";\n",
       "                var nbb_formatted_code = \"# Read the CSV file into a DataFrame and sort the index: gapminder\\ngapminder = pd.read_csv(\\n    \\\"data/gapminder_tidy.csv\\\",\\n    index_col=[\\\"Year\\\", \\\"region\\\", \\\"Country\\\"],\\n)\\n\\n# Group gapminder by 'Year' and 'region': by_year_region\\nby_year_region = gapminder.groupby(level=(0, 1))\\n\\n# Define the function to compute spread: spread\\ndef spread(series):\\n    return series.max() - series.min()\\n\\n\\n# Create the dictionary: aggregator\\naggregator = {\\\"population\\\": \\\"sum\\\", \\\"child_mortality\\\": \\\"mean\\\", \\\"gdp\\\": spread}\\n\\n# Aggregate by_year_region using the dictionary: aggregated\\naggregated = by_year_region.agg(aggregator)\\n\\n# Print the last 6 entries of aggregated\\nprint(aggregated.tail(6))\";\n",
       "                var nbb_cells = Jupyter.notebook.get_cells();\n",
       "                for (var i = 0; i < nbb_cells.length; ++i) {\n",
       "                    if (nbb_cells[i].input_prompt_number == nbb_cell_id) {\n",
       "                        if (nbb_cells[i].get_text() == nbb_unformatted_code) {\n",
       "                             nbb_cells[i].set_text(nbb_formatted_code);\n",
       "                        }\n",
       "                        break;\n",
       "                    }\n",
       "                }\n",
       "            }, 500);\n",
       "            "
      ],
      "text/plain": [
       "<IPython.core.display.Javascript object>"
      ]
     },
     "metadata": {},
     "output_type": "display_data"
    }
   ],
   "source": [
    "\n",
    "# Read the CSV file into a DataFrame and sort the index: gapminder\n",
    "gapminder = pd.read_csv('data/gapminder_tidy.csv', index_col=['Year','region','Country'], )\n",
    "\n",
    "# Group gapminder by 'Year' and 'region': by_year_region\n",
    "by_year_region = gapminder.groupby(level=(0,1))\n",
    "\n",
    "# Define the function to compute spread: spread\n",
    "def spread(series):\n",
    "    return series.max() - series.min()\n",
    "\n",
    "# Create the dictionary: aggregator\n",
    "aggregator = {'population':'sum', 'child_mortality':'mean', 'gdp':spread}\n",
    "\n",
    "# Aggregate by_year_region using the dictionary: aggregated\n",
    "aggregated = by_year_region.agg(aggregator)\n",
    "\n",
    "# Print the last 6 entries of aggregated \n",
    "print(aggregated.tail(6))\n"
   ]
  },
  {
   "cell_type": "markdown",
   "metadata": {},
   "source": [
    "### Detecting outliers with Z-Scores\n"
   ]
  },
  {
   "cell_type": "code",
   "execution_count": 57,
   "metadata": {},
   "outputs": [
    {
     "data": {
      "application/javascript": [
       "\n",
       "            setTimeout(function() {\n",
       "                var nbb_cell_id = 57;\n",
       "                var nbb_unformatted_code = \"# Create the gapminder_2010 dataframe from the original gapminder dataframe\\ngapminder_2010 = gapminder.xs(2010, level=\\\"Year\\\")\";\n",
       "                var nbb_formatted_code = \"# Create the gapminder_2010 dataframe from the original gapminder dataframe\\ngapminder_2010 = gapminder.xs(2010, level=\\\"Year\\\")\";\n",
       "                var nbb_cells = Jupyter.notebook.get_cells();\n",
       "                for (var i = 0; i < nbb_cells.length; ++i) {\n",
       "                    if (nbb_cells[i].input_prompt_number == nbb_cell_id) {\n",
       "                        if (nbb_cells[i].get_text() == nbb_unformatted_code) {\n",
       "                             nbb_cells[i].set_text(nbb_formatted_code);\n",
       "                        }\n",
       "                        break;\n",
       "                    }\n",
       "                }\n",
       "            }, 500);\n",
       "            "
      ],
      "text/plain": [
       "<IPython.core.display.Javascript object>"
      ]
     },
     "metadata": {},
     "output_type": "display_data"
    }
   ],
   "source": [
    "# Create the gapminder_2010 dataframe from the original gapminder dataframe\n",
    "gapminder_2010 = gapminder.xs(2010, level=\"Year\")"
   ]
  },
  {
   "cell_type": "code",
   "execution_count": 59,
   "metadata": {},
   "outputs": [
    {
     "name": "stdout",
     "output_type": "stream",
     "text": [
      "                                   fertility    life  population  \\\n",
      "region                Country                                      \n",
      "America               Guatemala        3.974  71.100  14388929.0   \n",
      "                      Haiti            3.350  45.000   9993247.0   \n",
      "Europe & Central Asia Tajikistan       3.780  66.830   6878637.0   \n",
      "East Asia & Pacific   Timor-Leste      6.237  65.952   1124355.0   \n",
      "\n",
      "                                   child_mortality     gdp  \n",
      "region                Country                               \n",
      "America               Guatemala               34.5  6849.0  \n",
      "                      Haiti                  208.8  1518.0  \n",
      "Europe & Central Asia Tajikistan              52.6  2110.0  \n",
      "East Asia & Pacific   Timor-Leste             63.8  1777.0  \n"
     ]
    },
    {
     "name": "stderr",
     "output_type": "stream",
     "text": [
      "C:\\Users\\jkv\\AppData\\Local\\Temp\\ipykernel_14072\\2398898656.py:5: FutureWarning: Indexing with multiple keys (implicitly converted to a tuple of keys) will be deprecated, use a list instead.\n",
      "  standardized = gapminder_2010.groupby('region')['life', 'fertility'].transform(zscore)\n"
     ]
    },
    {
     "data": {
      "application/javascript": [
       "\n",
       "            setTimeout(function() {\n",
       "                var nbb_cell_id = 59;\n",
       "                var nbb_unformatted_code = \"# Import zscore\\nfrom scipy.stats import zscore\\n\\n# Group gapminder_2010: standardized\\nstandardized = gapminder_2010.groupby('region')['life', 'fertility'].transform(zscore)\\n\\n# Construct a Boolean Series to identify outliers: outliers\\noutliers = (standardized['life'] < -3) | (standardized['fertility'] > 3)\\n\\n# Filter gapminder_2010 by the outliers: gm_outliers\\ngm_outliers = gapminder_2010.loc[outliers]\\n\\n# Now you can print or use gm_outliers for further analysis\\nprint(gm_outliers)\";\n",
       "                var nbb_formatted_code = \"# Import zscore\\nfrom scipy.stats import zscore\\n\\n# Group gapminder_2010: standardized\\nstandardized = gapminder_2010.groupby(\\\"region\\\")[\\\"life\\\", \\\"fertility\\\"].transform(zscore)\\n\\n# Construct a Boolean Series to identify outliers: outliers\\noutliers = (standardized[\\\"life\\\"] < -3) | (standardized[\\\"fertility\\\"] > 3)\\n\\n# Filter gapminder_2010 by the outliers: gm_outliers\\ngm_outliers = gapminder_2010.loc[outliers]\\n\\n# Now you can print or use gm_outliers for further analysis\\nprint(gm_outliers)\";\n",
       "                var nbb_cells = Jupyter.notebook.get_cells();\n",
       "                for (var i = 0; i < nbb_cells.length; ++i) {\n",
       "                    if (nbb_cells[i].input_prompt_number == nbb_cell_id) {\n",
       "                        if (nbb_cells[i].get_text() == nbb_unformatted_code) {\n",
       "                             nbb_cells[i].set_text(nbb_formatted_code);\n",
       "                        }\n",
       "                        break;\n",
       "                    }\n",
       "                }\n",
       "            }, 500);\n",
       "            "
      ],
      "text/plain": [
       "<IPython.core.display.Javascript object>"
      ]
     },
     "metadata": {},
     "output_type": "display_data"
    }
   ],
   "source": [
    "# Import zscore\n",
    "from scipy.stats import zscore\n",
    "\n",
    "# Group gapminder_2010: standardized\n",
    "standardized = gapminder_2010.groupby(\"region\")[\"life\", \"fertility\"].transform(zscore)\n",
    "\n",
    "# Construct a Boolean Series to identify outliers: outliers\n",
    "outliers = (standardized[\"life\"] < -3) | (standardized[\"fertility\"] > 3)\n",
    "\n",
    "# Filter gapminder_2010 by the outliers: gm_outliers\n",
    "gm_outliers = gapminder_2010.loc[outliers]\n",
    "\n",
    "# Now you can print or use gm_outliers for further analysis\n",
    "print(gm_outliers)"
   ]
  },
  {
   "cell_type": "markdown",
   "metadata": {},
   "source": [
    "### Filling missing data (imputation) by group"
   ]
  },
  {
   "cell_type": "code",
   "execution_count": 60,
   "metadata": {},
   "outputs": [
    {
     "name": "stdout",
     "output_type": "stream",
     "text": [
      "     passengerid  survived  pclass                                      name  \\\n",
      "881          882         0       3                        Markun, Mr. Johann   \n",
      "882          883         0       3              Dahlberg, Miss. Gerda Ulrika   \n",
      "883          884         0       2             Banfield, Mr. Frederick James   \n",
      "884          885         0       3                    Sutehall, Mr. Henry Jr   \n",
      "885          886         0       3      Rice, Mrs. William (Margaret Norton)   \n",
      "886          887         0       2                     Montvila, Rev. Juozas   \n",
      "887          888         1       1              Graham, Miss. Margaret Edith   \n",
      "888          889         0       3  Johnston, Miss. Catherine Helen \"Carrie\"   \n",
      "889          890         1       1                     Behr, Mr. Karl Howell   \n",
      "890          891         0       3                       Dooley, Mr. Patrick   \n",
      "\n",
      "        sex   age  sibsp  parch            ticket     fare cabin embarked  \n",
      "881    male  33.0      0      0            349257   7.8958   NaN        S  \n",
      "882  female  22.0      0      0              7552  10.5167   NaN        S  \n",
      "883    male  28.0      0      0  C.A./SOTON 34068  10.5000   NaN        S  \n",
      "884    male  25.0      0      0   SOTON/OQ 392076   7.0500   NaN        S  \n",
      "885  female  39.0      0      5            382652  29.1250   NaN        Q  \n",
      "886    male  27.0      0      0            211536  13.0000   NaN        S  \n",
      "887  female  19.0      0      0            112053  30.0000   B42        S  \n",
      "888  female  21.5      1      2        W./C. 6607  23.4500   NaN        S  \n",
      "889    male  26.0      0      0            111369  30.0000  C148        C  \n",
      "890    male  32.0      0      0            370376   7.7500   NaN        Q  \n"
     ]
    },
    {
     "data": {
      "application/javascript": [
       "\n",
       "            setTimeout(function() {\n",
       "                var nbb_cell_id = 60;\n",
       "                var nbb_unformatted_code = \"# Create a groupby object: by_sex_class\\nby_sex_class = titanic.groupby(['sex', 'pclass'])\\n\\n# Write a function that imputes median\\ndef impute_median(series):\\n    return series.fillna(series.median())\\n\\n# Impute age and assign to titanic['age']\\ntitanic.age = by_sex_class['age'].transform(impute_median)\\n\\n# Print the output of titanic.tail(10)\\nprint(titanic.tail(10))\";\n",
       "                var nbb_formatted_code = \"# Create a groupby object: by_sex_class\\nby_sex_class = titanic.groupby([\\\"sex\\\", \\\"pclass\\\"])\\n\\n# Write a function that imputes median\\ndef impute_median(series):\\n    return series.fillna(series.median())\\n\\n\\n# Impute age and assign to titanic['age']\\ntitanic.age = by_sex_class[\\\"age\\\"].transform(impute_median)\\n\\n# Print the output of titanic.tail(10)\\nprint(titanic.tail(10))\";\n",
       "                var nbb_cells = Jupyter.notebook.get_cells();\n",
       "                for (var i = 0; i < nbb_cells.length; ++i) {\n",
       "                    if (nbb_cells[i].input_prompt_number == nbb_cell_id) {\n",
       "                        if (nbb_cells[i].get_text() == nbb_unformatted_code) {\n",
       "                             nbb_cells[i].set_text(nbb_formatted_code);\n",
       "                        }\n",
       "                        break;\n",
       "                    }\n",
       "                }\n",
       "            }, 500);\n",
       "            "
      ],
      "text/plain": [
       "<IPython.core.display.Javascript object>"
      ]
     },
     "metadata": {},
     "output_type": "display_data"
    }
   ],
   "source": [
    "# Create a groupby object: by_sex_class\n",
    "by_sex_class = titanic.groupby([\"sex\", \"pclass\"])\n",
    "\n",
    "# Write a function that imputes median\n",
    "def impute_median(series):\n",
    "    return series.fillna(series.median())\n",
    "\n",
    "\n",
    "# Impute age and assign to titanic['age']\n",
    "titanic.age = by_sex_class[\"age\"].transform(impute_median)\n",
    "\n",
    "# Print the output of titanic.tail(10)\n",
    "print(titanic.tail(10))"
   ]
  },
  {
   "cell_type": "markdown",
   "metadata": {},
   "source": [
    "### Other transformations with .apply()"
   ]
  },
  {
   "cell_type": "code",
   "execution_count": 63,
   "metadata": {},
   "outputs": [
    {
     "data": {
      "text/html": [
       "<div>\n",
       "<style scoped>\n",
       "    .dataframe tbody tr th:only-of-type {\n",
       "        vertical-align: middle;\n",
       "    }\n",
       "\n",
       "    .dataframe tbody tr th {\n",
       "        vertical-align: top;\n",
       "    }\n",
       "\n",
       "    .dataframe thead th {\n",
       "        text-align: right;\n",
       "    }\n",
       "</style>\n",
       "<table border=\"1\" class=\"dataframe\">\n",
       "  <thead>\n",
       "    <tr style=\"text-align: right;\">\n",
       "      <th></th>\n",
       "      <th></th>\n",
       "      <th>z(gdp)</th>\n",
       "      <th>regional spread(gdp)</th>\n",
       "    </tr>\n",
       "    <tr>\n",
       "      <th>region</th>\n",
       "      <th>Country</th>\n",
       "      <th></th>\n",
       "      <th></th>\n",
       "    </tr>\n",
       "  </thead>\n",
       "  <tbody>\n",
       "    <tr>\n",
       "      <th>South Asia</th>\n",
       "      <th>Afghanistan</th>\n",
       "      <td>-1.011602</td>\n",
       "      <td>10037.0</td>\n",
       "    </tr>\n",
       "    <tr>\n",
       "      <th>Europe &amp; Central Asia</th>\n",
       "      <th>Albania</th>\n",
       "      <td>-0.986190</td>\n",
       "      <td>89037.0</td>\n",
       "    </tr>\n",
       "    <tr>\n",
       "      <th>Middle East &amp; North Africa</th>\n",
       "      <th>Algeria</th>\n",
       "      <td>-0.550537</td>\n",
       "      <td>125319.0</td>\n",
       "    </tr>\n",
       "    <tr>\n",
       "      <th>Sub-Saharan Africa</th>\n",
       "      <th>Angola</th>\n",
       "      <td>0.398221</td>\n",
       "      <td>33817.0</td>\n",
       "    </tr>\n",
       "    <tr>\n",
       "      <th>America</th>\n",
       "      <th>Antigua and Barbuda</th>\n",
       "      <td>0.431274</td>\n",
       "      <td>47855.0</td>\n",
       "    </tr>\n",
       "    <tr>\n",
       "      <th>...</th>\n",
       "      <th>...</th>\n",
       "      <td>...</td>\n",
       "      <td>...</td>\n",
       "    </tr>\n",
       "    <tr>\n",
       "      <th rowspan=\"3\" valign=\"top\">Middle East &amp; North Africa</th>\n",
       "      <th>West Bank and Gaza</th>\n",
       "      <td>-0.816251</td>\n",
       "      <td>125319.0</td>\n",
       "    </tr>\n",
       "    <tr>\n",
       "      <th>Western Sahara</th>\n",
       "      <td>NaN</td>\n",
       "      <td>125319.0</td>\n",
       "    </tr>\n",
       "    <tr>\n",
       "      <th>Yemen, Rep.</th>\n",
       "      <td>NaN</td>\n",
       "      <td>125319.0</td>\n",
       "    </tr>\n",
       "    <tr>\n",
       "      <th rowspan=\"2\" valign=\"top\">Sub-Saharan Africa</th>\n",
       "      <th>Zambia</th>\n",
       "      <td>-0.167488</td>\n",
       "      <td>33817.0</td>\n",
       "    </tr>\n",
       "    <tr>\n",
       "      <th>Zimbabwe</th>\n",
       "      <td>-0.476930</td>\n",
       "      <td>33817.0</td>\n",
       "    </tr>\n",
       "  </tbody>\n",
       "</table>\n",
       "<p>202 rows × 2 columns</p>\n",
       "</div>"
      ],
      "text/plain": [
       "                                                  z(gdp)  regional spread(gdp)\n",
       "region                     Country                                            \n",
       "South Asia                 Afghanistan         -1.011602               10037.0\n",
       "Europe & Central Asia      Albania             -0.986190               89037.0\n",
       "Middle East & North Africa Algeria             -0.550537              125319.0\n",
       "Sub-Saharan Africa         Angola               0.398221               33817.0\n",
       "America                    Antigua and Barbuda  0.431274               47855.0\n",
       "...                                                  ...                   ...\n",
       "Middle East & North Africa West Bank and Gaza  -0.816251              125319.0\n",
       "                           Western Sahara            NaN              125319.0\n",
       "                           Yemen, Rep.               NaN              125319.0\n",
       "Sub-Saharan Africa         Zambia              -0.167488               33817.0\n",
       "                           Zimbabwe            -0.476930               33817.0\n",
       "\n",
       "[202 rows x 2 columns]"
      ]
     },
     "execution_count": 63,
     "metadata": {},
     "output_type": "execute_result"
    },
    {
     "data": {
      "application/javascript": [
       "\n",
       "            setTimeout(function() {\n",
       "                var nbb_cell_id = 63;\n",
       "                var nbb_unformatted_code = \"def disparity(gr):\\n    # Compute the spread of gr['gdp']: s\\n    s = gr[\\\"gdp\\\"].max() - gr[\\\"gdp\\\"].min()\\n    # Compute the z-score of gr['gdp'] as (gr['gdp']-gr['gdp'].mean())/gr['gdp'].std(): z\\n    z = (gr[\\\"gdp\\\"] - gr[\\\"gdp\\\"].mean()) / gr[\\\"gdp\\\"].std()\\n    # Return a DataFrame with the inputs {'z(gdp)':z, 'regional spread(gdp)':s}\\n    return pd.DataFrame({\\\"z(gdp)\\\": z, \\\"regional spread(gdp)\\\": s})\\n\\n\\n# Group gapminder_2010 by 'region': regional\\nregional = gapminder_2010.groupby(\\\"region\\\")\\n\\n# Apply the disparity function on regional: reg_disp\\nreg_disp = regional.apply(disparity)\\nreg_disp\";\n",
       "                var nbb_formatted_code = \"def disparity(gr):\\n    # Compute the spread of gr['gdp']: s\\n    s = gr[\\\"gdp\\\"].max() - gr[\\\"gdp\\\"].min()\\n    # Compute the z-score of gr['gdp'] as (gr['gdp']-gr['gdp'].mean())/gr['gdp'].std(): z\\n    z = (gr[\\\"gdp\\\"] - gr[\\\"gdp\\\"].mean()) / gr[\\\"gdp\\\"].std()\\n    # Return a DataFrame with the inputs {'z(gdp)':z, 'regional spread(gdp)':s}\\n    return pd.DataFrame({\\\"z(gdp)\\\": z, \\\"regional spread(gdp)\\\": s})\\n\\n\\n# Group gapminder_2010 by 'region': regional\\nregional = gapminder_2010.groupby(\\\"region\\\")\\n\\n# Apply the disparity function on regional: reg_disp\\nreg_disp = regional.apply(disparity)\\nreg_disp\";\n",
       "                var nbb_cells = Jupyter.notebook.get_cells();\n",
       "                for (var i = 0; i < nbb_cells.length; ++i) {\n",
       "                    if (nbb_cells[i].input_prompt_number == nbb_cell_id) {\n",
       "                        if (nbb_cells[i].get_text() == nbb_unformatted_code) {\n",
       "                             nbb_cells[i].set_text(nbb_formatted_code);\n",
       "                        }\n",
       "                        break;\n",
       "                    }\n",
       "                }\n",
       "            }, 500);\n",
       "            "
      ],
      "text/plain": [
       "<IPython.core.display.Javascript object>"
      ]
     },
     "metadata": {},
     "output_type": "display_data"
    }
   ],
   "source": [
    "def disparity(gr):\n",
    "    # Compute the spread of gr['gdp']: s\n",
    "    s = gr[\"gdp\"].max() - gr[\"gdp\"].min()\n",
    "    # Compute the z-score of gr['gdp'] as (gr['gdp']-gr['gdp'].mean())/gr['gdp'].std(): z\n",
    "    z = (gr[\"gdp\"] - gr[\"gdp\"].mean()) / gr[\"gdp\"].std()\n",
    "    # Return a DataFrame with the inputs {'z(gdp)':z, 'regional spread(gdp)':s}\n",
    "    return pd.DataFrame({\"z(gdp)\": z, \"regional spread(gdp)\": s})\n",
    "\n",
    "\n",
    "# Group gapminder_2010 by 'region': regional\n",
    "regional = gapminder_2010.groupby(\"region\")\n",
    "\n",
    "# Apply the disparity function on regional: reg_disp\n",
    "reg_disp = regional.apply(disparity)\n",
    "reg_disp"
   ]
  },
  {
   "cell_type": "code",
   "execution_count": 65,
   "metadata": {},
   "outputs": [
    {
     "name": "stdout",
     "output_type": "stream",
     "text": [
      "                                        z(gdp)  regional spread(gdp)\n",
      "region                Country                                       \n",
      "America               United States   3.013374               47855.0\n",
      "Europe & Central Asia United Kingdom  0.572873               89037.0\n",
      "East Asia & Pacific   China          -0.432756               96993.0\n"
     ]
    },
    {
     "data": {
      "application/javascript": [
       "\n",
       "            setTimeout(function() {\n",
       "                var nbb_cell_id = 65;\n",
       "                var nbb_unformatted_code = \"# Print the disparity of 'United States', 'United Kingdom', and 'China'\\nprint(reg_disp.loc[(slice(None), [\\\"United States\\\", \\\"United Kingdom\\\", \\\"China\\\"]), :])\";\n",
       "                var nbb_formatted_code = \"# Print the disparity of 'United States', 'United Kingdom', and 'China'\\nprint(reg_disp.loc[(slice(None), [\\\"United States\\\", \\\"United Kingdom\\\", \\\"China\\\"]), :])\";\n",
       "                var nbb_cells = Jupyter.notebook.get_cells();\n",
       "                for (var i = 0; i < nbb_cells.length; ++i) {\n",
       "                    if (nbb_cells[i].input_prompt_number == nbb_cell_id) {\n",
       "                        if (nbb_cells[i].get_text() == nbb_unformatted_code) {\n",
       "                             nbb_cells[i].set_text(nbb_formatted_code);\n",
       "                        }\n",
       "                        break;\n",
       "                    }\n",
       "                }\n",
       "            }, 500);\n",
       "            "
      ],
      "text/plain": [
       "<IPython.core.display.Javascript object>"
      ]
     },
     "metadata": {},
     "output_type": "display_data"
    }
   ],
   "source": [
    "# Print the disparity of 'United States', 'United Kingdom', and 'China'\n",
    "print(reg_disp.loc[(slice(None), [\"United States\", \"United Kingdom\", \"China\"]), :])\n"
   ]
  },
  {
   "cell_type": "markdown",
   "metadata": {},
   "source": [
    "### Grouping and filtering with .apply()"
   ]
  },
  {
   "cell_type": "code",
   "execution_count": 66,
   "metadata": {},
   "outputs": [
    {
     "name": "stdout",
     "output_type": "stream",
     "text": [
      "sex\n",
      "female    0.888889\n",
      "male      0.343750\n",
      "dtype: float64\n"
     ]
    },
    {
     "data": {
      "application/javascript": [
       "\n",
       "            setTimeout(function() {\n",
       "                var nbb_cell_id = 66;\n",
       "                var nbb_unformatted_code = \"def c_deck_survival(gr):\\n\\n    c_passengers = gr['cabin'].str.startswith('C').fillna(False)\\n\\n    return gr.loc[c_passengers, 'survived'].mean()\\n\\n\\n# Create a groupby object using titanic over the 'sex' column: by_sex\\nby_sex = titanic.groupby('sex')\\n\\n# Call by_sex.apply with the function c_deck_survival and print the result\\nc_surv_by_sex = by_sex.apply(c_deck_survival)\\n\\n# Print the survival rates\\nprint(c_surv_by_sex)\";\n",
       "                var nbb_formatted_code = \"def c_deck_survival(gr):\\n\\n    c_passengers = gr[\\\"cabin\\\"].str.startswith(\\\"C\\\").fillna(False)\\n\\n    return gr.loc[c_passengers, \\\"survived\\\"].mean()\\n\\n\\n# Create a groupby object using titanic over the 'sex' column: by_sex\\nby_sex = titanic.groupby(\\\"sex\\\")\\n\\n# Call by_sex.apply with the function c_deck_survival and print the result\\nc_surv_by_sex = by_sex.apply(c_deck_survival)\\n\\n# Print the survival rates\\nprint(c_surv_by_sex)\";\n",
       "                var nbb_cells = Jupyter.notebook.get_cells();\n",
       "                for (var i = 0; i < nbb_cells.length; ++i) {\n",
       "                    if (nbb_cells[i].input_prompt_number == nbb_cell_id) {\n",
       "                        if (nbb_cells[i].get_text() == nbb_unformatted_code) {\n",
       "                             nbb_cells[i].set_text(nbb_formatted_code);\n",
       "                        }\n",
       "                        break;\n",
       "                    }\n",
       "                }\n",
       "            }, 500);\n",
       "            "
      ],
      "text/plain": [
       "<IPython.core.display.Javascript object>"
      ]
     },
     "metadata": {},
     "output_type": "display_data"
    }
   ],
   "source": [
    "def c_deck_survival(gr):\n",
    "\n",
    "    c_passengers = gr[\"cabin\"].str.startswith(\"C\").fillna(False)\n",
    "\n",
    "    return gr.loc[c_passengers, \"survived\"].mean()\n",
    "\n",
    "\n",
    "# Create a groupby object using titanic over the 'sex' column: by_sex\n",
    "by_sex = titanic.groupby(\"sex\")\n",
    "\n",
    "# Call by_sex.apply with the function c_deck_survival and print the result\n",
    "c_surv_by_sex = by_sex.apply(c_deck_survival)\n",
    "\n",
    "# Print the survival rates\n",
    "print(c_surv_by_sex)"
   ]
  },
  {
   "cell_type": "markdown",
   "metadata": {},
   "source": [
    "### Filtering and grouping with .map()"
   ]
  },
  {
   "cell_type": "code",
   "execution_count": 68,
   "metadata": {},
   "outputs": [
    {
     "name": "stdout",
     "output_type": "stream",
     "text": [
      "age\n",
      "over 10     0.366707\n",
      "under 10    0.612903\n",
      "Name: survived, dtype: float64\n",
      "age       pclass\n",
      "over 10   1         0.629108\n",
      "          2         0.419162\n",
      "          3         0.222717\n",
      "under 10  1         0.666667\n",
      "          2         1.000000\n",
      "          3         0.452381\n",
      "Name: survived, dtype: float64\n"
     ]
    },
    {
     "data": {
      "application/javascript": [
       "\n",
       "            setTimeout(function() {\n",
       "                var nbb_cell_id = 68;\n",
       "                var nbb_unformatted_code = \"# Create the Boolean Series: under10\\nunder10 = pd.Series(titanic['age'] < 10).map({True:'under 10', False:'over 10'})\\n\\n# Group by under10 and compute the survival rate\\nsurvived_mean_1 = titanic.groupby(under10)['survived'].mean()\\nprint(survived_mean_1)\\n\\n# Group by under10 and pclass and compute the survival rate\\nsurvived_mean_2 = titanic.groupby([under10, 'pclass'])['survived'].mean()\\nprint(survived_mean_2)\";\n",
       "                var nbb_formatted_code = \"# Create the Boolean Series: under10\\nunder10 = pd.Series(titanic[\\\"age\\\"] < 10).map({True: \\\"under 10\\\", False: \\\"over 10\\\"})\\n\\n# Group by under10 and compute the survival rate\\nsurvived_mean_1 = titanic.groupby(under10)[\\\"survived\\\"].mean()\\nprint(survived_mean_1)\\n\\n# Group by under10 and pclass and compute the survival rate\\nsurvived_mean_2 = titanic.groupby([under10, \\\"pclass\\\"])[\\\"survived\\\"].mean()\\nprint(survived_mean_2)\";\n",
       "                var nbb_cells = Jupyter.notebook.get_cells();\n",
       "                for (var i = 0; i < nbb_cells.length; ++i) {\n",
       "                    if (nbb_cells[i].input_prompt_number == nbb_cell_id) {\n",
       "                        if (nbb_cells[i].get_text() == nbb_unformatted_code) {\n",
       "                             nbb_cells[i].set_text(nbb_formatted_code);\n",
       "                        }\n",
       "                        break;\n",
       "                    }\n",
       "                }\n",
       "            }, 500);\n",
       "            "
      ],
      "text/plain": [
       "<IPython.core.display.Javascript object>"
      ]
     },
     "metadata": {},
     "output_type": "display_data"
    }
   ],
   "source": [
    "# Create the Boolean Series: under10\n",
    "under10 = pd.Series(titanic[\"age\"] < 10).map({True: \"under 10\", False: \"over 10\"})\n",
    "\n",
    "# Group by under10 and compute the survival rate\n",
    "survived_mean_1 = titanic.groupby(under10)[\"survived\"].mean()\n",
    "print(survived_mean_1)\n",
    "\n",
    "# Group by under10 and pclass and compute the survival rate\n",
    "survived_mean_2 = titanic.groupby([under10, \"pclass\"])[\"survived\"].mean()\n",
    "print(survived_mean_2)"
   ]
  },
  {
   "cell_type": "markdown",
   "metadata": {},
   "source": [
    "### Bringing it all together"
   ]
  },
  {
   "cell_type": "code",
   "execution_count": 78,
   "metadata": {},
   "outputs": [
    {
     "name": "stdout",
     "output_type": "stream",
     "text": [
      "                Athlete        Country Bronze Silver Gold Grand Total\n",
      "0      LATYNINA, Larisa   Soviet Union      4      5    9          18\n",
      "1       PHELPS, Michael  United States      2    NaN   14          16\n",
      "2    ANDRIANOV, Nikolay   Soviet Union      3      5    7          15\n",
      "3  MANGIAROTTI, Edoardo          Italy      2      5    6          13\n",
      "4          ONO, Takashi          Japan      4      4    5          13\n"
     ]
    },
    {
     "data": {
      "application/javascript": [
       "\n",
       "            setTimeout(function() {\n",
       "                var nbb_cell_id = 78;\n",
       "                var nbb_unformatted_code = \"import requests\\nfrom bs4 import BeautifulSoup\\nimport pandas as pd\\n\\nurl = \\\"https://www.theguardian.com/sport/datablog/2012/jun/25/olympic-medal-winner-list-data#data\\\"\\n\\n# Send a GET request\\nresponse = requests.get(url)\\n# Create a BeautifulSoup object and specify the parser\\nsoup = BeautifulSoup(response.text, 'html.parser')\\n\\n# Find the table in the HTML\\ntable = soup.find_all('table') \\n\\n# Convert the table to a DataFrame\\ndf = pd.read_html(str(table))[0]\\n\\nprint(df.head())\";\n",
       "                var nbb_formatted_code = \"import requests\\nfrom bs4 import BeautifulSoup\\nimport pandas as pd\\n\\nurl = \\\"https://www.theguardian.com/sport/datablog/2012/jun/25/olympic-medal-winner-list-data#data\\\"\\n\\n# Send a GET request\\nresponse = requests.get(url)\\n# Create a BeautifulSoup object and specify the parser\\nsoup = BeautifulSoup(response.text, \\\"html.parser\\\")\\n\\n# Find the table in the HTML\\ntable = soup.find_all(\\\"table\\\")\\n\\n# Convert the table to a DataFrame\\ndf = pd.read_html(str(table))[0]\\n\\nprint(df.head())\";\n",
       "                var nbb_cells = Jupyter.notebook.get_cells();\n",
       "                for (var i = 0; i < nbb_cells.length; ++i) {\n",
       "                    if (nbb_cells[i].input_prompt_number == nbb_cell_id) {\n",
       "                        if (nbb_cells[i].get_text() == nbb_unformatted_code) {\n",
       "                             nbb_cells[i].set_text(nbb_formatted_code);\n",
       "                        }\n",
       "                        break;\n",
       "                    }\n",
       "                }\n",
       "            }, 500);\n",
       "            "
      ],
      "text/plain": [
       "<IPython.core.display.Javascript object>"
      ]
     },
     "metadata": {},
     "output_type": "display_data"
    }
   ],
   "source": [
    "import requests\n",
    "from bs4 import BeautifulSoup\n",
    "import pandas as pd\n",
    "\n",
    "url = \"https://www.theguardian.com/sport/datablog/2012/jun/25/olympic-medal-winner-list-data#data\"\n",
    "\n",
    "# Send a GET request\n",
    "response = requests.get(url)\n",
    "# Create a BeautifulSoup object and specify the parser\n",
    "soup = BeautifulSoup(response.text, 'html.parser')\n",
    "\n",
    "# Find the table in the HTML\n",
    "table = soup.find_all('table') \n",
    "\n",
    "# Convert the table to a DataFrame\n",
    "df = pd.read_html(str(table))[0]\n",
    "\n",
    "print(df.head())\n"
   ]
  },
  {
   "cell_type": "code",
   "execution_count": 80,
   "metadata": {},
   "outputs": [
    {
     "data": {
      "application/javascript": [
       "\n",
       "            setTimeout(function() {\n",
       "                var nbb_cell_id = 80;\n",
       "                var nbb_unformatted_code = \"# Total count of medals awarded to USA group by year \\nmedals = pd.read_csv(\\\"data/medals.csv\\\")\\nUSA_edition_grouped = medals.loc[medals.NOC == \\\"USA\\\"].groupby(\\\"Year\\\").count()\";\n",
       "                var nbb_formatted_code = \"# Total count of medals awarded to USA group by year\\nmedals = pd.read_csv(\\\"data/medals.csv\\\")\\nUSA_edition_grouped = medals.loc[medals.NOC == \\\"USA\\\"].groupby(\\\"Year\\\").count()\";\n",
       "                var nbb_cells = Jupyter.notebook.get_cells();\n",
       "                for (var i = 0; i < nbb_cells.length; ++i) {\n",
       "                    if (nbb_cells[i].input_prompt_number == nbb_cell_id) {\n",
       "                        if (nbb_cells[i].get_text() == nbb_unformatted_code) {\n",
       "                             nbb_cells[i].set_text(nbb_formatted_code);\n",
       "                        }\n",
       "                        break;\n",
       "                    }\n",
       "                }\n",
       "            }, 500);\n",
       "            "
      ],
      "text/plain": [
       "<IPython.core.display.Javascript object>"
      ]
     },
     "metadata": {},
     "output_type": "display_data"
    }
   ],
   "source": [
    "# Total count of medals awarded to USA group by year\n",
    "medals = pd.read_csv(\"data/medals.csv\")\n",
    "USA_edition_grouped = medals.loc[medals.NOC == \"USA\"].groupby(\"Year\").count()"
   ]
  },
  {
   "cell_type": "code",
   "execution_count": 81,
   "metadata": {},
   "outputs": [
    {
     "name": "stdout",
     "output_type": "stream",
     "text": [
      "USA    18853\n",
      "FRA    12758\n",
      "GBR    12256\n",
      "ITA    10715\n",
      "GER     9830\n",
      "CAN     9733\n",
      "JPN     8444\n",
      "SWE     8339\n",
      "AUS     7638\n",
      "HUN     6607\n",
      "POL     6207\n",
      "SUI     6150\n",
      "NED     5839\n",
      "URS     5685\n",
      "FIN     5467\n",
      "Name: NOC, dtype: int64\n"
     ]
    },
    {
     "data": {
      "application/javascript": [
       "\n",
       "            setTimeout(function() {\n",
       "                var nbb_cell_id = 81;\n",
       "                var nbb_unformatted_code = \"# Select the 'NOC' column of medals: country_names\\ncountry_names = medals['NOC']\\n\\n# Count the number of medals won by each country: medal_counts\\nmedal_counts = pd.Series(country_names.value_counts())\\n\\n# Print top 15 countries ranked by medals\\nprint(medal_counts.head(15))\";\n",
       "                var nbb_formatted_code = \"# Select the 'NOC' column of medals: country_names\\ncountry_names = medals[\\\"NOC\\\"]\\n\\n# Count the number of medals won by each country: medal_counts\\nmedal_counts = pd.Series(country_names.value_counts())\\n\\n# Print top 15 countries ranked by medals\\nprint(medal_counts.head(15))\";\n",
       "                var nbb_cells = Jupyter.notebook.get_cells();\n",
       "                for (var i = 0; i < nbb_cells.length; ++i) {\n",
       "                    if (nbb_cells[i].input_prompt_number == nbb_cell_id) {\n",
       "                        if (nbb_cells[i].get_text() == nbb_unformatted_code) {\n",
       "                             nbb_cells[i].set_text(nbb_formatted_code);\n",
       "                        }\n",
       "                        break;\n",
       "                    }\n",
       "                }\n",
       "            }, 500);\n",
       "            "
      ],
      "text/plain": [
       "<IPython.core.display.Javascript object>"
      ]
     },
     "metadata": {},
     "output_type": "display_data"
    }
   ],
   "source": [
    "# Select the 'NOC' column of medals: country_names\n",
    "country_names = medals[\"NOC\"]\n",
    "\n",
    "# Count the number of medals won by each country: medal_counts\n",
    "medal_counts = pd.Series(country_names.value_counts())\n",
    "\n",
    "# Print top 15 countries ranked by medals\n",
    "print(medal_counts.head(15))"
   ]
  },
  {
   "cell_type": "code",
   "execution_count": 83,
   "metadata": {},
   "outputs": [
    {
     "name": "stdout",
     "output_type": "stream",
     "text": [
      "Medal  Bronze    Gold  Silver  totals\n",
      "NOC                                  \n",
      "USA    1358.0  2638.0  1641.0  5637.0\n",
      "URS     689.0  1082.0   732.0  2503.0\n",
      "GER     746.0   745.0   674.0  2165.0\n",
      "GBR     651.0   678.0   739.0  2068.0\n",
      "FRA     666.0   501.0   610.0  1777.0\n",
      "ITA     531.0   575.0   531.0  1637.0\n",
      "SWE     535.0   479.0   522.0  1536.0\n",
      "CAN     451.0   463.0   438.0  1352.0\n",
      "AUS     517.0   348.0   455.0  1320.0\n",
      "RUS     408.0   390.0   367.0  1165.0\n",
      "HUN     371.0   432.0   332.0  1135.0\n",
      "NED     413.0   287.0   340.0  1040.0\n",
      "NOR     294.0   378.0   361.0  1033.0\n",
      "GDR     281.0   397.0   327.0  1005.0\n",
      "CHN     292.0   350.0   347.0   989.0\n"
     ]
    },
    {
     "data": {
      "application/javascript": [
       "\n",
       "            setTimeout(function() {\n",
       "                var nbb_cell_id = 83;\n",
       "                var nbb_unformatted_code = \"# Construct the pivot table: counted\\ncounted = medals.pivot_table(index=\\\"NOC\\\", columns=\\\"Medal\\\", values=\\\"Name\\\", aggfunc='count')\\n\\n# Create the new column: counted['totals']\\ncounted['totals'] = counted.sum(axis='columns')\\n\\n# Sort counted by the 'totals' column\\ncounted = counted.sort_values(['totals'], ascending=False)\\n\\n# Print the top 15 rows of counted\\nprint(counted.head(15))\";\n",
       "                var nbb_formatted_code = \"# Construct the pivot table: counted\\ncounted = medals.pivot_table(\\n    index=\\\"NOC\\\", columns=\\\"Medal\\\", values=\\\"Name\\\", aggfunc=\\\"count\\\"\\n)\\n\\n# Create the new column: counted['totals']\\ncounted[\\\"totals\\\"] = counted.sum(axis=\\\"columns\\\")\\n\\n# Sort counted by the 'totals' column\\ncounted = counted.sort_values([\\\"totals\\\"], ascending=False)\\n\\n# Print the top 15 rows of counted\\nprint(counted.head(15))\";\n",
       "                var nbb_cells = Jupyter.notebook.get_cells();\n",
       "                for (var i = 0; i < nbb_cells.length; ++i) {\n",
       "                    if (nbb_cells[i].input_prompt_number == nbb_cell_id) {\n",
       "                        if (nbb_cells[i].get_text() == nbb_unformatted_code) {\n",
       "                             nbb_cells[i].set_text(nbb_formatted_code);\n",
       "                        }\n",
       "                        break;\n",
       "                    }\n",
       "                }\n",
       "            }, 500);\n",
       "            "
      ],
      "text/plain": [
       "<IPython.core.display.Javascript object>"
      ]
     },
     "metadata": {},
     "output_type": "display_data"
    }
   ],
   "source": [
    "# Construct the pivot table: counted\n",
    "counted = medals.pivot_table(index=\"NOC\", columns=\"Medal\", values=\"Name\", aggfunc='count')\n",
    "\n",
    "# Create the new column: counted['totals']\n",
    "counted['totals'] = counted.sum(axis='columns')\n",
    "\n",
    "# Sort counted by the 'totals' column\n",
    "counted = counted.sort_values(['totals'], ascending=False)\n",
    "\n",
    "# Print the top 15 rows of counted\n",
    "print(counted.head(15))\n"
   ]
  },
  {
   "cell_type": "code",
   "execution_count": 99,
   "metadata": {},
   "outputs": [
    {
     "name": "stdout",
     "output_type": "stream",
     "text": [
      "0    M\n",
      "4    F\n",
      "Name: Sex, dtype: object\n"
     ]
    },
    {
     "data": {
      "application/javascript": [
       "\n",
       "            setTimeout(function() {\n",
       "                var nbb_cell_id = 99;\n",
       "                var nbb_unformatted_code = \"# OBSERVATIONS: THERE ARE TWO COLUMNS RELATIVE TO GENDER\\n\\n# Select columns: ev_gen\\nev_gen = medals[\\\"Sex\\\"]\\n\\n# Drop duplicate pairs: ev_gen_uniques\\nev_gen_uniques = ev_gen.drop_duplicates()\\n\\n# Print ev_gen_uniques\\nprint(ev_gen_uniques)\";\n",
       "                var nbb_formatted_code = \"# OBSERVATIONS: THERE ARE TWO COLUMNS RELATIVE TO GENDER\\n\\n# Select columns: ev_gen\\nev_gen = medals[\\\"Sex\\\"]\\n\\n# Drop duplicate pairs: ev_gen_uniques\\nev_gen_uniques = ev_gen.drop_duplicates()\\n\\n# Print ev_gen_uniques\\nprint(ev_gen_uniques)\";\n",
       "                var nbb_cells = Jupyter.notebook.get_cells();\n",
       "                for (var i = 0; i < nbb_cells.length; ++i) {\n",
       "                    if (nbb_cells[i].input_prompt_number == nbb_cell_id) {\n",
       "                        if (nbb_cells[i].get_text() == nbb_unformatted_code) {\n",
       "                             nbb_cells[i].set_text(nbb_formatted_code);\n",
       "                        }\n",
       "                        break;\n",
       "                    }\n",
       "                }\n",
       "            }, 500);\n",
       "            "
      ],
      "text/plain": [
       "<IPython.core.display.Javascript object>"
      ]
     },
     "metadata": {},
     "output_type": "display_data"
    }
   ],
   "source": [
    "# OBSERVATIONS: THERE ARE TWO COLUMNS RELATIVE TO GENDER\n",
    "\n",
    "# Select columns: ev_gen\n",
    "ev_gen = medals[\"Sex\"]\n",
    "\n",
    "# Drop duplicate pairs: ev_gen_uniques\n",
    "ev_gen_uniques = ev_gen.drop_duplicates()\n",
    "\n",
    "# Print ev_gen_uniques\n",
    "print(ev_gen_uniques)"
   ]
  },
  {
   "cell_type": "code",
   "execution_count": 89,
   "metadata": {},
   "outputs": [
    {
     "name": "stdout",
     "output_type": "stream",
     "text": [
      "         ID    Name     Age  Height  Weight    Team     NOC   Games    Year  \\\n",
      "Sex                                                                           \n",
      "F     74522   74522   74098   67378   66771   74522   74522   74522   74522   \n",
      "M    196594  196594  187544  143567  141470  196594  196594  196594  196594   \n",
      "\n",
      "     Season    City   Sport   Event  Medal  \n",
      "Sex                                         \n",
      "F     74522   74522   74522   74522  11253  \n",
      "M    196594  196594  196594  196594  28530  \n"
     ]
    },
    {
     "data": {
      "application/javascript": [
       "\n",
       "            setTimeout(function() {\n",
       "                var nbb_cell_id = 89;\n",
       "                var nbb_unformatted_code = \"# Group medals by the two columns: medals_by_gender\\nmedals_by_gender = medals.groupby(\\\"Sex\\\")\\n\\n# Create a DataFrame with a group count: medal_count_by_gender\\nmedal_count_by_gender = medals_by_gender.count()\\n\\n# Print medal_count_by_gender\\nprint(medal_count_by_gender)\";\n",
       "                var nbb_formatted_code = \"# Group medals by the two columns: medals_by_gender\\nmedals_by_gender = medals.groupby(\\\"Sex\\\")\\n\\n# Create a DataFrame with a group count: medal_count_by_gender\\nmedal_count_by_gender = medals_by_gender.count()\\n\\n# Print medal_count_by_gender\\nprint(medal_count_by_gender)\";\n",
       "                var nbb_cells = Jupyter.notebook.get_cells();\n",
       "                for (var i = 0; i < nbb_cells.length; ++i) {\n",
       "                    if (nbb_cells[i].input_prompt_number == nbb_cell_id) {\n",
       "                        if (nbb_cells[i].get_text() == nbb_unformatted_code) {\n",
       "                             nbb_cells[i].set_text(nbb_formatted_code);\n",
       "                        }\n",
       "                        break;\n",
       "                    }\n",
       "                }\n",
       "            }, 500);\n",
       "            "
      ],
      "text/plain": [
       "<IPython.core.display.Javascript object>"
      ]
     },
     "metadata": {},
     "output_type": "display_data"
    }
   ],
   "source": [
    "# Group medals by the two columns: medals_by_gender\n",
    "medals_by_gender = medals.groupby(\"Sex\")\n",
    "\n",
    "# Create a DataFrame with a group count: medal_count_by_gender\n",
    "medal_count_by_gender = medals_by_gender.count()\n",
    "\n",
    "# Print medal_count_by_gender\n",
    "print(medal_count_by_gender)\n"
   ]
  },
  {
   "cell_type": "code",
   "execution_count": 90,
   "metadata": {},
   "outputs": [
    {
     "name": "stdout",
     "output_type": "stream",
     "text": [
      "Empty DataFrame\n",
      "Columns: [ID, Name, Sex, Age, Height, Weight, Team, NOC, Games, Year, Season, City, Sport, Event, Medal]\n",
      "Index: []\n"
     ]
    },
    {
     "data": {
      "application/javascript": [
       "\n",
       "            setTimeout(function() {\n",
       "                var nbb_cell_id = 90;\n",
       "                var nbb_unformatted_code = \"# Create the Boolean Series: sus\\nsus = (medals.Sex == \\\"W\\\") & (medals.Sex == \\\"M\\\")\\n\\n# Create a DataFrame with the suspicious row: suspect\\nsuspect = medals[sus]\\n\\n# Print suspect\\nprint(suspect)\";\n",
       "                var nbb_formatted_code = \"# Create the Boolean Series: sus\\nsus = (medals.Sex == \\\"W\\\") & (medals.Sex == \\\"M\\\")\\n\\n# Create a DataFrame with the suspicious row: suspect\\nsuspect = medals[sus]\\n\\n# Print suspect\\nprint(suspect)\";\n",
       "                var nbb_cells = Jupyter.notebook.get_cells();\n",
       "                for (var i = 0; i < nbb_cells.length; ++i) {\n",
       "                    if (nbb_cells[i].input_prompt_number == nbb_cell_id) {\n",
       "                        if (nbb_cells[i].get_text() == nbb_unformatted_code) {\n",
       "                             nbb_cells[i].set_text(nbb_formatted_code);\n",
       "                        }\n",
       "                        break;\n",
       "                    }\n",
       "                }\n",
       "            }, 500);\n",
       "            "
      ],
      "text/plain": [
       "<IPython.core.display.Javascript object>"
      ]
     },
     "metadata": {},
     "output_type": "display_data"
    }
   ],
   "source": [
    "# Create the Boolean Series: sus\n",
    "sus = (medals.Sex == \"W\") & (medals.Sex == \"M\")\n",
    "\n",
    "# Create a DataFrame with the suspicious row: suspect\n",
    "suspect = medals[sus]\n",
    "\n",
    "# Print suspect\n",
    "print(suspect)"
   ]
  },
  {
   "cell_type": "code",
   "execution_count": 91,
   "metadata": {},
   "outputs": [
    {
     "name": "stdout",
     "output_type": "stream",
     "text": [
      "NOC\n",
      "GBR    59\n",
      "USA    58\n",
      "FRA    57\n",
      "CAN    53\n",
      "GER    53\n",
      "JPN    52\n",
      "ITA    52\n",
      "AUS    51\n",
      "SUI    50\n",
      "RUS    48\n",
      "CHN    47\n",
      "SWE    47\n",
      "ESP    47\n",
      "AUT    46\n",
      "KOR    45\n",
      "Name: Sport, dtype: int64\n"
     ]
    },
    {
     "data": {
      "application/javascript": [
       "\n",
       "            setTimeout(function() {\n",
       "                var nbb_cell_id = 91;\n",
       "                var nbb_unformatted_code = \"# Group medals by 'NOC': country_grouped\\ncountry_grouped = medals.groupby('NOC')\\n\\n# Compute the number of distinct sports in which each country won medals: Nsports\\nNsports = country_grouped['Sport'].nunique()\\n\\n# Sort the values of Nsports in descending order\\nNsports = Nsports.sort_values(ascending=False)\\n\\n# Print the top 15 rows of Nsports\\nprint(Nsports.head(15))\";\n",
       "                var nbb_formatted_code = \"# Group medals by 'NOC': country_grouped\\ncountry_grouped = medals.groupby(\\\"NOC\\\")\\n\\n# Compute the number of distinct sports in which each country won medals: Nsports\\nNsports = country_grouped[\\\"Sport\\\"].nunique()\\n\\n# Sort the values of Nsports in descending order\\nNsports = Nsports.sort_values(ascending=False)\\n\\n# Print the top 15 rows of Nsports\\nprint(Nsports.head(15))\";\n",
       "                var nbb_cells = Jupyter.notebook.get_cells();\n",
       "                for (var i = 0; i < nbb_cells.length; ++i) {\n",
       "                    if (nbb_cells[i].input_prompt_number == nbb_cell_id) {\n",
       "                        if (nbb_cells[i].get_text() == nbb_unformatted_code) {\n",
       "                             nbb_cells[i].set_text(nbb_formatted_code);\n",
       "                        }\n",
       "                        break;\n",
       "                    }\n",
       "                }\n",
       "            }, 500);\n",
       "            "
      ],
      "text/plain": [
       "<IPython.core.display.Javascript object>"
      ]
     },
     "metadata": {},
     "output_type": "display_data"
    }
   ],
   "source": [
    "# Group medals by 'NOC': country_grouped\n",
    "country_grouped = medals.groupby(\"NOC\")\n",
    "\n",
    "# Compute the number of distinct sports in which each country won medals: Nsports\n",
    "Nsports = country_grouped[\"Sport\"].nunique()\n",
    "\n",
    "# Sort the values of Nsports in descending order\n",
    "Nsports = Nsports.sort_values(ascending=False)\n",
    "\n",
    "# Print the top 15 rows of Nsports\n",
    "print(Nsports.head(15))"
   ]
  },
  {
   "cell_type": "code",
   "execution_count": 94,
   "metadata": {},
   "outputs": [
    {
     "name": "stdout",
     "output_type": "stream",
     "text": [
      "NOC\n",
      "URS    37\n",
      "USA    37\n",
      "Name: Sport, dtype: int64\n"
     ]
    },
    {
     "data": {
      "application/javascript": [
       "\n",
       "            setTimeout(function() {\n",
       "                var nbb_cell_id = 94;\n",
       "                var nbb_unformatted_code = \"# Extract all rows for which the 'Edition' is between 1952 & 1988: during_cold_war\\nduring_cold_war = (medals.Year >= 1952) & (medals.Year<= 1988)\\n\\n# Extract rows for which 'NOC' is either 'USA' or 'URS': is_usa_urs\\nis_usa_urs = medals.NOC.isin(['USA', 'URS'])\\n\\n# Use during_cold_war and is_usa_urs to create the DataFrame: cold_war_medals\\ncold_war_medals = medals.loc[during_cold_war & is_usa_urs]\\n\\n# Group cold_war_medals by 'NOC'\\ncountry_grouped = cold_war_medals.groupby('NOC')\\n\\n# Create Nsports\\nNsports = country_grouped['Sport'].nunique().sort_values(ascending=False)\\n\\n# Print Nsports\\nprint(Nsports)\";\n",
       "                var nbb_formatted_code = \"# Extract all rows for which the 'Edition' is between 1952 & 1988: during_cold_war\\nduring_cold_war = (medals.Year >= 1952) & (medals.Year <= 1988)\\n\\n# Extract rows for which 'NOC' is either 'USA' or 'URS': is_usa_urs\\nis_usa_urs = medals.NOC.isin([\\\"USA\\\", \\\"URS\\\"])\\n\\n# Use during_cold_war and is_usa_urs to create the DataFrame: cold_war_medals\\ncold_war_medals = medals.loc[during_cold_war & is_usa_urs]\\n\\n# Group cold_war_medals by 'NOC'\\ncountry_grouped = cold_war_medals.groupby(\\\"NOC\\\")\\n\\n# Create Nsports\\nNsports = country_grouped[\\\"Sport\\\"].nunique().sort_values(ascending=False)\\n\\n# Print Nsports\\nprint(Nsports)\";\n",
       "                var nbb_cells = Jupyter.notebook.get_cells();\n",
       "                for (var i = 0; i < nbb_cells.length; ++i) {\n",
       "                    if (nbb_cells[i].input_prompt_number == nbb_cell_id) {\n",
       "                        if (nbb_cells[i].get_text() == nbb_unformatted_code) {\n",
       "                             nbb_cells[i].set_text(nbb_formatted_code);\n",
       "                        }\n",
       "                        break;\n",
       "                    }\n",
       "                }\n",
       "            }, 500);\n",
       "            "
      ],
      "text/plain": [
       "<IPython.core.display.Javascript object>"
      ]
     },
     "metadata": {},
     "output_type": "display_data"
    }
   ],
   "source": [
    "# Extract all rows for which the 'Edition' is between 1952 & 1988: during_cold_war\n",
    "during_cold_war = (medals.Year >= 1952) & (medals.Year<= 1988)\n",
    "\n",
    "# Extract rows for which 'NOC' is either 'USA' or 'URS': is_usa_urs\n",
    "is_usa_urs = medals.NOC.isin(['USA', 'URS'])\n",
    "\n",
    "# Use during_cold_war and is_usa_urs to create the DataFrame: cold_war_medals\n",
    "cold_war_medals = medals.loc[during_cold_war & is_usa_urs]\n",
    "\n",
    "# Group cold_war_medals by 'NOC'\n",
    "country_grouped = cold_war_medals.groupby('NOC')\n",
    "\n",
    "# Create Nsports\n",
    "Nsports = country_grouped['Sport'].nunique().sort_values(ascending=False)\n",
    "\n",
    "# Print Nsports\n",
    "print(Nsports)\n"
   ]
  },
  {
   "cell_type": "code",
   "execution_count": 96,
   "metadata": {},
   "outputs": [
    {
     "name": "stdout",
     "output_type": "stream",
     "text": [
      "USA    9\n",
      "URS    1\n",
      "dtype: int64\n"
     ]
    },
    {
     "data": {
      "application/javascript": [
       "\n",
       "            setTimeout(function() {\n",
       "                var nbb_cell_id = 96;\n",
       "                var nbb_unformatted_code = \"# Create the pivot table: medals_won_by_country\\nmedals_won_by_country = medals.pivot_table(\\n    index=\\\"Year\\\", columns=\\\"NOC\\\", values=\\\"Name\\\", aggfunc=\\\"count\\\"\\n)\\n\\n# Slice medals_won_by_country: cold_war_usa_usr_medals\\ncold_war_usa_usr_medals = medals_won_by_country.loc[1952:1988, [\\\"USA\\\", \\\"URS\\\"]]\\n\\n# Create most_medals\\nmost_medals = cold_war_usa_usr_medals.idxmax(axis=\\\"columns\\\")\\n\\n# Print most_medals.value_counts()\\nprint(most_medals.value_counts())\";\n",
       "                var nbb_formatted_code = \"# Create the pivot table: medals_won_by_country\\nmedals_won_by_country = medals.pivot_table(\\n    index=\\\"Year\\\", columns=\\\"NOC\\\", values=\\\"Name\\\", aggfunc=\\\"count\\\"\\n)\\n\\n# Slice medals_won_by_country: cold_war_usa_usr_medals\\ncold_war_usa_usr_medals = medals_won_by_country.loc[1952:1988, [\\\"USA\\\", \\\"URS\\\"]]\\n\\n# Create most_medals\\nmost_medals = cold_war_usa_usr_medals.idxmax(axis=\\\"columns\\\")\\n\\n# Print most_medals.value_counts()\\nprint(most_medals.value_counts())\";\n",
       "                var nbb_cells = Jupyter.notebook.get_cells();\n",
       "                for (var i = 0; i < nbb_cells.length; ++i) {\n",
       "                    if (nbb_cells[i].input_prompt_number == nbb_cell_id) {\n",
       "                        if (nbb_cells[i].get_text() == nbb_unformatted_code) {\n",
       "                             nbb_cells[i].set_text(nbb_formatted_code);\n",
       "                        }\n",
       "                        break;\n",
       "                    }\n",
       "                }\n",
       "            }, 500);\n",
       "            "
      ],
      "text/plain": [
       "<IPython.core.display.Javascript object>"
      ]
     },
     "metadata": {},
     "output_type": "display_data"
    }
   ],
   "source": [
    "# Create the pivot table: medals_won_by_country\n",
    "medals_won_by_country = medals.pivot_table(\n",
    "    index=\"Year\", columns=\"NOC\", values=\"Name\", aggfunc=\"count\"\n",
    ")\n",
    "\n",
    "# Slice medals_won_by_country: cold_war_usa_usr_medals\n",
    "cold_war_usa_usr_medals = medals_won_by_country.loc[1952:1988, [\"USA\", \"URS\"]]\n",
    "\n",
    "# Create most_medals\n",
    "most_medals = cold_war_usa_usr_medals.idxmax(axis=\"columns\")\n",
    "\n",
    "# Print most_medals.value_counts()\n",
    "print(most_medals.value_counts())"
   ]
  },
  {
   "cell_type": "code",
   "execution_count": 102,
   "metadata": {},
   "outputs": [
    {
     "data": {
      "image/png": "[encoded data removed]",
      "text/plain": [
       "<Figure size 640x480 with 1 Axes>"
      ]
     },
     "metadata": {},
     "output_type": "display_data"
    },
    {
     "data": {
      "application/javascript": [
       "\n",
       "            setTimeout(function() {\n",
       "                var nbb_cell_id = 102;\n",
       "                var nbb_unformatted_code = \"# Create the DataFrame: usa\\nusa = medals.loc[medals.NOC == \\\"USA\\\"]\\n\\n# Group usa by ['Edition', 'Medal'] and aggregate over 'Athlete'\\nusa_medals_by_year = usa.groupby([\\\"Year\\\", \\\"Medal\\\"])[\\\"Name\\\"].count()\\n\\n# Reshape usa_medals_by_year by unstacking\\nusa_medals_by_year = usa_medals_by_year.unstack(level=\\\"Medal\\\")\\n\\n# Reorder the columns so they appear in the plot in the desired order\\nusa_medals_by_year = usa_medals_by_year[[\\\"Gold\\\", \\\"Silver\\\", \\\"Bronze\\\"]]\\n\\n# Then plot\\nusa_medals_by_year.plot(kind='bar', stacked=True)\\nplt.show()\";\n",
       "                var nbb_formatted_code = \"# Create the DataFrame: usa\\nusa = medals.loc[medals.NOC == \\\"USA\\\"]\\n\\n# Group usa by ['Edition', 'Medal'] and aggregate over 'Athlete'\\nusa_medals_by_year = usa.groupby([\\\"Year\\\", \\\"Medal\\\"])[\\\"Name\\\"].count()\\n\\n# Reshape usa_medals_by_year by unstacking\\nusa_medals_by_year = usa_medals_by_year.unstack(level=\\\"Medal\\\")\\n\\n# Reorder the columns so they appear in the plot in the desired order\\nusa_medals_by_year = usa_medals_by_year[[\\\"Gold\\\", \\\"Silver\\\", \\\"Bronze\\\"]]\\n\\n# Then plot\\nusa_medals_by_year.plot(kind=\\\"bar\\\", stacked=True)\\nplt.show()\";\n",
       "                var nbb_cells = Jupyter.notebook.get_cells();\n",
       "                for (var i = 0; i < nbb_cells.length; ++i) {\n",
       "                    if (nbb_cells[i].input_prompt_number == nbb_cell_id) {\n",
       "                        if (nbb_cells[i].get_text() == nbb_unformatted_code) {\n",
       "                             nbb_cells[i].set_text(nbb_formatted_code);\n",
       "                        }\n",
       "                        break;\n",
       "                    }\n",
       "                }\n",
       "            }, 500);\n",
       "            "
      ],
      "text/plain": [
       "<IPython.core.display.Javascript object>"
      ]
     },
     "metadata": {},
     "output_type": "display_data"
    }
   ],
   "source": [
    "# Create the DataFrame: usa\n",
    "usa = medals.loc[medals.NOC == \"USA\"]\n",
    "\n",
    "# Group usa by ['Edition', 'Medal'] and aggregate over 'Athlete'\n",
    "usa_medals_by_year = usa.groupby([\"Year\", \"Medal\"])[\"Name\"].count()\n",
    "\n",
    "# Reshape usa_medals_by_year by unstacking\n",
    "usa_medals_by_year = usa_medals_by_year.unstack(level=\"Medal\")\n",
    "\n",
    "# Reorder the columns so they appear in the plot in the desired order\n",
    "usa_medals_by_year = usa_medals_by_year[[\"Gold\", \"Silver\", \"Bronze\"]]\n",
    "\n",
    "# Then plot\n",
    "usa_medals_by_year.plot(kind='bar', stacked=True)\n",
    "plt.show()\n"
   ]
  },
  {
   "cell_type": "code",
   "execution_count": 103,
   "metadata": {},
   "outputs": [
    {
     "data": {
      "image/png": "[encoded data removed]",
      "text/plain": [
       "<Figure size 640x480 with 1 Axes>"
      ]
     },
     "metadata": {},
     "output_type": "display_data"
    },
    {
     "data": {
      "application/javascript": [
       "\n",
       "            setTimeout(function() {\n",
       "                var nbb_cell_id = 103;\n",
       "                var nbb_unformatted_code = \"# Create the DataFrame: usa\\nusa = medals[medals.NOC == 'USA']\\n\\n# Group usa by 'Year', 'Medal', and 'Name'\\nusa_medals_by_year = usa.groupby(['Year', 'Medal'])['Name'].count()\\n\\n# Reshape usa_medals_by_year by unstacking\\nusa_medals_by_year = usa_medals_by_year.unstack(level='Medal')\\n\\n# Create an area plot of usa_medals_by_year\\nusa_medals_by_year.plot.area()\\nplt.show()\";\n",
       "                var nbb_formatted_code = \"# Create the DataFrame: usa\\nusa = medals[medals.NOC == \\\"USA\\\"]\\n\\n# Group usa by 'Year', 'Medal', and 'Name'\\nusa_medals_by_year = usa.groupby([\\\"Year\\\", \\\"Medal\\\"])[\\\"Name\\\"].count()\\n\\n# Reshape usa_medals_by_year by unstacking\\nusa_medals_by_year = usa_medals_by_year.unstack(level=\\\"Medal\\\")\\n\\n# Create an area plot of usa_medals_by_year\\nusa_medals_by_year.plot.area()\\nplt.show()\";\n",
       "                var nbb_cells = Jupyter.notebook.get_cells();\n",
       "                for (var i = 0; i < nbb_cells.length; ++i) {\n",
       "                    if (nbb_cells[i].input_prompt_number == nbb_cell_id) {\n",
       "                        if (nbb_cells[i].get_text() == nbb_unformatted_code) {\n",
       "                             nbb_cells[i].set_text(nbb_formatted_code);\n",
       "                        }\n",
       "                        break;\n",
       "                    }\n",
       "                }\n",
       "            }, 500);\n",
       "            "
      ],
      "text/plain": [
       "<IPython.core.display.Javascript object>"
      ]
     },
     "metadata": {},
     "output_type": "display_data"
    }
   ],
   "source": [
    "# Create the DataFrame: usa\n",
    "usa = medals[medals.NOC == \"USA\"]\n",
    "\n",
    "# Group usa by 'Year', 'Medal', and 'Name'\n",
    "usa_medals_by_year = usa.groupby([\"Year\", \"Medal\"])[\"Name\"].count()\n",
    "\n",
    "# Reshape usa_medals_by_year by unstacking\n",
    "usa_medals_by_year = usa_medals_by_year.unstack(level=\"Medal\")\n",
    "\n",
    "# Create an area plot of usa_medals_by_year\n",
    "usa_medals_by_year.plot.area()\n",
    "plt.show()"
   ]
  },
  {
   "cell_type": "code",
   "execution_count": 104,
   "metadata": {},
   "outputs": [
    {
     "data": {
      "image/png": "[encoded data removed]",
      "text/plain": [
       "<Figure size 640x480 with 1 Axes>"
      ]
     },
     "metadata": {},
     "output_type": "display_data"
    },
    {
     "data": {
      "application/javascript": [
       "\n",
       "            setTimeout(function() {\n",
       "                var nbb_cell_id = 104;\n",
       "                var nbb_unformatted_code = \"# Redefine 'Medal' as an ordered categorical\\nmedals.Medal = pd.Categorical(values = medals.Medal, categories=['Bronze', 'Silver', 'Gold'], ordered=True)\\n\\n# Create the DataFrame: usa\\nusa = medals[medals.NOC == 'USA']\\n\\n# Group usa by 'Year', 'Medal', and 'Name'\\nusa_medals_by_year = usa.groupby(['Year', 'Medal'])['Name'].count()\\n\\n# Reshape usa_medals_by_year by unstacking\\nusa_medals_by_year = usa_medals_by_year.unstack(level='Medal')\\n\\n# Create an area plot of usa_medals_by_year\\nusa_medals_by_year.plot.area()\\nplt.show()\";\n",
       "                var nbb_formatted_code = \"# Redefine 'Medal' as an ordered categorical\\nmedals.Medal = pd.Categorical(\\n    values=medals.Medal, categories=[\\\"Bronze\\\", \\\"Silver\\\", \\\"Gold\\\"], ordered=True\\n)\\n\\n# Create the DataFrame: usa\\nusa = medals[medals.NOC == \\\"USA\\\"]\\n\\n# Group usa by 'Year', 'Medal', and 'Name'\\nusa_medals_by_year = usa.groupby([\\\"Year\\\", \\\"Medal\\\"])[\\\"Name\\\"].count()\\n\\n# Reshape usa_medals_by_year by unstacking\\nusa_medals_by_year = usa_medals_by_year.unstack(level=\\\"Medal\\\")\\n\\n# Create an area plot of usa_medals_by_year\\nusa_medals_by_year.plot.area()\\nplt.show()\";\n",
       "                var nbb_cells = Jupyter.notebook.get_cells();\n",
       "                for (var i = 0; i < nbb_cells.length; ++i) {\n",
       "                    if (nbb_cells[i].input_prompt_number == nbb_cell_id) {\n",
       "                        if (nbb_cells[i].get_text() == nbb_unformatted_code) {\n",
       "                             nbb_cells[i].set_text(nbb_formatted_code);\n",
       "                        }\n",
       "                        break;\n",
       "                    }\n",
       "                }\n",
       "            }, 500);\n",
       "            "
      ],
      "text/plain": [
       "<IPython.core.display.Javascript object>"
      ]
     },
     "metadata": {},
     "output_type": "display_data"
    }
   ],
   "source": [
    "# Redefine 'Medal' as an ordered categorical\n",
    "medals.Medal = pd.Categorical(\n",
    "    values=medals.Medal, categories=[\"Bronze\", \"Silver\", \"Gold\"], ordered=True\n",
    ")\n",
    "\n",
    "# Create the DataFrame: usa\n",
    "usa = medals[medals.NOC == \"USA\"]\n",
    "\n",
    "# Group usa by 'Year', 'Medal', and 'Name'\n",
    "usa_medals_by_year = usa.groupby([\"Year\", \"Medal\"])[\"Name\"].count()\n",
    "\n",
    "# Reshape usa_medals_by_year by unstacking\n",
    "usa_medals_by_year = usa_medals_by_year.unstack(level=\"Medal\")\n",
    "\n",
    "# Create an area plot of usa_medals_by_year\n",
    "usa_medals_by_year.plot.area()\n",
    "plt.show()"
   ]
  },
  {
   "cell_type": "code",
   "execution_count": 106,
   "metadata": {},
   "outputs": [
    {
     "data": {
      "application/javascript": [
       "\n",
       "            setTimeout(function() {\n",
       "                var nbb_cell_id = 106;\n",
       "                var nbb_unformatted_code = \"# Create separate DataFrames for each medal type\\ngold = medals[medals[\\\"Medal\\\"] == \\\"Gold\\\"]\\nsilver = medals[medals[\\\"Medal\\\"] == \\\"Silver\\\"]\\nbronze = medals[medals[\\\"Medal\\\"] == \\\"Bronze\\\"]\\n\\n# Write each DataFrame to a separate CSV file\\ngold.to_csv(\\\"Gold.csv\\\", index=False)\\nsilver.to_csv(\\\"Silver.csv\\\", index=False)\\nbronze.to_csv(\\\"Bronze.csv\\\", index=False)\";\n",
       "                var nbb_formatted_code = \"# Create separate DataFrames for each medal type\\ngold = medals[medals[\\\"Medal\\\"] == \\\"Gold\\\"]\\nsilver = medals[medals[\\\"Medal\\\"] == \\\"Silver\\\"]\\nbronze = medals[medals[\\\"Medal\\\"] == \\\"Bronze\\\"]\\n\\n# Write each DataFrame to a separate CSV file\\ngold.to_csv(\\\"Gold.csv\\\", index=False)\\nsilver.to_csv(\\\"Silver.csv\\\", index=False)\\nbronze.to_csv(\\\"Bronze.csv\\\", index=False)\";\n",
       "                var nbb_cells = Jupyter.notebook.get_cells();\n",
       "                for (var i = 0; i < nbb_cells.length; ++i) {\n",
       "                    if (nbb_cells[i].input_prompt_number == nbb_cell_id) {\n",
       "                        if (nbb_cells[i].get_text() == nbb_unformatted_code) {\n",
       "                             nbb_cells[i].set_text(nbb_formatted_code);\n",
       "                        }\n",
       "                        break;\n",
       "                    }\n",
       "                }\n",
       "            }, 500);\n",
       "            "
      ],
      "text/plain": [
       "<IPython.core.display.Javascript object>"
      ]
     },
     "metadata": {},
     "output_type": "display_data"
    }
   ],
   "source": [
    "# Create separate DataFrames for each medal type\n",
    "gold = medals[medals[\"Medal\"] == \"Gold\"]\n",
    "silver = medals[medals[\"Medal\"] == \"Silver\"]\n",
    "bronze = medals[medals[\"Medal\"] == \"Bronze\"]\n",
    "\n",
    "# Write each DataFrame to a separate CSV file\n",
    "gold.to_csv(\"Gold.csv\", index=False)\n",
    "silver.to_csv(\"Silver.csv\", index=False)\n",
    "bronze.to_csv(\"Bronze.csv\", index=False)"
   ]
  }
 ],
 "metadata": {
  "kernelspec": {
   "display_name": "Python 3 (ipykernel)",
   "language": "python",
   "name": "python3"
  },
  "language_info": {
   "codemirror_mode": {
    "name": "ipython",
    "version": 3
   },
   "file_extension": ".py",
   "mimetype": "text/x-python",
   "name": "python",
   "nbconvert_exporter": "python",
   "pygments_lexer": "ipython3",
   "version": "3.9.13"
  }
 },
 "nbformat": 4,
 "nbformat_minor": 2
}
